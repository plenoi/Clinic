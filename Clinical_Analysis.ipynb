{
  "nbformat": 4,
  "nbformat_minor": 0,
  "metadata": {
    "kernelspec": {
      "display_name": "Python 3",
      "language": "python",
      "name": "python3"
    },
    "language_info": {
      "codemirror_mode": {
        "name": "ipython",
        "version": 3
      },
      "file_extension": ".py",
      "mimetype": "text/x-python",
      "name": "python",
      "nbconvert_exporter": "python",
      "pygments_lexer": "ipython3",
      "version": "3.6.9"
    },
    "colab": {
      "name": "Clinical_Analysis.ipynb",
      "version": "0.3.2",
      "provenance": []
    }
  },
  "cells": [
    {
      "cell_type": "code",
      "metadata": {
        "id": "aWHnvx9H8JPF",
        "colab_type": "code",
        "colab": {}
      },
      "source": [
        "import pandas as pd\n",
        "import numpy as np"
      ],
      "execution_count": 0,
      "outputs": []
    },
    {
      "cell_type": "markdown",
      "metadata": {
        "id": "jntbWEiv8JPM",
        "colab_type": "text"
      },
      "source": [
        "# Read all data and set hn as index"
      ]
    },
    {
      "cell_type": "code",
      "metadata": {
        "id": "vCtTLpCL8JPM",
        "colab_type": "code",
        "colab": {},
        "outputId": "db338f95-6498-4748-97c5-e5855f4ef9d4"
      },
      "source": [
        "df = pd.read_csv('ultima_all_clean.csv')\n",
        "df = df.set_index('hn')\n",
        "df.head()"
      ],
      "execution_count": 0,
      "outputs": [
        {
          "output_type": "execute_result",
          "data": {
            "text/html": [
              "<div>\n",
              "<style scoped>\n",
              "    .dataframe tbody tr th:only-of-type {\n",
              "        vertical-align: middle;\n",
              "    }\n",
              "\n",
              "    .dataframe tbody tr th {\n",
              "        vertical-align: top;\n",
              "    }\n",
              "\n",
              "    .dataframe thead th {\n",
              "        text-align: right;\n",
              "    }\n",
              "</style>\n",
              "<table border=\"1\" class=\"dataframe\">\n",
              "  <thead>\n",
              "    <tr style=\"text-align: right;\">\n",
              "      <th></th>\n",
              "      <th>age</th>\n",
              "      <th>parity</th>\n",
              "      <th>hiv</th>\n",
              "      <th>menopaus</th>\n",
              "      <th>disease</th>\n",
              "      <th>surgery</th>\n",
              "      <th>conization</th>\n",
              "      <th>OPDsize</th>\n",
              "      <th>appearance</th>\n",
              "      <th>stage</th>\n",
              "      <th>...</th>\n",
              "      <th>nodeyiel</th>\n",
              "      <th>RHlvsi</th>\n",
              "      <th>depth</th>\n",
              "      <th>size</th>\n",
              "      <th>utmet</th>\n",
              "      <th>vgmargin</th>\n",
              "      <th>vgmet</th>\n",
              "      <th>pelvicme</th>\n",
              "      <th>pmmet</th>\n",
              "      <th>adnmet</th>\n",
              "    </tr>\n",
              "    <tr>\n",
              "      <th>hn</th>\n",
              "      <th></th>\n",
              "      <th></th>\n",
              "      <th></th>\n",
              "      <th></th>\n",
              "      <th></th>\n",
              "      <th></th>\n",
              "      <th></th>\n",
              "      <th></th>\n",
              "      <th></th>\n",
              "      <th></th>\n",
              "      <th></th>\n",
              "      <th></th>\n",
              "      <th></th>\n",
              "      <th></th>\n",
              "      <th></th>\n",
              "      <th></th>\n",
              "      <th></th>\n",
              "      <th></th>\n",
              "      <th></th>\n",
              "      <th></th>\n",
              "      <th></th>\n",
              "    </tr>\n",
              "  </thead>\n",
              "  <tbody>\n",
              "    <tr>\n",
              "      <th>2631840</th>\n",
              "      <td>52</td>\n",
              "      <td>3</td>\n",
              "      <td>0.0</td>\n",
              "      <td>0.0</td>\n",
              "      <td>1</td>\n",
              "      <td>1</td>\n",
              "      <td>0.0</td>\n",
              "      <td>5.0</td>\n",
              "      <td>4.0</td>\n",
              "      <td>5.0</td>\n",
              "      <td>...</td>\n",
              "      <td>21.0</td>\n",
              "      <td>0.0</td>\n",
              "      <td>3.0</td>\n",
              "      <td>6.0</td>\n",
              "      <td>0.0</td>\n",
              "      <td>0.0</td>\n",
              "      <td>0.0</td>\n",
              "      <td>0.0</td>\n",
              "      <td>0.0</td>\n",
              "      <td>0.0</td>\n",
              "    </tr>\n",
              "    <tr>\n",
              "      <th>2633481</th>\n",
              "      <td>32</td>\n",
              "      <td>2</td>\n",
              "      <td>0.0</td>\n",
              "      <td>0.0</td>\n",
              "      <td>0</td>\n",
              "      <td>1</td>\n",
              "      <td>0.0</td>\n",
              "      <td>5.0</td>\n",
              "      <td>1.0</td>\n",
              "      <td>5.0</td>\n",
              "      <td>...</td>\n",
              "      <td>11.0</td>\n",
              "      <td>0.0</td>\n",
              "      <td>3.0</td>\n",
              "      <td>5.0</td>\n",
              "      <td>0.0</td>\n",
              "      <td>0.0</td>\n",
              "      <td>0.0</td>\n",
              "      <td>1.0</td>\n",
              "      <td>0.0</td>\n",
              "      <td>2.0</td>\n",
              "    </tr>\n",
              "    <tr>\n",
              "      <th>2634477</th>\n",
              "      <td>52</td>\n",
              "      <td>2</td>\n",
              "      <td>0.0</td>\n",
              "      <td>0.0</td>\n",
              "      <td>0</td>\n",
              "      <td>0</td>\n",
              "      <td>0.0</td>\n",
              "      <td>5.0</td>\n",
              "      <td>NaN</td>\n",
              "      <td>5.0</td>\n",
              "      <td>...</td>\n",
              "      <td>35.0</td>\n",
              "      <td>6.0</td>\n",
              "      <td>3.0</td>\n",
              "      <td>4.0</td>\n",
              "      <td>0.0</td>\n",
              "      <td>0.0</td>\n",
              "      <td>0.0</td>\n",
              "      <td>0.0</td>\n",
              "      <td>0.0</td>\n",
              "      <td>0.0</td>\n",
              "    </tr>\n",
              "    <tr>\n",
              "      <th>2633633</th>\n",
              "      <td>38</td>\n",
              "      <td>2</td>\n",
              "      <td>0.0</td>\n",
              "      <td>0.0</td>\n",
              "      <td>0</td>\n",
              "      <td>0</td>\n",
              "      <td>0.0</td>\n",
              "      <td>2.0</td>\n",
              "      <td>1.0</td>\n",
              "      <td>4.0</td>\n",
              "      <td>...</td>\n",
              "      <td>20.0</td>\n",
              "      <td>16.0</td>\n",
              "      <td>3.0</td>\n",
              "      <td>3.8</td>\n",
              "      <td>0.0</td>\n",
              "      <td>0.0</td>\n",
              "      <td>0.0</td>\n",
              "      <td>0.0</td>\n",
              "      <td>0.0</td>\n",
              "      <td>2.0</td>\n",
              "    </tr>\n",
              "    <tr>\n",
              "      <th>2630496</th>\n",
              "      <td>55</td>\n",
              "      <td>3</td>\n",
              "      <td>0.0</td>\n",
              "      <td>1.0</td>\n",
              "      <td>0</td>\n",
              "      <td>0</td>\n",
              "      <td>1.0</td>\n",
              "      <td>0.0</td>\n",
              "      <td>5.0</td>\n",
              "      <td>4.0</td>\n",
              "      <td>...</td>\n",
              "      <td>17.0</td>\n",
              "      <td>9.0</td>\n",
              "      <td>3.0</td>\n",
              "      <td>0.0</td>\n",
              "      <td>0.0</td>\n",
              "      <td>0.0</td>\n",
              "      <td>0.0</td>\n",
              "      <td>1.0</td>\n",
              "      <td>0.0</td>\n",
              "      <td>0.0</td>\n",
              "    </tr>\n",
              "  </tbody>\n",
              "</table>\n",
              "<p>5 rows × 23 columns</p>\n",
              "</div>"
            ],
            "text/plain": [
              "         age  parity  hiv  menopaus  disease  surgery  conization  OPDsize  \\\n",
              "hn                                                                           \n",
              "2631840   52       3  0.0       0.0        1        1         0.0      5.0   \n",
              "2633481   32       2  0.0       0.0        0        1         0.0      5.0   \n",
              "2634477   52       2  0.0       0.0        0        0         0.0      5.0   \n",
              "2633633   38       2  0.0       0.0        0        0         0.0      2.0   \n",
              "2630496   55       3  0.0       1.0        0        0         1.0      0.0   \n",
              "\n",
              "         appearance  stage   ...    nodeyiel  RHlvsi  depth  size  utmet  \\\n",
              "hn                           ...                                           \n",
              "2631840         4.0    5.0   ...        21.0     0.0    3.0   6.0    0.0   \n",
              "2633481         1.0    5.0   ...        11.0     0.0    3.0   5.0    0.0   \n",
              "2634477         NaN    5.0   ...        35.0     6.0    3.0   4.0    0.0   \n",
              "2633633         1.0    4.0   ...        20.0    16.0    3.0   3.8    0.0   \n",
              "2630496         5.0    4.0   ...        17.0     9.0    3.0   0.0    0.0   \n",
              "\n",
              "         vgmargin  vgmet  pelvicme  pmmet  adnmet  \n",
              "hn                                                 \n",
              "2631840       0.0    0.0       0.0    0.0     0.0  \n",
              "2633481       0.0    0.0       1.0    0.0     2.0  \n",
              "2634477       0.0    0.0       0.0    0.0     0.0  \n",
              "2633633       0.0    0.0       0.0    0.0     2.0  \n",
              "2630496       0.0    0.0       1.0    0.0     0.0  \n",
              "\n",
              "[5 rows x 23 columns]"
            ]
          },
          "metadata": {
            "tags": []
          },
          "execution_count": 2
        }
      ]
    },
    {
      "cell_type": "markdown",
      "metadata": {
        "id": "Yw4lB2Yj8JPP",
        "colab_type": "text"
      },
      "source": [
        "# Data Preprocessing"
      ]
    },
    {
      "cell_type": "markdown",
      "metadata": {
        "id": "iO_k48uw8JPQ",
        "colab_type": "text"
      },
      "source": [
        "Check number of data"
      ]
    },
    {
      "cell_type": "code",
      "metadata": {
        "id": "V1gVBPp48JPQ",
        "colab_type": "code",
        "colab": {
          "base_uri": "https://localhost:8080/",
          "height": 35
        },
        "outputId": "b0d3d8c0-eb31-437e-b0d8-461249c15396"
      },
      "source": [
        "df.shape"
      ],
      "execution_count": 8,
      "outputs": [
        {
          "output_type": "execute_result",
          "data": {
            "text/plain": [
              "(1723, 23)"
            ]
          },
          "metadata": {
            "tags": []
          },
          "execution_count": 8
        }
      ]
    },
    {
      "cell_type": "markdown",
      "metadata": {
        "id": "OKStqK_68JPT",
        "colab_type": "text"
      },
      "source": [
        "Check any missing data in each column"
      ]
    },
    {
      "cell_type": "code",
      "metadata": {
        "id": "Q77h1QHI8JPT",
        "colab_type": "code",
        "colab": {
          "base_uri": "https://localhost:8080/",
          "height": 433
        },
        "outputId": "9a305cc0-98f5-4215-9207-3830d9b812a3"
      },
      "source": [
        "df.isnull().sum(axis=0)"
      ],
      "execution_count": 9,
      "outputs": [
        {
          "output_type": "execute_result",
          "data": {
            "text/plain": [
              "age             0\n",
              "parity          0\n",
              "hiv             4\n",
              "menopaus        1\n",
              "disease         0\n",
              "surgery         0\n",
              "conization      5\n",
              "OPDsize        17\n",
              "appearance    101\n",
              "stage          24\n",
              "pchemo          1\n",
              "Wardsize      145\n",
              "finalhisto     10\n",
              "nodeyiel       12\n",
              "RHlvsi        366\n",
              "depth         489\n",
              "size          114\n",
              "utmet          98\n",
              "vgmargin       96\n",
              "vgmet          97\n",
              "pelvicme        1\n",
              "pmmet          94\n",
              "adnmet          7\n",
              "dtype: int64"
            ]
          },
          "metadata": {
            "tags": []
          },
          "execution_count": 9
        }
      ]
    },
    {
      "cell_type": "markdown",
      "metadata": {
        "id": "xlAFFf418JPV",
        "colab_type": "text"
      },
      "source": [
        "Delete column with missing data"
      ]
    },
    {
      "cell_type": "code",
      "metadata": {
        "id": "t5YSx3NY8JPW",
        "colab_type": "code",
        "colab": {
          "base_uri": "https://localhost:8080/",
          "height": 364
        },
        "outputId": "996cd0f9-be48-4b56-ef82-0495f904e5f0"
      },
      "source": [
        "df_clean_column = df.drop(['appearance','Wardsize','RHlvsi','depth'],axis = 1)\n",
        "df_clean_column.isnull().sum(axis=0)"
      ],
      "execution_count": 10,
      "outputs": [
        {
          "output_type": "execute_result",
          "data": {
            "text/plain": [
              "age             0\n",
              "parity          0\n",
              "hiv             4\n",
              "menopaus        1\n",
              "disease         0\n",
              "surgery         0\n",
              "conization      5\n",
              "OPDsize        17\n",
              "stage          24\n",
              "pchemo          1\n",
              "finalhisto     10\n",
              "nodeyiel       12\n",
              "size          114\n",
              "utmet          98\n",
              "vgmargin       96\n",
              "vgmet          97\n",
              "pelvicme        1\n",
              "pmmet          94\n",
              "adnmet          7\n",
              "dtype: int64"
            ]
          },
          "metadata": {
            "tags": []
          },
          "execution_count": 10
        }
      ]
    },
    {
      "cell_type": "markdown",
      "metadata": {
        "id": "NyNnK21u8JPX",
        "colab_type": "text"
      },
      "source": [
        "Delete row with at least 1 missing data"
      ]
    },
    {
      "cell_type": "code",
      "metadata": {
        "id": "03MGmT4a8JPY",
        "colab_type": "code",
        "colab": {}
      },
      "source": [
        "df_clean = df_clean_column.dropna(axis = 0)"
      ],
      "execution_count": 0,
      "outputs": []
    },
    {
      "cell_type": "markdown",
      "metadata": {
        "id": "2kUDENLG8JPZ",
        "colab_type": "text"
      },
      "source": [
        "Total Clean Data"
      ]
    },
    {
      "cell_type": "code",
      "metadata": {
        "id": "brL_4adg8JPb",
        "colab_type": "code",
        "colab": {
          "base_uri": "https://localhost:8080/",
          "height": 35
        },
        "outputId": "0a744ea4-47cf-43ef-9aee-cd34439ea8f6"
      },
      "source": [
        "df_clean.shape"
      ],
      "execution_count": 12,
      "outputs": [
        {
          "output_type": "execute_result",
          "data": {
            "text/plain": [
              "(1544, 19)"
            ]
          },
          "metadata": {
            "tags": []
          },
          "execution_count": 12
        }
      ]
    },
    {
      "cell_type": "markdown",
      "metadata": {
        "id": "OHcRmIb78JPc",
        "colab_type": "text"
      },
      "source": [
        "Check number of sample in pelvicme class "
      ]
    },
    {
      "cell_type": "code",
      "metadata": {
        "id": "4QQbuaAY8JPd",
        "colab_type": "code",
        "colab": {
          "base_uri": "https://localhost:8080/",
          "height": 35
        },
        "outputId": "8607f8f0-edf7-42a2-cfca-57d5267fc83b"
      },
      "source": [
        "pel_class = np.unique(df_clean['pelvicme'])\n",
        "pel_class"
      ],
      "execution_count": 13,
      "outputs": [
        {
          "output_type": "execute_result",
          "data": {
            "text/plain": [
              "array([0., 1., 3.])"
            ]
          },
          "metadata": {
            "tags": []
          },
          "execution_count": 13
        }
      ]
    },
    {
      "cell_type": "code",
      "metadata": {
        "id": "LctFWu_H8JPf",
        "colab_type": "code",
        "colab": {
          "base_uri": "https://localhost:8080/",
          "height": 35
        },
        "outputId": "e1033716-41ab-4ede-a68b-f3b1d46813d8"
      },
      "source": [
        "pel_value = [sum(df_clean['pelvicme']==pel_class[0]),\n",
        "             sum(df_clean['pelvicme']==pel_class[1]),\n",
        "             sum(df_clean['pelvicme']==pel_class[2]) ]\n",
        "pel_value"
      ],
      "execution_count": 14,
      "outputs": [
        {
          "output_type": "execute_result",
          "data": {
            "text/plain": [
              "[1220, 304, 20]"
            ]
          },
          "metadata": {
            "tags": []
          },
          "execution_count": 14
        }
      ]
    },
    {
      "cell_type": "markdown",
      "metadata": {
        "id": "CWNq4IWe8JPh",
        "colab_type": "text"
      },
      "source": [
        "Create dataset for pelvicme dataset by remove sample with label as 3"
      ]
    },
    {
      "cell_type": "code",
      "metadata": {
        "id": "GwzV4LqN8JPi",
        "colab_type": "code",
        "colab": {
          "base_uri": "https://localhost:8080/",
          "height": 35
        },
        "outputId": "2b846438-d438-411e-eb63-1bd75d5826fe"
      },
      "source": [
        "removeIndex = df_clean.index[df_clean['pelvicme']==3]\n",
        "pelvicme = df_clean.drop(removeIndex)\n",
        "pelvicme.shape"
      ],
      "execution_count": 15,
      "outputs": [
        {
          "output_type": "execute_result",
          "data": {
            "text/plain": [
              "(1524, 19)"
            ]
          },
          "metadata": {
            "tags": []
          },
          "execution_count": 15
        }
      ]
    },
    {
      "cell_type": "markdown",
      "metadata": {
        "id": "6VJ6Ejg48JPk",
        "colab_type": "text"
      },
      "source": [
        "Separate pelviceme dataset into data (X) and label (y)"
      ]
    },
    {
      "cell_type": "code",
      "metadata": {
        "id": "4Gdtafhe8JPk",
        "colab_type": "code",
        "colab": {}
      },
      "source": [
        "y = pelvicme['pelvicme'].values\n",
        "X = pelvicme.drop(['pelvicme'],axis = 1).values"
      ],
      "execution_count": 0,
      "outputs": []
    },
    {
      "cell_type": "markdown",
      "metadata": {
        "id": "NFhEkk8X8JPm",
        "colab_type": "text"
      },
      "source": [
        "Randomly choose 200 samples of class 1 (positive) as training data and the rest as test data"
      ]
    },
    {
      "cell_type": "code",
      "metadata": {
        "id": "XnFz3mek8JPn",
        "colab_type": "code",
        "colab": {
          "base_uri": "https://localhost:8080/",
          "height": 52
        },
        "outputId": "a14a4e1b-6bf6-43ec-e41c-e090432a5761"
      },
      "source": [
        "import random\n",
        "random.seed(1)\n",
        "positive_index = np.where(y==1)[0]\n",
        "negative_index = np.where(y==0)[0]\n",
        "pos_train_index = random.sample(list(positive_index),200)\n",
        "pos_test_index = list(set(positive_index) - set(pos_train_index))\n",
        "\n",
        "print(\"All dataset: \"+str(len(positive_index))+\" \"+str(len(negative_index)))\n",
        "print(\"Positive test dataset: \"+str(len(pos_test_index)))"
      ],
      "execution_count": 17,
      "outputs": [
        {
          "output_type": "stream",
          "text": [
            "All dataset: 304 1220\n",
            "Positive test dataset: 104\n"
          ],
          "name": "stdout"
        }
      ]
    },
    {
      "cell_type": "markdown",
      "metadata": {
        "id": "bb3---1e8JPo",
        "colab_type": "text"
      },
      "source": [
        "Randomly separate negative dataset into 5 parts to create 5 training datasets consisted of 200 samples"
      ]
    },
    {
      "cell_type": "code",
      "metadata": {
        "id": "TpCeL8Jz8JPp",
        "colab_type": "code",
        "colab": {
          "base_uri": "https://localhost:8080/",
          "height": 35
        },
        "outputId": "dd0200ab-39e1-4c36-f0e7-7d45170088df"
      },
      "source": [
        "neg_train_index1 = random.sample(list(negative_index),200)\n",
        "neg_tmp_index = list(set(negative_index) - set(neg_train_index1))\n",
        "\n",
        "neg_train_index2 = random.sample(list(neg_tmp_index),200)\n",
        "neg_tmp_index = list(set(neg_tmp_index) - set(neg_train_index2))\n",
        "\n",
        "neg_train_index3 = random.sample(list(neg_tmp_index),200)\n",
        "neg_tmp_index = list(set(neg_tmp_index) - set(neg_train_index3))\n",
        "\n",
        "neg_train_index4 = random.sample(list(neg_tmp_index),200)\n",
        "neg_tmp_index = list(set(neg_tmp_index) - set(neg_train_index4))\n",
        "\n",
        "neg_train_index5 = random.sample(list(neg_tmp_index),200)\n",
        "neg_tmp_index = list(set(neg_tmp_index) - set(neg_train_index5))\n",
        "\n",
        "neg_test_index = neg_tmp_index\n",
        "print(\"Negative test dataset: \"+str(len(neg_test_index)))"
      ],
      "execution_count": 18,
      "outputs": [
        {
          "output_type": "stream",
          "text": [
            "Negative test dataset: 220\n"
          ],
          "name": "stdout"
        }
      ]
    },
    {
      "cell_type": "markdown",
      "metadata": {
        "id": "ZCzFlfc58JPq",
        "colab_type": "text"
      },
      "source": [
        "Create 5 training dataset and 1 test dataset"
      ]
    },
    {
      "cell_type": "code",
      "metadata": {
        "id": "4LR5IIJ58JPr",
        "colab_type": "code",
        "colab": {
          "base_uri": "https://localhost:8080/",
          "height": 35
        },
        "outputId": "d37d8935-48f7-49c2-d472-94631d270665"
      },
      "source": [
        "X_train1 = np.concatenate((X[neg_train_index1,:],X[pos_train_index,:]),axis=0)\n",
        "y_train1 = np.concatenate((y[neg_train_index1],y[pos_train_index]),axis=0)\n",
        "\n",
        "X_train2 = np.concatenate((X[neg_train_index2,:],X[pos_train_index,:]),axis=0)\n",
        "y_train2 = np.concatenate((y[neg_train_index2],y[pos_train_index]),axis=0)\n",
        "\n",
        "X_train3 = np.concatenate((X[neg_train_index3,:],X[pos_train_index,:]),axis=0)\n",
        "y_train3 = np.concatenate((y[neg_train_index3],y[pos_train_index]),axis=0)\n",
        "\n",
        "X_train4 = np.concatenate((X[neg_train_index4,:],X[pos_train_index,:]),axis=0)\n",
        "y_train4 = np.concatenate((y[neg_train_index4],y[pos_train_index]),axis=0)\n",
        "\n",
        "X_train5 = np.concatenate((X[neg_train_index5,:],X[pos_train_index,:]),axis=0)\n",
        "y_train5 = np.concatenate((y[neg_train_index5],y[pos_train_index]),axis=0)\n",
        "\n",
        "X_train5.shape, y_train5.shape"
      ],
      "execution_count": 19,
      "outputs": [
        {
          "output_type": "execute_result",
          "data": {
            "text/plain": [
              "((400, 18), (400,))"
            ]
          },
          "metadata": {
            "tags": []
          },
          "execution_count": 19
        }
      ]
    },
    {
      "cell_type": "code",
      "metadata": {
        "id": "n5hQ5N618JPt",
        "colab_type": "code",
        "colab": {
          "base_uri": "https://localhost:8080/",
          "height": 35
        },
        "outputId": "4f12f5c8-1a02-49eb-ce00-dab9d3a7f0f1"
      },
      "source": [
        "X_test = np.concatenate((X[neg_test_index,:],X[pos_test_index,:]),axis=0)\n",
        "y_test = np.concatenate((y[neg_test_index],y[pos_test_index]),axis=0)\n",
        "X_test.shape, y_test.shape"
      ],
      "execution_count": 20,
      "outputs": [
        {
          "output_type": "execute_result",
          "data": {
            "text/plain": [
              "((324, 18), (324,))"
            ]
          },
          "metadata": {
            "tags": []
          },
          "execution_count": 20
        }
      ]
    },
    {
      "cell_type": "markdown",
      "metadata": {
        "id": "ZgKGb8HK8JPv",
        "colab_type": "text"
      },
      "source": [
        "Data normalization to range of (-1 to 1)"
      ]
    },
    {
      "cell_type": "code",
      "metadata": {
        "id": "wmkv5Op98JPv",
        "colab_type": "code",
        "colab": {}
      },
      "source": [
        "from sklearn.preprocessing import MinMaxScaler\n",
        "scaler = MinMaxScaler(feature_range=(0, 1))\n",
        "scaler.fit(X_train1)\n",
        "X_train_norm = scaler.transform(X_train1)\n",
        "y_train = y_train1\n",
        "X_test_norm = scaler.transform(X_test)"
      ],
      "execution_count": 0,
      "outputs": []
    },
    {
      "cell_type": "markdown",
      "metadata": {
        "id": "cpFA7Afx8JPy",
        "colab_type": "text"
      },
      "source": [
        "# Logistic Regression "
      ]
    },
    {
      "cell_type": "markdown",
      "metadata": {
        "id": "pEC9r99f8JP0",
        "colab_type": "text"
      },
      "source": [
        "10-Folds Cross Validation Training Accuracy"
      ]
    },
    {
      "cell_type": "code",
      "metadata": {
        "id": "wtagYOLw8JP0",
        "colab_type": "code",
        "colab": {
          "base_uri": "https://localhost:8080/",
          "height": 35
        },
        "outputId": "a01453da-6397-47c3-d7f8-0aa3dedf9e21"
      },
      "source": [
        "from sklearn.linear_model import LogisticRegression\n",
        "from sklearn.model_selection import cross_val_score\n",
        "clf = LogisticRegression(random_state=0, solver='lbfgs')\n",
        "np.mean(cross_val_score(clf, X_train_norm, y_train, cv=10))"
      ],
      "execution_count": 26,
      "outputs": [
        {
          "output_type": "execute_result",
          "data": {
            "text/plain": [
              "0.7024999999999999"
            ]
          },
          "metadata": {
            "tags": []
          },
          "execution_count": 26
        }
      ]
    },
    {
      "cell_type": "markdown",
      "metadata": {
        "id": "1TzTClfO8JP3",
        "colab_type": "text"
      },
      "source": [
        "Test Accuracy"
      ]
    },
    {
      "cell_type": "code",
      "metadata": {
        "scrolled": true,
        "id": "HhOEcwrg8JP3",
        "colab_type": "code",
        "colab": {
          "base_uri": "https://localhost:8080/",
          "height": 35
        },
        "outputId": "61ae2134-c9c0-4232-e69e-f13f7dfbd102"
      },
      "source": [
        "from sklearn.metrics import classification_report\n",
        "from sklearn.metrics import confusion_matrix\n",
        "clf.fit(X_train_norm, y_train)\n",
        "y_predict = clf.predict(X_test_norm)\n",
        "sum(y_test == y_predict)/len(y_test)"
      ],
      "execution_count": 27,
      "outputs": [
        {
          "output_type": "execute_result",
          "data": {
            "text/plain": [
              "0.7345679012345679"
            ]
          },
          "metadata": {
            "tags": []
          },
          "execution_count": 27
        }
      ]
    },
    {
      "cell_type": "code",
      "metadata": {
        "id": "U1j5UvWw8JP5",
        "colab_type": "code",
        "colab": {
          "base_uri": "https://localhost:8080/",
          "height": 283
        },
        "outputId": "8e035d9b-1160-49be-bfef-041c11c08075"
      },
      "source": [
        "from sklearn.metrics import confusion_matrix\n",
        "import matplotlib.pyplot as plt\n",
        "import seaborn as sns\n",
        "target_names = ['negative', 'positive']\n",
        "C = confusion_matrix(y_test,y_predict) \n",
        "C = C / C.astype(np.float).sum(axis=1)*100\n",
        "sns.heatmap(C, annot=True, fmt=\".2f\",cmap=\"GnBu\",xticklabels=target_names, yticklabels=target_names)\n",
        "plt.ylabel(\"True Label\")\n",
        "plt.xlabel(\"Predicted Label\")\n",
        "plt.show()"
      ],
      "execution_count": 28,
      "outputs": [
        {
          "output_type": "display_data",
          "data": {
            "image/png": "[encoded data removed]",
            "text/plain": [
              "<Figure size 432x288 with 2 Axes>"
            ]
          },
          "metadata": {
            "tags": []
          }
        }
      ]
    },
    {
      "cell_type": "code",
      "metadata": {
        "id": "ZUQXjLDe8JP6",
        "colab_type": "code",
        "colab": {
          "base_uri": "https://localhost:8080/",
          "height": 173
        },
        "outputId": "4139da5c-4e4e-4560-e2e8-1cf46d2288d1"
      },
      "source": [
        "print(classification_report(y_test, y_predict, target_names=target_names))"
      ],
      "execution_count": 29,
      "outputs": [
        {
          "output_type": "stream",
          "text": [
            "              precision    recall  f1-score   support\n",
            "\n",
            "    negative       0.81      0.79      0.80       220\n",
            "    positive       0.58      0.62      0.60       104\n",
            "\n",
            "    accuracy                           0.73       324\n",
            "   macro avg       0.70      0.70      0.70       324\n",
            "weighted avg       0.74      0.73      0.74       324\n",
            "\n"
          ],
          "name": "stdout"
        }
      ]
    },
    {
      "cell_type": "markdown",
      "metadata": {
        "id": "83TUQPbu8JP8",
        "colab_type": "text"
      },
      "source": [
        "# Support Vector Machine"
      ]
    },
    {
      "cell_type": "markdown",
      "metadata": {
        "id": "cB-9M8468JP9",
        "colab_type": "text"
      },
      "source": [
        "10-Folds Cross Validation Training Accuracy"
      ]
    },
    {
      "cell_type": "code",
      "metadata": {
        "id": "SVtRIhLf8JP9",
        "colab_type": "code",
        "colab": {
          "base_uri": "https://localhost:8080/",
          "height": 35
        },
        "outputId": "ffe4edd5-14ee-46e8-f6cd-2635c5c16da9"
      },
      "source": [
        "from sklearn.svm import SVC\n",
        "from sklearn.model_selection import cross_val_score\n",
        "clf = SVC(gamma='auto')\n",
        "np.mean(cross_val_score(clf, X_train_norm, y_train, cv=10))"
      ],
      "execution_count": 30,
      "outputs": [
        {
          "output_type": "execute_result",
          "data": {
            "text/plain": [
              "0.7074999999999999"
            ]
          },
          "metadata": {
            "tags": []
          },
          "execution_count": 30
        }
      ]
    },
    {
      "cell_type": "markdown",
      "metadata": {
        "id": "NsybCHdK8JP_",
        "colab_type": "text"
      },
      "source": [
        "Test Accuracy"
      ]
    },
    {
      "cell_type": "code",
      "metadata": {
        "id": "XJ0XGMYp8JP_",
        "colab_type": "code",
        "colab": {
          "base_uri": "https://localhost:8080/",
          "height": 35
        },
        "outputId": "f3c83002-6316-409e-aef1-41b67cbd0aa4"
      },
      "source": [
        "from sklearn.metrics import classification_report\n",
        "from sklearn.metrics import confusion_matrix\n",
        "clf.fit(X_train_norm, y_train)\n",
        "y_predict = clf.predict(X_test_norm)\n",
        "target_names = ['negative', 'positive']\n",
        "sum(y_test == y_predict)/len(y_test)"
      ],
      "execution_count": 31,
      "outputs": [
        {
          "output_type": "execute_result",
          "data": {
            "text/plain": [
              "0.7654320987654321"
            ]
          },
          "metadata": {
            "tags": []
          },
          "execution_count": 31
        }
      ]
    },
    {
      "cell_type": "code",
      "metadata": {
        "id": "C--oj8zn8JQB",
        "colab_type": "code",
        "colab": {
          "base_uri": "https://localhost:8080/",
          "height": 283
        },
        "outputId": "816d2258-95a7-42ed-e16a-223dff6af128"
      },
      "source": [
        "from sklearn.metrics import confusion_matrix\n",
        "import matplotlib.pyplot as plt\n",
        "import seaborn as sns\n",
        "target_names = ['negative', 'positive']\n",
        "C = confusion_matrix(y_test,y_predict) \n",
        "C = C / C.astype(np.float).sum(axis=1)*100\n",
        "sns.heatmap(C, annot=True, fmt=\".2f\",cmap=\"GnBu\",xticklabels=target_names, yticklabels=target_names)\n",
        "plt.ylabel(\"True Label\")\n",
        "plt.xlabel(\"Predicted Label\")\n",
        "plt.show()"
      ],
      "execution_count": 32,
      "outputs": [
        {
          "output_type": "display_data",
          "data": {
            "image/png": "[encoded data removed]",
            "text/plain": [
              "<Figure size 432x288 with 2 Axes>"
            ]
          },
          "metadata": {
            "tags": []
          }
        }
      ]
    },
    {
      "cell_type": "code",
      "metadata": {
        "id": "v8NLTtRz8JQC",
        "colab_type": "code",
        "colab": {
          "base_uri": "https://localhost:8080/",
          "height": 173
        },
        "outputId": "c263f0a3-8ac3-468e-f41f-afba6826a504"
      },
      "source": [
        "print(classification_report(y_test, y_predict, target_names=target_names))"
      ],
      "execution_count": 33,
      "outputs": [
        {
          "output_type": "stream",
          "text": [
            "              precision    recall  f1-score   support\n",
            "\n",
            "    negative       0.79      0.90      0.84       220\n",
            "    positive       0.69      0.48      0.57       104\n",
            "\n",
            "    accuracy                           0.77       324\n",
            "   macro avg       0.74      0.69      0.70       324\n",
            "weighted avg       0.76      0.77      0.75       324\n",
            "\n"
          ],
          "name": "stdout"
        }
      ]
    },
    {
      "cell_type": "markdown",
      "metadata": {
        "id": "SDlmx5yk8JQF",
        "colab_type": "text"
      },
      "source": [
        "# Random Forest"
      ]
    },
    {
      "cell_type": "markdown",
      "metadata": {
        "id": "VtXkXkoc8JQF",
        "colab_type": "text"
      },
      "source": [
        "10-Folds Cross Validation Training Accuracy"
      ]
    },
    {
      "cell_type": "code",
      "metadata": {
        "id": "9hBNax_o8JQG",
        "colab_type": "code",
        "colab": {
          "base_uri": "https://localhost:8080/",
          "height": 35
        },
        "outputId": "82429572-60db-41cc-f17f-9340da285e9e"
      },
      "source": [
        "from sklearn.ensemble import RandomForestClassifier\n",
        "from sklearn.model_selection import cross_val_score\n",
        "clf =  RandomForestClassifier(n_estimators=500, min_samples_split=2, random_state=0)\n",
        "np.mean(cross_val_score(clf, X_train_norm, y_train, cv=10))"
      ],
      "execution_count": 34,
      "outputs": [
        {
          "output_type": "execute_result",
          "data": {
            "text/plain": [
              "0.6924999999999999"
            ]
          },
          "metadata": {
            "tags": []
          },
          "execution_count": 34
        }
      ]
    },
    {
      "cell_type": "markdown",
      "metadata": {
        "id": "ysu3HGiI8JQJ",
        "colab_type": "text"
      },
      "source": [
        "Test Accuracy"
      ]
    },
    {
      "cell_type": "code",
      "metadata": {
        "id": "dhvwH76Z8JQK",
        "colab_type": "code",
        "colab": {
          "base_uri": "https://localhost:8080/",
          "height": 35
        },
        "outputId": "0e4d34a8-ef79-4d59-8711-23806d997792"
      },
      "source": [
        "from sklearn.metrics import classification_report\n",
        "from sklearn.metrics import confusion_matrix\n",
        "clf.fit(X_train_norm, y_train)\n",
        "y_predict = clf.predict(X_test_norm)\n",
        "target_names = ['negative', 'positive']\n",
        "sum(y_test == y_predict)/len(y_test)"
      ],
      "execution_count": 35,
      "outputs": [
        {
          "output_type": "execute_result",
          "data": {
            "text/plain": [
              "0.7283950617283951"
            ]
          },
          "metadata": {
            "tags": []
          },
          "execution_count": 35
        }
      ]
    },
    {
      "cell_type": "code",
      "metadata": {
        "id": "BY-ZyplN8JQL",
        "colab_type": "code",
        "colab": {
          "base_uri": "https://localhost:8080/",
          "height": 283
        },
        "outputId": "d4e9ec72-f4bc-4d39-b942-d9da3f87c2e4"
      },
      "source": [
        "from sklearn.metrics import confusion_matrix\n",
        "import matplotlib.pyplot as plt\n",
        "import seaborn as sns\n",
        "target_names = ['negative', 'positive']\n",
        "C = confusion_matrix(y_test,y_predict) \n",
        "C = C / C.astype(np.float).sum(axis=1)*100\n",
        "sns.heatmap(C, annot=True, fmt=\".2f\",cmap=\"GnBu\",xticklabels=target_names, yticklabels=target_names)\n",
        "plt.ylabel(\"True Label\")\n",
        "plt.xlabel(\"Predicted Label\")\n",
        "plt.show()"
      ],
      "execution_count": 36,
      "outputs": [
        {
          "output_type": "display_data",
          "data": {
            "image/png": "[encoded data removed]",
            "text/plain": [
              "<Figure size 432x288 with 2 Axes>"
            ]
          },
          "metadata": {
            "tags": []
          }
        }
      ]
    },
    {
      "cell_type": "code",
      "metadata": {
        "id": "wwGUP-YJ8JQN",
        "colab_type": "code",
        "colab": {
          "base_uri": "https://localhost:8080/",
          "height": 173
        },
        "outputId": "45f9d9e1-3324-4a58-eeba-095ebd97453e"
      },
      "source": [
        "print(classification_report(y_test, y_predict, target_names=target_names))"
      ],
      "execution_count": 37,
      "outputs": [
        {
          "output_type": "stream",
          "text": [
            "              precision    recall  f1-score   support\n",
            "\n",
            "    negative       0.84      0.75      0.79       220\n",
            "    positive       0.56      0.69      0.62       104\n",
            "\n",
            "    accuracy                           0.73       324\n",
            "   macro avg       0.70      0.72      0.70       324\n",
            "weighted avg       0.75      0.73      0.73       324\n",
            "\n"
          ],
          "name": "stdout"
        }
      ]
    },
    {
      "cell_type": "markdown",
      "metadata": {
        "id": "LP7YysqP8JQO",
        "colab_type": "text"
      },
      "source": [
        "# XGBoost\n",
        "\n",
        "10-Folds Cross Validation Training Accuracy"
      ]
    },
    {
      "cell_type": "code",
      "metadata": {
        "scrolled": true,
        "id": "8k6aTTLX8JQP",
        "colab_type": "code",
        "colab": {
          "base_uri": "https://localhost:8080/",
          "height": 35
        },
        "outputId": "0f2ea484-3d36-431a-b347-fc7a6741c900"
      },
      "source": [
        "#!pip install xgboost  // If you dont have XGBoost\n",
        "import xgboost as xgb\n",
        "clf = xgb.XGBClassifier(base_score=0.5, booster='gbtree', colsample_bylevel=1,\n",
        "       colsample_bytree=1, gamma=0, learning_rate=0.01, max_delta_step=0,\n",
        "       max_depth=3, min_child_weight=1, missing=None, n_estimators=100,\n",
        "       n_jobs=1, nthread=None, objective='binary:logistic', random_state=1,\n",
        "       reg_alpha=0, reg_lambda=1, scale_pos_weight=1, seed=None,\n",
        "       silent=True, subsample=1)\n",
        "np.mean(cross_val_score(clf, X_train_norm, y_train, cv=10))"
      ],
      "execution_count": 39,
      "outputs": [
        {
          "output_type": "execute_result",
          "data": {
            "text/plain": [
              "0.7100000000000001"
            ]
          },
          "metadata": {
            "tags": []
          },
          "execution_count": 39
        }
      ]
    },
    {
      "cell_type": "markdown",
      "metadata": {
        "id": "rCjZSw3y8JQR",
        "colab_type": "text"
      },
      "source": [
        "Test Accuracy"
      ]
    },
    {
      "cell_type": "code",
      "metadata": {
        "id": "LBzk9b858JQR",
        "colab_type": "code",
        "colab": {
          "base_uri": "https://localhost:8080/",
          "height": 35
        },
        "outputId": "64646670-3ddd-45fa-dcec-41961675c26b"
      },
      "source": [
        "from sklearn.metrics import classification_report\n",
        "from sklearn.metrics import confusion_matrix\n",
        "clf.fit(X_train_norm, y_train)\n",
        "y_predict = clf.predict(X_test_norm)\n",
        "target_names = ['negative', 'positive']\n",
        "sum(y_test == y_predict)/len(y_test)"
      ],
      "execution_count": 40,
      "outputs": [
        {
          "output_type": "execute_result",
          "data": {
            "text/plain": [
              "0.7253086419753086"
            ]
          },
          "metadata": {
            "tags": []
          },
          "execution_count": 40
        }
      ]
    },
    {
      "cell_type": "code",
      "metadata": {
        "scrolled": true,
        "id": "udIynozx8JQT",
        "colab_type": "code",
        "colab": {
          "base_uri": "https://localhost:8080/",
          "height": 283
        },
        "outputId": "aa353a78-c98e-4d05-a7de-e2137ede0b96"
      },
      "source": [
        "from sklearn.metrics import confusion_matrix\n",
        "import matplotlib.pyplot as plt\n",
        "import seaborn as sns\n",
        "target_names = ['negative', 'positive']\n",
        "C = confusion_matrix(y_test,y_predict) \n",
        "C = C / C.astype(np.float).sum(axis=1)*100\n",
        "sns.heatmap(C, annot=True, fmt=\".2f\",cmap=\"GnBu\",xticklabels=target_names, yticklabels=target_names)\n",
        "plt.ylabel(\"True Label\")\n",
        "plt.xlabel(\"Predicted Label\")\n",
        "plt.show()"
      ],
      "execution_count": 41,
      "outputs": [
        {
          "output_type": "display_data",
          "data": {
            "image/png": "[encoded data removed]",
            "text/plain": [
              "<Figure size 432x288 with 2 Axes>"
            ]
          },
          "metadata": {
            "tags": []
          }
        }
      ]
    },
    {
      "cell_type": "code",
      "metadata": {
        "id": "Z6GyVYcE8JQV",
        "colab_type": "code",
        "colab": {
          "base_uri": "https://localhost:8080/",
          "height": 173
        },
        "outputId": "fb018ff3-5c83-45be-bec2-512a093807e8"
      },
      "source": [
        "print(classification_report(y_test, y_predict, target_names=target_names))"
      ],
      "execution_count": 42,
      "outputs": [
        {
          "output_type": "stream",
          "text": [
            "              precision    recall  f1-score   support\n",
            "\n",
            "    negative       0.80      0.80      0.80       220\n",
            "    positive       0.57      0.58      0.57       104\n",
            "\n",
            "    accuracy                           0.73       324\n",
            "   macro avg       0.69      0.69      0.69       324\n",
            "weighted avg       0.73      0.73      0.73       324\n",
            "\n"
          ],
          "name": "stdout"
        }
      ]
    },
    {
      "cell_type": "markdown",
      "metadata": {
        "id": "nkhW04wi8JQW",
        "colab_type": "text"
      },
      "source": [
        "# Save Data to SVM format for Optimization"
      ]
    },
    {
      "cell_type": "code",
      "metadata": {
        "id": "8o8fycN68JQX",
        "colab_type": "code",
        "colab": {}
      },
      "source": [
        "from sklearn.datasets import dump_svmlight_file\n",
        "dump_svmlight_file(X_train_norm, y_train, 'training.svm',zero_based=False)\n",
        "dump_svmlight_file(X_test_norm,y_test,'test.svm',zero_based=False)"
      ],
      "execution_count": 0,
      "outputs": []
    },
    {
      "cell_type": "code",
      "metadata": {
        "id": "evjavp_N8JQY",
        "colab_type": "code",
        "colab": {}
      },
      "source": [
        ""
      ],
      "execution_count": 0,
      "outputs": []
    }
  ]
}