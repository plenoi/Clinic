{
  "nbformat": 4,
  "nbformat_minor": 0,
  "metadata": {
    "kernelspec": {
      "display_name": "Python 3",
      "language": "python",
      "name": "python3"
    },
    "language_info": {
      "codemirror_mode": {
        "name": "ipython",
        "version": 3
      },
      "file_extension": ".py",
      "mimetype": "text/x-python",
      "name": "python",
      "nbconvert_exporter": "python",
      "pygments_lexer": "ipython3",
      "version": "3.6.9"
    },
    "colab": {
      "name": "Clinical_Analysis_pmmet.ipynb",
      "version": "0.3.2",
      "provenance": [],
      "collapsed_sections": [
        "nkhW04wi8JQW"
      ],
      "include_colab_link": true
    }
  },
  "cells": [
    {
      "cell_type": "markdown",
      "metadata": {
        "id": "view-in-github",
        "colab_type": "text"
      },
      "source": [
        "<a href=\"https://colab.research.google.com/github/plenoi/Clinic/blob/master/Clinical_Analysis_pmmet.ipynb\" target=\"_parent\"><img src=\"https://colab.research.google.com/assets/colab-badge.svg\" alt=\"Open In Colab\"/></a>"
      ]
    },
    {
      "cell_type": "code",
      "metadata": {
        "id": "aWHnvx9H8JPF",
        "colab_type": "code",
        "colab": {}
      },
      "source": [
        "import pandas as pd\n",
        "import numpy as np"
      ],
      "execution_count": 0,
      "outputs": []
    },
    {
      "cell_type": "markdown",
      "metadata": {
        "id": "jntbWEiv8JPM",
        "colab_type": "text"
      },
      "source": [
        "# Read all data and set hn as index"
      ]
    },
    {
      "cell_type": "code",
      "metadata": {
        "id": "vCtTLpCL8JPM",
        "colab_type": "code",
        "outputId": "6c1c2cc1-2486-4012-eb65-ee0d5a16c11a",
        "colab": {
          "base_uri": "https://localhost:8080/",
          "height": 255
        }
      },
      "source": [
        "df = pd.read_csv('https://raw.githubusercontent.com/plenoi/Clinic/master/ultima_all_clean.csv')\n",
        "df = df.set_index('hn')\n",
        "df.head()"
      ],
      "execution_count": 2,
      "outputs": [
        {
          "output_type": "execute_result",
          "data": {
            "text/html": [
              "<div>\n",
              "<style scoped>\n",
              "    .dataframe tbody tr th:only-of-type {\n",
              "        vertical-align: middle;\n",
              "    }\n",
              "\n",
              "    .dataframe tbody tr th {\n",
              "        vertical-align: top;\n",
              "    }\n",
              "\n",
              "    .dataframe thead th {\n",
              "        text-align: right;\n",
              "    }\n",
              "</style>\n",
              "<table border=\"1\" class=\"dataframe\">\n",
              "  <thead>\n",
              "    <tr style=\"text-align: right;\">\n",
              "      <th></th>\n",
              "      <th>age</th>\n",
              "      <th>parity</th>\n",
              "      <th>hiv</th>\n",
              "      <th>menopaus</th>\n",
              "      <th>disease</th>\n",
              "      <th>surgery</th>\n",
              "      <th>conization</th>\n",
              "      <th>OPDsize</th>\n",
              "      <th>appearance</th>\n",
              "      <th>stage</th>\n",
              "      <th>pchemo</th>\n",
              "      <th>Wardsize</th>\n",
              "      <th>finalhisto</th>\n",
              "      <th>nodeyiel</th>\n",
              "      <th>RHlvsi</th>\n",
              "      <th>depth</th>\n",
              "      <th>size</th>\n",
              "      <th>utmet</th>\n",
              "      <th>vgmargin</th>\n",
              "      <th>vgmet</th>\n",
              "      <th>pelvicme</th>\n",
              "      <th>pmmet</th>\n",
              "      <th>adnmet</th>\n",
              "    </tr>\n",
              "    <tr>\n",
              "      <th>hn</th>\n",
              "      <th></th>\n",
              "      <th></th>\n",
              "      <th></th>\n",
              "      <th></th>\n",
              "      <th></th>\n",
              "      <th></th>\n",
              "      <th></th>\n",
              "      <th></th>\n",
              "      <th></th>\n",
              "      <th></th>\n",
              "      <th></th>\n",
              "      <th></th>\n",
              "      <th></th>\n",
              "      <th></th>\n",
              "      <th></th>\n",
              "      <th></th>\n",
              "      <th></th>\n",
              "      <th></th>\n",
              "      <th></th>\n",
              "      <th></th>\n",
              "      <th></th>\n",
              "      <th></th>\n",
              "      <th></th>\n",
              "    </tr>\n",
              "  </thead>\n",
              "  <tbody>\n",
              "    <tr>\n",
              "      <th>2631840</th>\n",
              "      <td>52</td>\n",
              "      <td>3</td>\n",
              "      <td>0.0</td>\n",
              "      <td>0.0</td>\n",
              "      <td>1</td>\n",
              "      <td>1</td>\n",
              "      <td>0.0</td>\n",
              "      <td>5.0</td>\n",
              "      <td>4.0</td>\n",
              "      <td>5.0</td>\n",
              "      <td>0.0</td>\n",
              "      <td>5.0</td>\n",
              "      <td>3.0</td>\n",
              "      <td>21.0</td>\n",
              "      <td>0.0</td>\n",
              "      <td>3.0</td>\n",
              "      <td>6.0</td>\n",
              "      <td>0.0</td>\n",
              "      <td>0.0</td>\n",
              "      <td>0.0</td>\n",
              "      <td>0.0</td>\n",
              "      <td>0.0</td>\n",
              "      <td>0.0</td>\n",
              "    </tr>\n",
              "    <tr>\n",
              "      <th>2633481</th>\n",
              "      <td>32</td>\n",
              "      <td>2</td>\n",
              "      <td>0.0</td>\n",
              "      <td>0.0</td>\n",
              "      <td>0</td>\n",
              "      <td>1</td>\n",
              "      <td>0.0</td>\n",
              "      <td>5.0</td>\n",
              "      <td>1.0</td>\n",
              "      <td>5.0</td>\n",
              "      <td>0.0</td>\n",
              "      <td>5.0</td>\n",
              "      <td>1.0</td>\n",
              "      <td>11.0</td>\n",
              "      <td>0.0</td>\n",
              "      <td>3.0</td>\n",
              "      <td>5.0</td>\n",
              "      <td>0.0</td>\n",
              "      <td>0.0</td>\n",
              "      <td>0.0</td>\n",
              "      <td>1.0</td>\n",
              "      <td>0.0</td>\n",
              "      <td>2.0</td>\n",
              "    </tr>\n",
              "    <tr>\n",
              "      <th>2634477</th>\n",
              "      <td>52</td>\n",
              "      <td>2</td>\n",
              "      <td>0.0</td>\n",
              "      <td>0.0</td>\n",
              "      <td>0</td>\n",
              "      <td>0</td>\n",
              "      <td>0.0</td>\n",
              "      <td>5.0</td>\n",
              "      <td>NaN</td>\n",
              "      <td>5.0</td>\n",
              "      <td>0.0</td>\n",
              "      <td>5.0</td>\n",
              "      <td>4.0</td>\n",
              "      <td>35.0</td>\n",
              "      <td>6.0</td>\n",
              "      <td>3.0</td>\n",
              "      <td>4.0</td>\n",
              "      <td>0.0</td>\n",
              "      <td>0.0</td>\n",
              "      <td>0.0</td>\n",
              "      <td>0.0</td>\n",
              "      <td>0.0</td>\n",
              "      <td>0.0</td>\n",
              "    </tr>\n",
              "    <tr>\n",
              "      <th>2633633</th>\n",
              "      <td>38</td>\n",
              "      <td>2</td>\n",
              "      <td>0.0</td>\n",
              "      <td>0.0</td>\n",
              "      <td>0</td>\n",
              "      <td>0</td>\n",
              "      <td>0.0</td>\n",
              "      <td>2.0</td>\n",
              "      <td>1.0</td>\n",
              "      <td>4.0</td>\n",
              "      <td>0.0</td>\n",
              "      <td>3.0</td>\n",
              "      <td>3.0</td>\n",
              "      <td>20.0</td>\n",
              "      <td>16.0</td>\n",
              "      <td>3.0</td>\n",
              "      <td>3.8</td>\n",
              "      <td>0.0</td>\n",
              "      <td>0.0</td>\n",
              "      <td>0.0</td>\n",
              "      <td>0.0</td>\n",
              "      <td>0.0</td>\n",
              "      <td>2.0</td>\n",
              "    </tr>\n",
              "    <tr>\n",
              "      <th>2630496</th>\n",
              "      <td>55</td>\n",
              "      <td>3</td>\n",
              "      <td>0.0</td>\n",
              "      <td>1.0</td>\n",
              "      <td>0</td>\n",
              "      <td>0</td>\n",
              "      <td>1.0</td>\n",
              "      <td>0.0</td>\n",
              "      <td>5.0</td>\n",
              "      <td>4.0</td>\n",
              "      <td>0.0</td>\n",
              "      <td>0.0</td>\n",
              "      <td>1.0</td>\n",
              "      <td>17.0</td>\n",
              "      <td>9.0</td>\n",
              "      <td>3.0</td>\n",
              "      <td>0.0</td>\n",
              "      <td>0.0</td>\n",
              "      <td>0.0</td>\n",
              "      <td>0.0</td>\n",
              "      <td>1.0</td>\n",
              "      <td>0.0</td>\n",
              "      <td>0.0</td>\n",
              "    </tr>\n",
              "  </tbody>\n",
              "</table>\n",
              "</div>"
            ],
            "text/plain": [
              "         age  parity  hiv  menopaus  ...  vgmet  pelvicme  pmmet  adnmet\n",
              "hn                                   ...                                \n",
              "2631840   52       3  0.0       0.0  ...    0.0       0.0    0.0     0.0\n",
              "2633481   32       2  0.0       0.0  ...    0.0       1.0    0.0     2.0\n",
              "2634477   52       2  0.0       0.0  ...    0.0       0.0    0.0     0.0\n",
              "2633633   38       2  0.0       0.0  ...    0.0       0.0    0.0     2.0\n",
              "2630496   55       3  0.0       1.0  ...    0.0       1.0    0.0     0.0\n",
              "\n",
              "[5 rows x 23 columns]"
            ]
          },
          "metadata": {
            "tags": []
          },
          "execution_count": 2
        }
      ]
    },
    {
      "cell_type": "markdown",
      "metadata": {
        "id": "Yw4lB2Yj8JPP",
        "colab_type": "text"
      },
      "source": [
        "# Data Preprocessing"
      ]
    },
    {
      "cell_type": "markdown",
      "metadata": {
        "id": "iO_k48uw8JPQ",
        "colab_type": "text"
      },
      "source": [
        "Check number of data"
      ]
    },
    {
      "cell_type": "code",
      "metadata": {
        "id": "V1gVBPp48JPQ",
        "colab_type": "code",
        "outputId": "b95dfe3a-7245-4cde-d889-6863c9d35ee4",
        "colab": {
          "base_uri": "https://localhost:8080/",
          "height": 34
        }
      },
      "source": [
        "df.shape"
      ],
      "execution_count": 3,
      "outputs": [
        {
          "output_type": "execute_result",
          "data": {
            "text/plain": [
              "(1723, 23)"
            ]
          },
          "metadata": {
            "tags": []
          },
          "execution_count": 3
        }
      ]
    },
    {
      "cell_type": "markdown",
      "metadata": {
        "id": "OKStqK_68JPT",
        "colab_type": "text"
      },
      "source": [
        "Check any missing data in each column"
      ]
    },
    {
      "cell_type": "code",
      "metadata": {
        "id": "Q77h1QHI8JPT",
        "colab_type": "code",
        "outputId": "9c4252e1-7190-4ee8-9124-926a858dacfc",
        "colab": {
          "base_uri": "https://localhost:8080/",
          "height": 425
        }
      },
      "source": [
        "df.isnull().sum(axis=0)"
      ],
      "execution_count": 5,
      "outputs": [
        {
          "output_type": "execute_result",
          "data": {
            "text/plain": [
              "age             0\n",
              "parity          0\n",
              "hiv             4\n",
              "menopaus        1\n",
              "disease         0\n",
              "surgery         0\n",
              "conization      5\n",
              "OPDsize        17\n",
              "appearance    101\n",
              "stage          24\n",
              "pchemo          1\n",
              "Wardsize      145\n",
              "finalhisto     10\n",
              "nodeyiel       12\n",
              "RHlvsi        366\n",
              "depth         489\n",
              "size          114\n",
              "utmet          98\n",
              "vgmargin       96\n",
              "vgmet          97\n",
              "pelvicme        1\n",
              "pmmet          94\n",
              "adnmet          7\n",
              "dtype: int64"
            ]
          },
          "metadata": {
            "tags": []
          },
          "execution_count": 5
        }
      ]
    },
    {
      "cell_type": "markdown",
      "metadata": {
        "id": "xlAFFf418JPV",
        "colab_type": "text"
      },
      "source": [
        "Delete column with missing data"
      ]
    },
    {
      "cell_type": "code",
      "metadata": {
        "id": "t5YSx3NY8JPW",
        "colab_type": "code",
        "outputId": "7b565e11-1c60-4829-8901-f4e7d10dd241",
        "colab": {
          "base_uri": "https://localhost:8080/",
          "height": 289
        }
      },
      "source": [
        "df_clean_column = df.drop(['appearance','Wardsize','RHlvsi','depth','nodeyiel','vgmargin','pelvicme','adnmet'],axis = 1)\n",
        "df_clean_column.isnull().sum(axis=0)"
      ],
      "execution_count": 6,
      "outputs": [
        {
          "output_type": "execute_result",
          "data": {
            "text/plain": [
              "age             0\n",
              "parity          0\n",
              "hiv             4\n",
              "menopaus        1\n",
              "disease         0\n",
              "surgery         0\n",
              "conization      5\n",
              "OPDsize        17\n",
              "stage          24\n",
              "pchemo          1\n",
              "finalhisto     10\n",
              "size          114\n",
              "utmet          98\n",
              "vgmet          97\n",
              "pmmet          94\n",
              "dtype: int64"
            ]
          },
          "metadata": {
            "tags": []
          },
          "execution_count": 6
        }
      ]
    },
    {
      "cell_type": "markdown",
      "metadata": {
        "id": "NyNnK21u8JPX",
        "colab_type": "text"
      },
      "source": [
        "Delete row with at least 1 missing data"
      ]
    },
    {
      "cell_type": "code",
      "metadata": {
        "id": "03MGmT4a8JPY",
        "colab_type": "code",
        "colab": {}
      },
      "source": [
        "df_clean = df_clean_column.dropna(axis = 0)"
      ],
      "execution_count": 0,
      "outputs": []
    },
    {
      "cell_type": "markdown",
      "metadata": {
        "id": "2kUDENLG8JPZ",
        "colab_type": "text"
      },
      "source": [
        "Total Clean Data"
      ]
    },
    {
      "cell_type": "code",
      "metadata": {
        "id": "brL_4adg8JPb",
        "colab_type": "code",
        "outputId": "2267847d-e52d-44b2-deef-98adb8afb1f8",
        "colab": {
          "base_uri": "https://localhost:8080/",
          "height": 34
        }
      },
      "source": [
        "df_clean.shape"
      ],
      "execution_count": 8,
      "outputs": [
        {
          "output_type": "execute_result",
          "data": {
            "text/plain": [
              "(1555, 15)"
            ]
          },
          "metadata": {
            "tags": []
          },
          "execution_count": 8
        }
      ]
    },
    {
      "cell_type": "markdown",
      "metadata": {
        "id": "OHcRmIb78JPc",
        "colab_type": "text"
      },
      "source": [
        "Check number of sample in pelvicme class "
      ]
    },
    {
      "cell_type": "code",
      "metadata": {
        "id": "4QQbuaAY8JPd",
        "colab_type": "code",
        "outputId": "5e477d1a-888c-4edd-a8bb-8160f79d91a1",
        "colab": {
          "base_uri": "https://localhost:8080/",
          "height": 34
        }
      },
      "source": [
        "pel_class = np.unique(df_clean['pmmet'])\n",
        "pel_class"
      ],
      "execution_count": 9,
      "outputs": [
        {
          "output_type": "execute_result",
          "data": {
            "text/plain": [
              "array([0., 1.])"
            ]
          },
          "metadata": {
            "tags": []
          },
          "execution_count": 9
        }
      ]
    },
    {
      "cell_type": "code",
      "metadata": {
        "id": "LctFWu_H8JPf",
        "colab_type": "code",
        "outputId": "fa731b2c-f8ff-43ac-dd0d-f52d4105a31b",
        "colab": {
          "base_uri": "https://localhost:8080/",
          "height": 34
        }
      },
      "source": [
        "pel_value = [sum(df_clean['pmmet']==pel_class[0]),\n",
        "             sum(df_clean['pmmet']==pel_class[1])]\n",
        "pel_value"
      ],
      "execution_count": 10,
      "outputs": [
        {
          "output_type": "execute_result",
          "data": {
            "text/plain": [
              "[1278, 277]"
            ]
          },
          "metadata": {
            "tags": []
          },
          "execution_count": 10
        }
      ]
    },
    {
      "cell_type": "markdown",
      "metadata": {
        "id": "6VJ6Ejg48JPk",
        "colab_type": "text"
      },
      "source": [
        "Separate pelviceme dataset into data (X) and label (y)"
      ]
    },
    {
      "cell_type": "code",
      "metadata": {
        "id": "4Gdtafhe8JPk",
        "colab_type": "code",
        "colab": {}
      },
      "source": [
        "y = df_clean['pmmet'].values\n",
        "X = df_clean.drop(['pmmet'],axis = 1).values"
      ],
      "execution_count": 0,
      "outputs": []
    },
    {
      "cell_type": "markdown",
      "metadata": {
        "id": "NFhEkk8X8JPm",
        "colab_type": "text"
      },
      "source": [
        "Randomly choose 200 samples of class 1 (positive) as training data and the rest as test data"
      ]
    },
    {
      "cell_type": "code",
      "metadata": {
        "id": "XnFz3mek8JPn",
        "colab_type": "code",
        "outputId": "d2592362-1ae5-45cb-af55-b5bc09063728",
        "colab": {
          "base_uri": "https://localhost:8080/",
          "height": 51
        }
      },
      "source": [
        "import random\n",
        "random.seed(1)\n",
        "positive_index = np.where(y==1)[0]\n",
        "negative_index = np.where(y==0)[0]\n",
        "pos_train_index = random.sample(list(positive_index),200)\n",
        "pos_test_index = list(set(positive_index) - set(pos_train_index))\n",
        "\n",
        "print(\"All dataset: \"+str(len(positive_index))+\" \"+str(len(negative_index)))\n",
        "print(\"Positive test dataset: \"+str(len(pos_test_index)))"
      ],
      "execution_count": 12,
      "outputs": [
        {
          "output_type": "stream",
          "text": [
            "All dataset: 277 1278\n",
            "Positive test dataset: 77\n"
          ],
          "name": "stdout"
        }
      ]
    },
    {
      "cell_type": "markdown",
      "metadata": {
        "id": "bb3---1e8JPo",
        "colab_type": "text"
      },
      "source": [
        "Randomly separate negative dataset into 5 parts to create 5 training datasets consisted of 200 samples"
      ]
    },
    {
      "cell_type": "code",
      "metadata": {
        "id": "TpCeL8Jz8JPp",
        "colab_type": "code",
        "outputId": "fd5750e5-44de-43df-9487-8e2adbedd956",
        "colab": {
          "base_uri": "https://localhost:8080/",
          "height": 34
        }
      },
      "source": [
        "neg_train_index1 = random.sample(list(negative_index),200)\n",
        "neg_tmp_index = list(set(negative_index) - set(neg_train_index1))\n",
        "\n",
        "neg_train_index2 = random.sample(list(neg_tmp_index),200)\n",
        "neg_tmp_index = list(set(neg_tmp_index) - set(neg_train_index2))\n",
        "\n",
        "neg_train_index3 = random.sample(list(neg_tmp_index),200)\n",
        "neg_tmp_index = list(set(neg_tmp_index) - set(neg_train_index3))\n",
        "\n",
        "neg_train_index4 = random.sample(list(neg_tmp_index),200)\n",
        "neg_tmp_index = list(set(neg_tmp_index) - set(neg_train_index4))\n",
        "\n",
        "neg_train_index5 = random.sample(list(neg_tmp_index),200)\n",
        "neg_tmp_index = list(set(neg_tmp_index) - set(neg_train_index5))\n",
        "\n",
        "neg_train_index6 = random.sample(list(neg_tmp_index),200)\n",
        "neg_tmp_index = list(set(neg_tmp_index) - set(neg_train_index6))\n",
        "\n",
        "neg_test_index = neg_tmp_index\n",
        "print(\"Negative test dataset: \"+str(len(neg_test_index)))"
      ],
      "execution_count": 13,
      "outputs": [
        {
          "output_type": "stream",
          "text": [
            "Negative test dataset: 78\n"
          ],
          "name": "stdout"
        }
      ]
    },
    {
      "cell_type": "markdown",
      "metadata": {
        "id": "ZCzFlfc58JPq",
        "colab_type": "text"
      },
      "source": [
        "Create 5 training dataset and 1 test dataset"
      ]
    },
    {
      "cell_type": "markdown",
      "metadata": {
        "id": "RDcP1OdWSYZM",
        "colab_type": "text"
      },
      "source": [
        ""
      ]
    },
    {
      "cell_type": "code",
      "metadata": {
        "id": "4LR5IIJ58JPr",
        "colab_type": "code",
        "outputId": "9b267249-f05a-4cb2-e6bc-840595d186a8",
        "colab": {
          "base_uri": "https://localhost:8080/",
          "height": 34
        }
      },
      "source": [
        "X_train1 = np.concatenate((X[neg_train_index1,:],X[pos_train_index,:]),axis=0)\n",
        "y_train1 = np.concatenate((y[neg_train_index1],y[pos_train_index]),axis=0)\n",
        "\n",
        "X_train2 = np.concatenate((X[neg_train_index2,:],X[pos_train_index,:]),axis=0)\n",
        "y_train2 = np.concatenate((y[neg_train_index2],y[pos_train_index]),axis=0)\n",
        "\n",
        "X_train3 = np.concatenate((X[neg_train_index3,:],X[pos_train_index,:]),axis=0)\n",
        "y_train3 = np.concatenate((y[neg_train_index3],y[pos_train_index]),axis=0)\n",
        "\n",
        "X_train4 = np.concatenate((X[neg_train_index4,:],X[pos_train_index,:]),axis=0)\n",
        "y_train4 = np.concatenate((y[neg_train_index4],y[pos_train_index]),axis=0)\n",
        "\n",
        "X_train5 = np.concatenate((X[neg_train_index5,:],X[pos_train_index,:]),axis=0)\n",
        "y_train5 = np.concatenate((y[neg_train_index5],y[pos_train_index]),axis=0)\n",
        "\n",
        "X_train6 = np.concatenate((X[neg_train_index6,:],X[pos_train_index,:]),axis=0)\n",
        "y_train6 = np.concatenate((y[neg_train_index6],y[pos_train_index]),axis=0)\n",
        "\n",
        "X_train6.shape, y_train6.shape"
      ],
      "execution_count": 15,
      "outputs": [
        {
          "output_type": "execute_result",
          "data": {
            "text/plain": [
              "((400, 14), (400,))"
            ]
          },
          "metadata": {
            "tags": []
          },
          "execution_count": 15
        }
      ]
    },
    {
      "cell_type": "code",
      "metadata": {
        "id": "n5hQ5N618JPt",
        "colab_type": "code",
        "outputId": "6af34a50-b15b-4fb8-8318-63b08d45d9be",
        "colab": {
          "base_uri": "https://localhost:8080/",
          "height": 34
        }
      },
      "source": [
        "X_test = np.concatenate((X[neg_test_index,:],X[pos_test_index,:]),axis=0)\n",
        "y_test = np.concatenate((y[neg_test_index],y[pos_test_index]),axis=0)\n",
        "X_test.shape, y_test.shape"
      ],
      "execution_count": 16,
      "outputs": [
        {
          "output_type": "execute_result",
          "data": {
            "text/plain": [
              "((155, 14), (155,))"
            ]
          },
          "metadata": {
            "tags": []
          },
          "execution_count": 16
        }
      ]
    },
    {
      "cell_type": "markdown",
      "metadata": {
        "id": "ZgKGb8HK8JPv",
        "colab_type": "text"
      },
      "source": [
        "Data normalization to range of (0 to 1)"
      ]
    },
    {
      "cell_type": "code",
      "metadata": {
        "id": "wmkv5Op98JPv",
        "colab_type": "code",
        "colab": {}
      },
      "source": [
        "from sklearn.preprocessing import MinMaxScaler\n",
        "alltrain = np.concatenate((X_train1,X_train2,X_train3,X_train4,X_train5,X_train6),axis=0)\n",
        "scaler = MinMaxScaler(feature_range=(0, 1))\n",
        "scaler.fit(alltrain)\n",
        "X_train_norm1 = scaler.transform(X_train1)\n",
        "X_train_norm2 = scaler.transform(X_train2)\n",
        "X_train_norm3 = scaler.transform(X_train3)\n",
        "X_train_norm4 = scaler.transform(X_train4)\n",
        "X_train_norm5 = scaler.transform(X_train5)\n",
        "X_train_norm6 = scaler.transform(X_train6)\n",
        "X_test_norm = scaler.transform(X_test)"
      ],
      "execution_count": 0,
      "outputs": []
    },
    {
      "cell_type": "markdown",
      "metadata": {
        "id": "vIohrB1DCyQS",
        "colab_type": "text"
      },
      "source": [
        "# Load Blind Test"
      ]
    },
    {
      "cell_type": "code",
      "metadata": {
        "id": "zeW-r6UEC03N",
        "colab_type": "code",
        "colab": {
          "base_uri": "https://localhost:8080/",
          "height": 34
        },
        "outputId": "97fadc74-81b5-4082-c4e0-c6da7aec6d19"
      },
      "source": [
        "df = pd.read_csv('https://raw.githubusercontent.com/plenoi/Clinic/master/Blind.csv')\n",
        "df = df.set_index('hn')\n",
        "df_clean_column = df.drop(['appearance','Wardsize','RHlvsi','depth','nodeyiel','vgmargin','pelvicme','adnmet'],axis = 1)\n",
        "df_clean = df_clean_column.dropna(axis = 0)\n",
        "y_blind = df_clean['pmmet'].values\n",
        "X_blind = df_clean.drop(['pmmet'],axis = 1).values\n",
        "\n",
        "pel_class = np.unique(df_clean['pmmet'])\n",
        "pel_value = [sum(df_clean['pmmet']==pel_class[0]),\n",
        "             sum(df_clean['pmmet']==pel_class[1])]\n",
        "pel_value\n"
      ],
      "execution_count": 25,
      "outputs": [
        {
          "output_type": "execute_result",
          "data": {
            "text/plain": [
              "[96, 43]"
            ]
          },
          "metadata": {
            "tags": []
          },
          "execution_count": 25
        }
      ]
    },
    {
      "cell_type": "markdown",
      "metadata": {
        "id": "W_TJBQK9C2Cv",
        "colab_type": "text"
      },
      "source": [
        "Data normalization using same scale"
      ]
    },
    {
      "cell_type": "code",
      "metadata": {
        "id": "U1IiFfFLC1Fw",
        "colab_type": "code",
        "colab": {}
      },
      "source": [
        "X_blind_norm = scaler.transform(X_blind)"
      ],
      "execution_count": 0,
      "outputs": []
    },
    {
      "cell_type": "markdown",
      "metadata": {
        "id": "cpFA7Afx8JPy",
        "colab_type": "text"
      },
      "source": [
        "# Logistic Regression "
      ]
    },
    {
      "cell_type": "markdown",
      "metadata": {
        "id": "pEC9r99f8JP0",
        "colab_type": "text"
      },
      "source": [
        "10-Folds Cross Validation Training Accuracy with Tuning"
      ]
    },
    {
      "cell_type": "code",
      "metadata": {
        "id": "wtagYOLw8JP0",
        "colab_type": "code",
        "outputId": "26184273-c5f5-42d3-a278-f2b8de29d460",
        "colab": {
          "base_uri": "https://localhost:8080/",
          "height": 50
        }
      },
      "source": [
        "from sklearn.linear_model import LogisticRegression\n",
        "from sklearn.model_selection import GridSearchCV\n",
        "\n",
        "params = {'C': [1, 2, 4, 8, 16]}\n",
        "clf = GridSearchCV(LogisticRegression(random_state=0, solver='liblinear'),params, cv=10)\n",
        "clf.fit(X_train_norm, y_train)\n",
        "print(\"Best params : \" + str(clf.best_params_))\n",
        "print(\"10CV accuracy : \"+str(clf.best_score_*100))"
      ],
      "execution_count": 0,
      "outputs": [
        {
          "output_type": "stream",
          "text": [
            "Best params : {'C': 2}\n",
            "10CV accuracy : 71.0\n"
          ],
          "name": "stdout"
        }
      ]
    },
    {
      "cell_type": "markdown",
      "metadata": {
        "id": "1TzTClfO8JP3",
        "colab_type": "text"
      },
      "source": [
        "Test Accuracy"
      ]
    },
    {
      "cell_type": "code",
      "metadata": {
        "scrolled": true,
        "id": "HhOEcwrg8JP3",
        "colab_type": "code",
        "outputId": "5747ffcd-6a65-4721-e737-b9458eeda6ff",
        "colab": {
          "base_uri": "https://localhost:8080/",
          "height": 33
        }
      },
      "source": [
        "from sklearn.metrics import classification_report\n",
        "from sklearn.metrics import confusion_matrix\n",
        "y_predict = clf.predict(X_test_norm)\n",
        "print(\"Test accuracy : \"+str(sum(y_test == y_predict)/len(y_test)*100))"
      ],
      "execution_count": 0,
      "outputs": [
        {
          "output_type": "stream",
          "text": [
            "Test accuracy : 72.90322580645162\n"
          ],
          "name": "stdout"
        }
      ]
    },
    {
      "cell_type": "code",
      "metadata": {
        "id": "U1j5UvWw8JP5",
        "colab_type": "code",
        "outputId": "36a761db-f155-460c-95c5-e4503cc0fd16",
        "colab": {
          "base_uri": "https://localhost:8080/",
          "height": 282
        }
      },
      "source": [
        "from sklearn.metrics import confusion_matrix\n",
        "import matplotlib.pyplot as plt\n",
        "import seaborn as sns\n",
        "target_names = ['negative', 'positive']\n",
        "C = confusion_matrix(y_test,y_predict) \n",
        "#C = C / C.astype(np.float).sum(axis=1)*100\n",
        "sns.heatmap(C, annot=True, fmt=\"d\",cmap=\"GnBu\",xticklabels=target_names, yticklabels=target_names)\n",
        "plt.ylabel(\"True Label\")\n",
        "plt.xlabel(\"Predicted Label\")\n",
        "plt.show()"
      ],
      "execution_count": 0,
      "outputs": [
        {
          "output_type": "display_data",
          "data": {
            "image/png": "[encoded data removed]",
            "text/plain": [
              "<Figure size 432x288 with 2 Axes>"
            ]
          },
          "metadata": {
            "tags": []
          }
        }
      ]
    },
    {
      "cell_type": "markdown",
      "metadata": {
        "id": "icsS2l7yS3Ke",
        "colab_type": "text"
      },
      "source": [
        "The precision is the ratio tp / (tp + fp). The precision is the ability of the classifier not to label as positive a sample that is negative.\n",
        "\n",
        "The recall is the ratio tp / (tp + fn). The recall is the ability of the classifier to find all the positive samples.\n",
        "\n",
        "The F score can be interpreted as a weighted harmonic mean of the precision and recall, where an F-beta score reaches its best value at 1 and worst score at 0.\n",
        "\n",
        "The support is the number of occurrences of each class in y_true."
      ]
    },
    {
      "cell_type": "code",
      "metadata": {
        "id": "ZUQXjLDe8JP6",
        "colab_type": "code",
        "outputId": "176247ad-3c37-4427-a87c-fef2dc779f81",
        "colab": {
          "base_uri": "https://localhost:8080/",
          "height": 163
        }
      },
      "source": [
        "print(classification_report(y_test, y_predict, target_names=target_names))"
      ],
      "execution_count": 0,
      "outputs": [
        {
          "output_type": "stream",
          "text": [
            "              precision    recall  f1-score   support\n",
            "\n",
            "    negative       0.80      0.62      0.70        78\n",
            "    positive       0.68      0.84      0.76        77\n",
            "\n",
            "    accuracy                           0.73       155\n",
            "   macro avg       0.74      0.73      0.73       155\n",
            "weighted avg       0.74      0.73      0.73       155\n",
            "\n"
          ],
          "name": "stdout"
        }
      ]
    },
    {
      "cell_type": "markdown",
      "metadata": {
        "id": "fqDI1JlmZat7",
        "colab_type": "text"
      },
      "source": [
        "#SGD Classifier\n",
        "10-Folds Cross Validation Training Accuracy with Tuning"
      ]
    },
    {
      "cell_type": "code",
      "metadata": {
        "id": "VGvBrm6SZbGw",
        "colab_type": "code",
        "outputId": "21531334-5e19-456a-cb57-0c8c79856eff",
        "colab": {
          "base_uri": "https://localhost:8080/",
          "height": 51
        }
      },
      "source": [
        "from sklearn.linear_model import SGDClassifier\n",
        "from sklearn.model_selection import GridSearchCV\n",
        "\n",
        "params = {\n",
        "    'loss' : ['hinge', 'log','modified_huber','squared_hinge', 'perceptron'],\n",
        "    'penalty' : ['l2', 'l1', 'none', 'elasticnet'],\n",
        "    'alpha' : [0.0001, 0.001, 0.01, 0.1],\n",
        "    'eta0' : [0.001, 0.01, 0.1],\n",
        "    'l1_ratio' : [0.1, 0.2, 0.3,0.4,0.5,0.6,0.7,0.8, 0.9]\n",
        "}\n",
        "clf = GridSearchCV(SGDClassifier(random_state=0,max_iter=1000,learning_rate='constant', eta0 = 0.0001),params, cv=10)\n",
        "clf.fit(X_train_norm, y_train)\n",
        "print(\"Best params : \" + str(clf.best_params_))\n",
        "print(\"10CV accuracy : \"+str(clf.best_score_))"
      ],
      "execution_count": 0,
      "outputs": [
        {
          "output_type": "stream",
          "text": [
            "Best params : {'alpha': 0.0001, 'eta0': 0.1, 'l1_ratio': 0.8, 'loss': 'hinge', 'penalty': 'elasticnet'}\n",
            "10CV accuracy : 0.74\n"
          ],
          "name": "stdout"
        }
      ]
    },
    {
      "cell_type": "markdown",
      "metadata": {
        "id": "EtJH6iOFDBDG",
        "colab_type": "text"
      },
      "source": [
        "Test Accuracy"
      ]
    },
    {
      "cell_type": "code",
      "metadata": {
        "id": "Vlx7BzobDC4o",
        "colab_type": "code",
        "outputId": "b740379e-6bb8-4671-88f0-5400a2808ac3",
        "colab": {
          "base_uri": "https://localhost:8080/",
          "height": 34
        }
      },
      "source": [
        "from sklearn.metrics import classification_report\n",
        "from sklearn.metrics import confusion_matrix\n",
        "y_predict = clf.predict(X_test_norm)\n",
        "print(\"Test accuracy : \"+str(sum(y_test == y_predict)/len(y_test)*100))"
      ],
      "execution_count": 0,
      "outputs": [
        {
          "output_type": "stream",
          "text": [
            "Test accuracy : 72.90322580645162\n"
          ],
          "name": "stdout"
        }
      ]
    },
    {
      "cell_type": "code",
      "metadata": {
        "id": "virBSM-lDUs2",
        "colab_type": "code",
        "outputId": "47b57532-badc-4f65-c274-ff106a61dd1a",
        "colab": {
          "base_uri": "https://localhost:8080/",
          "height": 283
        }
      },
      "source": [
        "from sklearn.metrics import confusion_matrix\n",
        "import matplotlib.pyplot as plt\n",
        "import seaborn as sns\n",
        "target_names = ['negative', 'positive']\n",
        "C = confusion_matrix(y_test,y_predict) \n",
        "#C = C / C.astype(np.float).sum(axis=1)*100\n",
        "sns.heatmap(C, annot=True, fmt=\"d\",cmap=\"GnBu\",xticklabels=target_names, yticklabels=target_names)\n",
        "plt.ylabel(\"True Label\")\n",
        "plt.xlabel(\"Predicted Label\")\n",
        "plt.show()"
      ],
      "execution_count": 0,
      "outputs": [
        {
          "output_type": "display_data",
          "data": {
            "image/png": "[encoded data removed]",
            "text/plain": [
              "<Figure size 432x288 with 2 Axes>"
            ]
          },
          "metadata": {
            "tags": []
          }
        }
      ]
    },
    {
      "cell_type": "markdown",
      "metadata": {
        "id": "7yZrHa4ZDWkX",
        "colab_type": "text"
      },
      "source": [
        "The precision is the ratio tp / (tp + fp). The precision is the ability of the classifier not to label as positive a sample that is negative.\n",
        "\n",
        "The recall is the ratio tp / (tp + fn). The recall is the ability of the classifier to find all the positive samples.\n",
        "\n",
        "The F score can be interpreted as a weighted harmonic mean of the precision and recall, where an F-beta score reaches its best value at 1 and worst score at 0.\n",
        "\n",
        "The support is the number of occurrences of each class in y_true."
      ]
    },
    {
      "cell_type": "code",
      "metadata": {
        "id": "sanoTnPqDW6G",
        "colab_type": "code",
        "outputId": "e330973d-cb99-4998-8814-95498ab3a623",
        "colab": {
          "base_uri": "https://localhost:8080/",
          "height": 170
        }
      },
      "source": [
        "print(classification_report(y_test, y_predict, target_names=target_names))"
      ],
      "execution_count": 0,
      "outputs": [
        {
          "output_type": "stream",
          "text": [
            "              precision    recall  f1-score   support\n",
            "\n",
            "    negative       0.79      0.63      0.70        78\n",
            "    positive       0.69      0.83      0.75        77\n",
            "\n",
            "    accuracy                           0.73       155\n",
            "   macro avg       0.74      0.73      0.73       155\n",
            "weighted avg       0.74      0.73      0.73       155\n",
            "\n"
          ],
          "name": "stdout"
        }
      ]
    },
    {
      "cell_type": "markdown",
      "metadata": {
        "id": "83TUQPbu8JP8",
        "colab_type": "text"
      },
      "source": [
        "# Support Vector Machine"
      ]
    },
    {
      "cell_type": "markdown",
      "metadata": {
        "id": "cB-9M8468JP9",
        "colab_type": "text"
      },
      "source": [
        "10-Folds Cross Validation Training Accuracy"
      ]
    },
    {
      "cell_type": "code",
      "metadata": {
        "id": "SVtRIhLf8JP9",
        "colab_type": "code",
        "outputId": "72bd405f-3033-4af5-efdf-060facb56d3a",
        "colab": {
          "base_uri": "https://localhost:8080/",
          "height": 51
        }
      },
      "source": [
        "from sklearn.svm import SVC\n",
        "from sklearn.model_selection import GridSearchCV\n",
        "params = {\n",
        "    'C' : [1,2,4,8,16,32], # High C = Overfitting\n",
        "    'gamma' : [0.03125, 0.0625, 0.125, 0.25, 0.5, 1, 2, 4, 8, 16, 32] # High gamma = Overfitting\n",
        "}\n",
        "clf = GridSearchCV(SVC(),params, cv=10)\n",
        "clf.fit(X_train_norm, y_train)\n",
        "print(\"Best params : \" + str(clf.best_params_))\n",
        "print(\"10CV accuracy : \"+str(clf.best_score_*100))"
      ],
      "execution_count": 0,
      "outputs": [
        {
          "output_type": "stream",
          "text": [
            "Best params : {'C': 16, 'gamma': 0.125}\n",
            "10CV accuracy : 74.25\n"
          ],
          "name": "stdout"
        }
      ]
    },
    {
      "cell_type": "markdown",
      "metadata": {
        "id": "NsybCHdK8JP_",
        "colab_type": "text"
      },
      "source": [
        "Test Accuracy"
      ]
    },
    {
      "cell_type": "code",
      "metadata": {
        "id": "XJ0XGMYp8JP_",
        "colab_type": "code",
        "outputId": "a869883c-c930-41f8-e8a0-54906cb7d20b",
        "colab": {
          "base_uri": "https://localhost:8080/",
          "height": 34
        }
      },
      "source": [
        "from sklearn.metrics import classification_report\n",
        "from sklearn.metrics import confusion_matrix\n",
        "y_predict = clf.predict(X_test_norm)\n",
        "target_names = ['negative', 'positive']\n",
        "sum(y_test == y_predict)/len(y_test)"
      ],
      "execution_count": 0,
      "outputs": [
        {
          "output_type": "execute_result",
          "data": {
            "text/plain": [
              "0.7225806451612903"
            ]
          },
          "metadata": {
            "tags": []
          },
          "execution_count": 26
        }
      ]
    },
    {
      "cell_type": "code",
      "metadata": {
        "id": "C--oj8zn8JQB",
        "colab_type": "code",
        "outputId": "618302e5-bde5-4ea1-88b4-2a4fe22217fc",
        "colab": {
          "base_uri": "https://localhost:8080/",
          "height": 283
        }
      },
      "source": [
        "from sklearn.metrics import confusion_matrix\n",
        "import matplotlib.pyplot as plt\n",
        "import seaborn as sns\n",
        "target_names = ['negative', 'positive']\n",
        "C = confusion_matrix(y_test,y_predict) \n",
        "C = C / C.astype(np.float).sum(axis=1)*100\n",
        "sns.heatmap(C, annot=True, fmt=\".2f\",cmap=\"GnBu\",xticklabels=target_names, yticklabels=target_names)\n",
        "plt.ylabel(\"True Label\")\n",
        "plt.xlabel(\"Predicted Label\")\n",
        "plt.show()"
      ],
      "execution_count": 0,
      "outputs": [
        {
          "output_type": "display_data",
          "data": {
            "image/png": "[encoded data removed]",
            "text/plain": [
              "<Figure size 432x288 with 2 Axes>"
            ]
          },
          "metadata": {
            "tags": []
          }
        }
      ]
    },
    {
      "cell_type": "code",
      "metadata": {
        "id": "v8NLTtRz8JQC",
        "colab_type": "code",
        "outputId": "23a8bb4d-b821-4aad-e6cb-4e8f2bcace77",
        "colab": {
          "base_uri": "https://localhost:8080/",
          "height": 170
        }
      },
      "source": [
        "print(classification_report(y_test, y_predict, target_names=target_names))"
      ],
      "execution_count": 0,
      "outputs": [
        {
          "output_type": "stream",
          "text": [
            "              precision    recall  f1-score   support\n",
            "\n",
            "    negative       0.78      0.63      0.70        78\n",
            "    positive       0.68      0.82      0.75        77\n",
            "\n",
            "    accuracy                           0.72       155\n",
            "   macro avg       0.73      0.72      0.72       155\n",
            "weighted avg       0.73      0.72      0.72       155\n",
            "\n"
          ],
          "name": "stdout"
        }
      ]
    },
    {
      "cell_type": "markdown",
      "metadata": {
        "id": "SDlmx5yk8JQF",
        "colab_type": "text"
      },
      "source": [
        "# Random Forest"
      ]
    },
    {
      "cell_type": "markdown",
      "metadata": {
        "id": "VtXkXkoc8JQF",
        "colab_type": "text"
      },
      "source": [
        "10-Folds Cross Validation Training Accuracy"
      ]
    },
    {
      "cell_type": "code",
      "metadata": {
        "id": "9hBNax_o8JQG",
        "colab_type": "code",
        "outputId": "87b5bb59-97a4-4db3-dab0-fe291dc9f63b",
        "colab": {
          "base_uri": "https://localhost:8080/",
          "height": 51
        }
      },
      "source": [
        "from sklearn.ensemble import RandomForestClassifier\n",
        "from sklearn.model_selection import GridSearchCV\n",
        "params = {\n",
        "    'n_estimators' : [10,50,100,200,500],\n",
        "    'min_samples_leaf' : [1,2,4,8,16,32],\n",
        "    'max_features' : ['sqrt',0.5,0.8],\n",
        "    'criterion' : ['gini','entropy']\n",
        "}\n",
        "clf = GridSearchCV(RandomForestClassifier(random_state=0),params, cv = 10)\n",
        "clf.fit(X_train_norm, y_train)\n",
        "print(\"Best params : \" + str(clf.best_params_))\n",
        "print(\"10CV accuracy : \"+str(clf.best_score_*100))"
      ],
      "execution_count": 0,
      "outputs": [
        {
          "output_type": "stream",
          "text": [
            "Best params : {'criterion': 'gini', 'max_features': 'sqrt', 'min_samples_leaf': 8, 'n_estimators': 100}\n",
            "10CV accuracy : 75.0\n"
          ],
          "name": "stdout"
        }
      ]
    },
    {
      "cell_type": "markdown",
      "metadata": {
        "id": "ysu3HGiI8JQJ",
        "colab_type": "text"
      },
      "source": [
        "Test Accuracy"
      ]
    },
    {
      "cell_type": "code",
      "metadata": {
        "id": "dhvwH76Z8JQK",
        "colab_type": "code",
        "outputId": "6e9cf8c3-1576-45d9-cd6f-a39c47317329",
        "colab": {
          "base_uri": "https://localhost:8080/",
          "height": 34
        }
      },
      "source": [
        "from sklearn.metrics import classification_report\n",
        "from sklearn.metrics import confusion_matrix\n",
        "y_predict = clf.predict(X_test_norm)\n",
        "target_names = ['negative', 'positive']\n",
        "sum(y_test == y_predict)/len(y_test)"
      ],
      "execution_count": 0,
      "outputs": [
        {
          "output_type": "execute_result",
          "data": {
            "text/plain": [
              "0.7096774193548387"
            ]
          },
          "metadata": {
            "tags": []
          },
          "execution_count": 32
        }
      ]
    },
    {
      "cell_type": "code",
      "metadata": {
        "id": "BY-ZyplN8JQL",
        "colab_type": "code",
        "outputId": "07d29e68-5883-407c-d529-340efccbc503",
        "colab": {
          "base_uri": "https://localhost:8080/",
          "height": 283
        }
      },
      "source": [
        "from sklearn.metrics import confusion_matrix\n",
        "import matplotlib.pyplot as plt\n",
        "import seaborn as sns\n",
        "target_names = ['negative', 'positive']\n",
        "C = confusion_matrix(y_test,y_predict) \n",
        "C = C / C.astype(np.float).sum(axis=1)*100\n",
        "sns.heatmap(C, annot=True, fmt=\".2f\",cmap=\"GnBu\",xticklabels=target_names, yticklabels=target_names)\n",
        "plt.ylabel(\"True Label\")\n",
        "plt.xlabel(\"Predicted Label\")\n",
        "plt.show()"
      ],
      "execution_count": 0,
      "outputs": [
        {
          "output_type": "display_data",
          "data": {
            "image/png": "[encoded data removed]",
            "text/plain": [
              "<Figure size 432x288 with 2 Axes>"
            ]
          },
          "metadata": {
            "tags": []
          }
        }
      ]
    },
    {
      "cell_type": "code",
      "metadata": {
        "id": "wwGUP-YJ8JQN",
        "colab_type": "code",
        "outputId": "28f7382e-7fe0-42ce-f92c-01edde49f8c0",
        "colab": {
          "base_uri": "https://localhost:8080/",
          "height": 170
        }
      },
      "source": [
        "print(classification_report(y_test, y_predict, target_names=target_names))"
      ],
      "execution_count": 0,
      "outputs": [
        {
          "output_type": "stream",
          "text": [
            "              precision    recall  f1-score   support\n",
            "\n",
            "    negative       0.77      0.60      0.68        78\n",
            "    positive       0.67      0.82      0.74        77\n",
            "\n",
            "    accuracy                           0.71       155\n",
            "   macro avg       0.72      0.71      0.71       155\n",
            "weighted avg       0.72      0.71      0.71       155\n",
            "\n"
          ],
          "name": "stdout"
        }
      ]
    },
    {
      "cell_type": "markdown",
      "metadata": {
        "id": "LP7YysqP8JQO",
        "colab_type": "text"
      },
      "source": [
        "# XGBoost\n",
        "\n",
        "10-Folds Cross Validation Training Accuracy"
      ]
    },
    {
      "cell_type": "code",
      "metadata": {
        "scrolled": true,
        "id": "8k6aTTLX8JQP",
        "colab_type": "code",
        "outputId": "6508eb7c-91ae-4e66-d4ae-393dcf041be1",
        "colab": {
          "base_uri": "https://localhost:8080/",
          "height": 51
        }
      },
      "source": [
        "#!pip install xgboost  // If you dont have XGBoost\n",
        "import xgboost as xgb\n",
        "from sklearn.model_selection import GridSearchCV\n",
        "params = {\n",
        "    'n_estimators' : [10,50,100,200],\n",
        "    'max_depth' : [2, 4, 8],\n",
        "     'gamma' : [0.03125, 0.0625, 0.125, 0.25, 0.5, 1, 2, 4, 8, 16, 32], # High gamma as much as possible\n",
        "    'learning_rate' : [0.001, 0.01, 0.1],\n",
        "    'minchildweight' : [1,2,4,8,16,32],  # High as much as possible\n",
        "    'subsample' : [0.5,0.8, 1],\n",
        "    'colsample_bytree' : [0.5, 0.8, 1]\n",
        "    #'reg_alpha','reg_lamnda' : [0.0001, 0.001, 0.01, 0.1, 1, 10, 100]  # Only for linear\n",
        "    \n",
        "}\n",
        "clf = GridSearchCV(xgb.XGBClassifier(random_state=0, objective='binary:logistic',n_jobs=-1),params, cv = 10)\n",
        "clf.fit(X_train_norm1, y_train)\n",
        "print(\"Best params : \" + str(clf.best_params_))\n",
        "print(\"10CV accuracy : \"+str(clf.best_score_*100))"
      ],
      "execution_count": 0,
      "outputs": [
        {
          "output_type": "stream",
          "text": [
            "Best params : {'colsample_bytree': 0.5, 'gamma': 0.5, 'learning_rate': 0.1, 'max_depth': 2, 'minchildweight': 1, 'n_estimators': 100, 'subsample': 0.8}\n",
            "10CV accuracy : 76.75\n"
          ],
          "name": "stdout"
        }
      ]
    },
    {
      "cell_type": "markdown",
      "metadata": {
        "id": "rCjZSw3y8JQR",
        "colab_type": "text"
      },
      "source": [
        "Test Accuracy"
      ]
    },
    {
      "cell_type": "code",
      "metadata": {
        "id": "LBzk9b858JQR",
        "colab_type": "code",
        "outputId": "ef64d40b-484d-4a01-a906-3ac35556eed4",
        "colab": {
          "base_uri": "https://localhost:8080/",
          "height": 34
        }
      },
      "source": [
        "from sklearn.metrics import classification_report\n",
        "from sklearn.metrics import confusion_matrix\n",
        "y_predict1 = clf.predict(X_test_norm)\n",
        "target_names = ['negative', 'positive']\n",
        "sum(y_test == y_predict1)/len(y_test)"
      ],
      "execution_count": 0,
      "outputs": [
        {
          "output_type": "execute_result",
          "data": {
            "text/plain": [
              "0.7161290322580646"
            ]
          },
          "metadata": {
            "tags": []
          },
          "execution_count": 19
        }
      ]
    },
    {
      "cell_type": "code",
      "metadata": {
        "scrolled": true,
        "id": "udIynozx8JQT",
        "colab_type": "code",
        "outputId": "834a2d42-3d17-4465-dd2d-186e8e0638ce",
        "colab": {
          "base_uri": "https://localhost:8080/",
          "height": 283
        }
      },
      "source": [
        "from sklearn.metrics import confusion_matrix\n",
        "import matplotlib.pyplot as plt\n",
        "import seaborn as sns\n",
        "target_names = ['negative', 'positive']\n",
        "C = confusion_matrix(y_test,y_predict1) \n",
        "C = C / C.astype(np.float).sum(axis=1)*100\n",
        "sns.heatmap(C, annot=True, fmt=\".2f\",cmap=\"GnBu\",xticklabels=target_names, yticklabels=target_names)\n",
        "plt.ylabel(\"True Label\")\n",
        "plt.xlabel(\"Predicted Label\")\n",
        "plt.show()"
      ],
      "execution_count": 0,
      "outputs": [
        {
          "output_type": "display_data",
          "data": {
            "image/png": "[encoded data removed]",
            "text/plain": [
              "<Figure size 432x288 with 2 Axes>"
            ]
          },
          "metadata": {
            "tags": []
          }
        }
      ]
    },
    {
      "cell_type": "code",
      "metadata": {
        "id": "Z6GyVYcE8JQV",
        "colab_type": "code",
        "outputId": "fa7b45ea-b0a6-4c5e-fdb4-6fd83668a610",
        "colab": {
          "base_uri": "https://localhost:8080/",
          "height": 170
        }
      },
      "source": [
        "print(classification_report(y_test, y_predict1, target_names=target_names))"
      ],
      "execution_count": 0,
      "outputs": [
        {
          "output_type": "stream",
          "text": [
            "              precision    recall  f1-score   support\n",
            "\n",
            "    negative       0.76      0.64      0.69        78\n",
            "    positive       0.69      0.79      0.73        77\n",
            "\n",
            "    accuracy                           0.72       155\n",
            "   macro avg       0.72      0.72      0.71       155\n",
            "weighted avg       0.72      0.72      0.71       155\n",
            "\n"
          ],
          "name": "stdout"
        }
      ]
    },
    {
      "cell_type": "markdown",
      "metadata": {
        "id": "KGawdzqGHuvG",
        "colab_type": "text"
      },
      "source": [
        "# XGBoost Model 2"
      ]
    },
    {
      "cell_type": "code",
      "metadata": {
        "id": "kXvhAQsZHt8Z",
        "colab_type": "code",
        "outputId": "d788acfc-c878-47f0-9832-a31a94c3024e",
        "colab": {
          "base_uri": "https://localhost:8080/",
          "height": 51
        }
      },
      "source": [
        "#!pip install xgboost  // If you dont have XGBoost\n",
        "import xgboost as xgb\n",
        "from sklearn.model_selection import GridSearchCV\n",
        "params = {\n",
        "    'n_estimators' : [10,50,100,200],\n",
        "    'max_depth' : [2, 4, 8],\n",
        "     'gamma' : [0.03125, 0.0625, 0.125, 0.25, 0.5, 1, 2, 4, 8, 16, 32], # High gamma as much as possible\n",
        "    'learning_rate' : [0.001, 0.01, 0.1],\n",
        "    'minchildweight' : [1,2,4,8,16,32],  # High as much as possible\n",
        "    'subsample' : [0.5,0.8, 1],\n",
        "    'colsample_bytree' : [0.5, 0.8, 1]\n",
        "    #'reg_alpha','reg_lamnda' : [0.0001, 0.001, 0.01, 0.1, 1, 10, 100]  # Only for linear\n",
        "    \n",
        "}\n",
        "clf = GridSearchCV(xgb.XGBClassifier(random_state=0, objective='binary:logistic'),params, cv = 10)\n",
        "clf.fit(X_train_norm2, y_train2)\n",
        "print(\"Best params : \" + str(clf.best_params_))\n",
        "print(\"10CV accuracy : \"+str(clf.best_score_*100))\n"
      ],
      "execution_count": 0,
      "outputs": [
        {
          "output_type": "stream",
          "text": [
            "Best params : {'colsample_bytree': 0.5, 'gamma': 0.0625, 'learning_rate': 0.1, 'max_depth': 8, 'minchildweight': 1, 'n_estimators': 50, 'subsample': 0.5}\n",
            "10CV accuracy : 75.75\n"
          ],
          "name": "stdout"
        }
      ]
    },
    {
      "cell_type": "code",
      "metadata": {
        "id": "MVvRtxDxdLKG",
        "colab_type": "code",
        "outputId": "c84a5f58-d310-4693-90f8-9fc9f7ccb521",
        "colab": {
          "base_uri": "https://localhost:8080/",
          "height": 34
        }
      },
      "source": [
        "from sklearn.metrics import classification_report\n",
        "from sklearn.metrics import confusion_matrix\n",
        "y_predict2 = clf.predict(X_test_norm)\n",
        "target_names = ['negative', 'positive']\n",
        "sum(y_test == y_predict2)/len(y_test)"
      ],
      "execution_count": 0,
      "outputs": [
        {
          "output_type": "execute_result",
          "data": {
            "text/plain": [
              "0.7032258064516129"
            ]
          },
          "metadata": {
            "tags": []
          },
          "execution_count": 17
        }
      ]
    },
    {
      "cell_type": "code",
      "metadata": {
        "id": "hXF9ri8idLU3",
        "colab_type": "code",
        "outputId": "271dd2d5-2c11-45ce-ac69-a215b95bb004",
        "colab": {
          "base_uri": "https://localhost:8080/",
          "height": 283
        }
      },
      "source": [
        "from sklearn.metrics import confusion_matrix\n",
        "import matplotlib.pyplot as plt\n",
        "import seaborn as sns\n",
        "target_names = ['negative', 'positive']\n",
        "C = confusion_matrix(y_test,y_predict2) \n",
        "C = C / C.astype(np.float).sum(axis=1)*100\n",
        "sns.heatmap(C, annot=True, fmt=\".2f\",cmap=\"GnBu\",xticklabels=target_names, yticklabels=target_names)\n",
        "plt.ylabel(\"True Label\")\n",
        "plt.xlabel(\"Predicted Label\")\n",
        "plt.show()"
      ],
      "execution_count": 0,
      "outputs": [
        {
          "output_type": "display_data",
          "data": {
            "image/png": "[encoded data removed]",
            "text/plain": [
              "<Figure size 432x288 with 2 Axes>"
            ]
          },
          "metadata": {
            "tags": []
          }
        }
      ]
    },
    {
      "cell_type": "markdown",
      "metadata": {
        "id": "Zpj-c6NowXWk",
        "colab_type": "text"
      },
      "source": [
        "# Deep Learning"
      ]
    },
    {
      "cell_type": "markdown",
      "metadata": {
        "id": "QQSupzLuyrcJ",
        "colab_type": "text"
      },
      "source": [
        "Install Tensorflow 2.0, if you dont have it, pls uncomment"
      ]
    },
    {
      "cell_type": "code",
      "metadata": {
        "id": "apfoJf7KwjCx",
        "colab_type": "code",
        "colab": {}
      },
      "source": [
        "#!pip install tensorflow==2.0.0-beta1\n",
        "import tensorflow as tf"
      ],
      "execution_count": 0,
      "outputs": []
    },
    {
      "cell_type": "markdown",
      "metadata": {
        "id": "wFIQ4e9By39Q",
        "colab_type": "text"
      },
      "source": [
        "Create Deep Learning Model \n",
        "Using Sequential = Feed-Forward Model\n",
        "1. The first hidden layer contains 16 hidden nodes connected to input layers with 18 nodes corresponding to number of features\n",
        "2. Other layers is chosen based on 2^1, 2^2, 2^3 concept with 'relu' activation function\n",
        "3. Output layer is sigmoid because it can output value which is close 0 and 1 (Binary Class)"
      ]
    },
    {
      "cell_type": "code",
      "metadata": {
        "id": "PYWq1QcjxVVn",
        "colab_type": "code",
        "outputId": "19165452-bbb8-4030-8178-ac7e13317bd0",
        "colab": {
          "base_uri": "https://localhost:8080/",
          "height": 394
        }
      },
      "source": [
        "model = tf.keras.models.Sequential([\n",
        "  tf.keras.layers.Dense(16, activation='relu', input_shape=(14,)),\n",
        "  tf.keras.layers.Dense(8, activation='relu'),\n",
        "  tf.keras.layers.Dense(4, activation='relu'),\n",
        "  tf.keras.layers.Dense(2, activation='relu'),\n",
        "  tf.keras.layers.Dense(1, activation='sigmoid')    \n",
        "])\n",
        "model.summary()"
      ],
      "execution_count": 19,
      "outputs": [
        {
          "output_type": "stream",
          "text": [
            "WARNING:tensorflow:From /usr/local/lib/python3.6/dist-packages/tensorflow/python/ops/init_ops.py:1251: calling VarianceScaling.__init__ (from tensorflow.python.ops.init_ops) with dtype is deprecated and will be removed in a future version.\n",
            "Instructions for updating:\n",
            "Call initializer instance with the dtype argument instead of passing it to the constructor\n",
            "Model: \"sequential\"\n",
            "_________________________________________________________________\n",
            "Layer (type)                 Output Shape              Param #   \n",
            "=================================================================\n",
            "dense (Dense)                (None, 16)                240       \n",
            "_________________________________________________________________\n",
            "dense_1 (Dense)              (None, 8)                 136       \n",
            "_________________________________________________________________\n",
            "dense_2 (Dense)              (None, 4)                 36        \n",
            "_________________________________________________________________\n",
            "dense_3 (Dense)              (None, 2)                 10        \n",
            "_________________________________________________________________\n",
            "dense_4 (Dense)              (None, 1)                 3         \n",
            "=================================================================\n",
            "Total params: 425\n",
            "Trainable params: 425\n",
            "Non-trainable params: 0\n",
            "_________________________________________________________________\n"
          ],
          "name": "stdout"
        }
      ]
    },
    {
      "cell_type": "markdown",
      "metadata": {
        "id": "Q1HIk3Vbz8O5",
        "colab_type": "text"
      },
      "source": [
        "Set up Optimizer to 'adam' with is argubly the best one now, the loss function is set to binary_crossentropy (Binary Classification)"
      ]
    },
    {
      "cell_type": "code",
      "metadata": {
        "id": "mmgpa6cVz_G0",
        "colab_type": "code",
        "colab": {
          "base_uri": "https://localhost:8080/",
          "height": 88
        },
        "outputId": "bac4e296-2fa6-46e8-9e38-7a0fadebe72a"
      },
      "source": [
        "model.compile(optimizer='adam', loss='binary_crossentropy', metrics=['accuracy'])"
      ],
      "execution_count": 20,
      "outputs": [
        {
          "output_type": "stream",
          "text": [
            "WARNING:tensorflow:From /usr/local/lib/python3.6/dist-packages/tensorflow/python/ops/nn_impl.py:180: add_dispatch_support.<locals>.wrapper (from tensorflow.python.ops.array_ops) is deprecated and will be removed in a future version.\n",
            "Instructions for updating:\n",
            "Use tf.where in 2.0, which has the same broadcast rule as np.where\n"
          ],
          "name": "stdout"
        }
      ]
    },
    {
      "cell_type": "markdown",
      "metadata": {
        "id": "ufIG52Wj0dwp",
        "colab_type": "text"
      },
      "source": [
        "Train model around 20 epochs with batchsize 20\n"
      ]
    },
    {
      "cell_type": "code",
      "metadata": {
        "id": "rYQMmo_A0swm",
        "colab_type": "code",
        "outputId": "040a02fa-7d7a-4922-eb0a-047282bdbdbf",
        "colab": {
          "base_uri": "https://localhost:8080/",
          "height": 138
        }
      },
      "source": [
        "model.fit(X_train_norm, y_train, epochs=3, batch_size=20)"
      ],
      "execution_count": 0,
      "outputs": [
        {
          "output_type": "stream",
          "text": [
            "Epoch 1/3\n",
            "400/400 [==============================] - 0s 74us/sample - loss: 0.6211 - acc: 0.7150\n",
            "Epoch 2/3\n",
            "400/400 [==============================] - 0s 66us/sample - loss: 0.6179 - acc: 0.7150\n",
            "Epoch 3/3\n",
            "400/400 [==============================] - 0s 66us/sample - loss: 0.6118 - acc: 0.7300\n"
          ],
          "name": "stdout"
        },
        {
          "output_type": "execute_result",
          "data": {
            "text/plain": [
              "<tensorflow.python.keras.callbacks.History at 0x7f5e8c3b0710>"
            ]
          },
          "metadata": {
            "tags": []
          },
          "execution_count": 114
        }
      ]
    },
    {
      "cell_type": "markdown",
      "metadata": {
        "id": "d8i0vv5X1Qbt",
        "colab_type": "text"
      },
      "source": [
        "The model train accuracy is stable aroud 75, so stop train the model"
      ]
    },
    {
      "cell_type": "markdown",
      "metadata": {
        "id": "lSFwXFbj1RRC",
        "colab_type": "text"
      },
      "source": [
        "Test Accuracy"
      ]
    },
    {
      "cell_type": "code",
      "metadata": {
        "id": "q36U3-5H1Qw8",
        "colab_type": "code",
        "outputId": "44b7254f-8b0b-4b24-c2e3-aa657fce9cc3",
        "colab": {
          "base_uri": "https://localhost:8080/",
          "height": 34
        }
      },
      "source": [
        "y_predict = np.round(model.predict(X_test_norm))\n",
        "y_predict = [i[0] for i in y_predict.tolist()]\n",
        "sum(y_predict == y_test)/len(y_test)"
      ],
      "execution_count": 0,
      "outputs": [
        {
          "output_type": "execute_result",
          "data": {
            "text/plain": [
              "0.6709677419354839"
            ]
          },
          "metadata": {
            "tags": []
          },
          "execution_count": 115
        }
      ]
    },
    {
      "cell_type": "code",
      "metadata": {
        "id": "gJxV7N9r3dwG",
        "colab_type": "code",
        "outputId": "1c7310cd-032c-4125-d9eb-64670e1c54cd",
        "colab": {
          "base_uri": "https://localhost:8080/",
          "height": 283
        }
      },
      "source": [
        "from sklearn.metrics import confusion_matrix\n",
        "import matplotlib.pyplot as plt\n",
        "import seaborn as sns\n",
        "target_names = ['negative', 'positive']\n",
        "C = confusion_matrix(y_test,y_predict) \n",
        "C = C / C.astype(np.float).sum(axis=1)*100\n",
        "sns.heatmap(C, annot=True, fmt=\".2f\",cmap=\"GnBu\",xticklabels=target_names, yticklabels=target_names)\n",
        "plt.ylabel(\"True Label\")\n",
        "plt.xlabel(\"Predicted Label\")\n",
        "plt.show()"
      ],
      "execution_count": 0,
      "outputs": [
        {
          "output_type": "display_data",
          "data": {
            "image/png": "[encoded data removed]",
            "text/plain": [
              "<Figure size 432x288 with 2 Axes>"
            ]
          },
          "metadata": {
            "tags": []
          }
        }
      ]
    },
    {
      "cell_type": "code",
      "metadata": {
        "id": "Ym5c3nO53rql",
        "colab_type": "code",
        "outputId": "e8a3ed95-2ba8-48ab-fe9c-2c931f1067bd",
        "colab": {
          "base_uri": "https://localhost:8080/",
          "height": 170
        }
      },
      "source": [
        "print(classification_report(y_test, y_predict, target_names=target_names))"
      ],
      "execution_count": 0,
      "outputs": [
        {
          "output_type": "stream",
          "text": [
            "              precision    recall  f1-score   support\n",
            "\n",
            "    negative       0.65      0.47      0.55        68\n",
            "    positive       0.62      0.78      0.69        76\n",
            "\n",
            "    accuracy                           0.63       144\n",
            "   macro avg       0.64      0.62      0.62       144\n",
            "weighted avg       0.64      0.63      0.62       144\n",
            "\n"
          ],
          "name": "stdout"
        }
      ]
    },
    {
      "cell_type": "markdown",
      "metadata": {
        "id": "uom0bA6w9gur",
        "colab_type": "text"
      },
      "source": [
        "#Deep Learning with Early Stop to Prevent Overfitting"
      ]
    },
    {
      "cell_type": "markdown",
      "metadata": {
        "id": "FTVxdiKh9w72",
        "colab_type": "text"
      },
      "source": [
        "Split validation data from training data and also create new training data"
      ]
    },
    {
      "cell_type": "code",
      "metadata": {
        "id": "3dVtYji49nTO",
        "colab_type": "code",
        "colab": {}
      },
      "source": [
        "from sklearn.model_selection import train_test_split\n",
        "X_train_over, X_val_norm, y_train_over, y_val = train_test_split(X_train_norm, y_train, test_size=0.20, random_state=1)"
      ],
      "execution_count": 0,
      "outputs": []
    },
    {
      "cell_type": "markdown",
      "metadata": {
        "id": "XihTMWtN-tr-",
        "colab_type": "text"
      },
      "source": [
        "Create model again"
      ]
    },
    {
      "cell_type": "code",
      "metadata": {
        "id": "yewRErEJ-wtm",
        "colab_type": "code",
        "outputId": "45ddb0e7-dac7-478b-beb7-c4ec28c8543c",
        "colab": {
          "base_uri": "https://localhost:8080/",
          "height": 323
        }
      },
      "source": [
        "model = tf.keras.models.Sequential([\n",
        "  tf.keras.layers.Dense(16, activation='relu', input_shape=(18,)),\n",
        "  tf.keras.layers.Dense(8, activation='relu'),\n",
        "  tf.keras.layers.Dense(4, activation='relu'),\n",
        "  tf.keras.layers.Dense(2, activation='relu'),\n",
        "  tf.keras.layers.Dense(1, activation='sigmoid')    \n",
        "])\n",
        "model.summary()"
      ],
      "execution_count": 0,
      "outputs": [
        {
          "output_type": "stream",
          "text": [
            "Model: \"sequential_1\"\n",
            "_________________________________________________________________\n",
            "Layer (type)                 Output Shape              Param #   \n",
            "=================================================================\n",
            "dense_5 (Dense)              (None, 16)                304       \n",
            "_________________________________________________________________\n",
            "dense_6 (Dense)              (None, 8)                 136       \n",
            "_________________________________________________________________\n",
            "dense_7 (Dense)              (None, 4)                 36        \n",
            "_________________________________________________________________\n",
            "dense_8 (Dense)              (None, 2)                 10        \n",
            "_________________________________________________________________\n",
            "dense_9 (Dense)              (None, 1)                 3         \n",
            "=================================================================\n",
            "Total params: 489\n",
            "Trainable params: 489\n",
            "Non-trainable params: 0\n",
            "_________________________________________________________________\n"
          ],
          "name": "stdout"
        }
      ]
    },
    {
      "cell_type": "markdown",
      "metadata": {
        "id": "cdtWWJgN-zZF",
        "colab_type": "text"
      },
      "source": [
        "Create optimizer again"
      ]
    },
    {
      "cell_type": "code",
      "metadata": {
        "id": "T_Lnu8PI-_DP",
        "colab_type": "code",
        "colab": {}
      },
      "source": [
        "model.compile(optimizer='adam', loss='binary_crossentropy', metrics=['accuracy'])"
      ],
      "execution_count": 0,
      "outputs": []
    },
    {
      "cell_type": "markdown",
      "metadata": {
        "id": "cRcpU0YB_Avn",
        "colab_type": "text"
      },
      "source": [
        "Create early stop function to prevent overfitting\n",
        "if the accuracy of validation data does not increase for 5 epoch (patience = 5), use the latest best validation accuracy model"
      ]
    },
    {
      "cell_type": "code",
      "metadata": {
        "id": "NpCuc6rY_EN9",
        "colab_type": "code",
        "colab": {}
      },
      "source": [
        "overfit_prevent = tf.keras.callbacks.EarlyStopping(monitor='val_loss', patience=10, restore_best_weights=True)\n"
      ],
      "execution_count": 0,
      "outputs": []
    },
    {
      "cell_type": "markdown",
      "metadata": {
        "id": "10KdH0jV_reE",
        "colab_type": "text"
      },
      "source": [
        "Train model with early stop"
      ]
    },
    {
      "cell_type": "code",
      "metadata": {
        "id": "Y8jnO-td_vgr",
        "colab_type": "code",
        "outputId": "e12a900b-c55b-4727-be9e-7dcd5770a79d",
        "colab": {
          "base_uri": "https://localhost:8080/",
          "height": 1000
        }
      },
      "source": [
        "model.fit(X_train_over, y_train_over, epochs= 100, batch_size = 20, validation_data= (X_val_norm, y_val), callbacks=[overfit_prevent])"
      ],
      "execution_count": 0,
      "outputs": [
        {
          "output_type": "stream",
          "text": [
            "Train on 320 samples, validate on 80 samples\n",
            "Epoch 1/100\n",
            "320/320 [==============================] - 0s 555us/sample - loss: 0.7039 - acc: 0.4656 - val_loss: 0.6961 - val_acc: 0.4875\n",
            "Epoch 2/100\n",
            "320/320 [==============================] - 0s 86us/sample - loss: 0.6940 - acc: 0.4906 - val_loss: 0.6935 - val_acc: 0.4875\n",
            "Epoch 3/100\n",
            "320/320 [==============================] - 0s 81us/sample - loss: 0.6890 - acc: 0.5562 - val_loss: 0.6911 - val_acc: 0.4875\n",
            "Epoch 4/100\n",
            "320/320 [==============================] - 0s 85us/sample - loss: 0.6853 - acc: 0.6094 - val_loss: 0.6867 - val_acc: 0.5375\n",
            "Epoch 5/100\n",
            "320/320 [==============================] - 0s 101us/sample - loss: 0.6798 - acc: 0.6156 - val_loss: 0.6807 - val_acc: 0.5375\n",
            "Epoch 6/100\n",
            "320/320 [==============================] - 0s 96us/sample - loss: 0.6737 - acc: 0.6219 - val_loss: 0.6712 - val_acc: 0.5625\n",
            "Epoch 7/100\n",
            "320/320 [==============================] - 0s 98us/sample - loss: 0.6669 - acc: 0.6594 - val_loss: 0.6630 - val_acc: 0.5875\n",
            "Epoch 8/100\n",
            "320/320 [==============================] - 0s 82us/sample - loss: 0.6602 - acc: 0.6438 - val_loss: 0.6519 - val_acc: 0.6000\n",
            "Epoch 9/100\n",
            "320/320 [==============================] - 0s 92us/sample - loss: 0.6537 - acc: 0.6531 - val_loss: 0.6437 - val_acc: 0.6375\n",
            "Epoch 10/100\n",
            "320/320 [==============================] - 0s 77us/sample - loss: 0.6465 - acc: 0.6938 - val_loss: 0.6377 - val_acc: 0.6250\n",
            "Epoch 11/100\n",
            "320/320 [==============================] - 0s 83us/sample - loss: 0.6404 - acc: 0.6906 - val_loss: 0.6270 - val_acc: 0.6125\n",
            "Epoch 12/100\n",
            "320/320 [==============================] - 0s 91us/sample - loss: 0.6318 - acc: 0.7063 - val_loss: 0.6195 - val_acc: 0.6250\n",
            "Epoch 13/100\n",
            "320/320 [==============================] - 0s 77us/sample - loss: 0.6266 - acc: 0.7031 - val_loss: 0.6147 - val_acc: 0.6500\n",
            "Epoch 14/100\n",
            "320/320 [==============================] - 0s 80us/sample - loss: 0.6199 - acc: 0.7156 - val_loss: 0.6077 - val_acc: 0.6750\n",
            "Epoch 15/100\n",
            "320/320 [==============================] - 0s 86us/sample - loss: 0.6145 - acc: 0.7219 - val_loss: 0.6007 - val_acc: 0.6750\n",
            "Epoch 16/100\n",
            "320/320 [==============================] - 0s 81us/sample - loss: 0.6095 - acc: 0.7312 - val_loss: 0.5975 - val_acc: 0.6875\n",
            "Epoch 17/100\n",
            "320/320 [==============================] - 0s 85us/sample - loss: 0.6051 - acc: 0.7344 - val_loss: 0.5947 - val_acc: 0.6875\n",
            "Epoch 18/100\n",
            "320/320 [==============================] - 0s 85us/sample - loss: 0.5988 - acc: 0.7250 - val_loss: 0.5904 - val_acc: 0.6875\n",
            "Epoch 19/100\n",
            "320/320 [==============================] - 0s 91us/sample - loss: 0.5950 - acc: 0.7281 - val_loss: 0.5857 - val_acc: 0.6875\n",
            "Epoch 20/100\n",
            "320/320 [==============================] - 0s 86us/sample - loss: 0.5914 - acc: 0.7312 - val_loss: 0.5827 - val_acc: 0.6750\n",
            "Epoch 21/100\n",
            "320/320 [==============================] - 0s 85us/sample - loss: 0.5864 - acc: 0.7312 - val_loss: 0.5765 - val_acc: 0.6875\n",
            "Epoch 22/100\n",
            "320/320 [==============================] - 0s 87us/sample - loss: 0.5817 - acc: 0.7312 - val_loss: 0.5752 - val_acc: 0.6875\n",
            "Epoch 23/100\n",
            "320/320 [==============================] - 0s 80us/sample - loss: 0.5769 - acc: 0.7406 - val_loss: 0.5712 - val_acc: 0.7000\n",
            "Epoch 24/100\n",
            "320/320 [==============================] - 0s 89us/sample - loss: 0.5740 - acc: 0.7437 - val_loss: 0.5686 - val_acc: 0.7250\n",
            "Epoch 25/100\n",
            "320/320 [==============================] - 0s 81us/sample - loss: 0.5693 - acc: 0.7594 - val_loss: 0.5673 - val_acc: 0.7250\n",
            "Epoch 26/100\n",
            "320/320 [==============================] - 0s 80us/sample - loss: 0.5648 - acc: 0.7594 - val_loss: 0.5625 - val_acc: 0.7250\n",
            "Epoch 27/100\n",
            "320/320 [==============================] - 0s 84us/sample - loss: 0.5604 - acc: 0.7688 - val_loss: 0.5612 - val_acc: 0.7250\n",
            "Epoch 28/100\n",
            "320/320 [==============================] - 0s 86us/sample - loss: 0.5563 - acc: 0.7750 - val_loss: 0.5592 - val_acc: 0.7375\n",
            "Epoch 29/100\n",
            "320/320 [==============================] - 0s 91us/sample - loss: 0.5521 - acc: 0.7719 - val_loss: 0.5572 - val_acc: 0.7375\n",
            "Epoch 30/100\n",
            "320/320 [==============================] - 0s 83us/sample - loss: 0.5483 - acc: 0.7812 - val_loss: 0.5580 - val_acc: 0.7250\n",
            "Epoch 31/100\n",
            "320/320 [==============================] - 0s 78us/sample - loss: 0.5436 - acc: 0.7969 - val_loss: 0.5530 - val_acc: 0.7375\n",
            "Epoch 32/100\n",
            "320/320 [==============================] - 0s 81us/sample - loss: 0.5401 - acc: 0.7875 - val_loss: 0.5508 - val_acc: 0.7250\n",
            "Epoch 33/100\n",
            "320/320 [==============================] - 0s 75us/sample - loss: 0.5378 - acc: 0.7875 - val_loss: 0.5510 - val_acc: 0.7500\n",
            "Epoch 34/100\n",
            "320/320 [==============================] - 0s 74us/sample - loss: 0.5312 - acc: 0.8062 - val_loss: 0.5549 - val_acc: 0.7625\n",
            "Epoch 35/100\n",
            "320/320 [==============================] - 0s 79us/sample - loss: 0.5277 - acc: 0.8031 - val_loss: 0.5472 - val_acc: 0.7625\n",
            "Epoch 36/100\n",
            "320/320 [==============================] - 0s 82us/sample - loss: 0.5224 - acc: 0.8062 - val_loss: 0.5458 - val_acc: 0.7625\n",
            "Epoch 37/100\n",
            "320/320 [==============================] - 0s 95us/sample - loss: 0.5181 - acc: 0.8094 - val_loss: 0.5453 - val_acc: 0.7625\n",
            "Epoch 38/100\n",
            "320/320 [==============================] - 0s 87us/sample - loss: 0.5141 - acc: 0.8094 - val_loss: 0.5446 - val_acc: 0.7625\n",
            "Epoch 39/100\n",
            "320/320 [==============================] - 0s 85us/sample - loss: 0.5091 - acc: 0.8094 - val_loss: 0.5436 - val_acc: 0.7625\n",
            "Epoch 40/100\n",
            "320/320 [==============================] - 0s 83us/sample - loss: 0.5055 - acc: 0.8062 - val_loss: 0.5435 - val_acc: 0.7750\n",
            "Epoch 41/100\n",
            "320/320 [==============================] - 0s 84us/sample - loss: 0.5024 - acc: 0.8125 - val_loss: 0.5430 - val_acc: 0.7625\n",
            "Epoch 42/100\n",
            "320/320 [==============================] - 0s 82us/sample - loss: 0.4969 - acc: 0.8125 - val_loss: 0.5423 - val_acc: 0.7750\n",
            "Epoch 43/100\n",
            "320/320 [==============================] - 0s 82us/sample - loss: 0.4924 - acc: 0.8156 - val_loss: 0.5410 - val_acc: 0.7500\n",
            "Epoch 44/100\n",
            "320/320 [==============================] - 0s 82us/sample - loss: 0.4899 - acc: 0.8125 - val_loss: 0.5411 - val_acc: 0.7625\n",
            "Epoch 45/100\n",
            "320/320 [==============================] - 0s 78us/sample - loss: 0.4860 - acc: 0.8281 - val_loss: 0.5389 - val_acc: 0.7625\n",
            "Epoch 46/100\n",
            "320/320 [==============================] - 0s 84us/sample - loss: 0.4876 - acc: 0.7937 - val_loss: 0.5398 - val_acc: 0.7500\n",
            "Epoch 47/100\n",
            "320/320 [==============================] - 0s 84us/sample - loss: 0.4811 - acc: 0.8313 - val_loss: 0.5392 - val_acc: 0.7500\n",
            "Epoch 48/100\n",
            "320/320 [==============================] - 0s 72us/sample - loss: 0.4747 - acc: 0.8219 - val_loss: 0.5384 - val_acc: 0.7500\n",
            "Epoch 49/100\n",
            "320/320 [==============================] - 0s 75us/sample - loss: 0.4684 - acc: 0.8375 - val_loss: 0.5385 - val_acc: 0.7500\n",
            "Epoch 50/100\n",
            "320/320 [==============================] - 0s 82us/sample - loss: 0.4650 - acc: 0.8313 - val_loss: 0.5401 - val_acc: 0.7500\n",
            "Epoch 51/100\n",
            "320/320 [==============================] - 0s 96us/sample - loss: 0.4617 - acc: 0.8281 - val_loss: 0.5393 - val_acc: 0.7500\n",
            "Epoch 52/100\n",
            "320/320 [==============================] - 0s 75us/sample - loss: 0.4567 - acc: 0.8469 - val_loss: 0.5416 - val_acc: 0.7375\n",
            "Epoch 53/100\n",
            "320/320 [==============================] - 0s 79us/sample - loss: 0.4542 - acc: 0.8438 - val_loss: 0.5413 - val_acc: 0.7500\n",
            "Epoch 54/100\n",
            "320/320 [==============================] - 0s 81us/sample - loss: 0.4508 - acc: 0.8594 - val_loss: 0.5413 - val_acc: 0.7375\n",
            "Epoch 55/100\n",
            "320/320 [==============================] - 0s 83us/sample - loss: 0.4477 - acc: 0.8531 - val_loss: 0.5420 - val_acc: 0.7375\n",
            "Epoch 56/100\n",
            "320/320 [==============================] - 0s 82us/sample - loss: 0.4461 - acc: 0.8594 - val_loss: 0.5444 - val_acc: 0.7375\n",
            "Epoch 57/100\n",
            "320/320 [==============================] - 0s 80us/sample - loss: 0.4411 - acc: 0.8562 - val_loss: 0.5429 - val_acc: 0.7375\n",
            "Epoch 58/100\n",
            "320/320 [==============================] - 0s 250us/sample - loss: 0.4368 - acc: 0.8531 - val_loss: 0.5445 - val_acc: 0.7500\n"
          ],
          "name": "stdout"
        },
        {
          "output_type": "execute_result",
          "data": {
            "text/plain": [
              "<tensorflow.python.keras.callbacks.History at 0x7f5e8e0f08d0>"
            ]
          },
          "metadata": {
            "tags": []
          },
          "execution_count": 44
        }
      ]
    },
    {
      "cell_type": "code",
      "metadata": {
        "id": "VOJCRse-CGUg",
        "colab_type": "code",
        "outputId": "3bca1913-54ad-4477-d1c2-cf1ce5867b47",
        "colab": {
          "base_uri": "https://localhost:8080/",
          "height": 34
        }
      },
      "source": [
        "y_predict = np.round(model.predict(X_test_norm))\n",
        "y_predict = [i[0] for i in y_predict.tolist()]\n",
        "sum(y_predict == y_test)/len(y_test)"
      ],
      "execution_count": 0,
      "outputs": [
        {
          "output_type": "execute_result",
          "data": {
            "text/plain": [
              "0.7152777777777778"
            ]
          },
          "metadata": {
            "tags": []
          },
          "execution_count": 45
        }
      ]
    },
    {
      "cell_type": "markdown",
      "metadata": {
        "id": "UEf2sylQnSgJ",
        "colab_type": "text"
      },
      "source": [
        "# Deep Learning for imbalanced problem"
      ]
    },
    {
      "cell_type": "code",
      "metadata": {
        "id": "1s8Ei8P5nOiC",
        "colab_type": "code",
        "colab": {}
      },
      "source": [
        "import tensorflow as tf\n",
        "model_ibp = tf.keras.models.Sequential([\n",
        "  tf.keras.layers.Dense(16, activation='relu', input_shape=(18,)),\n",
        "  tf.keras.layers.Dense(8, activation='relu'),\n",
        "  tf.keras.layers.Dense(4, activation='relu'),\n",
        "  tf.keras.layers.Dense(2, activation='relu'),\n",
        "  tf.keras.layers.Dense(1, activation='sigmoid')    \n",
        "])\n",
        "model_ibp.compile(optimizer='adam', loss='binary_crossentropy', metrics=['accuracy'])"
      ],
      "execution_count": 0,
      "outputs": []
    },
    {
      "cell_type": "code",
      "metadata": {
        "id": "0zVmN2dupNv_",
        "colab_type": "code",
        "outputId": "a2ccd404-71d7-4f3c-c29a-a9fb7d6674a4",
        "colab": {
          "base_uri": "https://localhost:8080/",
          "height": 170
        }
      },
      "source": [
        "model_ibp.fit(X_train_norm, y_train, epochs=4)"
      ],
      "execution_count": 0,
      "outputs": [
        {
          "output_type": "stream",
          "text": [
            "Epoch 1/4\n",
            "400/400 [==============================] - 0s 354us/sample - loss: 0.6932 - acc: 0.4625\n",
            "Epoch 2/4\n",
            "400/400 [==============================] - 0s 48us/sample - loss: 0.6923 - acc: 0.5075\n",
            "Epoch 3/4\n",
            "400/400 [==============================] - 0s 42us/sample - loss: 0.6914 - acc: 0.5000\n",
            "Epoch 4/4\n",
            "400/400 [==============================] - 0s 41us/sample - loss: 0.6873 - acc: 0.5475\n"
          ],
          "name": "stdout"
        },
        {
          "output_type": "execute_result",
          "data": {
            "text/plain": [
              "<tensorflow.python.keras.callbacks.History at 0x7f5e8cd08ef0>"
            ]
          },
          "metadata": {
            "tags": []
          },
          "execution_count": 63
        }
      ]
    },
    {
      "cell_type": "code",
      "metadata": {
        "id": "uyi6auIKqIg_",
        "colab_type": "code",
        "outputId": "d8706876-552e-46c5-aa0b-455d9c27a8f9",
        "colab": {
          "base_uri": "https://localhost:8080/",
          "height": 170
        }
      },
      "source": [
        "model_ibp.fit(X_train_norm2, y_train2, epochs=4)"
      ],
      "execution_count": 0,
      "outputs": [
        {
          "output_type": "stream",
          "text": [
            "Epoch 1/4\n",
            "400/400 [==============================] - 0s 61us/sample - loss: 0.6802 - acc: 0.5625\n",
            "Epoch 2/4\n",
            "400/400 [==============================] - 0s 42us/sample - loss: 0.6698 - acc: 0.6150\n",
            "Epoch 3/4\n",
            "400/400 [==============================] - 0s 50us/sample - loss: 0.6608 - acc: 0.6225\n",
            "Epoch 4/4\n",
            "400/400 [==============================] - 0s 49us/sample - loss: 0.6514 - acc: 0.6500\n"
          ],
          "name": "stdout"
        },
        {
          "output_type": "execute_result",
          "data": {
            "text/plain": [
              "<tensorflow.python.keras.callbacks.History at 0x7f5e8d1acba8>"
            ]
          },
          "metadata": {
            "tags": []
          },
          "execution_count": 64
        }
      ]
    },
    {
      "cell_type": "code",
      "metadata": {
        "id": "lBD2y8kOqM2e",
        "colab_type": "code",
        "outputId": "36808a9b-6ee6-4eec-a790-3fe9c2e9fd70",
        "colab": {
          "base_uri": "https://localhost:8080/",
          "height": 170
        }
      },
      "source": [
        "model_ibp.fit(X_train_norm3, y_train3, epochs=4)"
      ],
      "execution_count": 0,
      "outputs": [
        {
          "output_type": "stream",
          "text": [
            "Epoch 1/4\n",
            "400/400 [==============================] - 0s 54us/sample - loss: 0.6376 - acc: 0.6825\n",
            "Epoch 2/4\n",
            "400/400 [==============================] - 0s 48us/sample - loss: 0.6269 - acc: 0.6825\n",
            "Epoch 3/4\n",
            "400/400 [==============================] - 0s 43us/sample - loss: 0.6171 - acc: 0.7250\n",
            "Epoch 4/4\n",
            "400/400 [==============================] - 0s 50us/sample - loss: 0.6090 - acc: 0.7300\n"
          ],
          "name": "stdout"
        },
        {
          "output_type": "execute_result",
          "data": {
            "text/plain": [
              "<tensorflow.python.keras.callbacks.History at 0x7f5e8c821518>"
            ]
          },
          "metadata": {
            "tags": []
          },
          "execution_count": 65
        }
      ]
    },
    {
      "cell_type": "code",
      "metadata": {
        "id": "h5caUhBUqT5q",
        "colab_type": "code",
        "outputId": "36d879e3-45e7-425a-c8d1-6d30fb888707",
        "colab": {
          "base_uri": "https://localhost:8080/",
          "height": 170
        }
      },
      "source": [
        "model_ibp.fit(X_train_norm4, y_train4, epochs=4)"
      ],
      "execution_count": 0,
      "outputs": [
        {
          "output_type": "stream",
          "text": [
            "Epoch 1/4\n",
            "400/400 [==============================] - 0s 73us/sample - loss: 0.6120 - acc: 0.7325\n",
            "Epoch 2/4\n",
            "400/400 [==============================] - 0s 48us/sample - loss: 0.6069 - acc: 0.7525\n",
            "Epoch 3/4\n",
            "400/400 [==============================] - 0s 47us/sample - loss: 0.6024 - acc: 0.7375\n",
            "Epoch 4/4\n",
            "400/400 [==============================] - 0s 45us/sample - loss: 0.5987 - acc: 0.7350\n"
          ],
          "name": "stdout"
        },
        {
          "output_type": "execute_result",
          "data": {
            "text/plain": [
              "<tensorflow.python.keras.callbacks.History at 0x7f5e8c846b00>"
            ]
          },
          "metadata": {
            "tags": []
          },
          "execution_count": 66
        }
      ]
    },
    {
      "cell_type": "code",
      "metadata": {
        "id": "D4NCbG82qXdj",
        "colab_type": "code",
        "outputId": "d6963ebf-e8c1-4fc9-def9-cc973752fac4",
        "colab": {
          "base_uri": "https://localhost:8080/",
          "height": 170
        }
      },
      "source": [
        "model_ibp.fit(X_train_norm5, y_train5, epochs=4)"
      ],
      "execution_count": 0,
      "outputs": [
        {
          "output_type": "stream",
          "text": [
            "Epoch 1/4\n",
            "400/400 [==============================] - 0s 55us/sample - loss: 0.6070 - acc: 0.7150\n",
            "Epoch 2/4\n",
            "400/400 [==============================] - 0s 52us/sample - loss: 0.6035 - acc: 0.7500\n",
            "Epoch 3/4\n",
            "400/400 [==============================] - 0s 45us/sample - loss: 0.5960 - acc: 0.7525\n",
            "Epoch 4/4\n",
            "400/400 [==============================] - 0s 52us/sample - loss: 0.5922 - acc: 0.7475\n"
          ],
          "name": "stdout"
        },
        {
          "output_type": "execute_result",
          "data": {
            "text/plain": [
              "<tensorflow.python.keras.callbacks.History at 0x7f5e8d20bd68>"
            ]
          },
          "metadata": {
            "tags": []
          },
          "execution_count": 67
        }
      ]
    },
    {
      "cell_type": "code",
      "metadata": {
        "id": "jvNtRPOETQ8P",
        "colab_type": "code",
        "outputId": "fd9c4478-7816-4cfd-c659-3e89a7b05142",
        "colab": {
          "base_uri": "https://localhost:8080/",
          "height": 170
        }
      },
      "source": [
        "model_ibp.fit(X_train_norm6, y_train6, epochs=4)"
      ],
      "execution_count": 0,
      "outputs": [
        {
          "output_type": "stream",
          "text": [
            "Epoch 1/4\n",
            "400/400 [==============================] - 0s 61us/sample - loss: 0.5765 - acc: 0.7525\n",
            "Epoch 2/4\n",
            "400/400 [==============================] - 0s 48us/sample - loss: 0.5708 - acc: 0.7550\n",
            "Epoch 3/4\n",
            "400/400 [==============================] - 0s 48us/sample - loss: 0.5670 - acc: 0.7600\n",
            "Epoch 4/4\n",
            "400/400 [==============================] - 0s 50us/sample - loss: 0.5599 - acc: 0.7700\n"
          ],
          "name": "stdout"
        },
        {
          "output_type": "execute_result",
          "data": {
            "text/plain": [
              "<tensorflow.python.keras.callbacks.History at 0x7f5e8cd089b0>"
            ]
          },
          "metadata": {
            "tags": []
          },
          "execution_count": 68
        }
      ]
    },
    {
      "cell_type": "code",
      "metadata": {
        "id": "yas7ScxjqcFa",
        "colab_type": "code",
        "outputId": "6e2fc982-0761-46c1-f576-63f62491ccb6",
        "colab": {
          "base_uri": "https://localhost:8080/",
          "height": 34
        }
      },
      "source": [
        "y_predict = np.round(model_ibp.predict(X_test_norm))\n",
        "y_predict = [i[0] for i in y_predict.tolist()]\n",
        "sum(y_predict == y_test)/len(y_test)"
      ],
      "execution_count": 0,
      "outputs": [
        {
          "output_type": "execute_result",
          "data": {
            "text/plain": [
              "0.6527777777777778"
            ]
          },
          "metadata": {
            "tags": []
          },
          "execution_count": 69
        }
      ]
    },
    {
      "cell_type": "markdown",
      "metadata": {
        "id": "nkhW04wi8JQW",
        "colab_type": "text"
      },
      "source": [
        "# Save Data to SVM format for Optimization"
      ]
    },
    {
      "cell_type": "code",
      "metadata": {
        "id": "8o8fycN68JQX",
        "colab_type": "code",
        "colab": {}
      },
      "source": [
        "#from sklearn.datasets import dump_svmlight_file\n",
        "#dump_svmlight_file(X_train_norm, y_train, 'training.svm',zero_based=False)\n",
        "#dump_svmlight_file(X_test_norm,y_test,'test.svm',zero_based=False)"
      ],
      "execution_count": 0,
      "outputs": []
    },
    {
      "cell_type": "code",
      "metadata": {
        "id": "evjavp_N8JQY",
        "colab_type": "code",
        "colab": {}
      },
      "source": [
        ""
      ],
      "execution_count": 0,
      "outputs": []
    }
  ]
}