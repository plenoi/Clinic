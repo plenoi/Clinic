{
  "nbformat": 4,
  "nbformat_minor": 0,
  "metadata": {
    "kernelspec": {
      "display_name": "Python 3",
      "language": "python",
      "name": "python3"
    },
    "language_info": {
      "codemirror_mode": {
        "name": "ipython",
        "version": 3
      },
      "file_extension": ".py",
      "mimetype": "text/x-python",
      "name": "python",
      "nbconvert_exporter": "python",
      "pygments_lexer": "ipython3",
      "version": "3.6.9"
    },
    "colab": {
      "name": "Clinical_Analysis_pmmet.ipynb",
      "provenance": [],
      "collapsed_sections": [
        "nkhW04wi8JQW"
      ],
      "include_colab_link": true
    }
  },
  "cells": [
    {
      "cell_type": "markdown",
      "metadata": {
        "id": "view-in-github",
        "colab_type": "text"
      },
      "source": [
        "<a href=\"https://colab.research.google.com/github/plenoi/Clinic/blob/master/Clinical_Analysis_pmmet.ipynb\" target=\"_parent\"><img src=\"https://colab.research.google.com/assets/colab-badge.svg\" alt=\"Open In Colab\"/></a>"
      ]
    },
    {
      "cell_type": "code",
      "metadata": {
        "id": "aWHnvx9H8JPF",
        "colab_type": "code",
        "colab": {}
      },
      "source": [
        "import pandas as pd\n",
        "import numpy as np"
      ],
      "execution_count": 0,
      "outputs": []
    },
    {
      "cell_type": "markdown",
      "metadata": {
        "id": "jntbWEiv8JPM",
        "colab_type": "text"
      },
      "source": [
        "# Read all data and set hn as index"
      ]
    },
    {
      "cell_type": "code",
      "metadata": {
        "id": "vCtTLpCL8JPM",
        "colab_type": "code",
        "outputId": "dc1e5ac8-7095-4a34-8d84-d889e729403a",
        "colab": {
          "base_uri": "https://localhost:8080/",
          "height": 255
        }
      },
      "source": [
        "df = pd.read_csv('https://raw.githubusercontent.com/plenoi/Clinic/master/ultima_all_clean.csv')\n",
        "df = df.set_index('hn')\n",
        "df.head()"
      ],
      "execution_count": 2,
      "outputs": [
        {
          "output_type": "execute_result",
          "data": {
            "text/html": [
              "<div>\n",
              "<style scoped>\n",
              "    .dataframe tbody tr th:only-of-type {\n",
              "        vertical-align: middle;\n",
              "    }\n",
              "\n",
              "    .dataframe tbody tr th {\n",
              "        vertical-align: top;\n",
              "    }\n",
              "\n",
              "    .dataframe thead th {\n",
              "        text-align: right;\n",
              "    }\n",
              "</style>\n",
              "<table border=\"1\" class=\"dataframe\">\n",
              "  <thead>\n",
              "    <tr style=\"text-align: right;\">\n",
              "      <th></th>\n",
              "      <th>age</th>\n",
              "      <th>parity</th>\n",
              "      <th>hiv</th>\n",
              "      <th>menopaus</th>\n",
              "      <th>disease</th>\n",
              "      <th>surgery</th>\n",
              "      <th>conization</th>\n",
              "      <th>OPDsize</th>\n",
              "      <th>appearance</th>\n",
              "      <th>stage</th>\n",
              "      <th>pchemo</th>\n",
              "      <th>Wardsize</th>\n",
              "      <th>finalhisto</th>\n",
              "      <th>nodeyiel</th>\n",
              "      <th>RHlvsi</th>\n",
              "      <th>depth</th>\n",
              "      <th>size</th>\n",
              "      <th>utmet</th>\n",
              "      <th>vgmargin</th>\n",
              "      <th>vgmet</th>\n",
              "      <th>pelvicme</th>\n",
              "      <th>pmmet</th>\n",
              "      <th>adnmet</th>\n",
              "    </tr>\n",
              "    <tr>\n",
              "      <th>hn</th>\n",
              "      <th></th>\n",
              "      <th></th>\n",
              "      <th></th>\n",
              "      <th></th>\n",
              "      <th></th>\n",
              "      <th></th>\n",
              "      <th></th>\n",
              "      <th></th>\n",
              "      <th></th>\n",
              "      <th></th>\n",
              "      <th></th>\n",
              "      <th></th>\n",
              "      <th></th>\n",
              "      <th></th>\n",
              "      <th></th>\n",
              "      <th></th>\n",
              "      <th></th>\n",
              "      <th></th>\n",
              "      <th></th>\n",
              "      <th></th>\n",
              "      <th></th>\n",
              "      <th></th>\n",
              "      <th></th>\n",
              "    </tr>\n",
              "  </thead>\n",
              "  <tbody>\n",
              "    <tr>\n",
              "      <th>2631840</th>\n",
              "      <td>52</td>\n",
              "      <td>3</td>\n",
              "      <td>0.0</td>\n",
              "      <td>0.0</td>\n",
              "      <td>1</td>\n",
              "      <td>1</td>\n",
              "      <td>0.0</td>\n",
              "      <td>5.0</td>\n",
              "      <td>4.0</td>\n",
              "      <td>5.0</td>\n",
              "      <td>0.0</td>\n",
              "      <td>5.0</td>\n",
              "      <td>3.0</td>\n",
              "      <td>21.0</td>\n",
              "      <td>0.0</td>\n",
              "      <td>3.0</td>\n",
              "      <td>6.0</td>\n",
              "      <td>0.0</td>\n",
              "      <td>0.0</td>\n",
              "      <td>0.0</td>\n",
              "      <td>0.0</td>\n",
              "      <td>0.0</td>\n",
              "      <td>0.0</td>\n",
              "    </tr>\n",
              "    <tr>\n",
              "      <th>2633481</th>\n",
              "      <td>32</td>\n",
              "      <td>2</td>\n",
              "      <td>0.0</td>\n",
              "      <td>0.0</td>\n",
              "      <td>0</td>\n",
              "      <td>1</td>\n",
              "      <td>0.0</td>\n",
              "      <td>5.0</td>\n",
              "      <td>1.0</td>\n",
              "      <td>5.0</td>\n",
              "      <td>0.0</td>\n",
              "      <td>5.0</td>\n",
              "      <td>1.0</td>\n",
              "      <td>11.0</td>\n",
              "      <td>0.0</td>\n",
              "      <td>3.0</td>\n",
              "      <td>5.0</td>\n",
              "      <td>0.0</td>\n",
              "      <td>0.0</td>\n",
              "      <td>0.0</td>\n",
              "      <td>1.0</td>\n",
              "      <td>0.0</td>\n",
              "      <td>2.0</td>\n",
              "    </tr>\n",
              "    <tr>\n",
              "      <th>2634477</th>\n",
              "      <td>52</td>\n",
              "      <td>2</td>\n",
              "      <td>0.0</td>\n",
              "      <td>0.0</td>\n",
              "      <td>0</td>\n",
              "      <td>0</td>\n",
              "      <td>0.0</td>\n",
              "      <td>5.0</td>\n",
              "      <td>NaN</td>\n",
              "      <td>5.0</td>\n",
              "      <td>0.0</td>\n",
              "      <td>5.0</td>\n",
              "      <td>4.0</td>\n",
              "      <td>35.0</td>\n",
              "      <td>6.0</td>\n",
              "      <td>3.0</td>\n",
              "      <td>4.0</td>\n",
              "      <td>0.0</td>\n",
              "      <td>0.0</td>\n",
              "      <td>0.0</td>\n",
              "      <td>0.0</td>\n",
              "      <td>0.0</td>\n",
              "      <td>0.0</td>\n",
              "    </tr>\n",
              "    <tr>\n",
              "      <th>2633633</th>\n",
              "      <td>38</td>\n",
              "      <td>2</td>\n",
              "      <td>0.0</td>\n",
              "      <td>0.0</td>\n",
              "      <td>0</td>\n",
              "      <td>0</td>\n",
              "      <td>0.0</td>\n",
              "      <td>2.0</td>\n",
              "      <td>1.0</td>\n",
              "      <td>4.0</td>\n",
              "      <td>0.0</td>\n",
              "      <td>3.0</td>\n",
              "      <td>3.0</td>\n",
              "      <td>20.0</td>\n",
              "      <td>16.0</td>\n",
              "      <td>3.0</td>\n",
              "      <td>3.8</td>\n",
              "      <td>0.0</td>\n",
              "      <td>0.0</td>\n",
              "      <td>0.0</td>\n",
              "      <td>0.0</td>\n",
              "      <td>0.0</td>\n",
              "      <td>2.0</td>\n",
              "    </tr>\n",
              "    <tr>\n",
              "      <th>2630496</th>\n",
              "      <td>55</td>\n",
              "      <td>3</td>\n",
              "      <td>0.0</td>\n",
              "      <td>1.0</td>\n",
              "      <td>0</td>\n",
              "      <td>0</td>\n",
              "      <td>1.0</td>\n",
              "      <td>0.0</td>\n",
              "      <td>5.0</td>\n",
              "      <td>4.0</td>\n",
              "      <td>0.0</td>\n",
              "      <td>0.0</td>\n",
              "      <td>1.0</td>\n",
              "      <td>17.0</td>\n",
              "      <td>9.0</td>\n",
              "      <td>3.0</td>\n",
              "      <td>0.0</td>\n",
              "      <td>0.0</td>\n",
              "      <td>0.0</td>\n",
              "      <td>0.0</td>\n",
              "      <td>1.0</td>\n",
              "      <td>0.0</td>\n",
              "      <td>0.0</td>\n",
              "    </tr>\n",
              "  </tbody>\n",
              "</table>\n",
              "</div>"
            ],
            "text/plain": [
              "         age  parity  hiv  menopaus  ...  vgmet  pelvicme  pmmet  adnmet\n",
              "hn                                   ...                                \n",
              "2631840   52       3  0.0       0.0  ...    0.0       0.0    0.0     0.0\n",
              "2633481   32       2  0.0       0.0  ...    0.0       1.0    0.0     2.0\n",
              "2634477   52       2  0.0       0.0  ...    0.0       0.0    0.0     0.0\n",
              "2633633   38       2  0.0       0.0  ...    0.0       0.0    0.0     2.0\n",
              "2630496   55       3  0.0       1.0  ...    0.0       1.0    0.0     0.0\n",
              "\n",
              "[5 rows x 23 columns]"
            ]
          },
          "metadata": {
            "tags": []
          },
          "execution_count": 2
        }
      ]
    },
    {
      "cell_type": "markdown",
      "metadata": {
        "id": "Yw4lB2Yj8JPP",
        "colab_type": "text"
      },
      "source": [
        "# Data Preprocessing"
      ]
    },
    {
      "cell_type": "markdown",
      "metadata": {
        "id": "iO_k48uw8JPQ",
        "colab_type": "text"
      },
      "source": [
        "Check number of data"
      ]
    },
    {
      "cell_type": "code",
      "metadata": {
        "id": "V1gVBPp48JPQ",
        "colab_type": "code",
        "outputId": "0556407f-9415-4033-b6a1-50f8f4d8ae1e",
        "colab": {
          "base_uri": "https://localhost:8080/",
          "height": 34
        }
      },
      "source": [
        "df.shape"
      ],
      "execution_count": 3,
      "outputs": [
        {
          "output_type": "execute_result",
          "data": {
            "text/plain": [
              "(1723, 23)"
            ]
          },
          "metadata": {
            "tags": []
          },
          "execution_count": 3
        }
      ]
    },
    {
      "cell_type": "markdown",
      "metadata": {
        "id": "OKStqK_68JPT",
        "colab_type": "text"
      },
      "source": [
        "Check any missing data in each column"
      ]
    },
    {
      "cell_type": "code",
      "metadata": {
        "id": "Q77h1QHI8JPT",
        "colab_type": "code",
        "outputId": "b9815145-17f2-43e8-dbf2-a6322cf89c08",
        "colab": {
          "base_uri": "https://localhost:8080/",
          "height": 425
        }
      },
      "source": [
        "df.isnull().sum(axis=0)"
      ],
      "execution_count": 4,
      "outputs": [
        {
          "output_type": "execute_result",
          "data": {
            "text/plain": [
              "age             0\n",
              "parity          0\n",
              "hiv             4\n",
              "menopaus        1\n",
              "disease         0\n",
              "surgery         0\n",
              "conization      5\n",
              "OPDsize        17\n",
              "appearance    101\n",
              "stage          24\n",
              "pchemo          1\n",
              "Wardsize      145\n",
              "finalhisto     10\n",
              "nodeyiel       12\n",
              "RHlvsi        366\n",
              "depth         489\n",
              "size          114\n",
              "utmet          98\n",
              "vgmargin       96\n",
              "vgmet          97\n",
              "pelvicme        1\n",
              "pmmet          94\n",
              "adnmet          7\n",
              "dtype: int64"
            ]
          },
          "metadata": {
            "tags": []
          },
          "execution_count": 4
        }
      ]
    },
    {
      "cell_type": "markdown",
      "metadata": {
        "id": "xlAFFf418JPV",
        "colab_type": "text"
      },
      "source": [
        "Delete column with missing data"
      ]
    },
    {
      "cell_type": "code",
      "metadata": {
        "id": "t5YSx3NY8JPW",
        "colab_type": "code",
        "outputId": "ee77d889-53e1-42e5-f58b-15ed401f5e03",
        "colab": {
          "base_uri": "https://localhost:8080/",
          "height": 289
        }
      },
      "source": [
        "df_clean_column = df.drop(['appearance','Wardsize','RHlvsi','depth','nodeyiel','vgmargin','pelvicme','adnmet'],axis = 1)\n",
        "df_clean_column.isnull().sum(axis=0)"
      ],
      "execution_count": 5,
      "outputs": [
        {
          "output_type": "execute_result",
          "data": {
            "text/plain": [
              "age             0\n",
              "parity          0\n",
              "hiv             4\n",
              "menopaus        1\n",
              "disease         0\n",
              "surgery         0\n",
              "conization      5\n",
              "OPDsize        17\n",
              "stage          24\n",
              "pchemo          1\n",
              "finalhisto     10\n",
              "size          114\n",
              "utmet          98\n",
              "vgmet          97\n",
              "pmmet          94\n",
              "dtype: int64"
            ]
          },
          "metadata": {
            "tags": []
          },
          "execution_count": 5
        }
      ]
    },
    {
      "cell_type": "markdown",
      "metadata": {
        "id": "NyNnK21u8JPX",
        "colab_type": "text"
      },
      "source": [
        "Delete row with at least 1 missing data"
      ]
    },
    {
      "cell_type": "code",
      "metadata": {
        "id": "03MGmT4a8JPY",
        "colab_type": "code",
        "colab": {}
      },
      "source": [
        "df_clean = df_clean_column.dropna(axis = 0)"
      ],
      "execution_count": 0,
      "outputs": []
    },
    {
      "cell_type": "markdown",
      "metadata": {
        "id": "2kUDENLG8JPZ",
        "colab_type": "text"
      },
      "source": [
        "Total Clean Data"
      ]
    },
    {
      "cell_type": "code",
      "metadata": {
        "id": "brL_4adg8JPb",
        "colab_type": "code",
        "outputId": "01553410-0767-42bb-fcea-39708b4f1c4a",
        "colab": {
          "base_uri": "https://localhost:8080/",
          "height": 34
        }
      },
      "source": [
        "df_clean.shape"
      ],
      "execution_count": 7,
      "outputs": [
        {
          "output_type": "execute_result",
          "data": {
            "text/plain": [
              "(1555, 15)"
            ]
          },
          "metadata": {
            "tags": []
          },
          "execution_count": 7
        }
      ]
    },
    {
      "cell_type": "markdown",
      "metadata": {
        "id": "OHcRmIb78JPc",
        "colab_type": "text"
      },
      "source": [
        "Check number of sample in pelvicme class "
      ]
    },
    {
      "cell_type": "code",
      "metadata": {
        "id": "4QQbuaAY8JPd",
        "colab_type": "code",
        "outputId": "ed35fa01-8827-46b3-ccd7-be88af80fbcf",
        "colab": {
          "base_uri": "https://localhost:8080/",
          "height": 34
        }
      },
      "source": [
        "pel_class = np.unique(df_clean['pmmet'])\n",
        "pel_class"
      ],
      "execution_count": 8,
      "outputs": [
        {
          "output_type": "execute_result",
          "data": {
            "text/plain": [
              "array([0., 1.])"
            ]
          },
          "metadata": {
            "tags": []
          },
          "execution_count": 8
        }
      ]
    },
    {
      "cell_type": "code",
      "metadata": {
        "id": "LctFWu_H8JPf",
        "colab_type": "code",
        "outputId": "e980a129-122f-4ea5-b9c5-fca34c909716",
        "colab": {
          "base_uri": "https://localhost:8080/",
          "height": 34
        }
      },
      "source": [
        "pel_value = [sum(df_clean['pmmet']==pel_class[0]),\n",
        "             sum(df_clean['pmmet']==pel_class[1])]\n",
        "pel_value"
      ],
      "execution_count": 9,
      "outputs": [
        {
          "output_type": "execute_result",
          "data": {
            "text/plain": [
              "[1278, 277]"
            ]
          },
          "metadata": {
            "tags": []
          },
          "execution_count": 9
        }
      ]
    },
    {
      "cell_type": "markdown",
      "metadata": {
        "id": "6VJ6Ejg48JPk",
        "colab_type": "text"
      },
      "source": [
        "Separate pelviceme dataset into data (X) and label (y)"
      ]
    },
    {
      "cell_type": "code",
      "metadata": {
        "id": "4Gdtafhe8JPk",
        "colab_type": "code",
        "colab": {}
      },
      "source": [
        "y = df_clean['pmmet'].values\n",
        "X = df_clean.drop(['pmmet'],axis = 1).values"
      ],
      "execution_count": 0,
      "outputs": []
    },
    {
      "cell_type": "markdown",
      "metadata": {
        "id": "NFhEkk8X8JPm",
        "colab_type": "text"
      },
      "source": [
        "Randomly choose 200 samples of class 1 (positive) as training data and the rest as test data"
      ]
    },
    {
      "cell_type": "code",
      "metadata": {
        "id": "XnFz3mek8JPn",
        "colab_type": "code",
        "outputId": "e29842a0-44e1-495e-a6a2-d81a9cfb7126",
        "colab": {
          "base_uri": "https://localhost:8080/",
          "height": 51
        }
      },
      "source": [
        "import random\n",
        "random.seed(1)\n",
        "positive_index = np.where(y==1)[0]\n",
        "negative_index = np.where(y==0)[0]\n",
        "pos_train_index = random.sample(list(positive_index),200)\n",
        "pos_test_index = list(set(positive_index) - set(pos_train_index))\n",
        "\n",
        "print(\"All dataset: \"+str(len(positive_index))+\" \"+str(len(negative_index)))\n",
        "print(\"Positive test dataset: \"+str(len(pos_test_index)))"
      ],
      "execution_count": 11,
      "outputs": [
        {
          "output_type": "stream",
          "text": [
            "All dataset: 277 1278\n",
            "Positive test dataset: 77\n"
          ],
          "name": "stdout"
        }
      ]
    },
    {
      "cell_type": "markdown",
      "metadata": {
        "id": "bb3---1e8JPo",
        "colab_type": "text"
      },
      "source": [
        "Randomly separate negative dataset into 5 parts to create 5 training datasets consisted of 200 samples"
      ]
    },
    {
      "cell_type": "code",
      "metadata": {
        "id": "TpCeL8Jz8JPp",
        "colab_type": "code",
        "outputId": "6c8fe2aa-6176-47a4-b970-2400ca2ea4d9",
        "colab": {
          "base_uri": "https://localhost:8080/",
          "height": 34
        }
      },
      "source": [
        "neg_train_index1 = random.sample(list(negative_index),200)\n",
        "neg_tmp_index = list(set(negative_index) - set(neg_train_index1))\n",
        "\n",
        "neg_train_index2 = random.sample(list(neg_tmp_index),200)\n",
        "neg_tmp_index = list(set(neg_tmp_index) - set(neg_train_index2))\n",
        "\n",
        "neg_train_index3 = random.sample(list(neg_tmp_index),200)\n",
        "neg_tmp_index = list(set(neg_tmp_index) - set(neg_train_index3))\n",
        "\n",
        "neg_train_index4 = random.sample(list(neg_tmp_index),200)\n",
        "neg_tmp_index = list(set(neg_tmp_index) - set(neg_train_index4))\n",
        "\n",
        "neg_train_index5 = random.sample(list(neg_tmp_index),200)\n",
        "neg_tmp_index = list(set(neg_tmp_index) - set(neg_train_index5))\n",
        "\n",
        "neg_train_index6 = random.sample(list(neg_tmp_index),200)\n",
        "neg_tmp_index = list(set(neg_tmp_index) - set(neg_train_index6))\n",
        "\n",
        "neg_test_index = neg_tmp_index\n",
        "print(\"Negative test dataset: \"+str(len(neg_test_index)))"
      ],
      "execution_count": 12,
      "outputs": [
        {
          "output_type": "stream",
          "text": [
            "Negative test dataset: 78\n"
          ],
          "name": "stdout"
        }
      ]
    },
    {
      "cell_type": "markdown",
      "metadata": {
        "id": "ZCzFlfc58JPq",
        "colab_type": "text"
      },
      "source": [
        "Create 5 training dataset and 1 test dataset"
      ]
    },
    {
      "cell_type": "markdown",
      "metadata": {
        "id": "RDcP1OdWSYZM",
        "colab_type": "text"
      },
      "source": [
        ""
      ]
    },
    {
      "cell_type": "code",
      "metadata": {
        "id": "4LR5IIJ58JPr",
        "colab_type": "code",
        "outputId": "50a3d7b8-17aa-411c-a478-76770c94ce65",
        "colab": {
          "base_uri": "https://localhost:8080/",
          "height": 34
        }
      },
      "source": [
        "X_train1 = np.concatenate((X[neg_train_index1,:],X[pos_train_index,:]),axis=0)\n",
        "y_train1 = np.concatenate((y[neg_train_index1],y[pos_train_index]),axis=0)\n",
        "\n",
        "X_train2 = np.concatenate((X[neg_train_index2,:],X[pos_train_index,:]),axis=0)\n",
        "y_train2 = np.concatenate((y[neg_train_index2],y[pos_train_index]),axis=0)\n",
        "\n",
        "X_train3 = np.concatenate((X[neg_train_index3,:],X[pos_train_index,:]),axis=0)\n",
        "y_train3 = np.concatenate((y[neg_train_index3],y[pos_train_index]),axis=0)\n",
        "\n",
        "X_train4 = np.concatenate((X[neg_train_index4,:],X[pos_train_index,:]),axis=0)\n",
        "y_train4 = np.concatenate((y[neg_train_index4],y[pos_train_index]),axis=0)\n",
        "\n",
        "X_train5 = np.concatenate((X[neg_train_index5,:],X[pos_train_index,:]),axis=0)\n",
        "y_train5 = np.concatenate((y[neg_train_index5],y[pos_train_index]),axis=0)\n",
        "\n",
        "X_train6 = np.concatenate((X[neg_train_index6,:],X[pos_train_index,:]),axis=0)\n",
        "y_train6 = np.concatenate((y[neg_train_index6],y[pos_train_index]),axis=0)\n",
        "\n",
        "X_train6.shape, y_train6.shape"
      ],
      "execution_count": 13,
      "outputs": [
        {
          "output_type": "execute_result",
          "data": {
            "text/plain": [
              "((400, 14), (400,))"
            ]
          },
          "metadata": {
            "tags": []
          },
          "execution_count": 13
        }
      ]
    },
    {
      "cell_type": "code",
      "metadata": {
        "id": "n5hQ5N618JPt",
        "colab_type": "code",
        "outputId": "25e8a91c-17a3-4deb-ed6e-b279847e2603",
        "colab": {
          "base_uri": "https://localhost:8080/",
          "height": 34
        }
      },
      "source": [
        "X_test = np.concatenate((X[neg_test_index,:],X[pos_test_index,:]),axis=0)\n",
        "y_test = np.concatenate((y[neg_test_index],y[pos_test_index]),axis=0)\n",
        "X_test.shape, y_test.shape"
      ],
      "execution_count": 14,
      "outputs": [
        {
          "output_type": "execute_result",
          "data": {
            "text/plain": [
              "((155, 14), (155,))"
            ]
          },
          "metadata": {
            "tags": []
          },
          "execution_count": 14
        }
      ]
    },
    {
      "cell_type": "markdown",
      "metadata": {
        "id": "ZgKGb8HK8JPv",
        "colab_type": "text"
      },
      "source": [
        "Data normalization to range of (0 to 1)"
      ]
    },
    {
      "cell_type": "code",
      "metadata": {
        "id": "wmkv5Op98JPv",
        "colab_type": "code",
        "colab": {}
      },
      "source": [
        "from sklearn.preprocessing import MinMaxScaler\n",
        "alltrain = np.concatenate((X_train1,X_train2,X_train3,X_train4,X_train5,X_train6),axis=0)\n",
        "scaler = MinMaxScaler(feature_range=(0, 1))\n",
        "scaler.fit(alltrain)\n",
        "X_train_norm1 = scaler.transform(X_train1)\n",
        "X_train_norm2 = scaler.transform(X_train2)\n",
        "X_train_norm3 = scaler.transform(X_train3)\n",
        "X_train_norm4 = scaler.transform(X_train4)\n",
        "X_train_norm5 = scaler.transform(X_train5)\n",
        "X_train_norm6 = scaler.transform(X_train6)\n",
        "X_test_norm = scaler.transform(X_test)"
      ],
      "execution_count": 0,
      "outputs": []
    },
    {
      "cell_type": "markdown",
      "metadata": {
        "id": "vIohrB1DCyQS",
        "colab_type": "text"
      },
      "source": [
        "# Load Blind Test"
      ]
    },
    {
      "cell_type": "code",
      "metadata": {
        "id": "zeW-r6UEC03N",
        "colab_type": "code",
        "outputId": "4eb41b5a-2e21-4d93-ea18-3ba80398d9b5",
        "colab": {
          "base_uri": "https://localhost:8080/",
          "height": 34
        }
      },
      "source": [
        "df = pd.read_csv('https://raw.githubusercontent.com/plenoi/Clinic/master/Blind.csv')\n",
        "df = df.set_index('hn')\n",
        "df_clean_column = df.drop(['appearance','Wardsize','RHlvsi','depth','nodeyiel','vgmargin','pelvicme','adnmet'],axis = 1)\n",
        "df_clean = df_clean_column.dropna(axis = 0)\n",
        "y_blind = df_clean['pmmet'].values\n",
        "X_blind = df_clean.drop(['pmmet'],axis = 1).values\n",
        "\n",
        "pel_class = np.unique(df_clean['pmmet'])\n",
        "pel_value = [sum(df_clean['pmmet']==pel_class[0]),\n",
        "             sum(df_clean['pmmet']==pel_class[1])]\n",
        "pel_value\n"
      ],
      "execution_count": 16,
      "outputs": [
        {
          "output_type": "execute_result",
          "data": {
            "text/plain": [
              "[96, 43]"
            ]
          },
          "metadata": {
            "tags": []
          },
          "execution_count": 16
        }
      ]
    },
    {
      "cell_type": "markdown",
      "metadata": {
        "id": "W_TJBQK9C2Cv",
        "colab_type": "text"
      },
      "source": [
        "Data normalization using same scale"
      ]
    },
    {
      "cell_type": "code",
      "metadata": {
        "id": "U1IiFfFLC1Fw",
        "colab_type": "code",
        "colab": {}
      },
      "source": [
        "X_blind_norm = scaler.transform(X_blind)"
      ],
      "execution_count": 0,
      "outputs": []
    },
    {
      "cell_type": "markdown",
      "metadata": {
        "id": "cpFA7Afx8JPy",
        "colab_type": "text"
      },
      "source": [
        "# Logistic Regression "
      ]
    },
    {
      "cell_type": "markdown",
      "metadata": {
        "id": "pEC9r99f8JP0",
        "colab_type": "text"
      },
      "source": [
        "10-Folds Cross Validation Training Accuracy with Tuning"
      ]
    },
    {
      "cell_type": "code",
      "metadata": {
        "id": "wtagYOLw8JP0",
        "colab_type": "code",
        "outputId": "e7ee8339-0b1b-4d68-a4e1-242a1ff71717",
        "colab": {
          "base_uri": "https://localhost:8080/",
          "height": 51
        }
      },
      "source": [
        "from sklearn.linear_model import LogisticRegression\n",
        "from sklearn.model_selection import GridSearchCV\n",
        "\n",
        "params = {'C': [1, 2, 4, 8, 16]}\n",
        "clf = GridSearchCV(LogisticRegression(random_state=0, solver='liblinear'),params, cv=10)\n",
        "clf.fit(X_train_norm2, y_train2)\n",
        "print(\"Best params : \" + str(clf.best_params_))\n",
        "print(\"10CV accuracy : \"+str(clf.best_score_*100))"
      ],
      "execution_count": 19,
      "outputs": [
        {
          "output_type": "stream",
          "text": [
            "Best params : {'C': 16}\n",
            "10CV accuracy : 73.25\n"
          ],
          "name": "stdout"
        }
      ]
    },
    {
      "cell_type": "markdown",
      "metadata": {
        "id": "1TzTClfO8JP3",
        "colab_type": "text"
      },
      "source": [
        "Test Accuracy"
      ]
    },
    {
      "cell_type": "code",
      "metadata": {
        "scrolled": true,
        "id": "HhOEcwrg8JP3",
        "colab_type": "code",
        "outputId": "47bf6188-4e80-4b5e-ea87-2e1f47d05fb7",
        "colab": {
          "base_uri": "https://localhost:8080/",
          "height": 34
        }
      },
      "source": [
        "from sklearn.metrics import classification_report\n",
        "from sklearn.metrics import confusion_matrix\n",
        "y_predict = clf.predict(X_test_norm)\n",
        "print(\"Test accuracy : \"+str(sum(y_test == y_predict)/len(y_test)*100))"
      ],
      "execution_count": 40,
      "outputs": [
        {
          "output_type": "stream",
          "text": [
            "Test accuracy : 71.61290322580646\n"
          ],
          "name": "stdout"
        }
      ]
    },
    {
      "cell_type": "code",
      "metadata": {
        "id": "U1j5UvWw8JP5",
        "colab_type": "code",
        "outputId": "a3cb1440-3767-4336-981e-6d8b05ca3480",
        "colab": {
          "base_uri": "https://localhost:8080/",
          "height": 283
        }
      },
      "source": [
        "from sklearn.metrics import confusion_matrix\n",
        "import matplotlib.pyplot as plt\n",
        "import seaborn as sns\n",
        "target_names = ['negative', 'positive']\n",
        "C = confusion_matrix(y_test,y_predict) \n",
        "C = C / C.astype(np.float).sum(axis=1)*100\n",
        "sns.heatmap(C, annot=True, fmt=\"f\",cmap=\"GnBu\",xticklabels=target_names, yticklabels=target_names)\n",
        "plt.ylabel(\"True Label\")\n",
        "plt.xlabel(\"Predicted Label\")\n",
        "plt.show()"
      ],
      "execution_count": 42,
      "outputs": [
        {
          "output_type": "display_data",
          "data": {
            "image/png": "[encoded data removed]",
            "text/plain": [
              "<Figure size 432x288 with 2 Axes>"
            ]
          },
          "metadata": {
            "tags": []
          }
        }
      ]
    },
    {
      "cell_type": "markdown",
      "metadata": {
        "id": "icsS2l7yS3Ke",
        "colab_type": "text"
      },
      "source": [
        "The precision is the ratio tp / (tp + fp). The precision is the ability of the classifier not to label as positive a sample that is negative.\n",
        "\n",
        "The recall is the ratio tp / (tp + fn). The recall is the ability of the classifier to find all the positive samples.\n",
        "\n",
        "The F score can be interpreted as a weighted harmonic mean of the precision and recall, where an F-beta score reaches its best value at 1 and worst score at 0.\n",
        "\n",
        "The support is the number of occurrences of each class in y_true."
      ]
    },
    {
      "cell_type": "code",
      "metadata": {
        "id": "ZUQXjLDe8JP6",
        "colab_type": "code",
        "outputId": "71bfd072-c128-4883-c28b-1964cb812fc4",
        "colab": {
          "base_uri": "https://localhost:8080/",
          "height": 170
        }
      },
      "source": [
        "print(classification_report(y_test, y_predict, target_names=target_names))"
      ],
      "execution_count": 43,
      "outputs": [
        {
          "output_type": "stream",
          "text": [
            "              precision    recall  f1-score   support\n",
            "\n",
            "    negative       0.74      0.67      0.70        78\n",
            "    positive       0.69      0.77      0.73        77\n",
            "\n",
            "    accuracy                           0.72       155\n",
            "   macro avg       0.72      0.72      0.72       155\n",
            "weighted avg       0.72      0.72      0.72       155\n",
            "\n"
          ],
          "name": "stdout"
        }
      ]
    },
    {
      "cell_type": "code",
      "metadata": {
        "id": "uxXJjCk6u1rp",
        "colab_type": "code",
        "colab": {
          "base_uri": "https://localhost:8080/",
          "height": 34
        },
        "outputId": "0997d8fd-1988-45e6-a3b0-ea58dcd2ac95"
      },
      "source": [
        "y_predict = clf.predict(X_blind_norm)\n",
        "print(\"Test accuracy : \"+str(sum(y_blind == y_predict)/len(y_blind)*100))"
      ],
      "execution_count": 26,
      "outputs": [
        {
          "output_type": "stream",
          "text": [
            "Test accuracy : 69.7841726618705\n"
          ],
          "name": "stdout"
        }
      ]
    },
    {
      "cell_type": "markdown",
      "metadata": {
        "id": "d4oqUUFXK7Ow",
        "colab_type": "text"
      },
      "source": [
        "# Interpret Logistics Regression"
      ]
    },
    {
      "cell_type": "code",
      "metadata": {
        "id": "j1Q8JpvMM4uv",
        "colab_type": "code",
        "colab": {}
      },
      "source": [
        "def evalBinaryClassifier(model, x, y, labels=['Positives','Negatives']):\n",
        "    '''\n",
        "    Visualize the performance of  a Logistic Regression Binary Classifier.\n",
        "    \n",
        "    Displays a labelled Confusion Matrix, distributions of the predicted\n",
        "    probabilities for both classes, the ROC curve, and F1 score of a fitted\n",
        "    Binary Logistic Classifier. Author: gregcondit.com/articles/logr-charts\n",
        "    \n",
        "    Parameters\n",
        "    ----------\n",
        "    model : fitted scikit-learn model with predict_proba & predict methods\n",
        "        and classes_ attribute. Typically LogisticRegression or \n",
        "        LogisticRegressionCV\n",
        "    \n",
        "    x : {array-like, sparse matrix}, shape (n_samples, n_features)\n",
        "        Training vector, where n_samples is the number of samples\n",
        "        in the data to be tested, and n_features is the number of features\n",
        "    \n",
        "    y : array-like, shape (n_samples,)\n",
        "        Target vector relative to x.\n",
        "    \n",
        "    labels: list, optional\n",
        "        list of text labels for the two classes, with the positive label first\n",
        "        \n",
        "    Displays\n",
        "    ----------\n",
        "    3 Subplots\n",
        "    \n",
        "    Returns\n",
        "    ----------\n",
        "    F1: float\n",
        "    '''\n",
        "    #model predicts probabilities of positive class\n",
        "    p = model.predict_proba(x)\n",
        "    if len(model.classes_)!=2:\n",
        "        raise ValueError('A binary class problem is required')\n",
        "    if model.classes_[1] == 1:\n",
        "        pos_p = p[:,1]\n",
        "    elif model.classes_[0] == 1:\n",
        "        pos_p = p[:,0]\n",
        "    \n",
        "    #FIGURE\n",
        "    plt.figure(figsize=[15,4])\n",
        "    \n",
        "    #1 -- Confusion matrix\n",
        "    y_p =  model.predict(x)\n",
        "    cm = confusion_matrix(y, y_p)\n",
        "    cm = cm / cm.astype(np.float).sum(axis=1)*100\n",
        "    plt.subplot(131)\n",
        "    ax = sns.heatmap(cm, annot=True, cmap='Blues', cbar=False, \n",
        "                annot_kws={\"size\": 14}, fmt='g')\n",
        "    cmlabels = ['True Negatives', 'False Positives',\n",
        "              'False Negatives', 'True Positives']\n",
        "    for i,t in enumerate(ax.texts):\n",
        "        t.set_text(t.get_text() + \"\\n\" + cmlabels[i])\n",
        "    plt.title('Confusion Matrix', size=15)\n",
        "    plt.xlabel('Predicted Values', size=13)\n",
        "    plt.ylabel('True Values', size=13)\n",
        "      \n",
        "    #2 -- Distributions of Predicted Probabilities of both classes\n",
        "    df = pd.DataFrame({'probPos':pos_p, 'target': y})\n",
        "    plt.subplot(132)\n",
        "    plt.hist(df[df.target==1].probPos, density=True, bins=25,\n",
        "             alpha=.5, color='green',  label=labels[0])\n",
        "    plt.hist(df[df.target==0].probPos, density=True, bins=25,\n",
        "             alpha=.5, color='red', label=labels[1])\n",
        "    plt.axvline(.5, color='blue', linestyle='--', label='Boundary')\n",
        "    plt.xlim([0,1])\n",
        "    plt.title('Distributions of Predictions', size=15)\n",
        "    plt.xlabel('Positive Probability (predicted)', size=13)\n",
        "    plt.ylabel('Samples (normalized scale)', size=13)\n",
        "    plt.legend(loc=\"upper right\")\n",
        "    \n",
        "    #3 -- ROC curve with annotated decision point\n",
        "    fp_rates, tp_rates, _ = roc_curve(y,p[:,1])\n",
        "    roc_auc = auc(fp_rates, tp_rates)\n",
        "    plt.subplot(133)\n",
        "    plt.plot(fp_rates, tp_rates, color='green',\n",
        "             lw=1, label='ROC curve (area = %0.2f)' % roc_auc)\n",
        "    plt.plot([0, 1], [0, 1], lw=1, linestyle='--', color='grey')\n",
        "    #plot current decision point:\n",
        "    tn, fp, fn, tp = [i for i in cm.ravel()]\n",
        "    plt.plot(fp/(fp+tn), tp/(tp+fn), 'bo', markersize=8, label='Decision Point')\n",
        "    plt.xlim([0.0, 1.0])\n",
        "    plt.ylim([0.0, 1.05])\n",
        "    plt.xlabel('False Positive Rate', size=13)\n",
        "    plt.ylabel('True Positive Rate', size=13)\n",
        "    plt.title('ROC Curve', size=15)\n",
        "    plt.legend(loc=\"lower right\")\n",
        "    plt.subplots_adjust(wspace=.3)\n",
        "    plt.show()\n",
        "    #Print and Return the F1 score\n",
        "    tn, fp, fn, tp = [i for i in cm.ravel()]\n",
        "    precision = tp / (tp + fp)\n",
        "    recall = tp / (tp + fn)\n",
        "    F1 = 2*(precision * recall) / (precision + recall)\n",
        "    printout = (\n",
        "        f'Precision: {round(precision,2)} | '\n",
        "        f'Recall: {round(recall,2)} | '\n",
        "        f'F1 Score: {round(F1,2)} | '\n",
        "    )\n",
        "    print(printout)\n",
        "    return 'Accuracy: '+str(sum(y == y_p)/len(y)*100)"
      ],
      "execution_count": 0,
      "outputs": []
    },
    {
      "cell_type": "markdown",
      "metadata": {
        "id": "uEUJQF2CLdmX",
        "colab_type": "text"
      },
      "source": [
        "Create our final model"
      ]
    },
    {
      "cell_type": "code",
      "metadata": {
        "id": "aP88uuMHLc-f",
        "colab_type": "code",
        "colab": {
          "base_uri": "https://localhost:8080/",
          "height": 102
        },
        "outputId": "2bc0a08b-688a-4c2e-933b-fe433d9bd2a8"
      },
      "source": [
        "clf = LogisticRegression(random_state=0, solver='liblinear', C=16)\n",
        "clf.fit(X_train_norm2, y_train2)"
      ],
      "execution_count": 38,
      "outputs": [
        {
          "output_type": "execute_result",
          "data": {
            "text/plain": [
              "LogisticRegression(C=16, class_weight=None, dual=False, fit_intercept=True,\n",
              "                   intercept_scaling=1, l1_ratio=None, max_iter=100,\n",
              "                   multi_class='warn', n_jobs=None, penalty='l2',\n",
              "                   random_state=0, solver='liblinear', tol=0.0001, verbose=0,\n",
              "                   warm_start=False)"
            ]
          },
          "metadata": {
            "tags": []
          },
          "execution_count": 38
        }
      ]
    },
    {
      "cell_type": "markdown",
      "metadata": {
        "id": "6pgHh9keMcwA",
        "colab_type": "text"
      },
      "source": [
        "Distribution of Predicted Probabilities of both classes in validation data"
      ]
    },
    {
      "cell_type": "code",
      "metadata": {
        "id": "zqyWXejAMQE9",
        "colab_type": "code",
        "colab": {
          "base_uri": "https://localhost:8080/",
          "height": 334
        },
        "outputId": "d351bc3c-f8ea-4984-dbc5-3734240fb672"
      },
      "source": [
        "from sklearn.metrics import roc_curve, confusion_matrix, auc\n",
        "evalBinaryClassifier(clf, X_test_norm, y_test)"
      ],
      "execution_count": 55,
      "outputs": [
        {
          "output_type": "display_data",
          "data": {
            "image/png": "[encoded data removed]",
            "text/plain": [
              "<Figure size 1080x288 with 3 Axes>"
            ]
          },
          "metadata": {
            "tags": []
          }
        },
        {
          "output_type": "stream",
          "text": [
            "Precision: 0.69 | Recall: 0.77 | F1 Score: 0.73 | \n"
          ],
          "name": "stdout"
        },
        {
          "output_type": "execute_result",
          "data": {
            "text/plain": [
              "'accuracy: 71.61290322580646'"
            ]
          },
          "metadata": {
            "tags": []
          },
          "execution_count": 55
        }
      ]
    },
    {
      "cell_type": "markdown",
      "metadata": {
        "id": "ZjXK00E2MNM2",
        "colab_type": "text"
      },
      "source": [
        "Interpret features"
      ]
    },
    {
      "cell_type": "code",
      "metadata": {
        "id": "g9926uwDREoy",
        "colab_type": "code",
        "colab": {}
      },
      "source": [
        "import statsmodels.api as sm"
      ],
      "execution_count": 0,
      "outputs": []
    },
    {
      "cell_type": "markdown",
      "metadata": {
        "id": "zYdHh-yUK_qR",
        "colab_type": "text"
      },
      "source": [
        "Get intercept and coefficient"
      ]
    },
    {
      "cell_type": "code",
      "metadata": {
        "id": "1pQ-FtYMK5_E",
        "colab_type": "code",
        "colab": {
          "base_uri": "https://localhost:8080/",
          "height": 136
        },
        "outputId": "cb4d09bc-f002-460c-a5d5-9ccbee64c2fc"
      },
      "source": [
        "print('intercept : ', clf.intercept_)\n",
        "print('coefficient : ', clf.coef_)\n",
        "print('odd-ratio :', np.exp(clf.coef_))"
      ],
      "execution_count": 59,
      "outputs": [
        {
          "output_type": "stream",
          "text": [
            "intercept :  [-3.3564898]\n",
            "coefficient :  [[ 1.05594687 -0.79271848  2.02130949  0.55513268  0.36294024 -0.023241\n",
            "   0.22402443  0.23507289  1.32507846  0.22091543 -0.19670057  4.37803156\n",
            "   1.90120674  0.81898861]]\n",
            "odd-ratio : [[ 2.87469584  0.4526127   7.54820274  1.74217212  1.43754996  0.97702699\n",
            "   1.25110158  1.26500097  3.76248054  1.24721795  0.82143656 79.68103161\n",
            "   6.69396746  2.26820463]]\n"
          ],
          "name": "stdout"
        }
      ]
    },
    {
      "cell_type": "markdown",
      "metadata": {
        "id": "xPlixLR6yz00",
        "colab_type": "text"
      },
      "source": [
        "# Logistic Regression with Validation Dataset"
      ]
    },
    {
      "cell_type": "code",
      "metadata": {
        "id": "FdBgopMPMyKn",
        "colab_type": "code",
        "colab": {}
      },
      "source": [
        "result = list()"
      ],
      "execution_count": 0,
      "outputs": []
    },
    {
      "cell_type": "code",
      "metadata": {
        "id": "wPTCh-pUy0Nb",
        "colab_type": "code",
        "outputId": "e8db0a71-207b-4797-870b-c089c23506ed",
        "colab": {
          "base_uri": "https://localhost:8080/",
          "height": 51
        }
      },
      "source": [
        "from sklearn.linear_model import LogisticRegression\n",
        "from sklearn.model_selection import GridSearchCV, PredefinedSplit\n",
        "params = {'C': [1, 2, 4, 8, 16]}\n",
        "clf = GridSearchCV(LogisticRegression(random_state=0, solver='liblinear'),params, cv=10 , scoring = 'accuracy')\n",
        "clf.fit(X_train_norm1, y_train1)\n",
        "train_acc = clf.best_score_*100\n",
        "print(\"Best params : \" + str(clf.best_params_))\n",
        "print(\"Training accuracy : \"+str(train_acc))"
      ],
      "execution_count": 0,
      "outputs": [
        {
          "output_type": "stream",
          "text": [
            "Best params : {'C': 1}\n",
            "Training accuracy : 71.25\n"
          ],
          "name": "stdout"
        }
      ]
    },
    {
      "cell_type": "code",
      "metadata": {
        "id": "sYDcOWGq3j0V",
        "colab_type": "code",
        "outputId": "33c85c99-4464-4e5b-a4e0-aa634c57e21c",
        "colab": {
          "base_uri": "https://localhost:8080/",
          "height": 34
        }
      },
      "source": [
        "from sklearn.metrics import classification_report\n",
        "from sklearn.metrics import confusion_matrix, accuracy_score\n",
        "y_predict = clf.predict(X_test_norm)\n",
        "test_acc = sum(y_test == y_predict)/len(y_test)*100\n",
        "print(\"Test accuracy : \"+str(test_acc))"
      ],
      "execution_count": 0,
      "outputs": [
        {
          "output_type": "stream",
          "text": [
            "Test accuracy : 71.61290322580646\n"
          ],
          "name": "stdout"
        }
      ]
    },
    {
      "cell_type": "code",
      "metadata": {
        "id": "OLqaewjDINfB",
        "colab_type": "code",
        "outputId": "5ec6c2fd-7c21-49fa-cd58-bbd219307d3a",
        "colab": {
          "base_uri": "https://localhost:8080/",
          "height": 34
        }
      },
      "source": [
        "from sklearn.metrics import classification_report\n",
        "from sklearn.metrics import confusion_matrix\n",
        "y_predict = clf.predict(X_blind_norm)\n",
        "blind_acc = sum(y_blind == y_predict)/len(y_blind)*100\n",
        "print(\"Blind accuracy : \"+str(blind_acc))"
      ],
      "execution_count": 0,
      "outputs": [
        {
          "output_type": "stream",
          "text": [
            "Blind accuracy : 64.74820143884892\n"
          ],
          "name": "stdout"
        }
      ]
    },
    {
      "cell_type": "code",
      "metadata": {
        "id": "RhfI4i6TL5JJ",
        "colab_type": "code",
        "colab": {}
      },
      "source": [
        "result.append([train_acc, test_acc, blind_acc])"
      ],
      "execution_count": 0,
      "outputs": []
    },
    {
      "cell_type": "code",
      "metadata": {
        "id": "Trr4zcA9Nuy1",
        "colab_type": "code",
        "outputId": "6fef3f06-135d-450f-f5c0-9b793ad37e8e",
        "colab": {
          "base_uri": "https://localhost:8080/",
          "height": 68
        }
      },
      "source": [
        "result"
      ],
      "execution_count": 0,
      "outputs": [
        {
          "output_type": "execute_result",
          "data": {
            "text/plain": [
              "[[77.25, 69.6774193548387, 66.18705035971223],\n",
              " [71.0, 70.3225806451613, 69.06474820143885],\n",
              " [69.75, 70.96774193548387, 68.34532374100719]]"
            ]
          },
          "metadata": {
            "tags": []
          },
          "execution_count": 307
        }
      ]
    },
    {
      "cell_type": "markdown",
      "metadata": {
        "id": "fqDI1JlmZat7",
        "colab_type": "text"
      },
      "source": [
        "#SGD Classifier\n",
        "10-Folds Cross Validation Training Accuracy with Tuning"
      ]
    },
    {
      "cell_type": "code",
      "metadata": {
        "id": "VGvBrm6SZbGw",
        "colab_type": "code",
        "outputId": "21531334-5e19-456a-cb57-0c8c79856eff",
        "colab": {
          "base_uri": "https://localhost:8080/",
          "height": 51
        }
      },
      "source": [
        "from sklearn.linear_model import SGDClassifier\n",
        "from sklearn.model_selection import GridSearchCV\n",
        "\n",
        "params = {\n",
        "    'loss' : ['hinge', 'log','modified_huber','squared_hinge', 'perceptron'],\n",
        "    'penalty' : ['l2', 'l1', 'none', 'elasticnet'],\n",
        "    'alpha' : [0.0001, 0.001, 0.01, 0.1],\n",
        "    'eta0' : [0.001, 0.01, 0.1],\n",
        "    'l1_ratio' : [0.1, 0.2, 0.3,0.4,0.5,0.6,0.7,0.8, 0.9]\n",
        "}\n",
        "clf = GridSearchCV(SGDClassifier(random_state=0,max_iter=1000,learning_rate='constant', eta0 = 0.0001),params, cv=10)\n",
        "clf.fit(X_train_norm, y_train)\n",
        "print(\"Best params : \" + str(clf.best_params_))\n",
        "print(\"10CV accuracy : \"+str(clf.best_score_))"
      ],
      "execution_count": 0,
      "outputs": [
        {
          "output_type": "stream",
          "text": [
            "Best params : {'alpha': 0.0001, 'eta0': 0.1, 'l1_ratio': 0.8, 'loss': 'hinge', 'penalty': 'elasticnet'}\n",
            "10CV accuracy : 0.74\n"
          ],
          "name": "stdout"
        }
      ]
    },
    {
      "cell_type": "markdown",
      "metadata": {
        "id": "EtJH6iOFDBDG",
        "colab_type": "text"
      },
      "source": [
        "Test Accuracy"
      ]
    },
    {
      "cell_type": "code",
      "metadata": {
        "id": "Vlx7BzobDC4o",
        "colab_type": "code",
        "outputId": "b740379e-6bb8-4671-88f0-5400a2808ac3",
        "colab": {
          "base_uri": "https://localhost:8080/",
          "height": 34
        }
      },
      "source": [
        "from sklearn.metrics import classification_report\n",
        "from sklearn.metrics import confusion_matrix\n",
        "y_predict = clf.predict(X_test_norm)\n",
        "print(\"Test accuracy : \"+str(sum(y_test == y_predict)/len(y_test)*100))"
      ],
      "execution_count": 0,
      "outputs": [
        {
          "output_type": "stream",
          "text": [
            "Test accuracy : 72.90322580645162\n"
          ],
          "name": "stdout"
        }
      ]
    },
    {
      "cell_type": "code",
      "metadata": {
        "id": "virBSM-lDUs2",
        "colab_type": "code",
        "outputId": "47b57532-badc-4f65-c274-ff106a61dd1a",
        "colab": {
          "base_uri": "https://localhost:8080/",
          "height": 283
        }
      },
      "source": [
        "from sklearn.metrics import confusion_matrix\n",
        "import matplotlib.pyplot as plt\n",
        "import seaborn as sns\n",
        "target_names = ['negative', 'positive']\n",
        "C = confusion_matrix(y_test,y_predict) \n",
        "#C = C / C.astype(np.float).sum(axis=1)*100\n",
        "sns.heatmap(C, annot=True, fmt=\"d\",cmap=\"GnBu\",xticklabels=target_names, yticklabels=target_names)\n",
        "plt.ylabel(\"True Label\")\n",
        "plt.xlabel(\"Predicted Label\")\n",
        "plt.show()"
      ],
      "execution_count": 0,
      "outputs": [
        {
          "output_type": "display_data",
          "data": {
            "image/png": "[encoded data removed]",
            "text/plain": [
              "<Figure size 432x288 with 2 Axes>"
            ]
          },
          "metadata": {
            "tags": []
          }
        }
      ]
    },
    {
      "cell_type": "markdown",
      "metadata": {
        "id": "7yZrHa4ZDWkX",
        "colab_type": "text"
      },
      "source": [
        "The precision is the ratio tp / (tp + fp). The precision is the ability of the classifier not to label as positive a sample that is negative.\n",
        "\n",
        "The recall is the ratio tp / (tp + fn). The recall is the ability of the classifier to find all the positive samples.\n",
        "\n",
        "The F score can be interpreted as a weighted harmonic mean of the precision and recall, where an F-beta score reaches its best value at 1 and worst score at 0.\n",
        "\n",
        "The support is the number of occurrences of each class in y_true."
      ]
    },
    {
      "cell_type": "code",
      "metadata": {
        "id": "sanoTnPqDW6G",
        "colab_type": "code",
        "outputId": "e330973d-cb99-4998-8814-95498ab3a623",
        "colab": {
          "base_uri": "https://localhost:8080/",
          "height": 170
        }
      },
      "source": [
        "print(classification_report(y_test, y_predict, target_names=target_names))"
      ],
      "execution_count": 0,
      "outputs": [
        {
          "output_type": "stream",
          "text": [
            "              precision    recall  f1-score   support\n",
            "\n",
            "    negative       0.79      0.63      0.70        78\n",
            "    positive       0.69      0.83      0.75        77\n",
            "\n",
            "    accuracy                           0.73       155\n",
            "   macro avg       0.74      0.73      0.73       155\n",
            "weighted avg       0.74      0.73      0.73       155\n",
            "\n"
          ],
          "name": "stdout"
        }
      ]
    },
    {
      "cell_type": "markdown",
      "metadata": {
        "id": "83TUQPbu8JP8",
        "colab_type": "text"
      },
      "source": [
        "# Support Vector Machine"
      ]
    },
    {
      "cell_type": "markdown",
      "metadata": {
        "id": "cB-9M8468JP9",
        "colab_type": "text"
      },
      "source": [
        "10-Folds Cross Validation Training Accuracy"
      ]
    },
    {
      "cell_type": "code",
      "metadata": {
        "id": "SVtRIhLf8JP9",
        "colab_type": "code",
        "outputId": "72bd405f-3033-4af5-efdf-060facb56d3a",
        "colab": {
          "base_uri": "https://localhost:8080/",
          "height": 51
        }
      },
      "source": [
        "from sklearn.svm import SVC\n",
        "from sklearn.model_selection import GridSearchCV\n",
        "params = {\n",
        "    'C' : [1,2,4,8,16,32], # High C = Overfitting\n",
        "    'gamma' : [0.03125, 0.0625, 0.125, 0.25, 0.5, 1, 2, 4, 8, 16, 32] # High gamma = Overfitting\n",
        "}\n",
        "clf = GridSearchCV(SVC(),params, cv=10)\n",
        "clf.fit(X_train_norm, y_train)\n",
        "print(\"Best params : \" + str(clf.best_params_))\n",
        "print(\"10CV accuracy : \"+str(clf.best_score_*100))"
      ],
      "execution_count": 0,
      "outputs": [
        {
          "output_type": "stream",
          "text": [
            "Best params : {'C': 16, 'gamma': 0.125}\n",
            "10CV accuracy : 74.25\n"
          ],
          "name": "stdout"
        }
      ]
    },
    {
      "cell_type": "markdown",
      "metadata": {
        "id": "NsybCHdK8JP_",
        "colab_type": "text"
      },
      "source": [
        "Test Accuracy"
      ]
    },
    {
      "cell_type": "code",
      "metadata": {
        "id": "XJ0XGMYp8JP_",
        "colab_type": "code",
        "outputId": "a869883c-c930-41f8-e8a0-54906cb7d20b",
        "colab": {
          "base_uri": "https://localhost:8080/",
          "height": 34
        }
      },
      "source": [
        "from sklearn.metrics import classification_report\n",
        "from sklearn.metrics import confusion_matrix\n",
        "y_predict = clf.predict(X_test_norm)\n",
        "target_names = ['negative', 'positive']\n",
        "sum(y_test == y_predict)/len(y_test)"
      ],
      "execution_count": 0,
      "outputs": [
        {
          "output_type": "execute_result",
          "data": {
            "text/plain": [
              "0.7225806451612903"
            ]
          },
          "metadata": {
            "tags": []
          },
          "execution_count": 26
        }
      ]
    },
    {
      "cell_type": "code",
      "metadata": {
        "id": "C--oj8zn8JQB",
        "colab_type": "code",
        "outputId": "618302e5-bde5-4ea1-88b4-2a4fe22217fc",
        "colab": {
          "base_uri": "https://localhost:8080/",
          "height": 283
        }
      },
      "source": [
        "from sklearn.metrics import confusion_matrix\n",
        "import matplotlib.pyplot as plt\n",
        "import seaborn as sns\n",
        "target_names = ['negative', 'positive']\n",
        "C = confusion_matrix(y_test,y_predict) \n",
        "C = C / C.astype(np.float).sum(axis=1)*100\n",
        "sns.heatmap(C, annot=True, fmt=\".2f\",cmap=\"GnBu\",xticklabels=target_names, yticklabels=target_names)\n",
        "plt.ylabel(\"True Label\")\n",
        "plt.xlabel(\"Predicted Label\")\n",
        "plt.show()"
      ],
      "execution_count": 0,
      "outputs": [
        {
          "output_type": "display_data",
          "data": {
            "image/png": "[encoded data removed]",
            "text/plain": [
              "<Figure size 432x288 with 2 Axes>"
            ]
          },
          "metadata": {
            "tags": []
          }
        }
      ]
    },
    {
      "cell_type": "code",
      "metadata": {
        "id": "v8NLTtRz8JQC",
        "colab_type": "code",
        "outputId": "23a8bb4d-b821-4aad-e6cb-4e8f2bcace77",
        "colab": {
          "base_uri": "https://localhost:8080/",
          "height": 170
        }
      },
      "source": [
        "print(classification_report(y_test, y_predict, target_names=target_names))"
      ],
      "execution_count": 0,
      "outputs": [
        {
          "output_type": "stream",
          "text": [
            "              precision    recall  f1-score   support\n",
            "\n",
            "    negative       0.78      0.63      0.70        78\n",
            "    positive       0.68      0.82      0.75        77\n",
            "\n",
            "    accuracy                           0.72       155\n",
            "   macro avg       0.73      0.72      0.72       155\n",
            "weighted avg       0.73      0.72      0.72       155\n",
            "\n"
          ],
          "name": "stdout"
        }
      ]
    },
    {
      "cell_type": "markdown",
      "metadata": {
        "id": "SDlmx5yk8JQF",
        "colab_type": "text"
      },
      "source": [
        "# Random Forest"
      ]
    },
    {
      "cell_type": "markdown",
      "metadata": {
        "id": "VtXkXkoc8JQF",
        "colab_type": "text"
      },
      "source": [
        "10-Folds Cross Validation Training Accuracy"
      ]
    },
    {
      "cell_type": "code",
      "metadata": {
        "id": "9hBNax_o8JQG",
        "colab_type": "code",
        "outputId": "87b5bb59-97a4-4db3-dab0-fe291dc9f63b",
        "colab": {
          "base_uri": "https://localhost:8080/",
          "height": 51
        }
      },
      "source": [
        "from sklearn.ensemble import RandomForestClassifier\n",
        "from sklearn.model_selection import GridSearchCV\n",
        "params = {\n",
        "    'n_estimators' : [10,50,100,200,500],\n",
        "    'min_samples_leaf' : [1,2,4,8,16,32],\n",
        "    'max_features' : ['sqrt',0.5,0.8],\n",
        "    'criterion' : ['gini','entropy']\n",
        "}\n",
        "clf = GridSearchCV(RandomForestClassifier(random_state=0),params, cv = 10)\n",
        "clf.fit(X_train_norm, y_train)\n",
        "print(\"Best params : \" + str(clf.best_params_))\n",
        "print(\"10CV accuracy : \"+str(clf.best_score_*100))"
      ],
      "execution_count": 0,
      "outputs": [
        {
          "output_type": "stream",
          "text": [
            "Best params : {'criterion': 'gini', 'max_features': 'sqrt', 'min_samples_leaf': 8, 'n_estimators': 100}\n",
            "10CV accuracy : 75.0\n"
          ],
          "name": "stdout"
        }
      ]
    },
    {
      "cell_type": "markdown",
      "metadata": {
        "id": "ysu3HGiI8JQJ",
        "colab_type": "text"
      },
      "source": [
        "Test Accuracy"
      ]
    },
    {
      "cell_type": "code",
      "metadata": {
        "id": "dhvwH76Z8JQK",
        "colab_type": "code",
        "outputId": "6e9cf8c3-1576-45d9-cd6f-a39c47317329",
        "colab": {
          "base_uri": "https://localhost:8080/",
          "height": 34
        }
      },
      "source": [
        "from sklearn.metrics import classification_report\n",
        "from sklearn.metrics import confusion_matrix\n",
        "y_predict = clf.predict(X_test_norm)\n",
        "target_names = ['negative', 'positive']\n",
        "sum(y_test == y_predict)/len(y_test)"
      ],
      "execution_count": 0,
      "outputs": [
        {
          "output_type": "execute_result",
          "data": {
            "text/plain": [
              "0.7096774193548387"
            ]
          },
          "metadata": {
            "tags": []
          },
          "execution_count": 32
        }
      ]
    },
    {
      "cell_type": "code",
      "metadata": {
        "id": "BY-ZyplN8JQL",
        "colab_type": "code",
        "outputId": "07d29e68-5883-407c-d529-340efccbc503",
        "colab": {
          "base_uri": "https://localhost:8080/",
          "height": 283
        }
      },
      "source": [
        "from sklearn.metrics import confusion_matrix\n",
        "import matplotlib.pyplot as plt\n",
        "import seaborn as sns\n",
        "target_names = ['negative', 'positive']\n",
        "C = confusion_matrix(y_test,y_predict) \n",
        "C = C / C.astype(np.float).sum(axis=1)*100\n",
        "sns.heatmap(C, annot=True, fmt=\".2f\",cmap=\"GnBu\",xticklabels=target_names, yticklabels=target_names)\n",
        "plt.ylabel(\"True Label\")\n",
        "plt.xlabel(\"Predicted Label\")\n",
        "plt.show()"
      ],
      "execution_count": 0,
      "outputs": [
        {
          "output_type": "display_data",
          "data": {
            "image/png": "[encoded data removed]",
            "text/plain": [
              "<Figure size 432x288 with 2 Axes>"
            ]
          },
          "metadata": {
            "tags": []
          }
        }
      ]
    },
    {
      "cell_type": "code",
      "metadata": {
        "id": "wwGUP-YJ8JQN",
        "colab_type": "code",
        "outputId": "28f7382e-7fe0-42ce-f92c-01edde49f8c0",
        "colab": {
          "base_uri": "https://localhost:8080/",
          "height": 170
        }
      },
      "source": [
        "print(classification_report(y_test, y_predict, target_names=target_names))"
      ],
      "execution_count": 0,
      "outputs": [
        {
          "output_type": "stream",
          "text": [
            "              precision    recall  f1-score   support\n",
            "\n",
            "    negative       0.77      0.60      0.68        78\n",
            "    positive       0.67      0.82      0.74        77\n",
            "\n",
            "    accuracy                           0.71       155\n",
            "   macro avg       0.72      0.71      0.71       155\n",
            "weighted avg       0.72      0.71      0.71       155\n",
            "\n"
          ],
          "name": "stdout"
        }
      ]
    },
    {
      "cell_type": "markdown",
      "metadata": {
        "id": "LP7YysqP8JQO",
        "colab_type": "text"
      },
      "source": [
        "# XGBoost\n",
        "\n",
        "10-Folds Cross Validation Training Accuracy"
      ]
    },
    {
      "cell_type": "code",
      "metadata": {
        "scrolled": true,
        "id": "8k6aTTLX8JQP",
        "colab_type": "code",
        "outputId": "6508eb7c-91ae-4e66-d4ae-393dcf041be1",
        "colab": {
          "base_uri": "https://localhost:8080/",
          "height": 51
        }
      },
      "source": [
        "#!pip install xgboost  // If you dont have XGBoost\n",
        "import xgboost as xgb\n",
        "from sklearn.model_selection import GridSearchCV\n",
        "params = {\n",
        "    'n_estimators' : [10,50,100,200],\n",
        "    'max_depth' : [2, 4, 8],\n",
        "     'gamma' : [0.03125, 0.0625, 0.125, 0.25, 0.5, 1, 2, 4, 8, 16, 32], # High gamma as much as possible\n",
        "    'learning_rate' : [0.001, 0.01, 0.1],\n",
        "    'minchildweight' : [1,2,4,8,16,32],  # High as much as possible\n",
        "    'subsample' : [0.5,0.8, 1],\n",
        "    'colsample_bytree' : [0.5, 0.8, 1]\n",
        "    #'reg_alpha','reg_lamnda' : [0.0001, 0.001, 0.01, 0.1, 1, 10, 100]  # Only for linear\n",
        "    \n",
        "}\n",
        "clf = GridSearchCV(xgb.XGBClassifier(random_state=0, objective='binary:logistic',n_jobs=-1),params, cv = 10)\n",
        "clf.fit(X_train_norm1, y_train)\n",
        "print(\"Best params : \" + str(clf.best_params_))\n",
        "print(\"10CV accuracy : \"+str(clf.best_score_*100))"
      ],
      "execution_count": 0,
      "outputs": [
        {
          "output_type": "stream",
          "text": [
            "Best params : {'colsample_bytree': 0.5, 'gamma': 0.5, 'learning_rate': 0.1, 'max_depth': 2, 'minchildweight': 1, 'n_estimators': 100, 'subsample': 0.8}\n",
            "10CV accuracy : 76.75\n"
          ],
          "name": "stdout"
        }
      ]
    },
    {
      "cell_type": "markdown",
      "metadata": {
        "id": "rCjZSw3y8JQR",
        "colab_type": "text"
      },
      "source": [
        "Test Accuracy"
      ]
    },
    {
      "cell_type": "code",
      "metadata": {
        "id": "LBzk9b858JQR",
        "colab_type": "code",
        "outputId": "ef64d40b-484d-4a01-a906-3ac35556eed4",
        "colab": {
          "base_uri": "https://localhost:8080/",
          "height": 34
        }
      },
      "source": [
        "from sklearn.metrics import classification_report\n",
        "from sklearn.metrics import confusion_matrix\n",
        "y_predict1 = clf.predict(X_test_norm)\n",
        "target_names = ['negative', 'positive']\n",
        "sum(y_test == y_predict1)/len(y_test)"
      ],
      "execution_count": 0,
      "outputs": [
        {
          "output_type": "execute_result",
          "data": {
            "text/plain": [
              "0.7161290322580646"
            ]
          },
          "metadata": {
            "tags": []
          },
          "execution_count": 19
        }
      ]
    },
    {
      "cell_type": "code",
      "metadata": {
        "scrolled": true,
        "id": "udIynozx8JQT",
        "colab_type": "code",
        "outputId": "834a2d42-3d17-4465-dd2d-186e8e0638ce",
        "colab": {
          "base_uri": "https://localhost:8080/",
          "height": 283
        }
      },
      "source": [
        "from sklearn.metrics import confusion_matrix\n",
        "import matplotlib.pyplot as plt\n",
        "import seaborn as sns\n",
        "target_names = ['negative', 'positive']\n",
        "C = confusion_matrix(y_test,y_predict1) \n",
        "C = C / C.astype(np.float).sum(axis=1)*100\n",
        "sns.heatmap(C, annot=True, fmt=\".2f\",cmap=\"GnBu\",xticklabels=target_names, yticklabels=target_names)\n",
        "plt.ylabel(\"True Label\")\n",
        "plt.xlabel(\"Predicted Label\")\n",
        "plt.show()"
      ],
      "execution_count": 0,
      "outputs": [
        {
          "output_type": "display_data",
          "data": {
            "image/png": "[encoded data removed]",
            "text/plain": [
              "<Figure size 432x288 with 2 Axes>"
            ]
          },
          "metadata": {
            "tags": []
          }
        }
      ]
    },
    {
      "cell_type": "code",
      "metadata": {
        "id": "Z6GyVYcE8JQV",
        "colab_type": "code",
        "outputId": "fa7b45ea-b0a6-4c5e-fdb4-6fd83668a610",
        "colab": {
          "base_uri": "https://localhost:8080/",
          "height": 170
        }
      },
      "source": [
        "print(classification_report(y_test, y_predict1, target_names=target_names))"
      ],
      "execution_count": 0,
      "outputs": [
        {
          "output_type": "stream",
          "text": [
            "              precision    recall  f1-score   support\n",
            "\n",
            "    negative       0.76      0.64      0.69        78\n",
            "    positive       0.69      0.79      0.73        77\n",
            "\n",
            "    accuracy                           0.72       155\n",
            "   macro avg       0.72      0.72      0.71       155\n",
            "weighted avg       0.72      0.72      0.71       155\n",
            "\n"
          ],
          "name": "stdout"
        }
      ]
    },
    {
      "cell_type": "markdown",
      "metadata": {
        "id": "KGawdzqGHuvG",
        "colab_type": "text"
      },
      "source": [
        "# XGBoost Model 2"
      ]
    },
    {
      "cell_type": "code",
      "metadata": {
        "id": "kXvhAQsZHt8Z",
        "colab_type": "code",
        "outputId": "d788acfc-c878-47f0-9832-a31a94c3024e",
        "colab": {
          "base_uri": "https://localhost:8080/",
          "height": 51
        }
      },
      "source": [
        "#!pip install xgboost  // If you dont have XGBoost\n",
        "import xgboost as xgb\n",
        "from sklearn.model_selection import GridSearchCV\n",
        "params = {\n",
        "    'n_estimators' : [10,50,100,200],\n",
        "    'max_depth' : [2, 4, 8],\n",
        "     'gamma' : [0.03125, 0.0625, 0.125, 0.25, 0.5, 1, 2, 4, 8, 16, 32], # High gamma as much as possible\n",
        "    'learning_rate' : [0.001, 0.01, 0.1],\n",
        "    'minchildweight' : [1,2,4,8,16,32],  # High as much as possible\n",
        "    'subsample' : [0.5,0.8, 1],\n",
        "    'colsample_bytree' : [0.5, 0.8, 1]\n",
        "    #'reg_alpha','reg_lamnda' : [0.0001, 0.001, 0.01, 0.1, 1, 10, 100]  # Only for linear\n",
        "    \n",
        "}\n",
        "clf = GridSearchCV(xgb.XGBClassifier(random_state=0, objective='binary:logistic'),params, cv = 10)\n",
        "clf.fit(X_train_norm2, y_train2)\n",
        "print(\"Best params : \" + str(clf.best_params_))\n",
        "print(\"10CV accuracy : \"+str(clf.best_score_*100))\n"
      ],
      "execution_count": 0,
      "outputs": [
        {
          "output_type": "stream",
          "text": [
            "Best params : {'colsample_bytree': 0.5, 'gamma': 0.0625, 'learning_rate': 0.1, 'max_depth': 8, 'minchildweight': 1, 'n_estimators': 50, 'subsample': 0.5}\n",
            "10CV accuracy : 75.75\n"
          ],
          "name": "stdout"
        }
      ]
    },
    {
      "cell_type": "code",
      "metadata": {
        "id": "MVvRtxDxdLKG",
        "colab_type": "code",
        "outputId": "c84a5f58-d310-4693-90f8-9fc9f7ccb521",
        "colab": {
          "base_uri": "https://localhost:8080/",
          "height": 34
        }
      },
      "source": [
        "from sklearn.metrics import classification_report\n",
        "from sklearn.metrics import confusion_matrix\n",
        "y_predict2 = clf.predict(X_test_norm)\n",
        "target_names = ['negative', 'positive']\n",
        "sum(y_test == y_predict2)/len(y_test)"
      ],
      "execution_count": 0,
      "outputs": [
        {
          "output_type": "execute_result",
          "data": {
            "text/plain": [
              "0.7032258064516129"
            ]
          },
          "metadata": {
            "tags": []
          },
          "execution_count": 17
        }
      ]
    },
    {
      "cell_type": "code",
      "metadata": {
        "id": "hXF9ri8idLU3",
        "colab_type": "code",
        "outputId": "271dd2d5-2c11-45ce-ac69-a215b95bb004",
        "colab": {
          "base_uri": "https://localhost:8080/",
          "height": 283
        }
      },
      "source": [
        "from sklearn.metrics import confusion_matrix\n",
        "import matplotlib.pyplot as plt\n",
        "import seaborn as sns\n",
        "target_names = ['negative', 'positive']\n",
        "C = confusion_matrix(y_test,y_predict2) \n",
        "C = C / C.astype(np.float).sum(axis=1)*100\n",
        "sns.heatmap(C, annot=True, fmt=\".2f\",cmap=\"GnBu\",xticklabels=target_names, yticklabels=target_names)\n",
        "plt.ylabel(\"True Label\")\n",
        "plt.xlabel(\"Predicted Label\")\n",
        "plt.show()"
      ],
      "execution_count": 0,
      "outputs": [
        {
          "output_type": "display_data",
          "data": {
            "image/png": "[encoded data removed]",
            "text/plain": [
              "<Figure size 432x288 with 2 Axes>"
            ]
          },
          "metadata": {
            "tags": []
          }
        }
      ]
    },
    {
      "cell_type": "markdown",
      "metadata": {
        "id": "Zpj-c6NowXWk",
        "colab_type": "text"
      },
      "source": [
        "# Deep Learning"
      ]
    },
    {
      "cell_type": "markdown",
      "metadata": {
        "id": "QQSupzLuyrcJ",
        "colab_type": "text"
      },
      "source": [
        "Install Tensorflow 2.0, if you dont have it, pls uncomment"
      ]
    },
    {
      "cell_type": "code",
      "metadata": {
        "id": "apfoJf7KwjCx",
        "colab_type": "code",
        "colab": {}
      },
      "source": [
        "#!pip install tensorflow==2.0.0-beta1\n",
        "import tensorflow as tf"
      ],
      "execution_count": 0,
      "outputs": []
    },
    {
      "cell_type": "markdown",
      "metadata": {
        "id": "wFIQ4e9By39Q",
        "colab_type": "text"
      },
      "source": [
        "Create Deep Learning Model \n",
        "Using Sequential = Feed-Forward Model\n",
        "1. The first hidden layer contains 16 hidden nodes connected to input layers with 18 nodes corresponding to number of features\n",
        "2. Other layers is chosen based on 2^1, 2^2, 2^3 concept with 'relu' activation function\n",
        "3. Output layer is sigmoid because it can output value which is close 0 and 1 (Binary Class)"
      ]
    },
    {
      "cell_type": "code",
      "metadata": {
        "id": "PYWq1QcjxVVn",
        "colab_type": "code",
        "outputId": "19165452-bbb8-4030-8178-ac7e13317bd0",
        "colab": {
          "base_uri": "https://localhost:8080/",
          "height": 394
        }
      },
      "source": [
        "model = tf.keras.models.Sequential([\n",
        "  tf.keras.layers.Dense(16, activation='relu', input_shape=(14,)),\n",
        "  tf.keras.layers.Dense(8, activation='relu'),\n",
        "  tf.keras.layers.Dense(4, activation='relu'),\n",
        "  tf.keras.layers.Dense(2, activation='relu'),\n",
        "  tf.keras.layers.Dense(1, activation='sigmoid')    \n",
        "])\n",
        "model.summary()"
      ],
      "execution_count": 0,
      "outputs": [
        {
          "output_type": "stream",
          "text": [
            "WARNING:tensorflow:From /usr/local/lib/python3.6/dist-packages/tensorflow/python/ops/init_ops.py:1251: calling VarianceScaling.__init__ (from tensorflow.python.ops.init_ops) with dtype is deprecated and will be removed in a future version.\n",
            "Instructions for updating:\n",
            "Call initializer instance with the dtype argument instead of passing it to the constructor\n",
            "Model: \"sequential\"\n",
            "_________________________________________________________________\n",
            "Layer (type)                 Output Shape              Param #   \n",
            "=================================================================\n",
            "dense (Dense)                (None, 16)                240       \n",
            "_________________________________________________________________\n",
            "dense_1 (Dense)              (None, 8)                 136       \n",
            "_________________________________________________________________\n",
            "dense_2 (Dense)              (None, 4)                 36        \n",
            "_________________________________________________________________\n",
            "dense_3 (Dense)              (None, 2)                 10        \n",
            "_________________________________________________________________\n",
            "dense_4 (Dense)              (None, 1)                 3         \n",
            "=================================================================\n",
            "Total params: 425\n",
            "Trainable params: 425\n",
            "Non-trainable params: 0\n",
            "_________________________________________________________________\n"
          ],
          "name": "stdout"
        }
      ]
    },
    {
      "cell_type": "markdown",
      "metadata": {
        "id": "Q1HIk3Vbz8O5",
        "colab_type": "text"
      },
      "source": [
        "Set up Optimizer to 'adam' with is argubly the best one now, the loss function is set to binary_crossentropy (Binary Classification)"
      ]
    },
    {
      "cell_type": "code",
      "metadata": {
        "id": "mmgpa6cVz_G0",
        "colab_type": "code",
        "outputId": "bac4e296-2fa6-46e8-9e38-7a0fadebe72a",
        "colab": {
          "base_uri": "https://localhost:8080/",
          "height": 88
        }
      },
      "source": [
        "model.compile(optimizer='adam', loss='binary_crossentropy', metrics=['accuracy'])"
      ],
      "execution_count": 0,
      "outputs": [
        {
          "output_type": "stream",
          "text": [
            "WARNING:tensorflow:From /usr/local/lib/python3.6/dist-packages/tensorflow/python/ops/nn_impl.py:180: add_dispatch_support.<locals>.wrapper (from tensorflow.python.ops.array_ops) is deprecated and will be removed in a future version.\n",
            "Instructions for updating:\n",
            "Use tf.where in 2.0, which has the same broadcast rule as np.where\n"
          ],
          "name": "stdout"
        }
      ]
    },
    {
      "cell_type": "markdown",
      "metadata": {
        "id": "ufIG52Wj0dwp",
        "colab_type": "text"
      },
      "source": [
        "Train model around 20 epochs with batchsize 20\n"
      ]
    },
    {
      "cell_type": "code",
      "metadata": {
        "id": "rYQMmo_A0swm",
        "colab_type": "code",
        "outputId": "040a02fa-7d7a-4922-eb0a-047282bdbdbf",
        "colab": {
          "base_uri": "https://localhost:8080/",
          "height": 138
        }
      },
      "source": [
        "model.fit(X_train_norm, y_train, epochs=3, batch_size=20)"
      ],
      "execution_count": 0,
      "outputs": [
        {
          "output_type": "stream",
          "text": [
            "Epoch 1/3\n",
            "400/400 [==============================] - 0s 74us/sample - loss: 0.6211 - acc: 0.7150\n",
            "Epoch 2/3\n",
            "400/400 [==============================] - 0s 66us/sample - loss: 0.6179 - acc: 0.7150\n",
            "Epoch 3/3\n",
            "400/400 [==============================] - 0s 66us/sample - loss: 0.6118 - acc: 0.7300\n"
          ],
          "name": "stdout"
        },
        {
          "output_type": "execute_result",
          "data": {
            "text/plain": [
              "<tensorflow.python.keras.callbacks.History at 0x7f5e8c3b0710>"
            ]
          },
          "metadata": {
            "tags": []
          },
          "execution_count": 114
        }
      ]
    },
    {
      "cell_type": "markdown",
      "metadata": {
        "id": "d8i0vv5X1Qbt",
        "colab_type": "text"
      },
      "source": [
        "The model train accuracy is stable aroud 75, so stop train the model"
      ]
    },
    {
      "cell_type": "markdown",
      "metadata": {
        "id": "lSFwXFbj1RRC",
        "colab_type": "text"
      },
      "source": [
        "Test Accuracy"
      ]
    },
    {
      "cell_type": "code",
      "metadata": {
        "id": "q36U3-5H1Qw8",
        "colab_type": "code",
        "outputId": "44b7254f-8b0b-4b24-c2e3-aa657fce9cc3",
        "colab": {
          "base_uri": "https://localhost:8080/",
          "height": 34
        }
      },
      "source": [
        "y_predict = np.round(model.predict(X_test_norm))\n",
        "y_predict = [i[0] for i in y_predict.tolist()]\n",
        "sum(y_predict == y_test)/len(y_test)"
      ],
      "execution_count": 0,
      "outputs": [
        {
          "output_type": "execute_result",
          "data": {
            "text/plain": [
              "0.6709677419354839"
            ]
          },
          "metadata": {
            "tags": []
          },
          "execution_count": 115
        }
      ]
    },
    {
      "cell_type": "code",
      "metadata": {
        "id": "gJxV7N9r3dwG",
        "colab_type": "code",
        "outputId": "1c7310cd-032c-4125-d9eb-64670e1c54cd",
        "colab": {
          "base_uri": "https://localhost:8080/",
          "height": 283
        }
      },
      "source": [
        "from sklearn.metrics import confusion_matrix\n",
        "import matplotlib.pyplot as plt\n",
        "import seaborn as sns\n",
        "target_names = ['negative', 'positive']\n",
        "C = confusion_matrix(y_test,y_predict) \n",
        "C = C / C.astype(np.float).sum(axis=1)*100\n",
        "sns.heatmap(C, annot=True, fmt=\".2f\",cmap=\"GnBu\",xticklabels=target_names, yticklabels=target_names)\n",
        "plt.ylabel(\"True Label\")\n",
        "plt.xlabel(\"Predicted Label\")\n",
        "plt.show()"
      ],
      "execution_count": 0,
      "outputs": [
        {
          "output_type": "display_data",
          "data": {
            "image/png": "[encoded data removed]",
            "text/plain": [
              "<Figure size 432x288 with 2 Axes>"
            ]
          },
          "metadata": {
            "tags": []
          }
        }
      ]
    },
    {
      "cell_type": "code",
      "metadata": {
        "id": "Ym5c3nO53rql",
        "colab_type": "code",
        "outputId": "e8a3ed95-2ba8-48ab-fe9c-2c931f1067bd",
        "colab": {
          "base_uri": "https://localhost:8080/",
          "height": 170
        }
      },
      "source": [
        "print(classification_report(y_test, y_predict, target_names=target_names))"
      ],
      "execution_count": 0,
      "outputs": [
        {
          "output_type": "stream",
          "text": [
            "              precision    recall  f1-score   support\n",
            "\n",
            "    negative       0.65      0.47      0.55        68\n",
            "    positive       0.62      0.78      0.69        76\n",
            "\n",
            "    accuracy                           0.63       144\n",
            "   macro avg       0.64      0.62      0.62       144\n",
            "weighted avg       0.64      0.63      0.62       144\n",
            "\n"
          ],
          "name": "stdout"
        }
      ]
    },
    {
      "cell_type": "markdown",
      "metadata": {
        "id": "uom0bA6w9gur",
        "colab_type": "text"
      },
      "source": [
        "#Deep Learning with Early Stop to Prevent Overfitting"
      ]
    },
    {
      "cell_type": "markdown",
      "metadata": {
        "id": "FTVxdiKh9w72",
        "colab_type": "text"
      },
      "source": [
        "Split validation data from training data and also create new training data"
      ]
    },
    {
      "cell_type": "code",
      "metadata": {
        "id": "3dVtYji49nTO",
        "colab_type": "code",
        "colab": {}
      },
      "source": [
        "from sklearn.model_selection import train_test_split\n",
        "X_train_over, X_val_norm, y_train_over, y_val = train_test_split(X_train_norm, y_train, test_size=0.20, random_state=1)"
      ],
      "execution_count": 0,
      "outputs": []
    },
    {
      "cell_type": "markdown",
      "metadata": {
        "id": "XihTMWtN-tr-",
        "colab_type": "text"
      },
      "source": [
        "Create model again"
      ]
    },
    {
      "cell_type": "code",
      "metadata": {
        "id": "yewRErEJ-wtm",
        "colab_type": "code",
        "outputId": "45ddb0e7-dac7-478b-beb7-c4ec28c8543c",
        "colab": {
          "base_uri": "https://localhost:8080/",
          "height": 323
        }
      },
      "source": [
        "model = tf.keras.models.Sequential([\n",
        "  tf.keras.layers.Dense(16, activation='relu', input_shape=(18,)),\n",
        "  tf.keras.layers.Dense(8, activation='relu'),\n",
        "  tf.keras.layers.Dense(4, activation='relu'),\n",
        "  tf.keras.layers.Dense(2, activation='relu'),\n",
        "  tf.keras.layers.Dense(1, activation='sigmoid')    \n",
        "])\n",
        "model.summary()"
      ],
      "execution_count": 0,
      "outputs": [
        {
          "output_type": "stream",
          "text": [
            "Model: \"sequential_1\"\n",
            "_________________________________________________________________\n",
            "Layer (type)                 Output Shape              Param #   \n",
            "=================================================================\n",
            "dense_5 (Dense)              (None, 16)                304       \n",
            "_________________________________________________________________\n",
            "dense_6 (Dense)              (None, 8)                 136       \n",
            "_________________________________________________________________\n",
            "dense_7 (Dense)              (None, 4)                 36        \n",
            "_________________________________________________________________\n",
            "dense_8 (Dense)              (None, 2)                 10        \n",
            "_________________________________________________________________\n",
            "dense_9 (Dense)              (None, 1)                 3         \n",
            "=================================================================\n",
            "Total params: 489\n",
            "Trainable params: 489\n",
            "Non-trainable params: 0\n",
            "_________________________________________________________________\n"
          ],
          "name": "stdout"
        }
      ]
    },
    {
      "cell_type": "markdown",
      "metadata": {
        "id": "cdtWWJgN-zZF",
        "colab_type": "text"
      },
      "source": [
        "Create optimizer again"
      ]
    },
    {
      "cell_type": "code",
      "metadata": {
        "id": "T_Lnu8PI-_DP",
        "colab_type": "code",
        "colab": {}
      },
      "source": [
        "model.compile(optimizer='adam', loss='binary_crossentropy', metrics=['accuracy'])"
      ],
      "execution_count": 0,
      "outputs": []
    },
    {
      "cell_type": "markdown",
      "metadata": {
        "id": "cRcpU0YB_Avn",
        "colab_type": "text"
      },
      "source": [
        "Create early stop function to prevent overfitting\n",
        "if the accuracy of validation data does not increase for 5 epoch (patience = 5), use the latest best validation accuracy model"
      ]
    },
    {
      "cell_type": "code",
      "metadata": {
        "id": "NpCuc6rY_EN9",
        "colab_type": "code",
        "colab": {}
      },
      "source": [
        "overfit_prevent = tf.keras.callbacks.EarlyStopping(monitor='val_loss', patience=10, restore_best_weights=True)\n"
      ],
      "execution_count": 0,
      "outputs": []
    },
    {
      "cell_type": "markdown",
      "metadata": {
        "id": "10KdH0jV_reE",
        "colab_type": "text"
      },
      "source": [
        "Train model with early stop"
      ]
    },
    {
      "cell_type": "code",
      "metadata": {
        "id": "Y8jnO-td_vgr",
        "colab_type": "code",
        "outputId": "e12a900b-c55b-4727-be9e-7dcd5770a79d",
        "colab": {
          "base_uri": "https://localhost:8080/",
          "height": 1000
        }
      },
      "source": [
        "model.fit(X_train_over, y_train_over, epochs= 100, batch_size = 20, validation_data= (X_val_norm, y_val), callbacks=[overfit_prevent])"
      ],
      "execution_count": 0,
      "outputs": [
        {
          "output_type": "stream",
          "text": [
            "Train on 320 samples, validate on 80 samples\n",
            "Epoch 1/100\n",
            "320/320 [==============================] - 0s 555us/sample - loss: 0.7039 - acc: 0.4656 - val_loss: 0.6961 - val_acc: 0.4875\n",
            "Epoch 2/100\n",
            "320/320 [==============================] - 0s 86us/sample - loss: 0.6940 - acc: 0.4906 - val_loss: 0.6935 - val_acc: 0.4875\n",
            "Epoch 3/100\n",
            "320/320 [==============================] - 0s 81us/sample - loss: 0.6890 - acc: 0.5562 - val_loss: 0.6911 - val_acc: 0.4875\n",
            "Epoch 4/100\n",
            "320/320 [==============================] - 0s 85us/sample - loss: 0.6853 - acc: 0.6094 - val_loss: 0.6867 - val_acc: 0.5375\n",
            "Epoch 5/100\n",
            "320/320 [==============================] - 0s 101us/sample - loss: 0.6798 - acc: 0.6156 - val_loss: 0.6807 - val_acc: 0.5375\n",
            "Epoch 6/100\n",
            "320/320 [==============================] - 0s 96us/sample - loss: 0.6737 - acc: 0.6219 - val_loss: 0.6712 - val_acc: 0.5625\n",
            "Epoch 7/100\n",
            "320/320 [==============================] - 0s 98us/sample - loss: 0.6669 - acc: 0.6594 - val_loss: 0.6630 - val_acc: 0.5875\n",
            "Epoch 8/100\n",
            "320/320 [==============================] - 0s 82us/sample - loss: 0.6602 - acc: 0.6438 - val_loss: 0.6519 - val_acc: 0.6000\n",
            "Epoch 9/100\n",
            "320/320 [==============================] - 0s 92us/sample - loss: 0.6537 - acc: 0.6531 - val_loss: 0.6437 - val_acc: 0.6375\n",
            "Epoch 10/100\n",
            "320/320 [==============================] - 0s 77us/sample - loss: 0.6465 - acc: 0.6938 - val_loss: 0.6377 - val_acc: 0.6250\n",
            "Epoch 11/100\n",
            "320/320 [==============================] - 0s 83us/sample - loss: 0.6404 - acc: 0.6906 - val_loss: 0.6270 - val_acc: 0.6125\n",
            "Epoch 12/100\n",
            "320/320 [==============================] - 0s 91us/sample - loss: 0.6318 - acc: 0.7063 - val_loss: 0.6195 - val_acc: 0.6250\n",
            "Epoch 13/100\n",
            "320/320 [==============================] - 0s 77us/sample - loss: 0.6266 - acc: 0.7031 - val_loss: 0.6147 - val_acc: 0.6500\n",
            "Epoch 14/100\n",
            "320/320 [==============================] - 0s 80us/sample - loss: 0.6199 - acc: 0.7156 - val_loss: 0.6077 - val_acc: 0.6750\n",
            "Epoch 15/100\n",
            "320/320 [==============================] - 0s 86us/sample - loss: 0.6145 - acc: 0.7219 - val_loss: 0.6007 - val_acc: 0.6750\n",
            "Epoch 16/100\n",
            "320/320 [==============================] - 0s 81us/sample - loss: 0.6095 - acc: 0.7312 - val_loss: 0.5975 - val_acc: 0.6875\n",
            "Epoch 17/100\n",
            "320/320 [==============================] - 0s 85us/sample - loss: 0.6051 - acc: 0.7344 - val_loss: 0.5947 - val_acc: 0.6875\n",
            "Epoch 18/100\n",
            "320/320 [==============================] - 0s 85us/sample - loss: 0.5988 - acc: 0.7250 - val_loss: 0.5904 - val_acc: 0.6875\n",
            "Epoch 19/100\n",
            "320/320 [==============================] - 0s 91us/sample - loss: 0.5950 - acc: 0.7281 - val_loss: 0.5857 - val_acc: 0.6875\n",
            "Epoch 20/100\n",
            "320/320 [==============================] - 0s 86us/sample - loss: 0.5914 - acc: 0.7312 - val_loss: 0.5827 - val_acc: 0.6750\n",
            "Epoch 21/100\n",
            "320/320 [==============================] - 0s 85us/sample - loss: 0.5864 - acc: 0.7312 - val_loss: 0.5765 - val_acc: 0.6875\n",
            "Epoch 22/100\n",
            "320/320 [==============================] - 0s 87us/sample - loss: 0.5817 - acc: 0.7312 - val_loss: 0.5752 - val_acc: 0.6875\n",
            "Epoch 23/100\n",
            "320/320 [==============================] - 0s 80us/sample - loss: 0.5769 - acc: 0.7406 - val_loss: 0.5712 - val_acc: 0.7000\n",
            "Epoch 24/100\n",
            "320/320 [==============================] - 0s 89us/sample - loss: 0.5740 - acc: 0.7437 - val_loss: 0.5686 - val_acc: 0.7250\n",
            "Epoch 25/100\n",
            "320/320 [==============================] - 0s 81us/sample - loss: 0.5693 - acc: 0.7594 - val_loss: 0.5673 - val_acc: 0.7250\n",
            "Epoch 26/100\n",
            "320/320 [==============================] - 0s 80us/sample - loss: 0.5648 - acc: 0.7594 - val_loss: 0.5625 - val_acc: 0.7250\n",
            "Epoch 27/100\n",
            "320/320 [==============================] - 0s 84us/sample - loss: 0.5604 - acc: 0.7688 - val_loss: 0.5612 - val_acc: 0.7250\n",
            "Epoch 28/100\n",
            "320/320 [==============================] - 0s 86us/sample - loss: 0.5563 - acc: 0.7750 - val_loss: 0.5592 - val_acc: 0.7375\n",
            "Epoch 29/100\n",
            "320/320 [==============================] - 0s 91us/sample - loss: 0.5521 - acc: 0.7719 - val_loss: 0.5572 - val_acc: 0.7375\n",
            "Epoch 30/100\n",
            "320/320 [==============================] - 0s 83us/sample - loss: 0.5483 - acc: 0.7812 - val_loss: 0.5580 - val_acc: 0.7250\n",
            "Epoch 31/100\n",
            "320/320 [==============================] - 0s 78us/sample - loss: 0.5436 - acc: 0.7969 - val_loss: 0.5530 - val_acc: 0.7375\n",
            "Epoch 32/100\n",
            "320/320 [==============================] - 0s 81us/sample - loss: 0.5401 - acc: 0.7875 - val_loss: 0.5508 - val_acc: 0.7250\n",
            "Epoch 33/100\n",
            "320/320 [==============================] - 0s 75us/sample - loss: 0.5378 - acc: 0.7875 - val_loss: 0.5510 - val_acc: 0.7500\n",
            "Epoch 34/100\n",
            "320/320 [==============================] - 0s 74us/sample - loss: 0.5312 - acc: 0.8062 - val_loss: 0.5549 - val_acc: 0.7625\n",
            "Epoch 35/100\n",
            "320/320 [==============================] - 0s 79us/sample - loss: 0.5277 - acc: 0.8031 - val_loss: 0.5472 - val_acc: 0.7625\n",
            "Epoch 36/100\n",
            "320/320 [==============================] - 0s 82us/sample - loss: 0.5224 - acc: 0.8062 - val_loss: 0.5458 - val_acc: 0.7625\n",
            "Epoch 37/100\n",
            "320/320 [==============================] - 0s 95us/sample - loss: 0.5181 - acc: 0.8094 - val_loss: 0.5453 - val_acc: 0.7625\n",
            "Epoch 38/100\n",
            "320/320 [==============================] - 0s 87us/sample - loss: 0.5141 - acc: 0.8094 - val_loss: 0.5446 - val_acc: 0.7625\n",
            "Epoch 39/100\n",
            "320/320 [==============================] - 0s 85us/sample - loss: 0.5091 - acc: 0.8094 - val_loss: 0.5436 - val_acc: 0.7625\n",
            "Epoch 40/100\n",
            "320/320 [==============================] - 0s 83us/sample - loss: 0.5055 - acc: 0.8062 - val_loss: 0.5435 - val_acc: 0.7750\n",
            "Epoch 41/100\n",
            "320/320 [==============================] - 0s 84us/sample - loss: 0.5024 - acc: 0.8125 - val_loss: 0.5430 - val_acc: 0.7625\n",
            "Epoch 42/100\n",
            "320/320 [==============================] - 0s 82us/sample - loss: 0.4969 - acc: 0.8125 - val_loss: 0.5423 - val_acc: 0.7750\n",
            "Epoch 43/100\n",
            "320/320 [==============================] - 0s 82us/sample - loss: 0.4924 - acc: 0.8156 - val_loss: 0.5410 - val_acc: 0.7500\n",
            "Epoch 44/100\n",
            "320/320 [==============================] - 0s 82us/sample - loss: 0.4899 - acc: 0.8125 - val_loss: 0.5411 - val_acc: 0.7625\n",
            "Epoch 45/100\n",
            "320/320 [==============================] - 0s 78us/sample - loss: 0.4860 - acc: 0.8281 - val_loss: 0.5389 - val_acc: 0.7625\n",
            "Epoch 46/100\n",
            "320/320 [==============================] - 0s 84us/sample - loss: 0.4876 - acc: 0.7937 - val_loss: 0.5398 - val_acc: 0.7500\n",
            "Epoch 47/100\n",
            "320/320 [==============================] - 0s 84us/sample - loss: 0.4811 - acc: 0.8313 - val_loss: 0.5392 - val_acc: 0.7500\n",
            "Epoch 48/100\n",
            "320/320 [==============================] - 0s 72us/sample - loss: 0.4747 - acc: 0.8219 - val_loss: 0.5384 - val_acc: 0.7500\n",
            "Epoch 49/100\n",
            "320/320 [==============================] - 0s 75us/sample - loss: 0.4684 - acc: 0.8375 - val_loss: 0.5385 - val_acc: 0.7500\n",
            "Epoch 50/100\n",
            "320/320 [==============================] - 0s 82us/sample - loss: 0.4650 - acc: 0.8313 - val_loss: 0.5401 - val_acc: 0.7500\n",
            "Epoch 51/100\n",
            "320/320 [==============================] - 0s 96us/sample - loss: 0.4617 - acc: 0.8281 - val_loss: 0.5393 - val_acc: 0.7500\n",
            "Epoch 52/100\n",
            "320/320 [==============================] - 0s 75us/sample - loss: 0.4567 - acc: 0.8469 - val_loss: 0.5416 - val_acc: 0.7375\n",
            "Epoch 53/100\n",
            "320/320 [==============================] - 0s 79us/sample - loss: 0.4542 - acc: 0.8438 - val_loss: 0.5413 - val_acc: 0.7500\n",
            "Epoch 54/100\n",
            "320/320 [==============================] - 0s 81us/sample - loss: 0.4508 - acc: 0.8594 - val_loss: 0.5413 - val_acc: 0.7375\n",
            "Epoch 55/100\n",
            "320/320 [==============================] - 0s 83us/sample - loss: 0.4477 - acc: 0.8531 - val_loss: 0.5420 - val_acc: 0.7375\n",
            "Epoch 56/100\n",
            "320/320 [==============================] - 0s 82us/sample - loss: 0.4461 - acc: 0.8594 - val_loss: 0.5444 - val_acc: 0.7375\n",
            "Epoch 57/100\n",
            "320/320 [==============================] - 0s 80us/sample - loss: 0.4411 - acc: 0.8562 - val_loss: 0.5429 - val_acc: 0.7375\n",
            "Epoch 58/100\n",
            "320/320 [==============================] - 0s 250us/sample - loss: 0.4368 - acc: 0.8531 - val_loss: 0.5445 - val_acc: 0.7500\n"
          ],
          "name": "stdout"
        },
        {
          "output_type": "execute_result",
          "data": {
            "text/plain": [
              "<tensorflow.python.keras.callbacks.History at 0x7f5e8e0f08d0>"
            ]
          },
          "metadata": {
            "tags": []
          },
          "execution_count": 44
        }
      ]
    },
    {
      "cell_type": "code",
      "metadata": {
        "id": "VOJCRse-CGUg",
        "colab_type": "code",
        "outputId": "3bca1913-54ad-4477-d1c2-cf1ce5867b47",
        "colab": {
          "base_uri": "https://localhost:8080/",
          "height": 34
        }
      },
      "source": [
        "y_predict = np.round(model.predict(X_test_norm))\n",
        "y_predict = [i[0] for i in y_predict.tolist()]\n",
        "sum(y_predict == y_test)/len(y_test)"
      ],
      "execution_count": 0,
      "outputs": [
        {
          "output_type": "execute_result",
          "data": {
            "text/plain": [
              "0.7152777777777778"
            ]
          },
          "metadata": {
            "tags": []
          },
          "execution_count": 45
        }
      ]
    },
    {
      "cell_type": "markdown",
      "metadata": {
        "id": "kmTIvtc3GL-J",
        "colab_type": "text"
      },
      "source": [
        "# Deep Learning with validation"
      ]
    },
    {
      "cell_type": "code",
      "metadata": {
        "id": "RKOWZZb5GK_E",
        "colab_type": "code",
        "outputId": "e3742acb-83bd-4dac-f501-4aba16a9de94",
        "colab": {
          "base_uri": "https://localhost:8080/",
          "height": 289
        }
      },
      "source": [
        "tf.reset_default_graph()\n",
        "np.random.seed(1)\n",
        "tf.random.set_random_seed(1)\n",
        "model = tf.keras.models.Sequential([\n",
        "  tf.keras.layers.Dense(8, activation='relu', input_shape=(14,)),\n",
        "  tf.keras.layers.Dense(4, activation='relu'),\n",
        "  tf.keras.layers.Dense(2, activation='relu'),\n",
        "  tf.keras.layers.Dense(1, activation='sigmoid')    \n",
        "])\n",
        "model.summary()"
      ],
      "execution_count": 0,
      "outputs": [
        {
          "output_type": "stream",
          "text": [
            "Model: \"sequential\"\n",
            "_________________________________________________________________\n",
            "Layer (type)                 Output Shape              Param #   \n",
            "=================================================================\n",
            "dense (Dense)                (None, 8)                 120       \n",
            "_________________________________________________________________\n",
            "dense_1 (Dense)              (None, 4)                 36        \n",
            "_________________________________________________________________\n",
            "dense_2 (Dense)              (None, 2)                 10        \n",
            "_________________________________________________________________\n",
            "dense_3 (Dense)              (None, 1)                 3         \n",
            "=================================================================\n",
            "Total params: 169\n",
            "Trainable params: 169\n",
            "Non-trainable params: 0\n",
            "_________________________________________________________________\n"
          ],
          "name": "stdout"
        }
      ]
    },
    {
      "cell_type": "code",
      "metadata": {
        "id": "obm8KJsLGhvA",
        "colab_type": "code",
        "colab": {}
      },
      "source": [
        "model.compile(optimizer='adam', loss='binary_crossentropy', metrics=['accuracy'])"
      ],
      "execution_count": 0,
      "outputs": []
    },
    {
      "cell_type": "code",
      "metadata": {
        "id": "VpzqsFk0Gw2r",
        "colab_type": "code",
        "outputId": "e470fb91-cbd1-47a5-856d-da9a43b3e350",
        "colab": {
          "base_uri": "https://localhost:8080/",
          "height": 1000
        }
      },
      "source": [
        "train_acc = list()\n",
        "val_acc = list()\n",
        "for i in range(0,125):\n",
        "  history = model.fit(X_train_norm1, y_train1, epochs= 1, batch_size = 200, validation_data= (X_test_norm, y_test))\n",
        "  tmp_avg = np.mean(history.history['acc'])\n",
        "  tmp_avg_val = np.mean(history.history['val_acc'])\n",
        "  \n",
        "  history = model.fit(X_train_norm2, y_train2, epochs= 1, batch_size = 200, validation_data= (X_test_norm, y_test))\n",
        "  tmp_avg = tmp_avg + np.mean(history.history['acc'])\n",
        "  tmp_avg_val = tmp_avg_val + np.mean(history.history['val_acc'])\n",
        "  \n",
        "  history = model.fit(X_train_norm3, y_train3, epochs= 1, batch_size = 200, validation_data= (X_test_norm, y_test))\n",
        "  tmp_avg = tmp_avg + np.mean(history.history['acc'])\n",
        "  tmp_avg_val = tmp_avg_val + np.mean(history.history['val_acc'])\n",
        "  \n",
        "  history = model.fit(X_train_norm4, y_train4, epochs= 1, batch_size = 200, validation_data= (X_test_norm, y_test))\n",
        "  tmp_avg = tmp_avg + np.mean(history.history['acc'])\n",
        "  tmp_avg_val = tmp_avg_val + np.mean(history.history['val_acc'])\n",
        "  \n",
        "  history = model.fit(X_train_norm5, y_train5, epochs= 1, batch_size = 200, validation_data= (X_test_norm, y_test))\n",
        "  tmp_avg = tmp_avg + np.mean(history.history['acc'])\n",
        "  tmp_avg_val = tmp_avg_val + np.mean(history.history['val_acc'])\n",
        "  \n",
        "  history = model.fit(X_train_norm6, y_train6, epochs= 1, batch_size = 200, validation_data= (X_test_norm, y_test))\n",
        "  tmp_avg = tmp_avg + np.mean(history.history['acc'])\n",
        "  tmp_avg_val = tmp_avg_val + np.mean(history.history['val_acc'])\n",
        "  \n",
        "  train_acc.append(tmp_avg/6)\n",
        "  val_acc.append(tmp_avg_val/6)"
      ],
      "execution_count": 0,
      "outputs": [
        {
          "output_type": "stream",
          "text": [
            "Train on 400 samples, validate on 155 samples\n",
            "400/400 [==============================] - 0s 270us/sample - loss: 0.6913 - acc: 0.4925 - val_loss: 0.6912 - val_acc: 0.4968\n",
            "Train on 400 samples, validate on 155 samples\n",
            "400/400 [==============================] - 0s 19us/sample - loss: 0.6913 - acc: 0.4875 - val_loss: 0.6911 - val_acc: 0.4839\n",
            "Train on 400 samples, validate on 155 samples\n",
            "400/400 [==============================] - 0s 17us/sample - loss: 0.6917 - acc: 0.4775 - val_loss: 0.6909 - val_acc: 0.4774\n",
            "Train on 400 samples, validate on 155 samples\n",
            "400/400 [==============================] - 0s 17us/sample - loss: 0.6914 - acc: 0.4850 - val_loss: 0.6908 - val_acc: 0.4710\n",
            "Train on 400 samples, validate on 155 samples\n",
            "400/400 [==============================] - 0s 18us/sample - loss: 0.6917 - acc: 0.5025 - val_loss: 0.6906 - val_acc: 0.4839\n",
            "Train on 400 samples, validate on 155 samples\n",
            "400/400 [==============================] - 0s 18us/sample - loss: 0.6907 - acc: 0.5125 - val_loss: 0.6904 - val_acc: 0.5032\n",
            "Train on 400 samples, validate on 155 samples\n",
            "400/400 [==============================] - 0s 19us/sample - loss: 0.6901 - acc: 0.5150 - val_loss: 0.6902 - val_acc: 0.5032\n",
            "Train on 400 samples, validate on 155 samples\n",
            "400/400 [==============================] - 0s 18us/sample - loss: 0.6902 - acc: 0.5000 - val_loss: 0.6900 - val_acc: 0.5097\n",
            "Train on 400 samples, validate on 155 samples\n",
            "400/400 [==============================] - 0s 18us/sample - loss: 0.6905 - acc: 0.5275 - val_loss: 0.6898 - val_acc: 0.5161\n",
            "Train on 400 samples, validate on 155 samples\n",
            "400/400 [==============================] - 0s 18us/sample - loss: 0.6902 - acc: 0.5125 - val_loss: 0.6896 - val_acc: 0.5097\n",
            "Train on 400 samples, validate on 155 samples\n",
            "400/400 [==============================] - 0s 18us/sample - loss: 0.6906 - acc: 0.5150 - val_loss: 0.6894 - val_acc: 0.5032\n",
            "Train on 400 samples, validate on 155 samples\n",
            "400/400 [==============================] - 0s 23us/sample - loss: 0.6895 - acc: 0.5225 - val_loss: 0.6892 - val_acc: 0.5032\n",
            "Train on 400 samples, validate on 155 samples\n",
            "400/400 [==============================] - 0s 18us/sample - loss: 0.6888 - acc: 0.5425 - val_loss: 0.6890 - val_acc: 0.5032\n",
            "Train on 400 samples, validate on 155 samples\n",
            "400/400 [==============================] - 0s 21us/sample - loss: 0.6888 - acc: 0.5300 - val_loss: 0.6888 - val_acc: 0.5032\n",
            "Train on 400 samples, validate on 155 samples\n",
            "400/400 [==============================] - 0s 21us/sample - loss: 0.6891 - acc: 0.5575 - val_loss: 0.6886 - val_acc: 0.5032\n",
            "Train on 400 samples, validate on 155 samples\n",
            "400/400 [==============================] - 0s 19us/sample - loss: 0.6887 - acc: 0.5400 - val_loss: 0.6883 - val_acc: 0.5161\n",
            "Train on 400 samples, validate on 155 samples\n",
            "400/400 [==============================] - 0s 19us/sample - loss: 0.6892 - acc: 0.5350 - val_loss: 0.6881 - val_acc: 0.5226\n",
            "Train on 400 samples, validate on 155 samples\n",
            "400/400 [==============================] - 0s 18us/sample - loss: 0.6880 - acc: 0.5650 - val_loss: 0.6879 - val_acc: 0.5226\n",
            "Train on 400 samples, validate on 155 samples\n",
            "400/400 [==============================] - 0s 25us/sample - loss: 0.6871 - acc: 0.5800 - val_loss: 0.6876 - val_acc: 0.5290\n",
            "Train on 400 samples, validate on 155 samples\n",
            "400/400 [==============================] - 0s 19us/sample - loss: 0.6871 - acc: 0.5650 - val_loss: 0.6874 - val_acc: 0.5290\n",
            "Train on 400 samples, validate on 155 samples\n",
            "400/400 [==============================] - 0s 20us/sample - loss: 0.6873 - acc: 0.5900 - val_loss: 0.6871 - val_acc: 0.5484\n",
            "Train on 400 samples, validate on 155 samples\n",
            "400/400 [==============================] - 0s 20us/sample - loss: 0.6869 - acc: 0.5800 - val_loss: 0.6868 - val_acc: 0.5484\n",
            "Train on 400 samples, validate on 155 samples\n",
            "400/400 [==============================] - 0s 23us/sample - loss: 0.6875 - acc: 0.5750 - val_loss: 0.6865 - val_acc: 0.5548\n",
            "Train on 400 samples, validate on 155 samples\n",
            "400/400 [==============================] - 0s 18us/sample - loss: 0.6862 - acc: 0.5825 - val_loss: 0.6862 - val_acc: 0.5613\n",
            "Train on 400 samples, validate on 155 samples\n",
            "400/400 [==============================] - 0s 19us/sample - loss: 0.6852 - acc: 0.6000 - val_loss: 0.6860 - val_acc: 0.5613\n",
            "Train on 400 samples, validate on 155 samples\n",
            "400/400 [==============================] - 0s 20us/sample - loss: 0.6851 - acc: 0.5650 - val_loss: 0.6857 - val_acc: 0.5613\n",
            "Train on 400 samples, validate on 155 samples\n",
            "400/400 [==============================] - 0s 19us/sample - loss: 0.6852 - acc: 0.6025 - val_loss: 0.6854 - val_acc: 0.5742\n",
            "Train on 400 samples, validate on 155 samples\n",
            "400/400 [==============================] - 0s 20us/sample - loss: 0.6848 - acc: 0.5875 - val_loss: 0.6851 - val_acc: 0.5677\n",
            "Train on 400 samples, validate on 155 samples\n",
            "400/400 [==============================] - 0s 18us/sample - loss: 0.6855 - acc: 0.5775 - val_loss: 0.6847 - val_acc: 0.5677\n",
            "Train on 400 samples, validate on 155 samples\n",
            "400/400 [==============================] - 0s 22us/sample - loss: 0.6843 - acc: 0.5800 - val_loss: 0.6844 - val_acc: 0.5677\n",
            "Train on 400 samples, validate on 155 samples\n",
            "400/400 [==============================] - 0s 16us/sample - loss: 0.6830 - acc: 0.5975 - val_loss: 0.6841 - val_acc: 0.5677\n",
            "Train on 400 samples, validate on 155 samples\n",
            "400/400 [==============================] - 0s 17us/sample - loss: 0.6828 - acc: 0.5675 - val_loss: 0.6838 - val_acc: 0.5677\n",
            "Train on 400 samples, validate on 155 samples\n",
            "400/400 [==============================] - 0s 19us/sample - loss: 0.6829 - acc: 0.6100 - val_loss: 0.6834 - val_acc: 0.5677\n",
            "Train on 400 samples, validate on 155 samples\n",
            "400/400 [==============================] - 0s 18us/sample - loss: 0.6825 - acc: 0.5900 - val_loss: 0.6831 - val_acc: 0.5677\n",
            "Train on 400 samples, validate on 155 samples\n",
            "400/400 [==============================] - 0s 19us/sample - loss: 0.6832 - acc: 0.5900 - val_loss: 0.6828 - val_acc: 0.5677\n",
            "Train on 400 samples, validate on 155 samples\n",
            "400/400 [==============================] - 0s 22us/sample - loss: 0.6821 - acc: 0.5850 - val_loss: 0.6824 - val_acc: 0.5677\n",
            "Train on 400 samples, validate on 155 samples\n",
            "400/400 [==============================] - 0s 27us/sample - loss: 0.6805 - acc: 0.6000 - val_loss: 0.6820 - val_acc: 0.5677\n",
            "Train on 400 samples, validate on 155 samples\n",
            "400/400 [==============================] - 0s 25us/sample - loss: 0.6803 - acc: 0.5700 - val_loss: 0.6817 - val_acc: 0.5677\n",
            "Train on 400 samples, validate on 155 samples\n",
            "400/400 [==============================] - 0s 24us/sample - loss: 0.6802 - acc: 0.6050 - val_loss: 0.6813 - val_acc: 0.5677\n",
            "Train on 400 samples, validate on 155 samples\n",
            "400/400 [==============================] - 0s 21us/sample - loss: 0.6798 - acc: 0.5975 - val_loss: 0.6809 - val_acc: 0.5677\n",
            "Train on 400 samples, validate on 155 samples\n",
            "400/400 [==============================] - 0s 22us/sample - loss: 0.6807 - acc: 0.5950 - val_loss: 0.6805 - val_acc: 0.5677\n",
            "Train on 400 samples, validate on 155 samples\n",
            "400/400 [==============================] - 0s 26us/sample - loss: 0.6797 - acc: 0.5850 - val_loss: 0.6801 - val_acc: 0.5677\n",
            "Train on 400 samples, validate on 155 samples\n",
            "400/400 [==============================] - 0s 23us/sample - loss: 0.6778 - acc: 0.6050 - val_loss: 0.6797 - val_acc: 0.5677\n",
            "Train on 400 samples, validate on 155 samples\n",
            "400/400 [==============================] - 0s 22us/sample - loss: 0.6775 - acc: 0.5675 - val_loss: 0.6793 - val_acc: 0.5742\n",
            "Train on 400 samples, validate on 155 samples\n",
            "400/400 [==============================] - 0s 23us/sample - loss: 0.6773 - acc: 0.6175 - val_loss: 0.6788 - val_acc: 0.5742\n",
            "Train on 400 samples, validate on 155 samples\n",
            "400/400 [==============================] - 0s 22us/sample - loss: 0.6769 - acc: 0.6050 - val_loss: 0.6784 - val_acc: 0.5742\n",
            "Train on 400 samples, validate on 155 samples\n",
            "400/400 [==============================] - 0s 21us/sample - loss: 0.6777 - acc: 0.6075 - val_loss: 0.6779 - val_acc: 0.5742\n",
            "Train on 400 samples, validate on 155 samples\n",
            "400/400 [==============================] - 0s 25us/sample - loss: 0.6770 - acc: 0.5925 - val_loss: 0.6774 - val_acc: 0.5742\n",
            "Train on 400 samples, validate on 155 samples\n",
            "400/400 [==============================] - 0s 22us/sample - loss: 0.6747 - acc: 0.6075 - val_loss: 0.6770 - val_acc: 0.5806\n",
            "Train on 400 samples, validate on 155 samples\n",
            "400/400 [==============================] - 0s 22us/sample - loss: 0.6743 - acc: 0.5825 - val_loss: 0.6765 - val_acc: 0.5806\n",
            "Train on 400 samples, validate on 155 samples\n",
            "400/400 [==============================] - 0s 25us/sample - loss: 0.6739 - acc: 0.6425 - val_loss: 0.6760 - val_acc: 0.5806\n",
            "Train on 400 samples, validate on 155 samples\n",
            "400/400 [==============================] - 0s 27us/sample - loss: 0.6735 - acc: 0.6125 - val_loss: 0.6755 - val_acc: 0.5871\n",
            "Train on 400 samples, validate on 155 samples\n",
            "400/400 [==============================] - 0s 26us/sample - loss: 0.6744 - acc: 0.6150 - val_loss: 0.6749 - val_acc: 0.5871\n",
            "Train on 400 samples, validate on 155 samples\n",
            "400/400 [==============================] - 0s 27us/sample - loss: 0.6740 - acc: 0.6000 - val_loss: 0.6744 - val_acc: 0.5871\n",
            "Train on 400 samples, validate on 155 samples\n",
            "400/400 [==============================] - 0s 22us/sample - loss: 0.6714 - acc: 0.6225 - val_loss: 0.6739 - val_acc: 0.5871\n",
            "Train on 400 samples, validate on 155 samples\n",
            "400/400 [==============================] - 0s 22us/sample - loss: 0.6707 - acc: 0.5950 - val_loss: 0.6734 - val_acc: 0.5935\n",
            "Train on 400 samples, validate on 155 samples\n",
            "400/400 [==============================] - 0s 24us/sample - loss: 0.6703 - acc: 0.6500 - val_loss: 0.6729 - val_acc: 0.5935\n",
            "Train on 400 samples, validate on 155 samples\n",
            "400/400 [==============================] - 0s 17us/sample - loss: 0.6698 - acc: 0.6200 - val_loss: 0.6724 - val_acc: 0.5935\n",
            "Train on 400 samples, validate on 155 samples\n",
            "400/400 [==============================] - 0s 16us/sample - loss: 0.6709 - acc: 0.6150 - val_loss: 0.6718 - val_acc: 0.5935\n",
            "Train on 400 samples, validate on 155 samples\n",
            "400/400 [==============================] - 0s 20us/sample - loss: 0.6708 - acc: 0.6025 - val_loss: 0.6713 - val_acc: 0.6000\n",
            "Train on 400 samples, validate on 155 samples\n",
            "400/400 [==============================] - 0s 21us/sample - loss: 0.6678 - acc: 0.6200 - val_loss: 0.6708 - val_acc: 0.6000\n",
            "Train on 400 samples, validate on 155 samples\n",
            "400/400 [==============================] - 0s 19us/sample - loss: 0.6669 - acc: 0.5950 - val_loss: 0.6702 - val_acc: 0.6000\n",
            "Train on 400 samples, validate on 155 samples\n",
            "400/400 [==============================] - 0s 20us/sample - loss: 0.6665 - acc: 0.6475 - val_loss: 0.6697 - val_acc: 0.6000\n",
            "Train on 400 samples, validate on 155 samples\n",
            "400/400 [==============================] - 0s 16us/sample - loss: 0.6658 - acc: 0.6250 - val_loss: 0.6691 - val_acc: 0.6000\n",
            "Train on 400 samples, validate on 155 samples\n",
            "400/400 [==============================] - 0s 19us/sample - loss: 0.6670 - acc: 0.6125 - val_loss: 0.6685 - val_acc: 0.6000\n",
            "Train on 400 samples, validate on 155 samples\n",
            "400/400 [==============================] - 0s 20us/sample - loss: 0.6674 - acc: 0.6025 - val_loss: 0.6679 - val_acc: 0.6000\n",
            "Train on 400 samples, validate on 155 samples\n",
            "400/400 [==============================] - 0s 20us/sample - loss: 0.6639 - acc: 0.6250 - val_loss: 0.6673 - val_acc: 0.6000\n",
            "Train on 400 samples, validate on 155 samples\n",
            "400/400 [==============================] - 0s 18us/sample - loss: 0.6628 - acc: 0.6050 - val_loss: 0.6666 - val_acc: 0.6000\n",
            "Train on 400 samples, validate on 155 samples\n",
            "400/400 [==============================] - 0s 19us/sample - loss: 0.6623 - acc: 0.6450 - val_loss: 0.6660 - val_acc: 0.6000\n",
            "Train on 400 samples, validate on 155 samples\n",
            "400/400 [==============================] - 0s 19us/sample - loss: 0.6616 - acc: 0.6325 - val_loss: 0.6654 - val_acc: 0.6000\n",
            "Train on 400 samples, validate on 155 samples\n",
            "400/400 [==============================] - 0s 19us/sample - loss: 0.6628 - acc: 0.6300 - val_loss: 0.6648 - val_acc: 0.6000\n",
            "Train on 400 samples, validate on 155 samples\n",
            "400/400 [==============================] - 0s 20us/sample - loss: 0.6639 - acc: 0.6075 - val_loss: 0.6641 - val_acc: 0.6065\n",
            "Train on 400 samples, validate on 155 samples\n",
            "400/400 [==============================] - 0s 22us/sample - loss: 0.6599 - acc: 0.6275 - val_loss: 0.6635 - val_acc: 0.6129\n",
            "Train on 400 samples, validate on 155 samples\n",
            "400/400 [==============================] - 0s 24us/sample - loss: 0.6585 - acc: 0.6225 - val_loss: 0.6629 - val_acc: 0.6129\n",
            "Train on 400 samples, validate on 155 samples\n",
            "400/400 [==============================] - 0s 17us/sample - loss: 0.6579 - acc: 0.6500 - val_loss: 0.6622 - val_acc: 0.6129\n",
            "Train on 400 samples, validate on 155 samples\n",
            "400/400 [==============================] - 0s 17us/sample - loss: 0.6570 - acc: 0.6450 - val_loss: 0.6616 - val_acc: 0.6129\n",
            "Train on 400 samples, validate on 155 samples\n",
            "400/400 [==============================] - 0s 24us/sample - loss: 0.6582 - acc: 0.6400 - val_loss: 0.6609 - val_acc: 0.6129\n",
            "Train on 400 samples, validate on 155 samples\n",
            "400/400 [==============================] - 0s 24us/sample - loss: 0.6603 - acc: 0.6050 - val_loss: 0.6603 - val_acc: 0.6194\n",
            "Train on 400 samples, validate on 155 samples\n",
            "400/400 [==============================] - 0s 18us/sample - loss: 0.6556 - acc: 0.6400 - val_loss: 0.6596 - val_acc: 0.6194\n",
            "Train on 400 samples, validate on 155 samples\n",
            "400/400 [==============================] - 0s 24us/sample - loss: 0.6539 - acc: 0.6350 - val_loss: 0.6590 - val_acc: 0.6194\n",
            "Train on 400 samples, validate on 155 samples\n",
            "400/400 [==============================] - 0s 19us/sample - loss: 0.6534 - acc: 0.6575 - val_loss: 0.6583 - val_acc: 0.6194\n",
            "Train on 400 samples, validate on 155 samples\n",
            "400/400 [==============================] - 0s 22us/sample - loss: 0.6523 - acc: 0.6525 - val_loss: 0.6577 - val_acc: 0.6194\n",
            "Train on 400 samples, validate on 155 samples\n",
            "400/400 [==============================] - 0s 22us/sample - loss: 0.6534 - acc: 0.6500 - val_loss: 0.6570 - val_acc: 0.6258\n",
            "Train on 400 samples, validate on 155 samples\n",
            "400/400 [==============================] - 0s 21us/sample - loss: 0.6566 - acc: 0.6225 - val_loss: 0.6563 - val_acc: 0.6258\n",
            "Train on 400 samples, validate on 155 samples\n",
            "400/400 [==============================] - 0s 30us/sample - loss: 0.6513 - acc: 0.6550 - val_loss: 0.6556 - val_acc: 0.6258\n",
            "Train on 400 samples, validate on 155 samples\n",
            "400/400 [==============================] - 0s 26us/sample - loss: 0.6495 - acc: 0.6525 - val_loss: 0.6550 - val_acc: 0.6258\n",
            "Train on 400 samples, validate on 155 samples\n",
            "400/400 [==============================] - 0s 24us/sample - loss: 0.6487 - acc: 0.6750 - val_loss: 0.6543 - val_acc: 0.6258\n",
            "Train on 400 samples, validate on 155 samples\n",
            "400/400 [==============================] - 0s 19us/sample - loss: 0.6474 - acc: 0.6650 - val_loss: 0.6536 - val_acc: 0.6258\n",
            "Train on 400 samples, validate on 155 samples\n",
            "400/400 [==============================] - 0s 23us/sample - loss: 0.6487 - acc: 0.6600 - val_loss: 0.6530 - val_acc: 0.6323\n",
            "Train on 400 samples, validate on 155 samples\n",
            "400/400 [==============================] - 0s 16us/sample - loss: 0.6529 - acc: 0.6250 - val_loss: 0.6523 - val_acc: 0.6323\n",
            "Train on 400 samples, validate on 155 samples\n",
            "400/400 [==============================] - 0s 16us/sample - loss: 0.6471 - acc: 0.6600 - val_loss: 0.6516 - val_acc: 0.6258\n",
            "Train on 400 samples, validate on 155 samples\n",
            "400/400 [==============================] - 0s 21us/sample - loss: 0.6449 - acc: 0.6650 - val_loss: 0.6509 - val_acc: 0.6258\n",
            "Train on 400 samples, validate on 155 samples\n",
            "400/400 [==============================] - 0s 18us/sample - loss: 0.6439 - acc: 0.6800 - val_loss: 0.6502 - val_acc: 0.6258\n",
            "Train on 400 samples, validate on 155 samples\n",
            "400/400 [==============================] - 0s 20us/sample - loss: 0.6425 - acc: 0.6725 - val_loss: 0.6495 - val_acc: 0.6258\n",
            "Train on 400 samples, validate on 155 samples\n",
            "400/400 [==============================] - 0s 19us/sample - loss: 0.6440 - acc: 0.6575 - val_loss: 0.6487 - val_acc: 0.6323\n",
            "Train on 400 samples, validate on 155 samples\n",
            "400/400 [==============================] - 0s 22us/sample - loss: 0.6491 - acc: 0.6350 - val_loss: 0.6480 - val_acc: 0.6516\n",
            "Train on 400 samples, validate on 155 samples\n",
            "400/400 [==============================] - 0s 19us/sample - loss: 0.6428 - acc: 0.6675 - val_loss: 0.6472 - val_acc: 0.6516\n",
            "Train on 400 samples, validate on 155 samples\n",
            "400/400 [==============================] - 0s 23us/sample - loss: 0.6405 - acc: 0.6675 - val_loss: 0.6465 - val_acc: 0.6516\n",
            "Train on 400 samples, validate on 155 samples\n",
            "400/400 [==============================] - 0s 19us/sample - loss: 0.6390 - acc: 0.6825 - val_loss: 0.6457 - val_acc: 0.6516\n",
            "Train on 400 samples, validate on 155 samples\n",
            "400/400 [==============================] - 0s 18us/sample - loss: 0.6375 - acc: 0.6775 - val_loss: 0.6451 - val_acc: 0.6516\n",
            "Train on 400 samples, validate on 155 samples\n",
            "400/400 [==============================] - 0s 22us/sample - loss: 0.6392 - acc: 0.6675 - val_loss: 0.6444 - val_acc: 0.6516\n",
            "Train on 400 samples, validate on 155 samples\n",
            "400/400 [==============================] - 0s 24us/sample - loss: 0.6452 - acc: 0.6475 - val_loss: 0.6437 - val_acc: 0.6581\n",
            "Train on 400 samples, validate on 155 samples\n",
            "400/400 [==============================] - 0s 25us/sample - loss: 0.6387 - acc: 0.6775 - val_loss: 0.6429 - val_acc: 0.6581\n",
            "Train on 400 samples, validate on 155 samples\n",
            "400/400 [==============================] - 0s 24us/sample - loss: 0.6365 - acc: 0.6725 - val_loss: 0.6423 - val_acc: 0.6645\n",
            "Train on 400 samples, validate on 155 samples\n",
            "400/400 [==============================] - 0s 21us/sample - loss: 0.6343 - acc: 0.6850 - val_loss: 0.6416 - val_acc: 0.6645\n",
            "Train on 400 samples, validate on 155 samples\n",
            "400/400 [==============================] - 0s 24us/sample - loss: 0.6328 - acc: 0.6875 - val_loss: 0.6410 - val_acc: 0.6645\n",
            "Train on 400 samples, validate on 155 samples\n",
            "400/400 [==============================] - 0s 21us/sample - loss: 0.6347 - acc: 0.6775 - val_loss: 0.6403 - val_acc: 0.6645\n",
            "Train on 400 samples, validate on 155 samples\n",
            "400/400 [==============================] - 0s 25us/sample - loss: 0.6416 - acc: 0.6550 - val_loss: 0.6396 - val_acc: 0.6645\n",
            "Train on 400 samples, validate on 155 samples\n",
            "400/400 [==============================] - 0s 24us/sample - loss: 0.6348 - acc: 0.6900 - val_loss: 0.6390 - val_acc: 0.6645\n",
            "Train on 400 samples, validate on 155 samples\n",
            "400/400 [==============================] - 0s 21us/sample - loss: 0.6328 - acc: 0.6725 - val_loss: 0.6384 - val_acc: 0.6645\n",
            "Train on 400 samples, validate on 155 samples\n",
            "400/400 [==============================] - 0s 22us/sample - loss: 0.6297 - acc: 0.6800 - val_loss: 0.6379 - val_acc: 0.6645\n",
            "Train on 400 samples, validate on 155 samples\n",
            "400/400 [==============================] - 0s 17us/sample - loss: 0.6283 - acc: 0.6875 - val_loss: 0.6373 - val_acc: 0.6645\n",
            "Train on 400 samples, validate on 155 samples\n",
            "400/400 [==============================] - 0s 22us/sample - loss: 0.6306 - acc: 0.6875 - val_loss: 0.6368 - val_acc: 0.6645\n",
            "Train on 400 samples, validate on 155 samples\n",
            "400/400 [==============================] - 0s 18us/sample - loss: 0.6383 - acc: 0.6500 - val_loss: 0.6362 - val_acc: 0.6581\n",
            "Train on 400 samples, validate on 155 samples\n",
            "400/400 [==============================] - 0s 20us/sample - loss: 0.6311 - acc: 0.6950 - val_loss: 0.6356 - val_acc: 0.6581\n",
            "Train on 400 samples, validate on 155 samples\n",
            "400/400 [==============================] - 0s 20us/sample - loss: 0.6293 - acc: 0.6700 - val_loss: 0.6350 - val_acc: 0.6516\n",
            "Train on 400 samples, validate on 155 samples\n",
            "400/400 [==============================] - 0s 18us/sample - loss: 0.6253 - acc: 0.6825 - val_loss: 0.6345 - val_acc: 0.6516\n",
            "Train on 400 samples, validate on 155 samples\n",
            "400/400 [==============================] - 0s 21us/sample - loss: 0.6242 - acc: 0.6900 - val_loss: 0.6340 - val_acc: 0.6581\n",
            "Train on 400 samples, validate on 155 samples\n",
            "400/400 [==============================] - 0s 19us/sample - loss: 0.6264 - acc: 0.7025 - val_loss: 0.6334 - val_acc: 0.6581\n",
            "Train on 400 samples, validate on 155 samples\n",
            "400/400 [==============================] - 0s 21us/sample - loss: 0.6349 - acc: 0.6625 - val_loss: 0.6329 - val_acc: 0.6581\n",
            "Train on 400 samples, validate on 155 samples\n",
            "400/400 [==============================] - 0s 23us/sample - loss: 0.6274 - acc: 0.6925 - val_loss: 0.6322 - val_acc: 0.6581\n",
            "Train on 400 samples, validate on 155 samples\n",
            "400/400 [==============================] - 0s 31us/sample - loss: 0.6260 - acc: 0.6675 - val_loss: 0.6316 - val_acc: 0.6581\n",
            "Train on 400 samples, validate on 155 samples\n",
            "400/400 [==============================] - 0s 23us/sample - loss: 0.6209 - acc: 0.6875 - val_loss: 0.6311 - val_acc: 0.6581\n",
            "Train on 400 samples, validate on 155 samples\n",
            "400/400 [==============================] - 0s 26us/sample - loss: 0.6201 - acc: 0.7025 - val_loss: 0.6305 - val_acc: 0.6516\n",
            "Train on 400 samples, validate on 155 samples\n",
            "400/400 [==============================] - 0s 27us/sample - loss: 0.6224 - acc: 0.7000 - val_loss: 0.6300 - val_acc: 0.6516\n",
            "Train on 400 samples, validate on 155 samples\n",
            "400/400 [==============================] - 0s 25us/sample - loss: 0.6315 - acc: 0.6625 - val_loss: 0.6294 - val_acc: 0.6516\n",
            "Train on 400 samples, validate on 155 samples\n",
            "400/400 [==============================] - 0s 17us/sample - loss: 0.6239 - acc: 0.6925 - val_loss: 0.6288 - val_acc: 0.6516\n",
            "Train on 400 samples, validate on 155 samples\n",
            "400/400 [==============================] - 0s 24us/sample - loss: 0.6227 - acc: 0.6775 - val_loss: 0.6282 - val_acc: 0.6516\n",
            "Train on 400 samples, validate on 155 samples\n",
            "400/400 [==============================] - 0s 17us/sample - loss: 0.6165 - acc: 0.6975 - val_loss: 0.6278 - val_acc: 0.6516\n",
            "Train on 400 samples, validate on 155 samples\n",
            "400/400 [==============================] - 0s 20us/sample - loss: 0.6158 - acc: 0.7050 - val_loss: 0.6273 - val_acc: 0.6516\n",
            "Train on 400 samples, validate on 155 samples\n",
            "400/400 [==============================] - 0s 26us/sample - loss: 0.6184 - acc: 0.7100 - val_loss: 0.6268 - val_acc: 0.6516\n",
            "Train on 400 samples, validate on 155 samples\n",
            "400/400 [==============================] - 0s 23us/sample - loss: 0.6282 - acc: 0.6675 - val_loss: 0.6263 - val_acc: 0.6452\n",
            "Train on 400 samples, validate on 155 samples\n",
            "400/400 [==============================] - 0s 22us/sample - loss: 0.6205 - acc: 0.6975 - val_loss: 0.6256 - val_acc: 0.6452\n",
            "Train on 400 samples, validate on 155 samples\n",
            "400/400 [==============================] - 0s 22us/sample - loss: 0.6194 - acc: 0.6900 - val_loss: 0.6251 - val_acc: 0.6581\n",
            "Train on 400 samples, validate on 155 samples\n",
            "400/400 [==============================] - 0s 19us/sample - loss: 0.6121 - acc: 0.7025 - val_loss: 0.6246 - val_acc: 0.6581\n",
            "Train on 400 samples, validate on 155 samples\n",
            "400/400 [==============================] - 0s 20us/sample - loss: 0.6115 - acc: 0.7025 - val_loss: 0.6242 - val_acc: 0.6516\n",
            "Train on 400 samples, validate on 155 samples\n",
            "400/400 [==============================] - 0s 17us/sample - loss: 0.6145 - acc: 0.7125 - val_loss: 0.6237 - val_acc: 0.6516\n",
            "Train on 400 samples, validate on 155 samples\n",
            "400/400 [==============================] - 0s 20us/sample - loss: 0.6251 - acc: 0.6650 - val_loss: 0.6232 - val_acc: 0.6516\n",
            "Train on 400 samples, validate on 155 samples\n",
            "400/400 [==============================] - 0s 17us/sample - loss: 0.6172 - acc: 0.6975 - val_loss: 0.6227 - val_acc: 0.6581\n",
            "Train on 400 samples, validate on 155 samples\n",
            "400/400 [==============================] - 0s 20us/sample - loss: 0.6161 - acc: 0.6975 - val_loss: 0.6223 - val_acc: 0.6581\n",
            "Train on 400 samples, validate on 155 samples\n",
            "400/400 [==============================] - 0s 25us/sample - loss: 0.6074 - acc: 0.7075 - val_loss: 0.6219 - val_acc: 0.6581\n",
            "Train on 400 samples, validate on 155 samples\n",
            "400/400 [==============================] - 0s 18us/sample - loss: 0.6072 - acc: 0.7175 - val_loss: 0.6215 - val_acc: 0.6516\n",
            "Train on 400 samples, validate on 155 samples\n",
            "400/400 [==============================] - 0s 20us/sample - loss: 0.6109 - acc: 0.7175 - val_loss: 0.6211 - val_acc: 0.6516\n",
            "Train on 400 samples, validate on 155 samples\n",
            "400/400 [==============================] - 0s 18us/sample - loss: 0.6219 - acc: 0.6750 - val_loss: 0.6205 - val_acc: 0.6516\n",
            "Train on 400 samples, validate on 155 samples\n",
            "400/400 [==============================] - 0s 17us/sample - loss: 0.6141 - acc: 0.7075 - val_loss: 0.6200 - val_acc: 0.6516\n",
            "Train on 400 samples, validate on 155 samples\n",
            "400/400 [==============================] - 0s 26us/sample - loss: 0.6128 - acc: 0.6925 - val_loss: 0.6195 - val_acc: 0.6581\n",
            "Train on 400 samples, validate on 155 samples\n",
            "400/400 [==============================] - 0s 25us/sample - loss: 0.6027 - acc: 0.7150 - val_loss: 0.6191 - val_acc: 0.6516\n",
            "Train on 400 samples, validate on 155 samples\n",
            "400/400 [==============================] - 0s 23us/sample - loss: 0.6031 - acc: 0.7225 - val_loss: 0.6187 - val_acc: 0.6516\n",
            "Train on 400 samples, validate on 155 samples\n",
            "400/400 [==============================] - 0s 23us/sample - loss: 0.6075 - acc: 0.7200 - val_loss: 0.6183 - val_acc: 0.6516\n",
            "Train on 400 samples, validate on 155 samples\n",
            "400/400 [==============================] - 0s 19us/sample - loss: 0.6189 - acc: 0.6800 - val_loss: 0.6179 - val_acc: 0.6452\n",
            "Train on 400 samples, validate on 155 samples\n",
            "400/400 [==============================] - 0s 21us/sample - loss: 0.6110 - acc: 0.7050 - val_loss: 0.6173 - val_acc: 0.6452\n",
            "Train on 400 samples, validate on 155 samples\n",
            "400/400 [==============================] - 0s 21us/sample - loss: 0.6096 - acc: 0.6950 - val_loss: 0.6168 - val_acc: 0.6581\n",
            "Train on 400 samples, validate on 155 samples\n",
            "400/400 [==============================] - 0s 24us/sample - loss: 0.5980 - acc: 0.7275 - val_loss: 0.6164 - val_acc: 0.6645\n",
            "Train on 400 samples, validate on 155 samples\n",
            "400/400 [==============================] - 0s 22us/sample - loss: 0.5991 - acc: 0.7175 - val_loss: 0.6160 - val_acc: 0.6645\n",
            "Train on 400 samples, validate on 155 samples\n",
            "400/400 [==============================] - 0s 30us/sample - loss: 0.6042 - acc: 0.7150 - val_loss: 0.6157 - val_acc: 0.6581\n",
            "Train on 400 samples, validate on 155 samples\n",
            "400/400 [==============================] - 0s 20us/sample - loss: 0.6159 - acc: 0.6825 - val_loss: 0.6153 - val_acc: 0.6645\n",
            "Train on 400 samples, validate on 155 samples\n",
            "400/400 [==============================] - 0s 17us/sample - loss: 0.6080 - acc: 0.7075 - val_loss: 0.6148 - val_acc: 0.6710\n",
            "Train on 400 samples, validate on 155 samples\n",
            "400/400 [==============================] - 0s 22us/sample - loss: 0.6063 - acc: 0.6925 - val_loss: 0.6144 - val_acc: 0.6710\n",
            "Train on 400 samples, validate on 155 samples\n",
            "400/400 [==============================] - 0s 36us/sample - loss: 0.5938 - acc: 0.7325 - val_loss: 0.6140 - val_acc: 0.6710\n",
            "Train on 400 samples, validate on 155 samples\n",
            "400/400 [==============================] - 0s 27us/sample - loss: 0.5954 - acc: 0.7100 - val_loss: 0.6137 - val_acc: 0.6645\n",
            "Train on 400 samples, validate on 155 samples\n",
            "400/400 [==============================] - 0s 23us/sample - loss: 0.6011 - acc: 0.7175 - val_loss: 0.6134 - val_acc: 0.6645\n",
            "Train on 400 samples, validate on 155 samples\n",
            "400/400 [==============================] - 0s 21us/sample - loss: 0.6132 - acc: 0.6875 - val_loss: 0.6129 - val_acc: 0.6645\n",
            "Train on 400 samples, validate on 155 samples\n",
            "400/400 [==============================] - 0s 21us/sample - loss: 0.6051 - acc: 0.7100 - val_loss: 0.6125 - val_acc: 0.6710\n",
            "Train on 400 samples, validate on 155 samples\n",
            "400/400 [==============================] - 0s 19us/sample - loss: 0.6032 - acc: 0.7025 - val_loss: 0.6121 - val_acc: 0.6710\n",
            "Train on 400 samples, validate on 155 samples\n",
            "400/400 [==============================] - 0s 18us/sample - loss: 0.5896 - acc: 0.7400 - val_loss: 0.6118 - val_acc: 0.6710\n",
            "Train on 400 samples, validate on 155 samples\n",
            "400/400 [==============================] - 0s 17us/sample - loss: 0.5918 - acc: 0.7100 - val_loss: 0.6116 - val_acc: 0.6645\n",
            "Train on 400 samples, validate on 155 samples\n",
            "400/400 [==============================] - 0s 19us/sample - loss: 0.5982 - acc: 0.7250 - val_loss: 0.6113 - val_acc: 0.6645\n",
            "Train on 400 samples, validate on 155 samples\n",
            "400/400 [==============================] - 0s 22us/sample - loss: 0.6108 - acc: 0.7000 - val_loss: 0.6109 - val_acc: 0.6645\n",
            "Train on 400 samples, validate on 155 samples\n",
            "400/400 [==============================] - 0s 22us/sample - loss: 0.6022 - acc: 0.7150 - val_loss: 0.6105 - val_acc: 0.6645\n",
            "Train on 400 samples, validate on 155 samples\n",
            "400/400 [==============================] - 0s 22us/sample - loss: 0.6001 - acc: 0.7075 - val_loss: 0.6101 - val_acc: 0.6645\n",
            "Train on 400 samples, validate on 155 samples\n",
            "400/400 [==============================] - 0s 21us/sample - loss: 0.5856 - acc: 0.7425 - val_loss: 0.6098 - val_acc: 0.6645\n",
            "Train on 400 samples, validate on 155 samples\n",
            "400/400 [==============================] - 0s 21us/sample - loss: 0.5884 - acc: 0.7100 - val_loss: 0.6096 - val_acc: 0.6645\n",
            "Train on 400 samples, validate on 155 samples\n",
            "400/400 [==============================] - 0s 25us/sample - loss: 0.5954 - acc: 0.7300 - val_loss: 0.6094 - val_acc: 0.6581\n",
            "Train on 400 samples, validate on 155 samples\n",
            "400/400 [==============================] - 0s 20us/sample - loss: 0.6084 - acc: 0.7050 - val_loss: 0.6090 - val_acc: 0.6581\n",
            "Train on 400 samples, validate on 155 samples\n",
            "400/400 [==============================] - 0s 21us/sample - loss: 0.5994 - acc: 0.7250 - val_loss: 0.6085 - val_acc: 0.6581\n",
            "Train on 400 samples, validate on 155 samples\n",
            "400/400 [==============================] - 0s 25us/sample - loss: 0.5971 - acc: 0.7175 - val_loss: 0.6082 - val_acc: 0.6581\n",
            "Train on 400 samples, validate on 155 samples\n",
            "400/400 [==============================] - 0s 21us/sample - loss: 0.5818 - acc: 0.7550 - val_loss: 0.6078 - val_acc: 0.6581\n",
            "Train on 400 samples, validate on 155 samples\n",
            "400/400 [==============================] - 0s 20us/sample - loss: 0.5851 - acc: 0.7200 - val_loss: 0.6076 - val_acc: 0.6581\n",
            "Train on 400 samples, validate on 155 samples\n",
            "400/400 [==============================] - 0s 19us/sample - loss: 0.5928 - acc: 0.7350 - val_loss: 0.6073 - val_acc: 0.6581\n",
            "Train on 400 samples, validate on 155 samples\n",
            "400/400 [==============================] - 0s 25us/sample - loss: 0.6062 - acc: 0.7075 - val_loss: 0.6069 - val_acc: 0.6581\n",
            "Train on 400 samples, validate on 155 samples\n",
            "400/400 [==============================] - 0s 18us/sample - loss: 0.5967 - acc: 0.7275 - val_loss: 0.6065 - val_acc: 0.6645\n",
            "Train on 400 samples, validate on 155 samples\n",
            "400/400 [==============================] - 0s 20us/sample - loss: 0.5943 - acc: 0.7200 - val_loss: 0.6060 - val_acc: 0.6645\n",
            "Train on 400 samples, validate on 155 samples\n",
            "400/400 [==============================] - 0s 21us/sample - loss: 0.5784 - acc: 0.7625 - val_loss: 0.6055 - val_acc: 0.6645\n",
            "Train on 400 samples, validate on 155 samples\n",
            "400/400 [==============================] - 0s 25us/sample - loss: 0.5821 - acc: 0.7225 - val_loss: 0.6053 - val_acc: 0.6645\n",
            "Train on 400 samples, validate on 155 samples\n",
            "400/400 [==============================] - 0s 21us/sample - loss: 0.5904 - acc: 0.7375 - val_loss: 0.6050 - val_acc: 0.6645\n",
            "Train on 400 samples, validate on 155 samples\n",
            "400/400 [==============================] - 0s 22us/sample - loss: 0.6038 - acc: 0.7100 - val_loss: 0.6046 - val_acc: 0.6581\n",
            "Train on 400 samples, validate on 155 samples\n",
            "400/400 [==============================] - 0s 24us/sample - loss: 0.5942 - acc: 0.7275 - val_loss: 0.6041 - val_acc: 0.6645\n",
            "Train on 400 samples, validate on 155 samples\n",
            "400/400 [==============================] - 0s 22us/sample - loss: 0.5916 - acc: 0.7225 - val_loss: 0.6037 - val_acc: 0.6645\n",
            "Train on 400 samples, validate on 155 samples\n",
            "400/400 [==============================] - 0s 29us/sample - loss: 0.5751 - acc: 0.7750 - val_loss: 0.6033 - val_acc: 0.6645\n",
            "Train on 400 samples, validate on 155 samples\n",
            "400/400 [==============================] - 0s 21us/sample - loss: 0.5793 - acc: 0.7275 - val_loss: 0.6031 - val_acc: 0.6710\n",
            "Train on 400 samples, validate on 155 samples\n",
            "400/400 [==============================] - 0s 19us/sample - loss: 0.5881 - acc: 0.7375 - val_loss: 0.6029 - val_acc: 0.6645\n",
            "Train on 400 samples, validate on 155 samples\n",
            "400/400 [==============================] - 0s 19us/sample - loss: 0.6017 - acc: 0.7175 - val_loss: 0.6025 - val_acc: 0.6710\n",
            "Train on 400 samples, validate on 155 samples\n",
            "400/400 [==============================] - 0s 20us/sample - loss: 0.5919 - acc: 0.7275 - val_loss: 0.6018 - val_acc: 0.6710\n",
            "Train on 400 samples, validate on 155 samples\n",
            "400/400 [==============================] - 0s 23us/sample - loss: 0.5890 - acc: 0.7375 - val_loss: 0.6014 - val_acc: 0.6710\n",
            "Train on 400 samples, validate on 155 samples\n",
            "400/400 [==============================] - 0s 19us/sample - loss: 0.5720 - acc: 0.7800 - val_loss: 0.6011 - val_acc: 0.6710\n",
            "Train on 400 samples, validate on 155 samples\n",
            "400/400 [==============================] - 0s 22us/sample - loss: 0.5765 - acc: 0.7350 - val_loss: 0.6010 - val_acc: 0.6710\n",
            "Train on 400 samples, validate on 155 samples\n",
            "400/400 [==============================] - 0s 22us/sample - loss: 0.5860 - acc: 0.7375 - val_loss: 0.6007 - val_acc: 0.6774\n",
            "Train on 400 samples, validate on 155 samples\n",
            "400/400 [==============================] - 0s 22us/sample - loss: 0.5996 - acc: 0.7150 - val_loss: 0.6003 - val_acc: 0.6774\n",
            "Train on 400 samples, validate on 155 samples\n",
            "400/400 [==============================] - 0s 20us/sample - loss: 0.5892 - acc: 0.7375 - val_loss: 0.5999 - val_acc: 0.6774\n",
            "Train on 400 samples, validate on 155 samples\n",
            "400/400 [==============================] - 0s 19us/sample - loss: 0.5865 - acc: 0.7375 - val_loss: 0.5996 - val_acc: 0.6774\n",
            "Train on 400 samples, validate on 155 samples\n",
            "400/400 [==============================] - 0s 20us/sample - loss: 0.5688 - acc: 0.7825 - val_loss: 0.5993 - val_acc: 0.6774\n",
            "Train on 400 samples, validate on 155 samples\n",
            "400/400 [==============================] - 0s 26us/sample - loss: 0.5737 - acc: 0.7350 - val_loss: 0.5991 - val_acc: 0.6774\n",
            "Train on 400 samples, validate on 155 samples\n",
            "400/400 [==============================] - 0s 22us/sample - loss: 0.5840 - acc: 0.7350 - val_loss: 0.5988 - val_acc: 0.6774\n",
            "Train on 400 samples, validate on 155 samples\n",
            "400/400 [==============================] - 0s 25us/sample - loss: 0.5977 - acc: 0.7150 - val_loss: 0.5984 - val_acc: 0.6774\n",
            "Train on 400 samples, validate on 155 samples\n",
            "400/400 [==============================] - 0s 22us/sample - loss: 0.5870 - acc: 0.7375 - val_loss: 0.5977 - val_acc: 0.6903\n",
            "Train on 400 samples, validate on 155 samples\n",
            "400/400 [==============================] - 0s 18us/sample - loss: 0.5842 - acc: 0.7350 - val_loss: 0.5972 - val_acc: 0.6903\n",
            "Train on 400 samples, validate on 155 samples\n",
            "400/400 [==============================] - 0s 18us/sample - loss: 0.5660 - acc: 0.7800 - val_loss: 0.5968 - val_acc: 0.6968\n",
            "Train on 400 samples, validate on 155 samples\n",
            "400/400 [==============================] - 0s 18us/sample - loss: 0.5713 - acc: 0.7400 - val_loss: 0.5966 - val_acc: 0.6968\n",
            "Train on 400 samples, validate on 155 samples\n",
            "400/400 [==============================] - 0s 21us/sample - loss: 0.5821 - acc: 0.7350 - val_loss: 0.5963 - val_acc: 0.6968\n",
            "Train on 400 samples, validate on 155 samples\n",
            "400/400 [==============================] - 0s 26us/sample - loss: 0.5955 - acc: 0.7175 - val_loss: 0.5959 - val_acc: 0.6968\n",
            "Train on 400 samples, validate on 155 samples\n",
            "400/400 [==============================] - 0s 26us/sample - loss: 0.5845 - acc: 0.7400 - val_loss: 0.5954 - val_acc: 0.6968\n",
            "Train on 400 samples, validate on 155 samples\n",
            "400/400 [==============================] - 0s 23us/sample - loss: 0.5820 - acc: 0.7375 - val_loss: 0.5950 - val_acc: 0.6968\n",
            "Train on 400 samples, validate on 155 samples\n",
            "400/400 [==============================] - 0s 25us/sample - loss: 0.5632 - acc: 0.7825 - val_loss: 0.5946 - val_acc: 0.6968\n",
            "Train on 400 samples, validate on 155 samples\n",
            "400/400 [==============================] - 0s 31us/sample - loss: 0.5687 - acc: 0.7450 - val_loss: 0.5944 - val_acc: 0.6968\n",
            "Train on 400 samples, validate on 155 samples\n",
            "400/400 [==============================] - 0s 28us/sample - loss: 0.5802 - acc: 0.7450 - val_loss: 0.5940 - val_acc: 0.6968\n",
            "Train on 400 samples, validate on 155 samples\n",
            "400/400 [==============================] - 0s 22us/sample - loss: 0.5936 - acc: 0.7250 - val_loss: 0.5935 - val_acc: 0.7032\n",
            "Train on 400 samples, validate on 155 samples\n",
            "400/400 [==============================] - 0s 34us/sample - loss: 0.5822 - acc: 0.7400 - val_loss: 0.5930 - val_acc: 0.7097\n",
            "Train on 400 samples, validate on 155 samples\n",
            "400/400 [==============================] - 0s 30us/sample - loss: 0.5801 - acc: 0.7425 - val_loss: 0.5923 - val_acc: 0.7097\n",
            "Train on 400 samples, validate on 155 samples\n",
            "400/400 [==============================] - 0s 19us/sample - loss: 0.5608 - acc: 0.7875 - val_loss: 0.5921 - val_acc: 0.7097\n",
            "Train on 400 samples, validate on 155 samples\n",
            "400/400 [==============================] - 0s 20us/sample - loss: 0.5663 - acc: 0.7500 - val_loss: 0.5921 - val_acc: 0.7097\n",
            "Train on 400 samples, validate on 155 samples\n",
            "400/400 [==============================] - 0s 21us/sample - loss: 0.5785 - acc: 0.7450 - val_loss: 0.5921 - val_acc: 0.7097\n",
            "Train on 400 samples, validate on 155 samples\n",
            "400/400 [==============================] - 0s 21us/sample - loss: 0.5919 - acc: 0.7250 - val_loss: 0.5917 - val_acc: 0.7097\n",
            "Train on 400 samples, validate on 155 samples\n",
            "400/400 [==============================] - 0s 21us/sample - loss: 0.5798 - acc: 0.7425 - val_loss: 0.5912 - val_acc: 0.7097\n",
            "Train on 400 samples, validate on 155 samples\n",
            "400/400 [==============================] - 0s 20us/sample - loss: 0.5778 - acc: 0.7450 - val_loss: 0.5907 - val_acc: 0.7097\n",
            "Train on 400 samples, validate on 155 samples\n",
            "400/400 [==============================] - 0s 22us/sample - loss: 0.5581 - acc: 0.7900 - val_loss: 0.5906 - val_acc: 0.7032\n",
            "Train on 400 samples, validate on 155 samples\n",
            "400/400 [==============================] - 0s 21us/sample - loss: 0.5637 - acc: 0.7500 - val_loss: 0.5905 - val_acc: 0.7032\n",
            "Train on 400 samples, validate on 155 samples\n",
            "400/400 [==============================] - 0s 20us/sample - loss: 0.5768 - acc: 0.7450 - val_loss: 0.5902 - val_acc: 0.7032\n",
            "Train on 400 samples, validate on 155 samples\n",
            "400/400 [==============================] - 0s 21us/sample - loss: 0.5902 - acc: 0.7250 - val_loss: 0.5896 - val_acc: 0.7161\n",
            "Train on 400 samples, validate on 155 samples\n",
            "400/400 [==============================] - 0s 18us/sample - loss: 0.5777 - acc: 0.7375 - val_loss: 0.5889 - val_acc: 0.7161\n",
            "Train on 400 samples, validate on 155 samples\n",
            "400/400 [==============================] - 0s 23us/sample - loss: 0.5759 - acc: 0.7400 - val_loss: 0.5883 - val_acc: 0.7226\n",
            "Train on 400 samples, validate on 155 samples\n",
            "400/400 [==============================] - 0s 21us/sample - loss: 0.5556 - acc: 0.7850 - val_loss: 0.5881 - val_acc: 0.7226\n",
            "Train on 400 samples, validate on 155 samples\n",
            "400/400 [==============================] - 0s 25us/sample - loss: 0.5616 - acc: 0.7475 - val_loss: 0.5882 - val_acc: 0.7161\n",
            "Train on 400 samples, validate on 155 samples\n",
            "400/400 [==============================] - 0s 21us/sample - loss: 0.5751 - acc: 0.7450 - val_loss: 0.5881 - val_acc: 0.7097\n",
            "Train on 400 samples, validate on 155 samples\n",
            "400/400 [==============================] - 0s 23us/sample - loss: 0.5883 - acc: 0.7275 - val_loss: 0.5875 - val_acc: 0.7161\n",
            "Train on 400 samples, validate on 155 samples\n",
            "400/400 [==============================] - 0s 22us/sample - loss: 0.5755 - acc: 0.7375 - val_loss: 0.5871 - val_acc: 0.7161\n",
            "Train on 400 samples, validate on 155 samples\n",
            "400/400 [==============================] - 0s 22us/sample - loss: 0.5741 - acc: 0.7425 - val_loss: 0.5867 - val_acc: 0.7226\n",
            "Train on 400 samples, validate on 155 samples\n",
            "400/400 [==============================] - 0s 22us/sample - loss: 0.5532 - acc: 0.7850 - val_loss: 0.5864 - val_acc: 0.7226\n",
            "Train on 400 samples, validate on 155 samples\n",
            "400/400 [==============================] - 0s 25us/sample - loss: 0.5592 - acc: 0.7475 - val_loss: 0.5864 - val_acc: 0.7161\n",
            "Train on 400 samples, validate on 155 samples\n",
            "400/400 [==============================] - 0s 19us/sample - loss: 0.5735 - acc: 0.7475 - val_loss: 0.5861 - val_acc: 0.7161\n",
            "Train on 400 samples, validate on 155 samples\n",
            "400/400 [==============================] - 0s 21us/sample - loss: 0.5867 - acc: 0.7250 - val_loss: 0.5856 - val_acc: 0.7290\n",
            "Train on 400 samples, validate on 155 samples\n",
            "400/400 [==============================] - 0s 19us/sample - loss: 0.5736 - acc: 0.7350 - val_loss: 0.5850 - val_acc: 0.7355\n",
            "Train on 400 samples, validate on 155 samples\n",
            "400/400 [==============================] - 0s 22us/sample - loss: 0.5725 - acc: 0.7525 - val_loss: 0.5846 - val_acc: 0.7419\n",
            "Train on 400 samples, validate on 155 samples\n",
            "400/400 [==============================] - 0s 25us/sample - loss: 0.5509 - acc: 0.7850 - val_loss: 0.5844 - val_acc: 0.7355\n",
            "Train on 400 samples, validate on 155 samples\n",
            "400/400 [==============================] - 0s 22us/sample - loss: 0.5570 - acc: 0.7475 - val_loss: 0.5846 - val_acc: 0.7290\n",
            "Train on 400 samples, validate on 155 samples\n",
            "400/400 [==============================] - 0s 24us/sample - loss: 0.5721 - acc: 0.7475 - val_loss: 0.5846 - val_acc: 0.7226\n",
            "Train on 400 samples, validate on 155 samples\n",
            "400/400 [==============================] - 0s 22us/sample - loss: 0.5856 - acc: 0.7250 - val_loss: 0.5844 - val_acc: 0.7226\n",
            "Train on 400 samples, validate on 155 samples\n",
            "400/400 [==============================] - 0s 26us/sample - loss: 0.5714 - acc: 0.7375 - val_loss: 0.5838 - val_acc: 0.7290\n",
            "Train on 400 samples, validate on 155 samples\n",
            "400/400 [==============================] - 0s 26us/sample - loss: 0.5708 - acc: 0.7500 - val_loss: 0.5833 - val_acc: 0.7419\n",
            "Train on 400 samples, validate on 155 samples\n",
            "400/400 [==============================] - 0s 24us/sample - loss: 0.5484 - acc: 0.7850 - val_loss: 0.5831 - val_acc: 0.7419\n",
            "Train on 400 samples, validate on 155 samples\n",
            "400/400 [==============================] - 0s 29us/sample - loss: 0.5548 - acc: 0.7500 - val_loss: 0.5829 - val_acc: 0.7419\n",
            "Train on 400 samples, validate on 155 samples\n",
            "400/400 [==============================] - 0s 18us/sample - loss: 0.5705 - acc: 0.7500 - val_loss: 0.5826 - val_acc: 0.7290\n",
            "Train on 400 samples, validate on 155 samples\n",
            "400/400 [==============================] - 0s 21us/sample - loss: 0.5837 - acc: 0.7275 - val_loss: 0.5820 - val_acc: 0.7484\n",
            "Train on 400 samples, validate on 155 samples\n",
            "400/400 [==============================] - 0s 18us/sample - loss: 0.5695 - acc: 0.7375 - val_loss: 0.5817 - val_acc: 0.7484\n",
            "Train on 400 samples, validate on 155 samples\n",
            "400/400 [==============================] - 0s 18us/sample - loss: 0.5693 - acc: 0.7550 - val_loss: 0.5812 - val_acc: 0.7484\n",
            "Train on 400 samples, validate on 155 samples\n",
            "400/400 [==============================] - 0s 26us/sample - loss: 0.5466 - acc: 0.7925 - val_loss: 0.5813 - val_acc: 0.7484\n",
            "Train on 400 samples, validate on 155 samples\n",
            "400/400 [==============================] - 0s 21us/sample - loss: 0.5527 - acc: 0.7525 - val_loss: 0.5815 - val_acc: 0.7484\n",
            "Train on 400 samples, validate on 155 samples\n",
            "400/400 [==============================] - 0s 20us/sample - loss: 0.5693 - acc: 0.7500 - val_loss: 0.5816 - val_acc: 0.7355\n",
            "Train on 400 samples, validate on 155 samples\n",
            "400/400 [==============================] - 0s 19us/sample - loss: 0.5824 - acc: 0.7275 - val_loss: 0.5811 - val_acc: 0.7484\n",
            "Train on 400 samples, validate on 155 samples\n",
            "400/400 [==============================] - 0s 26us/sample - loss: 0.5678 - acc: 0.7375 - val_loss: 0.5805 - val_acc: 0.7419\n",
            "Train on 400 samples, validate on 155 samples\n",
            "400/400 [==============================] - 0s 20us/sample - loss: 0.5677 - acc: 0.7550 - val_loss: 0.5802 - val_acc: 0.7548\n",
            "Train on 400 samples, validate on 155 samples\n",
            "400/400 [==============================] - 0s 25us/sample - loss: 0.5442 - acc: 0.7900 - val_loss: 0.5801 - val_acc: 0.7548\n",
            "Train on 400 samples, validate on 155 samples\n",
            "400/400 [==============================] - 0s 21us/sample - loss: 0.5507 - acc: 0.7550 - val_loss: 0.5802 - val_acc: 0.7484\n",
            "Train on 400 samples, validate on 155 samples\n",
            "400/400 [==============================] - 0s 29us/sample - loss: 0.5680 - acc: 0.7525 - val_loss: 0.5802 - val_acc: 0.7484\n",
            "Train on 400 samples, validate on 155 samples\n",
            "400/400 [==============================] - 0s 24us/sample - loss: 0.5810 - acc: 0.7275 - val_loss: 0.5796 - val_acc: 0.7484\n",
            "Train on 400 samples, validate on 155 samples\n",
            "400/400 [==============================] - 0s 24us/sample - loss: 0.5659 - acc: 0.7400 - val_loss: 0.5791 - val_acc: 0.7548\n",
            "Train on 400 samples, validate on 155 samples\n",
            "400/400 [==============================] - 0s 25us/sample - loss: 0.5663 - acc: 0.7550 - val_loss: 0.5787 - val_acc: 0.7548\n",
            "Train on 400 samples, validate on 155 samples\n",
            "400/400 [==============================] - 0s 21us/sample - loss: 0.5421 - acc: 0.7900 - val_loss: 0.5786 - val_acc: 0.7548\n",
            "Train on 400 samples, validate on 155 samples\n",
            "400/400 [==============================] - 0s 22us/sample - loss: 0.5488 - acc: 0.7550 - val_loss: 0.5787 - val_acc: 0.7484\n",
            "Train on 400 samples, validate on 155 samples\n",
            "400/400 [==============================] - 0s 24us/sample - loss: 0.5666 - acc: 0.7525 - val_loss: 0.5785 - val_acc: 0.7484\n",
            "Train on 400 samples, validate on 155 samples\n",
            "400/400 [==============================] - 0s 26us/sample - loss: 0.5796 - acc: 0.7325 - val_loss: 0.5780 - val_acc: 0.7484\n",
            "Train on 400 samples, validate on 155 samples\n",
            "400/400 [==============================] - 0s 23us/sample - loss: 0.5641 - acc: 0.7425 - val_loss: 0.5775 - val_acc: 0.7548\n",
            "Train on 400 samples, validate on 155 samples\n",
            "400/400 [==============================] - 0s 30us/sample - loss: 0.5649 - acc: 0.7550 - val_loss: 0.5771 - val_acc: 0.7613\n",
            "Train on 400 samples, validate on 155 samples\n",
            "400/400 [==============================] - 0s 32us/sample - loss: 0.5402 - acc: 0.7875 - val_loss: 0.5770 - val_acc: 0.7548\n",
            "Train on 400 samples, validate on 155 samples\n",
            "400/400 [==============================] - 0s 25us/sample - loss: 0.5469 - acc: 0.7550 - val_loss: 0.5771 - val_acc: 0.7484\n",
            "Train on 400 samples, validate on 155 samples\n",
            "400/400 [==============================] - 0s 24us/sample - loss: 0.5654 - acc: 0.7525 - val_loss: 0.5769 - val_acc: 0.7484\n",
            "Train on 400 samples, validate on 155 samples\n",
            "400/400 [==============================] - 0s 24us/sample - loss: 0.5781 - acc: 0.7325 - val_loss: 0.5764 - val_acc: 0.7484\n",
            "Train on 400 samples, validate on 155 samples\n",
            "400/400 [==============================] - 0s 27us/sample - loss: 0.5622 - acc: 0.7475 - val_loss: 0.5760 - val_acc: 0.7613\n",
            "Train on 400 samples, validate on 155 samples\n",
            "400/400 [==============================] - 0s 25us/sample - loss: 0.5636 - acc: 0.7575 - val_loss: 0.5754 - val_acc: 0.7613\n",
            "Train on 400 samples, validate on 155 samples\n",
            "400/400 [==============================] - 0s 29us/sample - loss: 0.5384 - acc: 0.7875 - val_loss: 0.5753 - val_acc: 0.7613\n",
            "Train on 400 samples, validate on 155 samples\n",
            "400/400 [==============================] - 0s 24us/sample - loss: 0.5451 - acc: 0.7600 - val_loss: 0.5756 - val_acc: 0.7548\n",
            "Train on 400 samples, validate on 155 samples\n",
            "400/400 [==============================] - 0s 24us/sample - loss: 0.5642 - acc: 0.7550 - val_loss: 0.5757 - val_acc: 0.7484\n",
            "Train on 400 samples, validate on 155 samples\n",
            "400/400 [==============================] - 0s 24us/sample - loss: 0.5770 - acc: 0.7350 - val_loss: 0.5752 - val_acc: 0.7548\n",
            "Train on 400 samples, validate on 155 samples\n",
            "400/400 [==============================] - 0s 17us/sample - loss: 0.5605 - acc: 0.7550 - val_loss: 0.5747 - val_acc: 0.7548\n",
            "Train on 400 samples, validate on 155 samples\n",
            "400/400 [==============================] - 0s 20us/sample - loss: 0.5622 - acc: 0.7625 - val_loss: 0.5743 - val_acc: 0.7613\n",
            "Train on 400 samples, validate on 155 samples\n",
            "400/400 [==============================] - 0s 26us/sample - loss: 0.5365 - acc: 0.7875 - val_loss: 0.5742 - val_acc: 0.7613\n",
            "Train on 400 samples, validate on 155 samples\n",
            "400/400 [==============================] - 0s 20us/sample - loss: 0.5432 - acc: 0.7675 - val_loss: 0.5744 - val_acc: 0.7548\n",
            "Train on 400 samples, validate on 155 samples\n",
            "400/400 [==============================] - 0s 20us/sample - loss: 0.5629 - acc: 0.7550 - val_loss: 0.5744 - val_acc: 0.7548\n",
            "Train on 400 samples, validate on 155 samples\n",
            "400/400 [==============================] - 0s 18us/sample - loss: 0.5757 - acc: 0.7350 - val_loss: 0.5737 - val_acc: 0.7613\n",
            "Train on 400 samples, validate on 155 samples\n",
            "400/400 [==============================] - 0s 24us/sample - loss: 0.5587 - acc: 0.7575 - val_loss: 0.5733 - val_acc: 0.7613\n",
            "Train on 400 samples, validate on 155 samples\n",
            "400/400 [==============================] - 0s 23us/sample - loss: 0.5609 - acc: 0.7650 - val_loss: 0.5732 - val_acc: 0.7613\n",
            "Train on 400 samples, validate on 155 samples\n",
            "400/400 [==============================] - 0s 22us/sample - loss: 0.5345 - acc: 0.7925 - val_loss: 0.5731 - val_acc: 0.7613\n",
            "Train on 400 samples, validate on 155 samples\n",
            "400/400 [==============================] - 0s 23us/sample - loss: 0.5412 - acc: 0.7675 - val_loss: 0.5733 - val_acc: 0.7613\n",
            "Train on 400 samples, validate on 155 samples\n",
            "400/400 [==============================] - 0s 20us/sample - loss: 0.5617 - acc: 0.7525 - val_loss: 0.5733 - val_acc: 0.7613\n",
            "Train on 400 samples, validate on 155 samples\n",
            "400/400 [==============================] - 0s 18us/sample - loss: 0.5743 - acc: 0.7350 - val_loss: 0.5728 - val_acc: 0.7613\n",
            "Train on 400 samples, validate on 155 samples\n",
            "400/400 [==============================] - 0s 19us/sample - loss: 0.5568 - acc: 0.7550 - val_loss: 0.5722 - val_acc: 0.7677\n",
            "Train on 400 samples, validate on 155 samples\n",
            "400/400 [==============================] - 0s 22us/sample - loss: 0.5595 - acc: 0.7650 - val_loss: 0.5719 - val_acc: 0.7677\n",
            "Train on 400 samples, validate on 155 samples\n",
            "400/400 [==============================] - 0s 26us/sample - loss: 0.5327 - acc: 0.7900 - val_loss: 0.5717 - val_acc: 0.7677\n",
            "Train on 400 samples, validate on 155 samples\n",
            "400/400 [==============================] - 0s 23us/sample - loss: 0.5393 - acc: 0.7650 - val_loss: 0.5720 - val_acc: 0.7613\n",
            "Train on 400 samples, validate on 155 samples\n",
            "400/400 [==============================] - 0s 26us/sample - loss: 0.5605 - acc: 0.7525 - val_loss: 0.5720 - val_acc: 0.7613\n",
            "Train on 400 samples, validate on 155 samples\n",
            "400/400 [==============================] - 0s 23us/sample - loss: 0.5729 - acc: 0.7350 - val_loss: 0.5715 - val_acc: 0.7677\n",
            "Train on 400 samples, validate on 155 samples\n",
            "400/400 [==============================] - 0s 23us/sample - loss: 0.5551 - acc: 0.7525 - val_loss: 0.5708 - val_acc: 0.7613\n",
            "Train on 400 samples, validate on 155 samples\n",
            "400/400 [==============================] - 0s 24us/sample - loss: 0.5584 - acc: 0.7650 - val_loss: 0.5703 - val_acc: 0.7613\n",
            "Train on 400 samples, validate on 155 samples\n",
            "400/400 [==============================] - 0s 24us/sample - loss: 0.5310 - acc: 0.7900 - val_loss: 0.5705 - val_acc: 0.7613\n",
            "Train on 400 samples, validate on 155 samples\n",
            "400/400 [==============================] - 0s 25us/sample - loss: 0.5375 - acc: 0.7675 - val_loss: 0.5710 - val_acc: 0.7677\n",
            "Train on 400 samples, validate on 155 samples\n",
            "400/400 [==============================] - 0s 25us/sample - loss: 0.5594 - acc: 0.7550 - val_loss: 0.5713 - val_acc: 0.7677\n",
            "Train on 400 samples, validate on 155 samples\n",
            "400/400 [==============================] - 0s 23us/sample - loss: 0.5717 - acc: 0.7375 - val_loss: 0.5709 - val_acc: 0.7677\n",
            "Train on 400 samples, validate on 155 samples\n",
            "400/400 [==============================] - 0s 21us/sample - loss: 0.5534 - acc: 0.7525 - val_loss: 0.5702 - val_acc: 0.7613\n",
            "Train on 400 samples, validate on 155 samples\n",
            "400/400 [==============================] - 0s 20us/sample - loss: 0.5570 - acc: 0.7675 - val_loss: 0.5699 - val_acc: 0.7613\n",
            "Train on 400 samples, validate on 155 samples\n",
            "400/400 [==============================] - 0s 20us/sample - loss: 0.5291 - acc: 0.7875 - val_loss: 0.5700 - val_acc: 0.7613\n",
            "Train on 400 samples, validate on 155 samples\n",
            "400/400 [==============================] - 0s 20us/sample - loss: 0.5356 - acc: 0.7700 - val_loss: 0.5703 - val_acc: 0.7613\n",
            "Train on 400 samples, validate on 155 samples\n",
            "400/400 [==============================] - 0s 21us/sample - loss: 0.5581 - acc: 0.7550 - val_loss: 0.5701 - val_acc: 0.7613\n",
            "Train on 400 samples, validate on 155 samples\n",
            "400/400 [==============================] - 0s 29us/sample - loss: 0.5703 - acc: 0.7375 - val_loss: 0.5694 - val_acc: 0.7613\n",
            "Train on 400 samples, validate on 155 samples\n",
            "400/400 [==============================] - 0s 27us/sample - loss: 0.5518 - acc: 0.7500 - val_loss: 0.5691 - val_acc: 0.7677\n",
            "Train on 400 samples, validate on 155 samples\n",
            "400/400 [==============================] - 0s 26us/sample - loss: 0.5559 - acc: 0.7700 - val_loss: 0.5691 - val_acc: 0.7677\n",
            "Train on 400 samples, validate on 155 samples\n",
            "400/400 [==============================] - 0s 29us/sample - loss: 0.5273 - acc: 0.7875 - val_loss: 0.5693 - val_acc: 0.7677\n",
            "Train on 400 samples, validate on 155 samples\n",
            "400/400 [==============================] - 0s 22us/sample - loss: 0.5341 - acc: 0.7700 - val_loss: 0.5699 - val_acc: 0.7613\n",
            "Train on 400 samples, validate on 155 samples\n",
            "400/400 [==============================] - 0s 22us/sample - loss: 0.5571 - acc: 0.7550 - val_loss: 0.5699 - val_acc: 0.7613\n",
            "Train on 400 samples, validate on 155 samples\n",
            "400/400 [==============================] - 0s 17us/sample - loss: 0.5693 - acc: 0.7400 - val_loss: 0.5692 - val_acc: 0.7613\n",
            "Train on 400 samples, validate on 155 samples\n",
            "400/400 [==============================] - 0s 23us/sample - loss: 0.5503 - acc: 0.7500 - val_loss: 0.5684 - val_acc: 0.7677\n",
            "Train on 400 samples, validate on 155 samples\n",
            "400/400 [==============================] - 0s 23us/sample - loss: 0.5547 - acc: 0.7675 - val_loss: 0.5681 - val_acc: 0.7677\n",
            "Train on 400 samples, validate on 155 samples\n",
            "400/400 [==============================] - 0s 17us/sample - loss: 0.5258 - acc: 0.7850 - val_loss: 0.5683 - val_acc: 0.7677\n",
            "Train on 400 samples, validate on 155 samples\n",
            "400/400 [==============================] - 0s 17us/sample - loss: 0.5323 - acc: 0.7675 - val_loss: 0.5686 - val_acc: 0.7677\n",
            "Train on 400 samples, validate on 155 samples\n",
            "400/400 [==============================] - 0s 28us/sample - loss: 0.5559 - acc: 0.7525 - val_loss: 0.5686 - val_acc: 0.7677\n",
            "Train on 400 samples, validate on 155 samples\n",
            "400/400 [==============================] - 0s 19us/sample - loss: 0.5679 - acc: 0.7350 - val_loss: 0.5681 - val_acc: 0.7677\n",
            "Train on 400 samples, validate on 155 samples\n",
            "400/400 [==============================] - 0s 26us/sample - loss: 0.5487 - acc: 0.7500 - val_loss: 0.5674 - val_acc: 0.7677\n",
            "Train on 400 samples, validate on 155 samples\n",
            "400/400 [==============================] - 0s 29us/sample - loss: 0.5536 - acc: 0.7700 - val_loss: 0.5672 - val_acc: 0.7677\n",
            "Train on 400 samples, validate on 155 samples\n",
            "400/400 [==============================] - 0s 33us/sample - loss: 0.5242 - acc: 0.7850 - val_loss: 0.5674 - val_acc: 0.7677\n",
            "Train on 400 samples, validate on 155 samples\n",
            "400/400 [==============================] - 0s 34us/sample - loss: 0.5307 - acc: 0.7675 - val_loss: 0.5677 - val_acc: 0.7677\n",
            "Train on 400 samples, validate on 155 samples\n",
            "400/400 [==============================] - 0s 27us/sample - loss: 0.5548 - acc: 0.7525 - val_loss: 0.5676 - val_acc: 0.7677\n",
            "Train on 400 samples, validate on 155 samples\n",
            "400/400 [==============================] - 0s 28us/sample - loss: 0.5667 - acc: 0.7325 - val_loss: 0.5672 - val_acc: 0.7677\n",
            "Train on 400 samples, validate on 155 samples\n",
            "400/400 [==============================] - 0s 28us/sample - loss: 0.5472 - acc: 0.7500 - val_loss: 0.5669 - val_acc: 0.7677\n",
            "Train on 400 samples, validate on 155 samples\n",
            "400/400 [==============================] - 0s 28us/sample - loss: 0.5525 - acc: 0.7700 - val_loss: 0.5668 - val_acc: 0.7677\n",
            "Train on 400 samples, validate on 155 samples\n",
            "400/400 [==============================] - 0s 26us/sample - loss: 0.5226 - acc: 0.7850 - val_loss: 0.5669 - val_acc: 0.7677\n",
            "Train on 400 samples, validate on 155 samples\n",
            "400/400 [==============================] - 0s 27us/sample - loss: 0.5292 - acc: 0.7675 - val_loss: 0.5671 - val_acc: 0.7677\n",
            "Train on 400 samples, validate on 155 samples\n",
            "400/400 [==============================] - 0s 18us/sample - loss: 0.5540 - acc: 0.7475 - val_loss: 0.5673 - val_acc: 0.7677\n",
            "Train on 400 samples, validate on 155 samples\n",
            "400/400 [==============================] - 0s 17us/sample - loss: 0.5659 - acc: 0.7325 - val_loss: 0.5666 - val_acc: 0.7677\n",
            "Train on 400 samples, validate on 155 samples\n",
            "400/400 [==============================] - 0s 19us/sample - loss: 0.5459 - acc: 0.7525 - val_loss: 0.5660 - val_acc: 0.7677\n",
            "Train on 400 samples, validate on 155 samples\n",
            "400/400 [==============================] - 0s 17us/sample - loss: 0.5515 - acc: 0.7725 - val_loss: 0.5657 - val_acc: 0.7677\n",
            "Train on 400 samples, validate on 155 samples\n",
            "400/400 [==============================] - 0s 21us/sample - loss: 0.5211 - acc: 0.7850 - val_loss: 0.5658 - val_acc: 0.7677\n",
            "Train on 400 samples, validate on 155 samples\n",
            "400/400 [==============================] - 0s 18us/sample - loss: 0.5277 - acc: 0.7750 - val_loss: 0.5662 - val_acc: 0.7677\n",
            "Train on 400 samples, validate on 155 samples\n",
            "400/400 [==============================] - 0s 20us/sample - loss: 0.5529 - acc: 0.7475 - val_loss: 0.5663 - val_acc: 0.7677\n",
            "Train on 400 samples, validate on 155 samples\n",
            "400/400 [==============================] - 0s 20us/sample - loss: 0.5648 - acc: 0.7325 - val_loss: 0.5659 - val_acc: 0.7677\n",
            "Train on 400 samples, validate on 155 samples\n",
            "400/400 [==============================] - 0s 29us/sample - loss: 0.5446 - acc: 0.7550 - val_loss: 0.5654 - val_acc: 0.7677\n",
            "Train on 400 samples, validate on 155 samples\n",
            "400/400 [==============================] - 0s 27us/sample - loss: 0.5505 - acc: 0.7725 - val_loss: 0.5653 - val_acc: 0.7677\n",
            "Train on 400 samples, validate on 155 samples\n",
            "400/400 [==============================] - 0s 20us/sample - loss: 0.5198 - acc: 0.7875 - val_loss: 0.5651 - val_acc: 0.7677\n",
            "Train on 400 samples, validate on 155 samples\n",
            "400/400 [==============================] - 0s 25us/sample - loss: 0.5263 - acc: 0.7775 - val_loss: 0.5656 - val_acc: 0.7677\n",
            "Train on 400 samples, validate on 155 samples\n",
            "400/400 [==============================] - 0s 25us/sample - loss: 0.5521 - acc: 0.7500 - val_loss: 0.5656 - val_acc: 0.7677\n",
            "Train on 400 samples, validate on 155 samples\n",
            "400/400 [==============================] - 0s 26us/sample - loss: 0.5638 - acc: 0.7350 - val_loss: 0.5650 - val_acc: 0.7677\n",
            "Train on 400 samples, validate on 155 samples\n",
            "400/400 [==============================] - 0s 17us/sample - loss: 0.5432 - acc: 0.7550 - val_loss: 0.5644 - val_acc: 0.7613\n",
            "Train on 400 samples, validate on 155 samples\n",
            "400/400 [==============================] - 0s 17us/sample - loss: 0.5496 - acc: 0.7750 - val_loss: 0.5641 - val_acc: 0.7613\n",
            "Train on 400 samples, validate on 155 samples\n",
            "400/400 [==============================] - 0s 19us/sample - loss: 0.5184 - acc: 0.7875 - val_loss: 0.5645 - val_acc: 0.7613\n",
            "Train on 400 samples, validate on 155 samples\n",
            "400/400 [==============================] - 0s 19us/sample - loss: 0.5249 - acc: 0.7775 - val_loss: 0.5651 - val_acc: 0.7677\n",
            "Train on 400 samples, validate on 155 samples\n",
            "400/400 [==============================] - 0s 21us/sample - loss: 0.5512 - acc: 0.7525 - val_loss: 0.5652 - val_acc: 0.7677\n",
            "Train on 400 samples, validate on 155 samples\n",
            "400/400 [==============================] - 0s 22us/sample - loss: 0.5630 - acc: 0.7375 - val_loss: 0.5646 - val_acc: 0.7677\n",
            "Train on 400 samples, validate on 155 samples\n",
            "400/400 [==============================] - 0s 21us/sample - loss: 0.5418 - acc: 0.7550 - val_loss: 0.5641 - val_acc: 0.7613\n",
            "Train on 400 samples, validate on 155 samples\n",
            "400/400 [==============================] - 0s 27us/sample - loss: 0.5486 - acc: 0.7725 - val_loss: 0.5638 - val_acc: 0.7613\n",
            "Train on 400 samples, validate on 155 samples\n",
            "400/400 [==============================] - 0s 24us/sample - loss: 0.5168 - acc: 0.7875 - val_loss: 0.5637 - val_acc: 0.7613\n",
            "Train on 400 samples, validate on 155 samples\n",
            "400/400 [==============================] - 0s 19us/sample - loss: 0.5237 - acc: 0.7775 - val_loss: 0.5641 - val_acc: 0.7613\n",
            "Train on 400 samples, validate on 155 samples\n",
            "400/400 [==============================] - 0s 30us/sample - loss: 0.5501 - acc: 0.7525 - val_loss: 0.5640 - val_acc: 0.7613\n",
            "Train on 400 samples, validate on 155 samples\n",
            "400/400 [==============================] - 0s 32us/sample - loss: 0.5619 - acc: 0.7375 - val_loss: 0.5632 - val_acc: 0.7548\n",
            "Train on 400 samples, validate on 155 samples\n",
            "400/400 [==============================] - 0s 26us/sample - loss: 0.5405 - acc: 0.7575 - val_loss: 0.5628 - val_acc: 0.7484\n",
            "Train on 400 samples, validate on 155 samples\n",
            "400/400 [==============================] - 0s 17us/sample - loss: 0.5477 - acc: 0.7800 - val_loss: 0.5626 - val_acc: 0.7484\n",
            "Train on 400 samples, validate on 155 samples\n",
            "400/400 [==============================] - 0s 23us/sample - loss: 0.5157 - acc: 0.7900 - val_loss: 0.5623 - val_acc: 0.7484\n",
            "Train on 400 samples, validate on 155 samples\n",
            "400/400 [==============================] - 0s 21us/sample - loss: 0.5226 - acc: 0.7800 - val_loss: 0.5629 - val_acc: 0.7484\n",
            "Train on 400 samples, validate on 155 samples\n",
            "400/400 [==============================] - 0s 17us/sample - loss: 0.5492 - acc: 0.7525 - val_loss: 0.5629 - val_acc: 0.7484\n",
            "Train on 400 samples, validate on 155 samples\n",
            "400/400 [==============================] - 0s 23us/sample - loss: 0.5608 - acc: 0.7375 - val_loss: 0.5621 - val_acc: 0.7484\n",
            "Train on 400 samples, validate on 155 samples\n",
            "400/400 [==============================] - 0s 23us/sample - loss: 0.5390 - acc: 0.7575 - val_loss: 0.5615 - val_acc: 0.7484\n",
            "Train on 400 samples, validate on 155 samples\n",
            "400/400 [==============================] - 0s 22us/sample - loss: 0.5467 - acc: 0.7800 - val_loss: 0.5610 - val_acc: 0.7677\n",
            "Train on 400 samples, validate on 155 samples\n",
            "400/400 [==============================] - 0s 22us/sample - loss: 0.5145 - acc: 0.7875 - val_loss: 0.5612 - val_acc: 0.7613\n",
            "Train on 400 samples, validate on 155 samples\n",
            "400/400 [==============================] - 0s 21us/sample - loss: 0.5215 - acc: 0.7825 - val_loss: 0.5615 - val_acc: 0.7548\n",
            "Train on 400 samples, validate on 155 samples\n",
            "400/400 [==============================] - 0s 31us/sample - loss: 0.5480 - acc: 0.7575 - val_loss: 0.5617 - val_acc: 0.7548\n",
            "Train on 400 samples, validate on 155 samples\n",
            "400/400 [==============================] - 0s 18us/sample - loss: 0.5598 - acc: 0.7400 - val_loss: 0.5616 - val_acc: 0.7548\n",
            "Train on 400 samples, validate on 155 samples\n",
            "400/400 [==============================] - 0s 18us/sample - loss: 0.5374 - acc: 0.7625 - val_loss: 0.5613 - val_acc: 0.7548\n",
            "Train on 400 samples, validate on 155 samples\n",
            "400/400 [==============================] - 0s 21us/sample - loss: 0.5454 - acc: 0.7800 - val_loss: 0.5610 - val_acc: 0.7548\n",
            "Train on 400 samples, validate on 155 samples\n",
            "400/400 [==============================] - 0s 18us/sample - loss: 0.5129 - acc: 0.7925 - val_loss: 0.5613 - val_acc: 0.7548\n",
            "Train on 400 samples, validate on 155 samples\n",
            "400/400 [==============================] - 0s 20us/sample - loss: 0.5202 - acc: 0.7750 - val_loss: 0.5622 - val_acc: 0.7548\n",
            "Train on 400 samples, validate on 155 samples\n",
            "400/400 [==============================] - 0s 20us/sample - loss: 0.5474 - acc: 0.7575 - val_loss: 0.5623 - val_acc: 0.7548\n",
            "Train on 400 samples, validate on 155 samples\n",
            "400/400 [==============================] - 0s 23us/sample - loss: 0.5592 - acc: 0.7425 - val_loss: 0.5618 - val_acc: 0.7548\n",
            "Train on 400 samples, validate on 155 samples\n",
            "400/400 [==============================] - 0s 19us/sample - loss: 0.5359 - acc: 0.7625 - val_loss: 0.5612 - val_acc: 0.7548\n",
            "Train on 400 samples, validate on 155 samples\n",
            "400/400 [==============================] - 0s 17us/sample - loss: 0.5444 - acc: 0.7750 - val_loss: 0.5609 - val_acc: 0.7548\n",
            "Train on 400 samples, validate on 155 samples\n",
            "400/400 [==============================] - 0s 20us/sample - loss: 0.5114 - acc: 0.7925 - val_loss: 0.5610 - val_acc: 0.7548\n",
            "Train on 400 samples, validate on 155 samples\n",
            "400/400 [==============================] - 0s 18us/sample - loss: 0.5189 - acc: 0.7800 - val_loss: 0.5614 - val_acc: 0.7548\n",
            "Train on 400 samples, validate on 155 samples\n",
            "400/400 [==============================] - 0s 21us/sample - loss: 0.5466 - acc: 0.7575 - val_loss: 0.5617 - val_acc: 0.7613\n",
            "Train on 400 samples, validate on 155 samples\n",
            "400/400 [==============================] - 0s 21us/sample - loss: 0.5582 - acc: 0.7425 - val_loss: 0.5611 - val_acc: 0.7548\n",
            "Train on 400 samples, validate on 155 samples\n",
            "400/400 [==============================] - 0s 21us/sample - loss: 0.5345 - acc: 0.7625 - val_loss: 0.5609 - val_acc: 0.7548\n",
            "Train on 400 samples, validate on 155 samples\n",
            "400/400 [==============================] - 0s 24us/sample - loss: 0.5433 - acc: 0.7775 - val_loss: 0.5607 - val_acc: 0.7548\n",
            "Train on 400 samples, validate on 155 samples\n",
            "400/400 [==============================] - 0s 25us/sample - loss: 0.5099 - acc: 0.7950 - val_loss: 0.5609 - val_acc: 0.7548\n",
            "Train on 400 samples, validate on 155 samples\n",
            "400/400 [==============================] - 0s 23us/sample - loss: 0.5177 - acc: 0.7800 - val_loss: 0.5613 - val_acc: 0.7613\n",
            "Train on 400 samples, validate on 155 samples\n",
            "400/400 [==============================] - 0s 21us/sample - loss: 0.5457 - acc: 0.7600 - val_loss: 0.5611 - val_acc: 0.7613\n",
            "Train on 400 samples, validate on 155 samples\n",
            "400/400 [==============================] - 0s 21us/sample - loss: 0.5572 - acc: 0.7375 - val_loss: 0.5605 - val_acc: 0.7548\n",
            "Train on 400 samples, validate on 155 samples\n",
            "400/400 [==============================] - 0s 34us/sample - loss: 0.5333 - acc: 0.7650 - val_loss: 0.5602 - val_acc: 0.7548\n",
            "Train on 400 samples, validate on 155 samples\n",
            "400/400 [==============================] - 0s 21us/sample - loss: 0.5423 - acc: 0.7775 - val_loss: 0.5600 - val_acc: 0.7548\n",
            "Train on 400 samples, validate on 155 samples\n",
            "400/400 [==============================] - 0s 24us/sample - loss: 0.5086 - acc: 0.7950 - val_loss: 0.5603 - val_acc: 0.7613\n",
            "Train on 400 samples, validate on 155 samples\n",
            "400/400 [==============================] - 0s 24us/sample - loss: 0.5164 - acc: 0.7775 - val_loss: 0.5610 - val_acc: 0.7613\n",
            "Train on 400 samples, validate on 155 samples\n",
            "400/400 [==============================] - 0s 22us/sample - loss: 0.5449 - acc: 0.7575 - val_loss: 0.5611 - val_acc: 0.7613\n",
            "Train on 400 samples, validate on 155 samples\n",
            "400/400 [==============================] - 0s 24us/sample - loss: 0.5566 - acc: 0.7400 - val_loss: 0.5603 - val_acc: 0.7613\n",
            "Train on 400 samples, validate on 155 samples\n",
            "400/400 [==============================] - 0s 18us/sample - loss: 0.5322 - acc: 0.7700 - val_loss: 0.5598 - val_acc: 0.7613\n",
            "Train on 400 samples, validate on 155 samples\n",
            "400/400 [==============================] - 0s 24us/sample - loss: 0.5413 - acc: 0.7775 - val_loss: 0.5595 - val_acc: 0.7613\n",
            "Train on 400 samples, validate on 155 samples\n",
            "400/400 [==============================] - 0s 23us/sample - loss: 0.5075 - acc: 0.7975 - val_loss: 0.5597 - val_acc: 0.7613\n",
            "Train on 400 samples, validate on 155 samples\n",
            "400/400 [==============================] - 0s 33us/sample - loss: 0.5153 - acc: 0.7825 - val_loss: 0.5603 - val_acc: 0.7613\n",
            "Train on 400 samples, validate on 155 samples\n",
            "400/400 [==============================] - 0s 23us/sample - loss: 0.5439 - acc: 0.7575 - val_loss: 0.5605 - val_acc: 0.7613\n",
            "Train on 400 samples, validate on 155 samples\n",
            "400/400 [==============================] - 0s 36us/sample - loss: 0.5557 - acc: 0.7425 - val_loss: 0.5601 - val_acc: 0.7613\n",
            "Train on 400 samples, validate on 155 samples\n",
            "400/400 [==============================] - 0s 24us/sample - loss: 0.5310 - acc: 0.7700 - val_loss: 0.5597 - val_acc: 0.7548\n",
            "Train on 400 samples, validate on 155 samples\n",
            "400/400 [==============================] - 0s 21us/sample - loss: 0.5402 - acc: 0.7750 - val_loss: 0.5595 - val_acc: 0.7613\n",
            "Train on 400 samples, validate on 155 samples\n",
            "400/400 [==============================] - 0s 21us/sample - loss: 0.5061 - acc: 0.8000 - val_loss: 0.5597 - val_acc: 0.7548\n",
            "Train on 400 samples, validate on 155 samples\n",
            "400/400 [==============================] - 0s 23us/sample - loss: 0.5140 - acc: 0.7825 - val_loss: 0.5602 - val_acc: 0.7548\n",
            "Train on 400 samples, validate on 155 samples\n",
            "400/400 [==============================] - 0s 17us/sample - loss: 0.5431 - acc: 0.7575 - val_loss: 0.5605 - val_acc: 0.7613\n",
            "Train on 400 samples, validate on 155 samples\n",
            "400/400 [==============================] - 0s 17us/sample - loss: 0.5549 - acc: 0.7425 - val_loss: 0.5599 - val_acc: 0.7548\n",
            "Train on 400 samples, validate on 155 samples\n",
            "400/400 [==============================] - 0s 17us/sample - loss: 0.5300 - acc: 0.7700 - val_loss: 0.5595 - val_acc: 0.7613\n",
            "Train on 400 samples, validate on 155 samples\n",
            "400/400 [==============================] - 0s 20us/sample - loss: 0.5393 - acc: 0.7775 - val_loss: 0.5593 - val_acc: 0.7548\n",
            "Train on 400 samples, validate on 155 samples\n",
            "400/400 [==============================] - 0s 17us/sample - loss: 0.5047 - acc: 0.8025 - val_loss: 0.5595 - val_acc: 0.7548\n",
            "Train on 400 samples, validate on 155 samples\n",
            "400/400 [==============================] - 0s 20us/sample - loss: 0.5128 - acc: 0.7875 - val_loss: 0.5601 - val_acc: 0.7548\n",
            "Train on 400 samples, validate on 155 samples\n",
            "400/400 [==============================] - 0s 21us/sample - loss: 0.5425 - acc: 0.7575 - val_loss: 0.5606 - val_acc: 0.7548\n",
            "Train on 400 samples, validate on 155 samples\n",
            "400/400 [==============================] - 0s 22us/sample - loss: 0.5542 - acc: 0.7425 - val_loss: 0.5601 - val_acc: 0.7548\n",
            "Train on 400 samples, validate on 155 samples\n",
            "400/400 [==============================] - 0s 20us/sample - loss: 0.5291 - acc: 0.7750 - val_loss: 0.5594 - val_acc: 0.7548\n",
            "Train on 400 samples, validate on 155 samples\n",
            "400/400 [==============================] - 0s 20us/sample - loss: 0.5383 - acc: 0.7775 - val_loss: 0.5590 - val_acc: 0.7548\n",
            "Train on 400 samples, validate on 155 samples\n",
            "400/400 [==============================] - 0s 26us/sample - loss: 0.5034 - acc: 0.8025 - val_loss: 0.5594 - val_acc: 0.7548\n",
            "Train on 400 samples, validate on 155 samples\n",
            "400/400 [==============================] - 0s 31us/sample - loss: 0.5117 - acc: 0.7850 - val_loss: 0.5599 - val_acc: 0.7613\n",
            "Train on 400 samples, validate on 155 samples\n",
            "400/400 [==============================] - 0s 23us/sample - loss: 0.5417 - acc: 0.7600 - val_loss: 0.5604 - val_acc: 0.7548\n",
            "Train on 400 samples, validate on 155 samples\n",
            "400/400 [==============================] - 0s 25us/sample - loss: 0.5534 - acc: 0.7425 - val_loss: 0.5598 - val_acc: 0.7613\n",
            "Train on 400 samples, validate on 155 samples\n",
            "400/400 [==============================] - 0s 25us/sample - loss: 0.5281 - acc: 0.7750 - val_loss: 0.5591 - val_acc: 0.7548\n",
            "Train on 400 samples, validate on 155 samples\n",
            "400/400 [==============================] - 0s 20us/sample - loss: 0.5374 - acc: 0.7825 - val_loss: 0.5590 - val_acc: 0.7548\n",
            "Train on 400 samples, validate on 155 samples\n",
            "400/400 [==============================] - 0s 16us/sample - loss: 0.5022 - acc: 0.8025 - val_loss: 0.5595 - val_acc: 0.7548\n",
            "Train on 400 samples, validate on 155 samples\n",
            "400/400 [==============================] - 0s 20us/sample - loss: 0.5108 - acc: 0.7850 - val_loss: 0.5603 - val_acc: 0.7548\n",
            "Train on 400 samples, validate on 155 samples\n",
            "400/400 [==============================] - 0s 19us/sample - loss: 0.5409 - acc: 0.7600 - val_loss: 0.5605 - val_acc: 0.7548\n",
            "Train on 400 samples, validate on 155 samples\n",
            "400/400 [==============================] - 0s 19us/sample - loss: 0.5528 - acc: 0.7425 - val_loss: 0.5597 - val_acc: 0.7548\n",
            "Train on 400 samples, validate on 155 samples\n",
            "400/400 [==============================] - 0s 19us/sample - loss: 0.5272 - acc: 0.7750 - val_loss: 0.5591 - val_acc: 0.7548\n",
            "Train on 400 samples, validate on 155 samples\n",
            "400/400 [==============================] - 0s 23us/sample - loss: 0.5366 - acc: 0.7850 - val_loss: 0.5588 - val_acc: 0.7548\n",
            "Train on 400 samples, validate on 155 samples\n",
            "400/400 [==============================] - 0s 27us/sample - loss: 0.5011 - acc: 0.8050 - val_loss: 0.5592 - val_acc: 0.7548\n",
            "Train on 400 samples, validate on 155 samples\n",
            "400/400 [==============================] - 0s 33us/sample - loss: 0.5096 - acc: 0.7850 - val_loss: 0.5598 - val_acc: 0.7548\n",
            "Train on 400 samples, validate on 155 samples\n",
            "400/400 [==============================] - 0s 27us/sample - loss: 0.5402 - acc: 0.7600 - val_loss: 0.5601 - val_acc: 0.7548\n",
            "Train on 400 samples, validate on 155 samples\n",
            "400/400 [==============================] - 0s 27us/sample - loss: 0.5520 - acc: 0.7425 - val_loss: 0.5595 - val_acc: 0.7548\n",
            "Train on 400 samples, validate on 155 samples\n",
            "400/400 [==============================] - 0s 31us/sample - loss: 0.5263 - acc: 0.7750 - val_loss: 0.5592 - val_acc: 0.7548\n",
            "Train on 400 samples, validate on 155 samples\n",
            "400/400 [==============================] - 0s 24us/sample - loss: 0.5357 - acc: 0.7825 - val_loss: 0.5588 - val_acc: 0.7548\n",
            "Train on 400 samples, validate on 155 samples\n",
            "400/400 [==============================] - 0s 22us/sample - loss: 0.4999 - acc: 0.8075 - val_loss: 0.5591 - val_acc: 0.7548\n",
            "Train on 400 samples, validate on 155 samples\n",
            "400/400 [==============================] - 0s 25us/sample - loss: 0.5087 - acc: 0.7850 - val_loss: 0.5599 - val_acc: 0.7548\n",
            "Train on 400 samples, validate on 155 samples\n",
            "400/400 [==============================] - 0s 23us/sample - loss: 0.5396 - acc: 0.7625 - val_loss: 0.5601 - val_acc: 0.7548\n",
            "Train on 400 samples, validate on 155 samples\n",
            "400/400 [==============================] - 0s 18us/sample - loss: 0.5514 - acc: 0.7475 - val_loss: 0.5594 - val_acc: 0.7548\n",
            "Train on 400 samples, validate on 155 samples\n",
            "400/400 [==============================] - 0s 18us/sample - loss: 0.5255 - acc: 0.7750 - val_loss: 0.5589 - val_acc: 0.7548\n",
            "Train on 400 samples, validate on 155 samples\n",
            "400/400 [==============================] - 0s 19us/sample - loss: 0.5350 - acc: 0.7825 - val_loss: 0.5584 - val_acc: 0.7548\n",
            "Train on 400 samples, validate on 155 samples\n",
            "400/400 [==============================] - 0s 29us/sample - loss: 0.4990 - acc: 0.8025 - val_loss: 0.5588 - val_acc: 0.7548\n",
            "Train on 400 samples, validate on 155 samples\n",
            "400/400 [==============================] - 0s 22us/sample - loss: 0.5079 - acc: 0.7825 - val_loss: 0.5597 - val_acc: 0.7548\n",
            "Train on 400 samples, validate on 155 samples\n",
            "400/400 [==============================] - 0s 26us/sample - loss: 0.5390 - acc: 0.7650 - val_loss: 0.5599 - val_acc: 0.7548\n",
            "Train on 400 samples, validate on 155 samples\n",
            "400/400 [==============================] - 0s 22us/sample - loss: 0.5508 - acc: 0.7450 - val_loss: 0.5594 - val_acc: 0.7548\n",
            "Train on 400 samples, validate on 155 samples\n",
            "400/400 [==============================] - 0s 22us/sample - loss: 0.5247 - acc: 0.7775 - val_loss: 0.5589 - val_acc: 0.7548\n",
            "Train on 400 samples, validate on 155 samples\n",
            "400/400 [==============================] - 0s 27us/sample - loss: 0.5342 - acc: 0.7800 - val_loss: 0.5586 - val_acc: 0.7548\n",
            "Train on 400 samples, validate on 155 samples\n",
            "400/400 [==============================] - 0s 23us/sample - loss: 0.4981 - acc: 0.8025 - val_loss: 0.5587 - val_acc: 0.7548\n",
            "Train on 400 samples, validate on 155 samples\n",
            "400/400 [==============================] - 0s 18us/sample - loss: 0.5071 - acc: 0.7850 - val_loss: 0.5598 - val_acc: 0.7548\n",
            "Train on 400 samples, validate on 155 samples\n",
            "400/400 [==============================] - 0s 19us/sample - loss: 0.5385 - acc: 0.7600 - val_loss: 0.5600 - val_acc: 0.7548\n",
            "Train on 400 samples, validate on 155 samples\n",
            "400/400 [==============================] - 0s 28us/sample - loss: 0.5502 - acc: 0.7425 - val_loss: 0.5596 - val_acc: 0.7548\n",
            "Train on 400 samples, validate on 155 samples\n",
            "400/400 [==============================] - 0s 20us/sample - loss: 0.5239 - acc: 0.7775 - val_loss: 0.5591 - val_acc: 0.7548\n",
            "Train on 400 samples, validate on 155 samples\n",
            "400/400 [==============================] - 0s 30us/sample - loss: 0.5334 - acc: 0.7825 - val_loss: 0.5588 - val_acc: 0.7548\n",
            "Train on 400 samples, validate on 155 samples\n",
            "400/400 [==============================] - 0s 27us/sample - loss: 0.4969 - acc: 0.8075 - val_loss: 0.5596 - val_acc: 0.7548\n",
            "Train on 400 samples, validate on 155 samples\n",
            "400/400 [==============================] - 0s 22us/sample - loss: 0.5061 - acc: 0.7850 - val_loss: 0.5600 - val_acc: 0.7548\n",
            "Train on 400 samples, validate on 155 samples\n",
            "400/400 [==============================] - 0s 22us/sample - loss: 0.5380 - acc: 0.7600 - val_loss: 0.5599 - val_acc: 0.7548\n",
            "Train on 400 samples, validate on 155 samples\n",
            "400/400 [==============================] - 0s 26us/sample - loss: 0.5496 - acc: 0.7425 - val_loss: 0.5594 - val_acc: 0.7548\n",
            "Train on 400 samples, validate on 155 samples\n",
            "400/400 [==============================] - 0s 28us/sample - loss: 0.5232 - acc: 0.7750 - val_loss: 0.5589 - val_acc: 0.7548\n",
            "Train on 400 samples, validate on 155 samples\n",
            "400/400 [==============================] - 0s 23us/sample - loss: 0.5327 - acc: 0.7850 - val_loss: 0.5585 - val_acc: 0.7548\n",
            "Train on 400 samples, validate on 155 samples\n",
            "400/400 [==============================] - 0s 19us/sample - loss: 0.4959 - acc: 0.8100 - val_loss: 0.5588 - val_acc: 0.7548\n",
            "Train on 400 samples, validate on 155 samples\n",
            "400/400 [==============================] - 0s 19us/sample - loss: 0.5053 - acc: 0.7850 - val_loss: 0.5594 - val_acc: 0.7548\n",
            "Train on 400 samples, validate on 155 samples\n",
            "400/400 [==============================] - 0s 17us/sample - loss: 0.5373 - acc: 0.7600 - val_loss: 0.5597 - val_acc: 0.7548\n",
            "Train on 400 samples, validate on 155 samples\n",
            "400/400 [==============================] - 0s 18us/sample - loss: 0.5488 - acc: 0.7425 - val_loss: 0.5592 - val_acc: 0.7548\n",
            "Train on 400 samples, validate on 155 samples\n",
            "400/400 [==============================] - 0s 20us/sample - loss: 0.5224 - acc: 0.7750 - val_loss: 0.5587 - val_acc: 0.7548\n",
            "Train on 400 samples, validate on 155 samples\n",
            "400/400 [==============================] - 0s 17us/sample - loss: 0.5319 - acc: 0.7875 - val_loss: 0.5589 - val_acc: 0.7548\n",
            "Train on 400 samples, validate on 155 samples\n",
            "400/400 [==============================] - 0s 17us/sample - loss: 0.4950 - acc: 0.8100 - val_loss: 0.5592 - val_acc: 0.7548\n",
            "Train on 400 samples, validate on 155 samples\n",
            "400/400 [==============================] - 0s 28us/sample - loss: 0.5046 - acc: 0.7850 - val_loss: 0.5599 - val_acc: 0.7548\n",
            "Train on 400 samples, validate on 155 samples\n",
            "400/400 [==============================] - 0s 21us/sample - loss: 0.5369 - acc: 0.7600 - val_loss: 0.5600 - val_acc: 0.7548\n",
            "Train on 400 samples, validate on 155 samples\n",
            "400/400 [==============================] - 0s 25us/sample - loss: 0.5483 - acc: 0.7425 - val_loss: 0.5592 - val_acc: 0.7548\n",
            "Train on 400 samples, validate on 155 samples\n",
            "400/400 [==============================] - 0s 26us/sample - loss: 0.5216 - acc: 0.7750 - val_loss: 0.5589 - val_acc: 0.7548\n",
            "Train on 400 samples, validate on 155 samples\n",
            "400/400 [==============================] - 0s 22us/sample - loss: 0.5311 - acc: 0.7875 - val_loss: 0.5587 - val_acc: 0.7613\n",
            "Train on 400 samples, validate on 155 samples\n",
            "400/400 [==============================] - 0s 19us/sample - loss: 0.4943 - acc: 0.8050 - val_loss: 0.5595 - val_acc: 0.7548\n",
            "Train on 400 samples, validate on 155 samples\n",
            "400/400 [==============================] - 0s 51us/sample - loss: 0.5039 - acc: 0.7850 - val_loss: 0.5602 - val_acc: 0.7548\n",
            "Train on 400 samples, validate on 155 samples\n",
            "400/400 [==============================] - 0s 26us/sample - loss: 0.5365 - acc: 0.7575 - val_loss: 0.5604 - val_acc: 0.7548\n",
            "Train on 400 samples, validate on 155 samples\n",
            "400/400 [==============================] - 0s 27us/sample - loss: 0.5478 - acc: 0.7425 - val_loss: 0.5594 - val_acc: 0.7548\n",
            "Train on 400 samples, validate on 155 samples\n",
            "400/400 [==============================] - 0s 25us/sample - loss: 0.5209 - acc: 0.7750 - val_loss: 0.5588 - val_acc: 0.7548\n",
            "Train on 400 samples, validate on 155 samples\n",
            "400/400 [==============================] - 0s 23us/sample - loss: 0.5304 - acc: 0.7850 - val_loss: 0.5586 - val_acc: 0.7548\n",
            "Train on 400 samples, validate on 155 samples\n",
            "400/400 [==============================] - 0s 29us/sample - loss: 0.4933 - acc: 0.8050 - val_loss: 0.5588 - val_acc: 0.7613\n",
            "Train on 400 samples, validate on 155 samples\n",
            "400/400 [==============================] - 0s 29us/sample - loss: 0.5036 - acc: 0.7825 - val_loss: 0.5600 - val_acc: 0.7548\n",
            "Train on 400 samples, validate on 155 samples\n",
            "400/400 [==============================] - 0s 27us/sample - loss: 0.5357 - acc: 0.7600 - val_loss: 0.5601 - val_acc: 0.7548\n",
            "Train on 400 samples, validate on 155 samples\n",
            "400/400 [==============================] - 0s 24us/sample - loss: 0.5469 - acc: 0.7425 - val_loss: 0.5596 - val_acc: 0.7613\n",
            "Train on 400 samples, validate on 155 samples\n",
            "400/400 [==============================] - 0s 32us/sample - loss: 0.5200 - acc: 0.7750 - val_loss: 0.5593 - val_acc: 0.7548\n",
            "Train on 400 samples, validate on 155 samples\n",
            "400/400 [==============================] - 0s 25us/sample - loss: 0.5298 - acc: 0.7850 - val_loss: 0.5588 - val_acc: 0.7548\n",
            "Train on 400 samples, validate on 155 samples\n",
            "400/400 [==============================] - 0s 29us/sample - loss: 0.4925 - acc: 0.8050 - val_loss: 0.5595 - val_acc: 0.7613\n",
            "Train on 400 samples, validate on 155 samples\n",
            "400/400 [==============================] - 0s 21us/sample - loss: 0.5025 - acc: 0.7825 - val_loss: 0.5604 - val_acc: 0.7548\n",
            "Train on 400 samples, validate on 155 samples\n",
            "400/400 [==============================] - 0s 18us/sample - loss: 0.5354 - acc: 0.7575 - val_loss: 0.5604 - val_acc: 0.7548\n",
            "Train on 400 samples, validate on 155 samples\n",
            "400/400 [==============================] - 0s 26us/sample - loss: 0.5464 - acc: 0.7425 - val_loss: 0.5597 - val_acc: 0.7613\n",
            "Train on 400 samples, validate on 155 samples\n",
            "400/400 [==============================] - 0s 24us/sample - loss: 0.5193 - acc: 0.7700 - val_loss: 0.5593 - val_acc: 0.7548\n",
            "Train on 400 samples, validate on 155 samples\n",
            "400/400 [==============================] - 0s 25us/sample - loss: 0.5289 - acc: 0.7825 - val_loss: 0.5591 - val_acc: 0.7548\n",
            "Train on 400 samples, validate on 155 samples\n",
            "400/400 [==============================] - 0s 23us/sample - loss: 0.4916 - acc: 0.8050 - val_loss: 0.5593 - val_acc: 0.7548\n",
            "Train on 400 samples, validate on 155 samples\n",
            "400/400 [==============================] - 0s 25us/sample - loss: 0.5019 - acc: 0.7825 - val_loss: 0.5603 - val_acc: 0.7613\n",
            "Train on 400 samples, validate on 155 samples\n",
            "400/400 [==============================] - 0s 26us/sample - loss: 0.5349 - acc: 0.7575 - val_loss: 0.5608 - val_acc: 0.7484\n",
            "Train on 400 samples, validate on 155 samples\n",
            "400/400 [==============================] - 0s 23us/sample - loss: 0.5458 - acc: 0.7425 - val_loss: 0.5601 - val_acc: 0.7548\n",
            "Train on 400 samples, validate on 155 samples\n",
            "400/400 [==============================] - 0s 20us/sample - loss: 0.5186 - acc: 0.7700 - val_loss: 0.5596 - val_acc: 0.7548\n",
            "Train on 400 samples, validate on 155 samples\n",
            "400/400 [==============================] - 0s 17us/sample - loss: 0.5282 - acc: 0.7825 - val_loss: 0.5594 - val_acc: 0.7548\n",
            "Train on 400 samples, validate on 155 samples\n",
            "400/400 [==============================] - 0s 18us/sample - loss: 0.4907 - acc: 0.8050 - val_loss: 0.5602 - val_acc: 0.7613\n",
            "Train on 400 samples, validate on 155 samples\n",
            "400/400 [==============================] - 0s 21us/sample - loss: 0.5012 - acc: 0.7825 - val_loss: 0.5611 - val_acc: 0.7548\n",
            "Train on 400 samples, validate on 155 samples\n",
            "400/400 [==============================] - 0s 21us/sample - loss: 0.5346 - acc: 0.7575 - val_loss: 0.5614 - val_acc: 0.7548\n",
            "Train on 400 samples, validate on 155 samples\n",
            "400/400 [==============================] - 0s 24us/sample - loss: 0.5452 - acc: 0.7375 - val_loss: 0.5604 - val_acc: 0.7548\n",
            "Train on 400 samples, validate on 155 samples\n",
            "400/400 [==============================] - 0s 24us/sample - loss: 0.5177 - acc: 0.7700 - val_loss: 0.5600 - val_acc: 0.7548\n",
            "Train on 400 samples, validate on 155 samples\n",
            "400/400 [==============================] - 0s 22us/sample - loss: 0.5274 - acc: 0.7825 - val_loss: 0.5596 - val_acc: 0.7548\n",
            "Train on 400 samples, validate on 155 samples\n",
            "400/400 [==============================] - 0s 19us/sample - loss: 0.4898 - acc: 0.8050 - val_loss: 0.5602 - val_acc: 0.7548\n",
            "Train on 400 samples, validate on 155 samples\n",
            "400/400 [==============================] - 0s 22us/sample - loss: 0.5006 - acc: 0.7800 - val_loss: 0.5607 - val_acc: 0.7613\n",
            "Train on 400 samples, validate on 155 samples\n",
            "400/400 [==============================] - 0s 20us/sample - loss: 0.5337 - acc: 0.7525 - val_loss: 0.5608 - val_acc: 0.7548\n",
            "Train on 400 samples, validate on 155 samples\n",
            "400/400 [==============================] - 0s 27us/sample - loss: 0.5443 - acc: 0.7375 - val_loss: 0.5605 - val_acc: 0.7548\n",
            "Train on 400 samples, validate on 155 samples\n",
            "400/400 [==============================] - 0s 26us/sample - loss: 0.5171 - acc: 0.7700 - val_loss: 0.5604 - val_acc: 0.7548\n",
            "Train on 400 samples, validate on 155 samples\n",
            "400/400 [==============================] - 0s 23us/sample - loss: 0.5267 - acc: 0.7825 - val_loss: 0.5600 - val_acc: 0.7548\n",
            "Train on 400 samples, validate on 155 samples\n",
            "400/400 [==============================] - 0s 22us/sample - loss: 0.4888 - acc: 0.8050 - val_loss: 0.5606 - val_acc: 0.7548\n",
            "Train on 400 samples, validate on 155 samples\n",
            "400/400 [==============================] - 0s 25us/sample - loss: 0.5000 - acc: 0.7825 - val_loss: 0.5615 - val_acc: 0.7548\n",
            "Train on 400 samples, validate on 155 samples\n",
            "400/400 [==============================] - 0s 19us/sample - loss: 0.5334 - acc: 0.7500 - val_loss: 0.5617 - val_acc: 0.7548\n",
            "Train on 400 samples, validate on 155 samples\n",
            "400/400 [==============================] - 0s 27us/sample - loss: 0.5439 - acc: 0.7375 - val_loss: 0.5608 - val_acc: 0.7548\n",
            "Train on 400 samples, validate on 155 samples\n",
            "400/400 [==============================] - 0s 19us/sample - loss: 0.5163 - acc: 0.7700 - val_loss: 0.5605 - val_acc: 0.7548\n",
            "Train on 400 samples, validate on 155 samples\n",
            "400/400 [==============================] - 0s 26us/sample - loss: 0.5258 - acc: 0.7825 - val_loss: 0.5605 - val_acc: 0.7548\n",
            "Train on 400 samples, validate on 155 samples\n",
            "400/400 [==============================] - 0s 22us/sample - loss: 0.4880 - acc: 0.8050 - val_loss: 0.5610 - val_acc: 0.7548\n",
            "Train on 400 samples, validate on 155 samples\n",
            "400/400 [==============================] - 0s 23us/sample - loss: 0.4996 - acc: 0.7825 - val_loss: 0.5617 - val_acc: 0.7613\n",
            "Train on 400 samples, validate on 155 samples\n",
            "400/400 [==============================] - 0s 22us/sample - loss: 0.5330 - acc: 0.7500 - val_loss: 0.5615 - val_acc: 0.7484\n",
            "Train on 400 samples, validate on 155 samples\n",
            "400/400 [==============================] - 0s 22us/sample - loss: 0.5431 - acc: 0.7375 - val_loss: 0.5606 - val_acc: 0.7548\n",
            "Train on 400 samples, validate on 155 samples\n",
            "400/400 [==============================] - 0s 32us/sample - loss: 0.5158 - acc: 0.7725 - val_loss: 0.5600 - val_acc: 0.7548\n",
            "Train on 400 samples, validate on 155 samples\n",
            "400/400 [==============================] - 0s 22us/sample - loss: 0.5252 - acc: 0.7900 - val_loss: 0.5599 - val_acc: 0.7548\n",
            "Train on 400 samples, validate on 155 samples\n",
            "400/400 [==============================] - 0s 19us/sample - loss: 0.4875 - acc: 0.8050 - val_loss: 0.5606 - val_acc: 0.7548\n",
            "Train on 400 samples, validate on 155 samples\n",
            "400/400 [==============================] - 0s 30us/sample - loss: 0.4991 - acc: 0.7800 - val_loss: 0.5618 - val_acc: 0.7548\n",
            "Train on 400 samples, validate on 155 samples\n",
            "400/400 [==============================] - 0s 23us/sample - loss: 0.5325 - acc: 0.7525 - val_loss: 0.5621 - val_acc: 0.7548\n",
            "Train on 400 samples, validate on 155 samples\n",
            "400/400 [==============================] - 0s 19us/sample - loss: 0.5426 - acc: 0.7375 - val_loss: 0.5613 - val_acc: 0.7484\n",
            "Train on 400 samples, validate on 155 samples\n",
            "400/400 [==============================] - 0s 24us/sample - loss: 0.5152 - acc: 0.7750 - val_loss: 0.5607 - val_acc: 0.7548\n",
            "Train on 400 samples, validate on 155 samples\n",
            "400/400 [==============================] - 0s 18us/sample - loss: 0.5244 - acc: 0.7925 - val_loss: 0.5608 - val_acc: 0.7548\n",
            "Train on 400 samples, validate on 155 samples\n",
            "400/400 [==============================] - 0s 16us/sample - loss: 0.4865 - acc: 0.8075 - val_loss: 0.5613 - val_acc: 0.7484\n",
            "Train on 400 samples, validate on 155 samples\n",
            "400/400 [==============================] - 0s 18us/sample - loss: 0.4988 - acc: 0.7825 - val_loss: 0.5626 - val_acc: 0.7613\n",
            "Train on 400 samples, validate on 155 samples\n",
            "400/400 [==============================] - 0s 22us/sample - loss: 0.5322 - acc: 0.7500 - val_loss: 0.5628 - val_acc: 0.7613\n",
            "Train on 400 samples, validate on 155 samples\n",
            "400/400 [==============================] - 0s 19us/sample - loss: 0.5421 - acc: 0.7375 - val_loss: 0.5622 - val_acc: 0.7548\n",
            "Train on 400 samples, validate on 155 samples\n",
            "400/400 [==============================] - 0s 20us/sample - loss: 0.5143 - acc: 0.7750 - val_loss: 0.5614 - val_acc: 0.7484\n",
            "Train on 400 samples, validate on 155 samples\n",
            "400/400 [==============================] - 0s 23us/sample - loss: 0.5237 - acc: 0.7875 - val_loss: 0.5612 - val_acc: 0.7484\n",
            "Train on 400 samples, validate on 155 samples\n",
            "400/400 [==============================] - 0s 24us/sample - loss: 0.4856 - acc: 0.8050 - val_loss: 0.5614 - val_acc: 0.7484\n",
            "Train on 400 samples, validate on 155 samples\n",
            "400/400 [==============================] - 0s 26us/sample - loss: 0.4979 - acc: 0.7825 - val_loss: 0.5620 - val_acc: 0.7548\n",
            "Train on 400 samples, validate on 155 samples\n",
            "400/400 [==============================] - 0s 18us/sample - loss: 0.5313 - acc: 0.7575 - val_loss: 0.5618 - val_acc: 0.7548\n",
            "Train on 400 samples, validate on 155 samples\n",
            "400/400 [==============================] - 0s 36us/sample - loss: 0.5413 - acc: 0.7375 - val_loss: 0.5611 - val_acc: 0.7484\n",
            "Train on 400 samples, validate on 155 samples\n",
            "400/400 [==============================] - 0s 21us/sample - loss: 0.5141 - acc: 0.7750 - val_loss: 0.5605 - val_acc: 0.7548\n",
            "Train on 400 samples, validate on 155 samples\n",
            "400/400 [==============================] - 0s 19us/sample - loss: 0.5232 - acc: 0.7950 - val_loss: 0.5607 - val_acc: 0.7548\n",
            "Train on 400 samples, validate on 155 samples\n",
            "400/400 [==============================] - 0s 21us/sample - loss: 0.4850 - acc: 0.8050 - val_loss: 0.5614 - val_acc: 0.7548\n",
            "Train on 400 samples, validate on 155 samples\n",
            "400/400 [==============================] - 0s 20us/sample - loss: 0.4973 - acc: 0.7825 - val_loss: 0.5625 - val_acc: 0.7548\n",
            "Train on 400 samples, validate on 155 samples\n",
            "400/400 [==============================] - 0s 20us/sample - loss: 0.5311 - acc: 0.7550 - val_loss: 0.5629 - val_acc: 0.7548\n",
            "Train on 400 samples, validate on 155 samples\n",
            "400/400 [==============================] - 0s 20us/sample - loss: 0.5410 - acc: 0.7400 - val_loss: 0.5623 - val_acc: 0.7548\n",
            "Train on 400 samples, validate on 155 samples\n",
            "400/400 [==============================] - 0s 20us/sample - loss: 0.5131 - acc: 0.7750 - val_loss: 0.5619 - val_acc: 0.7548\n",
            "Train on 400 samples, validate on 155 samples\n",
            "400/400 [==============================] - 0s 19us/sample - loss: 0.5224 - acc: 0.7950 - val_loss: 0.5616 - val_acc: 0.7548\n",
            "Train on 400 samples, validate on 155 samples\n",
            "400/400 [==============================] - 0s 16us/sample - loss: 0.4841 - acc: 0.8075 - val_loss: 0.5619 - val_acc: 0.7548\n",
            "Train on 400 samples, validate on 155 samples\n",
            "400/400 [==============================] - 0s 19us/sample - loss: 0.4968 - acc: 0.7825 - val_loss: 0.5628 - val_acc: 0.7548\n",
            "Train on 400 samples, validate on 155 samples\n",
            "400/400 [==============================] - 0s 19us/sample - loss: 0.5305 - acc: 0.7550 - val_loss: 0.5629 - val_acc: 0.7548\n",
            "Train on 400 samples, validate on 155 samples\n",
            "400/400 [==============================] - 0s 22us/sample - loss: 0.5405 - acc: 0.7400 - val_loss: 0.5620 - val_acc: 0.7548\n",
            "Train on 400 samples, validate on 155 samples\n",
            "400/400 [==============================] - 0s 19us/sample - loss: 0.5129 - acc: 0.7775 - val_loss: 0.5613 - val_acc: 0.7484\n",
            "Train on 400 samples, validate on 155 samples\n",
            "400/400 [==============================] - 0s 16us/sample - loss: 0.5219 - acc: 0.7950 - val_loss: 0.5611 - val_acc: 0.7484\n",
            "Train on 400 samples, validate on 155 samples\n",
            "400/400 [==============================] - 0s 19us/sample - loss: 0.4836 - acc: 0.8050 - val_loss: 0.5617 - val_acc: 0.7548\n",
            "Train on 400 samples, validate on 155 samples\n",
            "400/400 [==============================] - 0s 18us/sample - loss: 0.4966 - acc: 0.7850 - val_loss: 0.5630 - val_acc: 0.7548\n",
            "Train on 400 samples, validate on 155 samples\n",
            "400/400 [==============================] - 0s 21us/sample - loss: 0.5304 - acc: 0.7550 - val_loss: 0.5636 - val_acc: 0.7548\n",
            "Train on 400 samples, validate on 155 samples\n",
            "400/400 [==============================] - 0s 20us/sample - loss: 0.5401 - acc: 0.7400 - val_loss: 0.5630 - val_acc: 0.7548\n",
            "Train on 400 samples, validate on 155 samples\n",
            "400/400 [==============================] - 0s 20us/sample - loss: 0.5121 - acc: 0.7750 - val_loss: 0.5622 - val_acc: 0.7548\n",
            "Train on 400 samples, validate on 155 samples\n",
            "400/400 [==============================] - 0s 18us/sample - loss: 0.5211 - acc: 0.7950 - val_loss: 0.5620 - val_acc: 0.7548\n",
            "Train on 400 samples, validate on 155 samples\n",
            "400/400 [==============================] - 0s 21us/sample - loss: 0.4827 - acc: 0.8050 - val_loss: 0.5623 - val_acc: 0.7548\n",
            "Train on 400 samples, validate on 155 samples\n",
            "400/400 [==============================] - 0s 18us/sample - loss: 0.4957 - acc: 0.7850 - val_loss: 0.5626 - val_acc: 0.7548\n",
            "Train on 400 samples, validate on 155 samples\n",
            "400/400 [==============================] - 0s 18us/sample - loss: 0.5293 - acc: 0.7550 - val_loss: 0.5626 - val_acc: 0.7548\n",
            "Train on 400 samples, validate on 155 samples\n",
            "400/400 [==============================] - 0s 18us/sample - loss: 0.5392 - acc: 0.7425 - val_loss: 0.5621 - val_acc: 0.7548\n",
            "Train on 400 samples, validate on 155 samples\n",
            "400/400 [==============================] - 0s 18us/sample - loss: 0.5115 - acc: 0.7775 - val_loss: 0.5617 - val_acc: 0.7484\n",
            "Train on 400 samples, validate on 155 samples\n",
            "400/400 [==============================] - 0s 16us/sample - loss: 0.5205 - acc: 0.7950 - val_loss: 0.5617 - val_acc: 0.7548\n",
            "Train on 400 samples, validate on 155 samples\n",
            "400/400 [==============================] - 0s 16us/sample - loss: 0.4821 - acc: 0.8050 - val_loss: 0.5622 - val_acc: 0.7548\n",
            "Train on 400 samples, validate on 155 samples\n",
            "400/400 [==============================] - 0s 20us/sample - loss: 0.4954 - acc: 0.7850 - val_loss: 0.5630 - val_acc: 0.7548\n",
            "Train on 400 samples, validate on 155 samples\n",
            "400/400 [==============================] - 0s 21us/sample - loss: 0.5290 - acc: 0.7550 - val_loss: 0.5631 - val_acc: 0.7548\n",
            "Train on 400 samples, validate on 155 samples\n",
            "400/400 [==============================] - 0s 20us/sample - loss: 0.5389 - acc: 0.7425 - val_loss: 0.5627 - val_acc: 0.7548\n",
            "Train on 400 samples, validate on 155 samples\n",
            "400/400 [==============================] - 0s 19us/sample - loss: 0.5110 - acc: 0.7775 - val_loss: 0.5621 - val_acc: 0.7548\n",
            "Train on 400 samples, validate on 155 samples\n",
            "400/400 [==============================] - 0s 19us/sample - loss: 0.5199 - acc: 0.7950 - val_loss: 0.5617 - val_acc: 0.7548\n",
            "Train on 400 samples, validate on 155 samples\n",
            "400/400 [==============================] - 0s 17us/sample - loss: 0.4815 - acc: 0.8075 - val_loss: 0.5623 - val_acc: 0.7548\n",
            "Train on 400 samples, validate on 155 samples\n",
            "400/400 [==============================] - 0s 20us/sample - loss: 0.4948 - acc: 0.7875 - val_loss: 0.5630 - val_acc: 0.7548\n",
            "Train on 400 samples, validate on 155 samples\n",
            "400/400 [==============================] - 0s 24us/sample - loss: 0.5284 - acc: 0.7550 - val_loss: 0.5630 - val_acc: 0.7548\n",
            "Train on 400 samples, validate on 155 samples\n",
            "400/400 [==============================] - 0s 19us/sample - loss: 0.5384 - acc: 0.7425 - val_loss: 0.5626 - val_acc: 0.7548\n",
            "Train on 400 samples, validate on 155 samples\n",
            "400/400 [==============================] - 0s 19us/sample - loss: 0.5106 - acc: 0.7775 - val_loss: 0.5620 - val_acc: 0.7548\n",
            "Train on 400 samples, validate on 155 samples\n",
            "400/400 [==============================] - 0s 19us/sample - loss: 0.5194 - acc: 0.7950 - val_loss: 0.5621 - val_acc: 0.7548\n",
            "Train on 400 samples, validate on 155 samples\n",
            "400/400 [==============================] - 0s 23us/sample - loss: 0.4808 - acc: 0.8050 - val_loss: 0.5627 - val_acc: 0.7548\n",
            "Train on 400 samples, validate on 155 samples\n",
            "400/400 [==============================] - 0s 21us/sample - loss: 0.4944 - acc: 0.7875 - val_loss: 0.5631 - val_acc: 0.7548\n",
            "Train on 400 samples, validate on 155 samples\n",
            "400/400 [==============================] - 0s 21us/sample - loss: 0.5281 - acc: 0.7575 - val_loss: 0.5634 - val_acc: 0.7548\n",
            "Train on 400 samples, validate on 155 samples\n",
            "400/400 [==============================] - 0s 19us/sample - loss: 0.5379 - acc: 0.7425 - val_loss: 0.5628 - val_acc: 0.7548\n",
            "Train on 400 samples, validate on 155 samples\n",
            "400/400 [==============================] - 0s 22us/sample - loss: 0.5100 - acc: 0.7775 - val_loss: 0.5623 - val_acc: 0.7548\n",
            "Train on 400 samples, validate on 155 samples\n",
            "400/400 [==============================] - 0s 24us/sample - loss: 0.5187 - acc: 0.7950 - val_loss: 0.5621 - val_acc: 0.7548\n",
            "Train on 400 samples, validate on 155 samples\n",
            "400/400 [==============================] - 0s 18us/sample - loss: 0.4803 - acc: 0.8100 - val_loss: 0.5627 - val_acc: 0.7548\n",
            "Train on 400 samples, validate on 155 samples\n",
            "400/400 [==============================] - 0s 21us/sample - loss: 0.4941 - acc: 0.7850 - val_loss: 0.5636 - val_acc: 0.7548\n",
            "Train on 400 samples, validate on 155 samples\n",
            "400/400 [==============================] - 0s 20us/sample - loss: 0.5278 - acc: 0.7550 - val_loss: 0.5639 - val_acc: 0.7548\n",
            "Train on 400 samples, validate on 155 samples\n",
            "400/400 [==============================] - 0s 18us/sample - loss: 0.5379 - acc: 0.7425 - val_loss: 0.5627 - val_acc: 0.7548\n",
            "Train on 400 samples, validate on 155 samples\n",
            "400/400 [==============================] - 0s 16us/sample - loss: 0.5096 - acc: 0.7775 - val_loss: 0.5622 - val_acc: 0.7484\n",
            "Train on 400 samples, validate on 155 samples\n",
            "400/400 [==============================] - 0s 16us/sample - loss: 0.5182 - acc: 0.7950 - val_loss: 0.5620 - val_acc: 0.7548\n",
            "Train on 400 samples, validate on 155 samples\n",
            "400/400 [==============================] - 0s 24us/sample - loss: 0.4796 - acc: 0.8075 - val_loss: 0.5626 - val_acc: 0.7548\n",
            "Train on 400 samples, validate on 155 samples\n",
            "400/400 [==============================] - 0s 16us/sample - loss: 0.4934 - acc: 0.7900 - val_loss: 0.5634 - val_acc: 0.7548\n",
            "Train on 400 samples, validate on 155 samples\n",
            "400/400 [==============================] - 0s 19us/sample - loss: 0.5271 - acc: 0.7600 - val_loss: 0.5637 - val_acc: 0.7548\n",
            "Train on 400 samples, validate on 155 samples\n",
            "400/400 [==============================] - 0s 19us/sample - loss: 0.5371 - acc: 0.7425 - val_loss: 0.5630 - val_acc: 0.7548\n",
            "Train on 400 samples, validate on 155 samples\n",
            "400/400 [==============================] - 0s 19us/sample - loss: 0.5091 - acc: 0.7775 - val_loss: 0.5628 - val_acc: 0.7548\n",
            "Train on 400 samples, validate on 155 samples\n",
            "400/400 [==============================] - 0s 22us/sample - loss: 0.5177 - acc: 0.7975 - val_loss: 0.5629 - val_acc: 0.7548\n",
            "Train on 400 samples, validate on 155 samples\n",
            "400/400 [==============================] - 0s 19us/sample - loss: 0.4787 - acc: 0.8050 - val_loss: 0.5633 - val_acc: 0.7548\n",
            "Train on 400 samples, validate on 155 samples\n",
            "400/400 [==============================] - 0s 21us/sample - loss: 0.4929 - acc: 0.7900 - val_loss: 0.5639 - val_acc: 0.7548\n",
            "Train on 400 samples, validate on 155 samples\n",
            "400/400 [==============================] - 0s 22us/sample - loss: 0.5268 - acc: 0.7575 - val_loss: 0.5640 - val_acc: 0.7548\n",
            "Train on 400 samples, validate on 155 samples\n",
            "400/400 [==============================] - 0s 21us/sample - loss: 0.5367 - acc: 0.7425 - val_loss: 0.5635 - val_acc: 0.7548\n",
            "Train on 400 samples, validate on 155 samples\n",
            "400/400 [==============================] - 0s 19us/sample - loss: 0.5087 - acc: 0.7750 - val_loss: 0.5628 - val_acc: 0.7548\n",
            "Train on 400 samples, validate on 155 samples\n",
            "400/400 [==============================] - 0s 24us/sample - loss: 0.5172 - acc: 0.7950 - val_loss: 0.5626 - val_acc: 0.7548\n",
            "Train on 400 samples, validate on 155 samples\n",
            "400/400 [==============================] - 0s 16us/sample - loss: 0.4782 - acc: 0.8050 - val_loss: 0.5632 - val_acc: 0.7548\n",
            "Train on 400 samples, validate on 155 samples\n",
            "400/400 [==============================] - 0s 20us/sample - loss: 0.4924 - acc: 0.7900 - val_loss: 0.5640 - val_acc: 0.7548\n",
            "Train on 400 samples, validate on 155 samples\n",
            "400/400 [==============================] - 0s 20us/sample - loss: 0.5265 - acc: 0.7600 - val_loss: 0.5643 - val_acc: 0.7548\n",
            "Train on 400 samples, validate on 155 samples\n",
            "400/400 [==============================] - 0s 20us/sample - loss: 0.5364 - acc: 0.7450 - val_loss: 0.5639 - val_acc: 0.7548\n",
            "Train on 400 samples, validate on 155 samples\n",
            "400/400 [==============================] - 0s 18us/sample - loss: 0.5082 - acc: 0.7800 - val_loss: 0.5631 - val_acc: 0.7548\n",
            "Train on 400 samples, validate on 155 samples\n",
            "400/400 [==============================] - 0s 17us/sample - loss: 0.5166 - acc: 0.7950 - val_loss: 0.5628 - val_acc: 0.7548\n",
            "Train on 400 samples, validate on 155 samples\n",
            "400/400 [==============================] - 0s 21us/sample - loss: 0.4777 - acc: 0.8075 - val_loss: 0.5631 - val_acc: 0.7548\n",
            "Train on 400 samples, validate on 155 samples\n",
            "400/400 [==============================] - 0s 19us/sample - loss: 0.4919 - acc: 0.7900 - val_loss: 0.5635 - val_acc: 0.7548\n",
            "Train on 400 samples, validate on 155 samples\n",
            "400/400 [==============================] - 0s 20us/sample - loss: 0.5259 - acc: 0.7600 - val_loss: 0.5638 - val_acc: 0.7548\n",
            "Train on 400 samples, validate on 155 samples\n",
            "400/400 [==============================] - 0s 20us/sample - loss: 0.5358 - acc: 0.7425 - val_loss: 0.5635 - val_acc: 0.7548\n",
            "Train on 400 samples, validate on 155 samples\n",
            "400/400 [==============================] - 0s 20us/sample - loss: 0.5077 - acc: 0.7775 - val_loss: 0.5632 - val_acc: 0.7548\n",
            "Train on 400 samples, validate on 155 samples\n",
            "400/400 [==============================] - 0s 21us/sample - loss: 0.5162 - acc: 0.7975 - val_loss: 0.5635 - val_acc: 0.7548\n",
            "Train on 400 samples, validate on 155 samples\n",
            "400/400 [==============================] - 0s 23us/sample - loss: 0.4769 - acc: 0.8075 - val_loss: 0.5638 - val_acc: 0.7548\n",
            "Train on 400 samples, validate on 155 samples\n",
            "400/400 [==============================] - 0s 22us/sample - loss: 0.4913 - acc: 0.7875 - val_loss: 0.5644 - val_acc: 0.7548\n",
            "Train on 400 samples, validate on 155 samples\n",
            "400/400 [==============================] - 0s 20us/sample - loss: 0.5257 - acc: 0.7600 - val_loss: 0.5642 - val_acc: 0.7548\n",
            "Train on 400 samples, validate on 155 samples\n",
            "400/400 [==============================] - 0s 23us/sample - loss: 0.5356 - acc: 0.7450 - val_loss: 0.5631 - val_acc: 0.7548\n",
            "Train on 400 samples, validate on 155 samples\n",
            "400/400 [==============================] - 0s 22us/sample - loss: 0.5074 - acc: 0.7750 - val_loss: 0.5629 - val_acc: 0.7548\n",
            "Train on 400 samples, validate on 155 samples\n",
            "400/400 [==============================] - 0s 24us/sample - loss: 0.5157 - acc: 0.7950 - val_loss: 0.5626 - val_acc: 0.7484\n",
            "Train on 400 samples, validate on 155 samples\n",
            "400/400 [==============================] - 0s 18us/sample - loss: 0.4766 - acc: 0.8075 - val_loss: 0.5632 - val_acc: 0.7548\n",
            "Train on 400 samples, validate on 155 samples\n",
            "400/400 [==============================] - 0s 20us/sample - loss: 0.4911 - acc: 0.7900 - val_loss: 0.5643 - val_acc: 0.7548\n",
            "Train on 400 samples, validate on 155 samples\n",
            "400/400 [==============================] - 0s 23us/sample - loss: 0.5252 - acc: 0.7600 - val_loss: 0.5645 - val_acc: 0.7548\n",
            "Train on 400 samples, validate on 155 samples\n",
            "400/400 [==============================] - 0s 21us/sample - loss: 0.5351 - acc: 0.7450 - val_loss: 0.5640 - val_acc: 0.7548\n",
            "Train on 400 samples, validate on 155 samples\n",
            "400/400 [==============================] - 0s 24us/sample - loss: 0.5069 - acc: 0.7775 - val_loss: 0.5636 - val_acc: 0.7548\n",
            "Train on 400 samples, validate on 155 samples\n",
            "400/400 [==============================] - 0s 21us/sample - loss: 0.5149 - acc: 0.7975 - val_loss: 0.5636 - val_acc: 0.7548\n",
            "Train on 400 samples, validate on 155 samples\n",
            "400/400 [==============================] - 0s 20us/sample - loss: 0.4760 - acc: 0.8100 - val_loss: 0.5642 - val_acc: 0.7548\n",
            "Train on 400 samples, validate on 155 samples\n",
            "400/400 [==============================] - 0s 16us/sample - loss: 0.4901 - acc: 0.7925 - val_loss: 0.5647 - val_acc: 0.7548\n",
            "Train on 400 samples, validate on 155 samples\n",
            "400/400 [==============================] - 0s 18us/sample - loss: 0.5250 - acc: 0.7600 - val_loss: 0.5646 - val_acc: 0.7548\n",
            "Train on 400 samples, validate on 155 samples\n",
            "400/400 [==============================] - 0s 21us/sample - loss: 0.5347 - acc: 0.7475 - val_loss: 0.5640 - val_acc: 0.7548\n",
            "Train on 400 samples, validate on 155 samples\n",
            "400/400 [==============================] - 0s 19us/sample - loss: 0.5068 - acc: 0.7800 - val_loss: 0.5633 - val_acc: 0.7484\n",
            "Train on 400 samples, validate on 155 samples\n",
            "400/400 [==============================] - 0s 19us/sample - loss: 0.5146 - acc: 0.7975 - val_loss: 0.5631 - val_acc: 0.7484\n",
            "Train on 400 samples, validate on 155 samples\n",
            "400/400 [==============================] - 0s 19us/sample - loss: 0.4753 - acc: 0.8075 - val_loss: 0.5635 - val_acc: 0.7548\n",
            "Train on 400 samples, validate on 155 samples\n",
            "400/400 [==============================] - 0s 18us/sample - loss: 0.4897 - acc: 0.7900 - val_loss: 0.5644 - val_acc: 0.7548\n",
            "Train on 400 samples, validate on 155 samples\n",
            "400/400 [==============================] - 0s 18us/sample - loss: 0.5244 - acc: 0.7625 - val_loss: 0.5647 - val_acc: 0.7548\n",
            "Train on 400 samples, validate on 155 samples\n",
            "400/400 [==============================] - 0s 16us/sample - loss: 0.5344 - acc: 0.7475 - val_loss: 0.5640 - val_acc: 0.7548\n",
            "Train on 400 samples, validate on 155 samples\n",
            "400/400 [==============================] - 0s 19us/sample - loss: 0.5062 - acc: 0.7800 - val_loss: 0.5637 - val_acc: 0.7548\n",
            "Train on 400 samples, validate on 155 samples\n",
            "400/400 [==============================] - 0s 16us/sample - loss: 0.5141 - acc: 0.7950 - val_loss: 0.5634 - val_acc: 0.7548\n",
            "Train on 400 samples, validate on 155 samples\n",
            "400/400 [==============================] - 0s 18us/sample - loss: 0.4747 - acc: 0.8075 - val_loss: 0.5639 - val_acc: 0.7548\n",
            "Train on 400 samples, validate on 155 samples\n",
            "400/400 [==============================] - 0s 22us/sample - loss: 0.4890 - acc: 0.7900 - val_loss: 0.5645 - val_acc: 0.7548\n",
            "Train on 400 samples, validate on 155 samples\n",
            "400/400 [==============================] - 0s 21us/sample - loss: 0.5240 - acc: 0.7625 - val_loss: 0.5648 - val_acc: 0.7548\n",
            "Train on 400 samples, validate on 155 samples\n",
            "400/400 [==============================] - 0s 23us/sample - loss: 0.5339 - acc: 0.7475 - val_loss: 0.5642 - val_acc: 0.7548\n",
            "Train on 400 samples, validate on 155 samples\n",
            "400/400 [==============================] - 0s 17us/sample - loss: 0.5058 - acc: 0.7800 - val_loss: 0.5639 - val_acc: 0.7548\n",
            "Train on 400 samples, validate on 155 samples\n",
            "400/400 [==============================] - 0s 20us/sample - loss: 0.5135 - acc: 0.7950 - val_loss: 0.5636 - val_acc: 0.7548\n",
            "Train on 400 samples, validate on 155 samples\n",
            "400/400 [==============================] - 0s 16us/sample - loss: 0.4742 - acc: 0.8075 - val_loss: 0.5643 - val_acc: 0.7548\n",
            "Train on 400 samples, validate on 155 samples\n",
            "400/400 [==============================] - 0s 19us/sample - loss: 0.4885 - acc: 0.7925 - val_loss: 0.5649 - val_acc: 0.7548\n",
            "Train on 400 samples, validate on 155 samples\n",
            "400/400 [==============================] - 0s 15us/sample - loss: 0.5237 - acc: 0.7625 - val_loss: 0.5648 - val_acc: 0.7548\n",
            "Train on 400 samples, validate on 155 samples\n",
            "400/400 [==============================] - 0s 22us/sample - loss: 0.5336 - acc: 0.7475 - val_loss: 0.5645 - val_acc: 0.7548\n",
            "Train on 400 samples, validate on 155 samples\n",
            "400/400 [==============================] - 0s 19us/sample - loss: 0.5054 - acc: 0.7800 - val_loss: 0.5639 - val_acc: 0.7548\n",
            "Train on 400 samples, validate on 155 samples\n",
            "400/400 [==============================] - 0s 21us/sample - loss: 0.5131 - acc: 0.7950 - val_loss: 0.5634 - val_acc: 0.7548\n",
            "Train on 400 samples, validate on 155 samples\n",
            "400/400 [==============================] - 0s 25us/sample - loss: 0.4738 - acc: 0.8100 - val_loss: 0.5636 - val_acc: 0.7548\n",
            "Train on 400 samples, validate on 155 samples\n",
            "400/400 [==============================] - 0s 23us/sample - loss: 0.4881 - acc: 0.7900 - val_loss: 0.5641 - val_acc: 0.7548\n",
            "Train on 400 samples, validate on 155 samples\n",
            "400/400 [==============================] - 0s 23us/sample - loss: 0.5230 - acc: 0.7650 - val_loss: 0.5645 - val_acc: 0.7548\n",
            "Train on 400 samples, validate on 155 samples\n",
            "400/400 [==============================] - 0s 21us/sample - loss: 0.5331 - acc: 0.7450 - val_loss: 0.5641 - val_acc: 0.7548\n",
            "Train on 400 samples, validate on 155 samples\n",
            "400/400 [==============================] - 0s 22us/sample - loss: 0.5053 - acc: 0.7800 - val_loss: 0.5636 - val_acc: 0.7548\n",
            "Train on 400 samples, validate on 155 samples\n",
            "400/400 [==============================] - 0s 24us/sample - loss: 0.5124 - acc: 0.7925 - val_loss: 0.5636 - val_acc: 0.7548\n",
            "Train on 400 samples, validate on 155 samples\n",
            "400/400 [==============================] - 0s 24us/sample - loss: 0.4732 - acc: 0.8100 - val_loss: 0.5640 - val_acc: 0.7548\n",
            "Train on 400 samples, validate on 155 samples\n",
            "400/400 [==============================] - 0s 24us/sample - loss: 0.4876 - acc: 0.7925 - val_loss: 0.5647 - val_acc: 0.7548\n",
            "Train on 400 samples, validate on 155 samples\n",
            "400/400 [==============================] - 0s 20us/sample - loss: 0.5228 - acc: 0.7625 - val_loss: 0.5649 - val_acc: 0.7548\n",
            "Train on 400 samples, validate on 155 samples\n",
            "400/400 [==============================] - 0s 30us/sample - loss: 0.5330 - acc: 0.7475 - val_loss: 0.5642 - val_acc: 0.7548\n",
            "Train on 400 samples, validate on 155 samples\n",
            "400/400 [==============================] - 0s 21us/sample - loss: 0.5048 - acc: 0.7775 - val_loss: 0.5638 - val_acc: 0.7548\n",
            "Train on 400 samples, validate on 155 samples\n",
            "400/400 [==============================] - 0s 19us/sample - loss: 0.5119 - acc: 0.7925 - val_loss: 0.5636 - val_acc: 0.7548\n",
            "Train on 400 samples, validate on 155 samples\n",
            "400/400 [==============================] - 0s 22us/sample - loss: 0.4727 - acc: 0.8075 - val_loss: 0.5638 - val_acc: 0.7548\n",
            "Train on 400 samples, validate on 155 samples\n",
            "400/400 [==============================] - 0s 24us/sample - loss: 0.4873 - acc: 0.7950 - val_loss: 0.5648 - val_acc: 0.7548\n",
            "Train on 400 samples, validate on 155 samples\n",
            "400/400 [==============================] - 0s 23us/sample - loss: 0.5223 - acc: 0.7625 - val_loss: 0.5649 - val_acc: 0.7548\n",
            "Train on 400 samples, validate on 155 samples\n",
            "400/400 [==============================] - 0s 21us/sample - loss: 0.5326 - acc: 0.7475 - val_loss: 0.5645 - val_acc: 0.7548\n",
            "Train on 400 samples, validate on 155 samples\n",
            "400/400 [==============================] - 0s 24us/sample - loss: 0.5044 - acc: 0.7800 - val_loss: 0.5640 - val_acc: 0.7548\n",
            "Train on 400 samples, validate on 155 samples\n",
            "400/400 [==============================] - 0s 28us/sample - loss: 0.5114 - acc: 0.7925 - val_loss: 0.5636 - val_acc: 0.7548\n",
            "Train on 400 samples, validate on 155 samples\n",
            "400/400 [==============================] - 0s 16us/sample - loss: 0.4723 - acc: 0.8075 - val_loss: 0.5640 - val_acc: 0.7548\n",
            "Train on 400 samples, validate on 155 samples\n",
            "400/400 [==============================] - 0s 16us/sample - loss: 0.4867 - acc: 0.7950 - val_loss: 0.5645 - val_acc: 0.7548\n",
            "Train on 400 samples, validate on 155 samples\n",
            "400/400 [==============================] - 0s 22us/sample - loss: 0.5221 - acc: 0.7625 - val_loss: 0.5650 - val_acc: 0.7548\n",
            "Train on 400 samples, validate on 155 samples\n",
            "400/400 [==============================] - 0s 32us/sample - loss: 0.5322 - acc: 0.7475 - val_loss: 0.5644 - val_acc: 0.7548\n",
            "Train on 400 samples, validate on 155 samples\n",
            "400/400 [==============================] - 0s 21us/sample - loss: 0.5041 - acc: 0.7800 - val_loss: 0.5638 - val_acc: 0.7548\n",
            "Train on 400 samples, validate on 155 samples\n",
            "400/400 [==============================] - 0s 19us/sample - loss: 0.5109 - acc: 0.7925 - val_loss: 0.5636 - val_acc: 0.7548\n",
            "Train on 400 samples, validate on 155 samples\n",
            "400/400 [==============================] - 0s 20us/sample - loss: 0.4718 - acc: 0.8075 - val_loss: 0.5639 - val_acc: 0.7548\n",
            "Train on 400 samples, validate on 155 samples\n",
            "400/400 [==============================] - 0s 17us/sample - loss: 0.4864 - acc: 0.7950 - val_loss: 0.5647 - val_acc: 0.7548\n",
            "Train on 400 samples, validate on 155 samples\n",
            "400/400 [==============================] - 0s 20us/sample - loss: 0.5214 - acc: 0.7650 - val_loss: 0.5650 - val_acc: 0.7548\n",
            "Train on 400 samples, validate on 155 samples\n",
            "400/400 [==============================] - 0s 20us/sample - loss: 0.5319 - acc: 0.7500 - val_loss: 0.5646 - val_acc: 0.7548\n",
            "Train on 400 samples, validate on 155 samples\n",
            "400/400 [==============================] - 0s 17us/sample - loss: 0.5037 - acc: 0.7825 - val_loss: 0.5639 - val_acc: 0.7548\n",
            "Train on 400 samples, validate on 155 samples\n",
            "400/400 [==============================] - 0s 19us/sample - loss: 0.5104 - acc: 0.7925 - val_loss: 0.5636 - val_acc: 0.7548\n",
            "Train on 400 samples, validate on 155 samples\n",
            "400/400 [==============================] - 0s 19us/sample - loss: 0.4713 - acc: 0.8075 - val_loss: 0.5640 - val_acc: 0.7548\n",
            "Train on 400 samples, validate on 155 samples\n",
            "400/400 [==============================] - 0s 20us/sample - loss: 0.4859 - acc: 0.7975 - val_loss: 0.5646 - val_acc: 0.7548\n",
            "Train on 400 samples, validate on 155 samples\n",
            "400/400 [==============================] - 0s 19us/sample - loss: 0.5212 - acc: 0.7650 - val_loss: 0.5650 - val_acc: 0.7548\n",
            "Train on 400 samples, validate on 155 samples\n",
            "400/400 [==============================] - 0s 16us/sample - loss: 0.5316 - acc: 0.7500 - val_loss: 0.5645 - val_acc: 0.7548\n",
            "Train on 400 samples, validate on 155 samples\n",
            "400/400 [==============================] - 0s 16us/sample - loss: 0.5034 - acc: 0.7750 - val_loss: 0.5638 - val_acc: 0.7548\n",
            "Train on 400 samples, validate on 155 samples\n",
            "400/400 [==============================] - 0s 19us/sample - loss: 0.5101 - acc: 0.7925 - val_loss: 0.5634 - val_acc: 0.7548\n",
            "Train on 400 samples, validate on 155 samples\n",
            "400/400 [==============================] - 0s 22us/sample - loss: 0.4710 - acc: 0.8075 - val_loss: 0.5636 - val_acc: 0.7548\n",
            "Train on 400 samples, validate on 155 samples\n",
            "400/400 [==============================] - 0s 23us/sample - loss: 0.4855 - acc: 0.7950 - val_loss: 0.5644 - val_acc: 0.7548\n",
            "Train on 400 samples, validate on 155 samples\n",
            "400/400 [==============================] - 0s 22us/sample - loss: 0.5206 - acc: 0.7650 - val_loss: 0.5647 - val_acc: 0.7548\n",
            "Train on 400 samples, validate on 155 samples\n",
            "400/400 [==============================] - 0s 21us/sample - loss: 0.5313 - acc: 0.7475 - val_loss: 0.5643 - val_acc: 0.7548\n",
            "Train on 400 samples, validate on 155 samples\n",
            "400/400 [==============================] - 0s 15us/sample - loss: 0.5030 - acc: 0.7825 - val_loss: 0.5639 - val_acc: 0.7548\n",
            "Train on 400 samples, validate on 155 samples\n",
            "400/400 [==============================] - 0s 18us/sample - loss: 0.5094 - acc: 0.7925 - val_loss: 0.5638 - val_acc: 0.7548\n",
            "Train on 400 samples, validate on 155 samples\n",
            "400/400 [==============================] - 0s 20us/sample - loss: 0.4704 - acc: 0.8100 - val_loss: 0.5642 - val_acc: 0.7548\n",
            "Train on 400 samples, validate on 155 samples\n",
            "400/400 [==============================] - 0s 18us/sample - loss: 0.4851 - acc: 0.7950 - val_loss: 0.5650 - val_acc: 0.7548\n",
            "Train on 400 samples, validate on 155 samples\n",
            "400/400 [==============================] - 0s 19us/sample - loss: 0.5204 - acc: 0.7650 - val_loss: 0.5651 - val_acc: 0.7548\n",
            "Train on 400 samples, validate on 155 samples\n",
            "400/400 [==============================] - 0s 20us/sample - loss: 0.5311 - acc: 0.7550 - val_loss: 0.5643 - val_acc: 0.7548\n",
            "Train on 400 samples, validate on 155 samples\n",
            "400/400 [==============================] - 0s 25us/sample - loss: 0.5026 - acc: 0.7825 - val_loss: 0.5637 - val_acc: 0.7548\n",
            "Train on 400 samples, validate on 155 samples\n",
            "400/400 [==============================] - 0s 23us/sample - loss: 0.5091 - acc: 0.7925 - val_loss: 0.5636 - val_acc: 0.7548\n",
            "Train on 400 samples, validate on 155 samples\n",
            "400/400 [==============================] - 0s 24us/sample - loss: 0.4700 - acc: 0.8075 - val_loss: 0.5638 - val_acc: 0.7548\n",
            "Train on 400 samples, validate on 155 samples\n",
            "400/400 [==============================] - 0s 20us/sample - loss: 0.4847 - acc: 0.7925 - val_loss: 0.5644 - val_acc: 0.7548\n",
            "Train on 400 samples, validate on 155 samples\n",
            "400/400 [==============================] - 0s 21us/sample - loss: 0.5198 - acc: 0.7650 - val_loss: 0.5646 - val_acc: 0.7548\n",
            "Train on 400 samples, validate on 155 samples\n",
            "400/400 [==============================] - 0s 20us/sample - loss: 0.5306 - acc: 0.7550 - val_loss: 0.5641 - val_acc: 0.7548\n",
            "Train on 400 samples, validate on 155 samples\n",
            "400/400 [==============================] - 0s 20us/sample - loss: 0.5024 - acc: 0.7875 - val_loss: 0.5637 - val_acc: 0.7548\n",
            "Train on 400 samples, validate on 155 samples\n",
            "400/400 [==============================] - 0s 23us/sample - loss: 0.5087 - acc: 0.7925 - val_loss: 0.5637 - val_acc: 0.7548\n",
            "Train on 400 samples, validate on 155 samples\n",
            "400/400 [==============================] - 0s 24us/sample - loss: 0.4696 - acc: 0.8100 - val_loss: 0.5642 - val_acc: 0.7548\n",
            "Train on 400 samples, validate on 155 samples\n",
            "400/400 [==============================] - 0s 28us/sample - loss: 0.4842 - acc: 0.7950 - val_loss: 0.5649 - val_acc: 0.7548\n",
            "Train on 400 samples, validate on 155 samples\n",
            "400/400 [==============================] - 0s 28us/sample - loss: 0.5197 - acc: 0.7650 - val_loss: 0.5652 - val_acc: 0.7548\n",
            "Train on 400 samples, validate on 155 samples\n",
            "400/400 [==============================] - 0s 22us/sample - loss: 0.5306 - acc: 0.7550 - val_loss: 0.5649 - val_acc: 0.7548\n",
            "Train on 400 samples, validate on 155 samples\n",
            "400/400 [==============================] - 0s 22us/sample - loss: 0.5020 - acc: 0.7825 - val_loss: 0.5643 - val_acc: 0.7548\n",
            "Train on 400 samples, validate on 155 samples\n",
            "400/400 [==============================] - 0s 20us/sample - loss: 0.5083 - acc: 0.7925 - val_loss: 0.5642 - val_acc: 0.7548\n",
            "Train on 400 samples, validate on 155 samples\n",
            "400/400 [==============================] - 0s 27us/sample - loss: 0.4690 - acc: 0.8100 - val_loss: 0.5644 - val_acc: 0.7548\n",
            "Train on 400 samples, validate on 155 samples\n",
            "400/400 [==============================] - 0s 24us/sample - loss: 0.4837 - acc: 0.7950 - val_loss: 0.5648 - val_acc: 0.7548\n",
            "Train on 400 samples, validate on 155 samples\n",
            "400/400 [==============================] - 0s 20us/sample - loss: 0.5192 - acc: 0.7650 - val_loss: 0.5650 - val_acc: 0.7548\n",
            "Train on 400 samples, validate on 155 samples\n",
            "400/400 [==============================] - 0s 20us/sample - loss: 0.5301 - acc: 0.7575 - val_loss: 0.5645 - val_acc: 0.7548\n",
            "Train on 400 samples, validate on 155 samples\n",
            "400/400 [==============================] - 0s 20us/sample - loss: 0.5018 - acc: 0.7875 - val_loss: 0.5641 - val_acc: 0.7548\n",
            "Train on 400 samples, validate on 155 samples\n",
            "400/400 [==============================] - 0s 19us/sample - loss: 0.5078 - acc: 0.7925 - val_loss: 0.5640 - val_acc: 0.7548\n",
            "Train on 400 samples, validate on 155 samples\n",
            "400/400 [==============================] - 0s 21us/sample - loss: 0.4688 - acc: 0.8075 - val_loss: 0.5644 - val_acc: 0.7548\n",
            "Train on 400 samples, validate on 155 samples\n",
            "400/400 [==============================] - 0s 18us/sample - loss: 0.4834 - acc: 0.7950 - val_loss: 0.5651 - val_acc: 0.7548\n",
            "Train on 400 samples, validate on 155 samples\n",
            "400/400 [==============================] - 0s 21us/sample - loss: 0.5190 - acc: 0.7650 - val_loss: 0.5653 - val_acc: 0.7548\n",
            "Train on 400 samples, validate on 155 samples\n",
            "400/400 [==============================] - 0s 19us/sample - loss: 0.5299 - acc: 0.7550 - val_loss: 0.5648 - val_acc: 0.7548\n",
            "Train on 400 samples, validate on 155 samples\n",
            "400/400 [==============================] - 0s 22us/sample - loss: 0.5014 - acc: 0.7875 - val_loss: 0.5644 - val_acc: 0.7548\n",
            "Train on 400 samples, validate on 155 samples\n",
            "400/400 [==============================] - 0s 26us/sample - loss: 0.5074 - acc: 0.7925 - val_loss: 0.5641 - val_acc: 0.7548\n",
            "Train on 400 samples, validate on 155 samples\n",
            "400/400 [==============================] - 0s 20us/sample - loss: 0.4683 - acc: 0.8075 - val_loss: 0.5644 - val_acc: 0.7548\n",
            "Train on 400 samples, validate on 155 samples\n",
            "400/400 [==============================] - 0s 15us/sample - loss: 0.4829 - acc: 0.7950 - val_loss: 0.5649 - val_acc: 0.7548\n",
            "Train on 400 samples, validate on 155 samples\n",
            "400/400 [==============================] - 0s 19us/sample - loss: 0.5186 - acc: 0.7650 - val_loss: 0.5650 - val_acc: 0.7548\n",
            "Train on 400 samples, validate on 155 samples\n",
            "400/400 [==============================] - 0s 18us/sample - loss: 0.5295 - acc: 0.7575 - val_loss: 0.5648 - val_acc: 0.7548\n",
            "Train on 400 samples, validate on 155 samples\n",
            "400/400 [==============================] - 0s 19us/sample - loss: 0.5009 - acc: 0.7925 - val_loss: 0.5644 - val_acc: 0.7548\n",
            "Train on 400 samples, validate on 155 samples\n",
            "400/400 [==============================] - 0s 20us/sample - loss: 0.5069 - acc: 0.7925 - val_loss: 0.5644 - val_acc: 0.7548\n",
            "Train on 400 samples, validate on 155 samples\n",
            "400/400 [==============================] - 0s 19us/sample - loss: 0.4678 - acc: 0.8100 - val_loss: 0.5645 - val_acc: 0.7548\n",
            "Train on 400 samples, validate on 155 samples\n",
            "400/400 [==============================] - 0s 19us/sample - loss: 0.4826 - acc: 0.7950 - val_loss: 0.5650 - val_acc: 0.7548\n",
            "Train on 400 samples, validate on 155 samples\n",
            "400/400 [==============================] - 0s 23us/sample - loss: 0.5183 - acc: 0.7650 - val_loss: 0.5653 - val_acc: 0.7548\n",
            "Train on 400 samples, validate on 155 samples\n",
            "400/400 [==============================] - 0s 20us/sample - loss: 0.5293 - acc: 0.7575 - val_loss: 0.5650 - val_acc: 0.7548\n",
            "Train on 400 samples, validate on 155 samples\n",
            "400/400 [==============================] - 0s 18us/sample - loss: 0.5007 - acc: 0.7875 - val_loss: 0.5645 - val_acc: 0.7548\n",
            "Train on 400 samples, validate on 155 samples\n",
            "400/400 [==============================] - 0s 20us/sample - loss: 0.5065 - acc: 0.7925 - val_loss: 0.5643 - val_acc: 0.7548\n",
            "Train on 400 samples, validate on 155 samples\n",
            "400/400 [==============================] - 0s 20us/sample - loss: 0.4675 - acc: 0.8100 - val_loss: 0.5644 - val_acc: 0.7548\n",
            "Train on 400 samples, validate on 155 samples\n",
            "400/400 [==============================] - 0s 20us/sample - loss: 0.4823 - acc: 0.7950 - val_loss: 0.5651 - val_acc: 0.7548\n",
            "Train on 400 samples, validate on 155 samples\n",
            "400/400 [==============================] - 0s 21us/sample - loss: 0.5181 - acc: 0.7650 - val_loss: 0.5650 - val_acc: 0.7548\n",
            "Train on 400 samples, validate on 155 samples\n",
            "400/400 [==============================] - 0s 18us/sample - loss: 0.5289 - acc: 0.7575 - val_loss: 0.5645 - val_acc: 0.7548\n",
            "Train on 400 samples, validate on 155 samples\n",
            "400/400 [==============================] - 0s 30us/sample - loss: 0.5006 - acc: 0.7900 - val_loss: 0.5641 - val_acc: 0.7548\n",
            "Train on 400 samples, validate on 155 samples\n",
            "400/400 [==============================] - 0s 17us/sample - loss: 0.5062 - acc: 0.7950 - val_loss: 0.5640 - val_acc: 0.7548\n",
            "Train on 400 samples, validate on 155 samples\n",
            "400/400 [==============================] - 0s 21us/sample - loss: 0.4673 - acc: 0.8100 - val_loss: 0.5648 - val_acc: 0.7548\n",
            "Train on 400 samples, validate on 155 samples\n",
            "400/400 [==============================] - 0s 22us/sample - loss: 0.4820 - acc: 0.7925 - val_loss: 0.5657 - val_acc: 0.7548\n",
            "Train on 400 samples, validate on 155 samples\n",
            "400/400 [==============================] - 0s 19us/sample - loss: 0.5179 - acc: 0.7650 - val_loss: 0.5657 - val_acc: 0.7548\n",
            "Train on 400 samples, validate on 155 samples\n",
            "400/400 [==============================] - 0s 20us/sample - loss: 0.5289 - acc: 0.7575 - val_loss: 0.5653 - val_acc: 0.7548\n",
            "Train on 400 samples, validate on 155 samples\n",
            "400/400 [==============================] - 0s 20us/sample - loss: 0.5001 - acc: 0.7925 - val_loss: 0.5647 - val_acc: 0.7548\n",
            "Train on 400 samples, validate on 155 samples\n",
            "400/400 [==============================] - 0s 21us/sample - loss: 0.5059 - acc: 0.7950 - val_loss: 0.5643 - val_acc: 0.7548\n",
            "Train on 400 samples, validate on 155 samples\n",
            "400/400 [==============================] - 0s 43us/sample - loss: 0.4668 - acc: 0.8125 - val_loss: 0.5645 - val_acc: 0.7548\n",
            "Train on 400 samples, validate on 155 samples\n",
            "400/400 [==============================] - 0s 20us/sample - loss: 0.4814 - acc: 0.7950 - val_loss: 0.5651 - val_acc: 0.7548\n",
            "Train on 400 samples, validate on 155 samples\n",
            "400/400 [==============================] - 0s 24us/sample - loss: 0.5174 - acc: 0.7650 - val_loss: 0.5656 - val_acc: 0.7548\n",
            "Train on 400 samples, validate on 155 samples\n",
            "400/400 [==============================] - 0s 23us/sample - loss: 0.5285 - acc: 0.7575 - val_loss: 0.5652 - val_acc: 0.7548\n",
            "Train on 400 samples, validate on 155 samples\n",
            "400/400 [==============================] - 0s 23us/sample - loss: 0.4998 - acc: 0.7900 - val_loss: 0.5647 - val_acc: 0.7548\n",
            "Train on 400 samples, validate on 155 samples\n",
            "400/400 [==============================] - 0s 25us/sample - loss: 0.5053 - acc: 0.7950 - val_loss: 0.5646 - val_acc: 0.7548\n",
            "Train on 400 samples, validate on 155 samples\n",
            "400/400 [==============================] - 0s 25us/sample - loss: 0.4663 - acc: 0.8125 - val_loss: 0.5647 - val_acc: 0.7548\n",
            "Train on 400 samples, validate on 155 samples\n",
            "400/400 [==============================] - 0s 17us/sample - loss: 0.4811 - acc: 0.7950 - val_loss: 0.5653 - val_acc: 0.7548\n",
            "Train on 400 samples, validate on 155 samples\n",
            "400/400 [==============================] - 0s 19us/sample - loss: 0.5170 - acc: 0.7650 - val_loss: 0.5655 - val_acc: 0.7548\n",
            "Train on 400 samples, validate on 155 samples\n",
            "400/400 [==============================] - 0s 17us/sample - loss: 0.5282 - acc: 0.7575 - val_loss: 0.5652 - val_acc: 0.7548\n"
          ],
          "name": "stdout"
        }
      ]
    },
    {
      "cell_type": "markdown",
      "metadata": {
        "id": "gdeH91eRHhIq",
        "colab_type": "text"
      },
      "source": [
        "# Model History"
      ]
    },
    {
      "cell_type": "code",
      "metadata": {
        "id": "LDuZ9cMcIkDZ",
        "colab_type": "code",
        "outputId": "f57812c8-7cc4-414a-da9c-11ff01f04397",
        "colab": {
          "base_uri": "https://localhost:8080/",
          "height": 643
        }
      },
      "source": [
        "import matplotlib.pyplot as plt\n",
        "import seaborn as sns\n",
        "sns.set()\n",
        "plt.figure(num=None, figsize=(16, 8), dpi=90, facecolor='w', edgecolor='k')\n",
        "plt.plot()\n",
        "plt.plot(train_acc)\n",
        "plt.plot(val_acc)\n",
        "plt.title('model accuracy')\n",
        "plt.ylabel('accuracy')\n",
        "plt.xlabel('epoch')\n",
        "plt.legend(['Train', 'Test'], loc='upper left')\n",
        "plt.show()"
      ],
      "execution_count": 0,
      "outputs": [
        {
          "output_type": "display_data",
          "data": {
            "image/png": "[encoded data removed]",
            "text/plain": [
              "<Figure size 1440x720 with 1 Axes>"
            ]
          },
          "metadata": {
            "tags": []
          }
        }
      ]
    },
    {
      "cell_type": "code",
      "metadata": {
        "id": "4OYKf_EBcnow",
        "colab_type": "code",
        "outputId": "67c1f721-8957-4385-c071-e6e4f11344b4",
        "colab": {
          "base_uri": "https://localhost:8080/",
          "height": 34
        }
      },
      "source": [
        "y_predict = np.round(model.predict(X_test_norm))\n",
        "y_predict = [i[0] for i in y_predict.tolist()]\n",
        "sum(y_predict == y_test)/len(y_test)"
      ],
      "execution_count": 0,
      "outputs": [
        {
          "output_type": "execute_result",
          "data": {
            "text/plain": [
              "0.7548387096774194"
            ]
          },
          "metadata": {
            "tags": []
          },
          "execution_count": 201
        }
      ]
    },
    {
      "cell_type": "code",
      "metadata": {
        "id": "JYgBdDiRdA5J",
        "colab_type": "code",
        "outputId": "774f0d26-98b9-4258-fdfc-17ccd04078c5",
        "colab": {
          "base_uri": "https://localhost:8080/",
          "height": 291
        }
      },
      "source": [
        "from sklearn.metrics import confusion_matrix\n",
        "import matplotlib.pyplot as plt\n",
        "import seaborn as sns\n",
        "target_names = ['negative', 'positive']\n",
        "C = confusion_matrix(y_test,y_predict) \n",
        "C = C / C.astype(np.float).sum(axis=1)*100\n",
        "sns.heatmap(C, annot=True, fmt=\".2f\",cmap=\"GnBu\",xticklabels=target_names, yticklabels=target_names)\n",
        "plt.ylabel(\"True Label\")\n",
        "plt.xlabel(\"Predicted Label\")\n",
        "plt.show()"
      ],
      "execution_count": 0,
      "outputs": [
        {
          "output_type": "display_data",
          "data": {
            "image/png": "[encoded data removed]",
            "text/plain": [
              "<Figure size 432x288 with 2 Axes>"
            ]
          },
          "metadata": {
            "tags": []
          }
        }
      ]
    },
    {
      "cell_type": "code",
      "metadata": {
        "id": "hmc2KoxrQveg",
        "colab_type": "code",
        "outputId": "436d792a-6b57-4e30-db92-d4f708aede9c",
        "colab": {
          "base_uri": "https://localhost:8080/",
          "height": 34
        }
      },
      "source": [
        "y_predict = np.round(model.predict(X_blind_norm))\n",
        "y_predict = [i[0] for i in y_predict.tolist()]\n",
        "sum(y_predict == y_blind)/len(y_blind)"
      ],
      "execution_count": 0,
      "outputs": [
        {
          "output_type": "execute_result",
          "data": {
            "text/plain": [
              "0.7122302158273381"
            ]
          },
          "metadata": {
            "tags": []
          },
          "execution_count": 199
        }
      ]
    },
    {
      "cell_type": "code",
      "metadata": {
        "id": "DzyIwwebdLIj",
        "colab_type": "code",
        "outputId": "9071cb51-c38e-4994-fa0f-2a2930cbee87",
        "colab": {
          "base_uri": "https://localhost:8080/",
          "height": 291
        }
      },
      "source": [
        "from sklearn.metrics import confusion_matrix\n",
        "import matplotlib.pyplot as plt\n",
        "import seaborn as sns\n",
        "target_names = ['negative', 'positive']\n",
        "C = confusion_matrix(y_blind,y_predict) \n",
        "C = C / C.astype(np.float).sum(axis=1)*100\n",
        "sns.heatmap(C, annot=True, fmt=\".2f\",cmap=\"GnBu\",xticklabels=target_names, yticklabels=target_names)\n",
        "plt.ylabel(\"True Label\")\n",
        "plt.xlabel(\"Predicted Label\")\n",
        "plt.show()"
      ],
      "execution_count": 0,
      "outputs": [
        {
          "output_type": "display_data",
          "data": {
            "image/png": "[encoded data removed]",
            "text/plain": [
              "<Figure size 432x288 with 2 Axes>"
            ]
          },
          "metadata": {
            "tags": []
          }
        }
      ]
    },
    {
      "cell_type": "code",
      "metadata": {
        "id": "I9o3-KtffeAj",
        "colab_type": "code",
        "outputId": "917b3492-a6fe-403b-90e7-6a5b59dc6393",
        "colab": {
          "base_uri": "https://localhost:8080/",
          "height": 34
        }
      },
      "source": [
        "train_acc[124]"
      ],
      "execution_count": 0,
      "outputs": [
        {
          "output_type": "execute_result",
          "data": {
            "text/plain": [
              "0.7858333587646484"
            ]
          },
          "metadata": {
            "tags": []
          },
          "execution_count": 206
        }
      ]
    },
    {
      "cell_type": "markdown",
      "metadata": {
        "id": "UEf2sylQnSgJ",
        "colab_type": "text"
      },
      "source": [
        "# Deep Learning for imbalanced problem"
      ]
    },
    {
      "cell_type": "code",
      "metadata": {
        "id": "1s8Ei8P5nOiC",
        "colab_type": "code",
        "colab": {}
      },
      "source": [
        "import tensorflow as tf\n",
        "model_ibp = tf.keras.models.Sequential([\n",
        "  tf.keras.layers.Dense(16, activation='relu', input_shape=(18,)),\n",
        "  tf.keras.layers.Dense(8, activation='relu'),\n",
        "  tf.keras.layers.Dense(4, activation='relu'),\n",
        "  tf.keras.layers.Dense(2, activation='relu'),\n",
        "  tf.keras.layers.Dense(1, activation='sigmoid')    \n",
        "])\n",
        "model_ibp.compile(optimizer='adam', loss='binary_crossentropy', metrics=['accuracy'])"
      ],
      "execution_count": 0,
      "outputs": []
    },
    {
      "cell_type": "code",
      "metadata": {
        "id": "0zVmN2dupNv_",
        "colab_type": "code",
        "outputId": "a2ccd404-71d7-4f3c-c29a-a9fb7d6674a4",
        "colab": {
          "base_uri": "https://localhost:8080/",
          "height": 170
        }
      },
      "source": [
        "model_ibp.fit(X_train_norm, y_train, epochs=4)"
      ],
      "execution_count": 0,
      "outputs": [
        {
          "output_type": "stream",
          "text": [
            "Epoch 1/4\n",
            "400/400 [==============================] - 0s 354us/sample - loss: 0.6932 - acc: 0.4625\n",
            "Epoch 2/4\n",
            "400/400 [==============================] - 0s 48us/sample - loss: 0.6923 - acc: 0.5075\n",
            "Epoch 3/4\n",
            "400/400 [==============================] - 0s 42us/sample - loss: 0.6914 - acc: 0.5000\n",
            "Epoch 4/4\n",
            "400/400 [==============================] - 0s 41us/sample - loss: 0.6873 - acc: 0.5475\n"
          ],
          "name": "stdout"
        },
        {
          "output_type": "execute_result",
          "data": {
            "text/plain": [
              "<tensorflow.python.keras.callbacks.History at 0x7f5e8cd08ef0>"
            ]
          },
          "metadata": {
            "tags": []
          },
          "execution_count": 63
        }
      ]
    },
    {
      "cell_type": "code",
      "metadata": {
        "id": "uyi6auIKqIg_",
        "colab_type": "code",
        "outputId": "d8706876-552e-46c5-aa0b-455d9c27a8f9",
        "colab": {
          "base_uri": "https://localhost:8080/",
          "height": 170
        }
      },
      "source": [
        "model_ibp.fit(X_train_norm2, y_train2, epochs=4)"
      ],
      "execution_count": 0,
      "outputs": [
        {
          "output_type": "stream",
          "text": [
            "Epoch 1/4\n",
            "400/400 [==============================] - 0s 61us/sample - loss: 0.6802 - acc: 0.5625\n",
            "Epoch 2/4\n",
            "400/400 [==============================] - 0s 42us/sample - loss: 0.6698 - acc: 0.6150\n",
            "Epoch 3/4\n",
            "400/400 [==============================] - 0s 50us/sample - loss: 0.6608 - acc: 0.6225\n",
            "Epoch 4/4\n",
            "400/400 [==============================] - 0s 49us/sample - loss: 0.6514 - acc: 0.6500\n"
          ],
          "name": "stdout"
        },
        {
          "output_type": "execute_result",
          "data": {
            "text/plain": [
              "<tensorflow.python.keras.callbacks.History at 0x7f5e8d1acba8>"
            ]
          },
          "metadata": {
            "tags": []
          },
          "execution_count": 64
        }
      ]
    },
    {
      "cell_type": "code",
      "metadata": {
        "id": "lBD2y8kOqM2e",
        "colab_type": "code",
        "outputId": "36808a9b-6ee6-4eec-a790-3fe9c2e9fd70",
        "colab": {
          "base_uri": "https://localhost:8080/",
          "height": 170
        }
      },
      "source": [
        "model_ibp.fit(X_train_norm3, y_train3, epochs=4)"
      ],
      "execution_count": 0,
      "outputs": [
        {
          "output_type": "stream",
          "text": [
            "Epoch 1/4\n",
            "400/400 [==============================] - 0s 54us/sample - loss: 0.6376 - acc: 0.6825\n",
            "Epoch 2/4\n",
            "400/400 [==============================] - 0s 48us/sample - loss: 0.6269 - acc: 0.6825\n",
            "Epoch 3/4\n",
            "400/400 [==============================] - 0s 43us/sample - loss: 0.6171 - acc: 0.7250\n",
            "Epoch 4/4\n",
            "400/400 [==============================] - 0s 50us/sample - loss: 0.6090 - acc: 0.7300\n"
          ],
          "name": "stdout"
        },
        {
          "output_type": "execute_result",
          "data": {
            "text/plain": [
              "<tensorflow.python.keras.callbacks.History at 0x7f5e8c821518>"
            ]
          },
          "metadata": {
            "tags": []
          },
          "execution_count": 65
        }
      ]
    },
    {
      "cell_type": "code",
      "metadata": {
        "id": "h5caUhBUqT5q",
        "colab_type": "code",
        "outputId": "36d879e3-45e7-425a-c8d1-6d30fb888707",
        "colab": {
          "base_uri": "https://localhost:8080/",
          "height": 170
        }
      },
      "source": [
        "model_ibp.fit(X_train_norm4, y_train4, epochs=4)"
      ],
      "execution_count": 0,
      "outputs": [
        {
          "output_type": "stream",
          "text": [
            "Epoch 1/4\n",
            "400/400 [==============================] - 0s 73us/sample - loss: 0.6120 - acc: 0.7325\n",
            "Epoch 2/4\n",
            "400/400 [==============================] - 0s 48us/sample - loss: 0.6069 - acc: 0.7525\n",
            "Epoch 3/4\n",
            "400/400 [==============================] - 0s 47us/sample - loss: 0.6024 - acc: 0.7375\n",
            "Epoch 4/4\n",
            "400/400 [==============================] - 0s 45us/sample - loss: 0.5987 - acc: 0.7350\n"
          ],
          "name": "stdout"
        },
        {
          "output_type": "execute_result",
          "data": {
            "text/plain": [
              "<tensorflow.python.keras.callbacks.History at 0x7f5e8c846b00>"
            ]
          },
          "metadata": {
            "tags": []
          },
          "execution_count": 66
        }
      ]
    },
    {
      "cell_type": "code",
      "metadata": {
        "id": "D4NCbG82qXdj",
        "colab_type": "code",
        "outputId": "d6963ebf-e8c1-4fc9-def9-cc973752fac4",
        "colab": {
          "base_uri": "https://localhost:8080/",
          "height": 170
        }
      },
      "source": [
        "model_ibp.fit(X_train_norm5, y_train5, epochs=4)"
      ],
      "execution_count": 0,
      "outputs": [
        {
          "output_type": "stream",
          "text": [
            "Epoch 1/4\n",
            "400/400 [==============================] - 0s 55us/sample - loss: 0.6070 - acc: 0.7150\n",
            "Epoch 2/4\n",
            "400/400 [==============================] - 0s 52us/sample - loss: 0.6035 - acc: 0.7500\n",
            "Epoch 3/4\n",
            "400/400 [==============================] - 0s 45us/sample - loss: 0.5960 - acc: 0.7525\n",
            "Epoch 4/4\n",
            "400/400 [==============================] - 0s 52us/sample - loss: 0.5922 - acc: 0.7475\n"
          ],
          "name": "stdout"
        },
        {
          "output_type": "execute_result",
          "data": {
            "text/plain": [
              "<tensorflow.python.keras.callbacks.History at 0x7f5e8d20bd68>"
            ]
          },
          "metadata": {
            "tags": []
          },
          "execution_count": 67
        }
      ]
    },
    {
      "cell_type": "code",
      "metadata": {
        "id": "jvNtRPOETQ8P",
        "colab_type": "code",
        "outputId": "fd9c4478-7816-4cfd-c659-3e89a7b05142",
        "colab": {
          "base_uri": "https://localhost:8080/",
          "height": 170
        }
      },
      "source": [
        "model_ibp.fit(X_train_norm6, y_train6, epochs=4)"
      ],
      "execution_count": 0,
      "outputs": [
        {
          "output_type": "stream",
          "text": [
            "Epoch 1/4\n",
            "400/400 [==============================] - 0s 61us/sample - loss: 0.5765 - acc: 0.7525\n",
            "Epoch 2/4\n",
            "400/400 [==============================] - 0s 48us/sample - loss: 0.5708 - acc: 0.7550\n",
            "Epoch 3/4\n",
            "400/400 [==============================] - 0s 48us/sample - loss: 0.5670 - acc: 0.7600\n",
            "Epoch 4/4\n",
            "400/400 [==============================] - 0s 50us/sample - loss: 0.5599 - acc: 0.7700\n"
          ],
          "name": "stdout"
        },
        {
          "output_type": "execute_result",
          "data": {
            "text/plain": [
              "<tensorflow.python.keras.callbacks.History at 0x7f5e8cd089b0>"
            ]
          },
          "metadata": {
            "tags": []
          },
          "execution_count": 68
        }
      ]
    },
    {
      "cell_type": "code",
      "metadata": {
        "id": "yas7ScxjqcFa",
        "colab_type": "code",
        "outputId": "6e2fc982-0761-46c1-f576-63f62491ccb6",
        "colab": {
          "base_uri": "https://localhost:8080/",
          "height": 34
        }
      },
      "source": [
        "y_predict = np.round(model_ibp.predict(X_test_norm))\n",
        "y_predict = [i[0] for i in y_predict.tolist()]\n",
        "sum(y_predict == y_test)/len(y_test)"
      ],
      "execution_count": 0,
      "outputs": [
        {
          "output_type": "execute_result",
          "data": {
            "text/plain": [
              "0.6527777777777778"
            ]
          },
          "metadata": {
            "tags": []
          },
          "execution_count": 69
        }
      ]
    },
    {
      "cell_type": "markdown",
      "metadata": {
        "id": "nkhW04wi8JQW",
        "colab_type": "text"
      },
      "source": [
        "# Save Data to SVM format for Optimization"
      ]
    },
    {
      "cell_type": "code",
      "metadata": {
        "id": "8o8fycN68JQX",
        "colab_type": "code",
        "colab": {}
      },
      "source": [
        "#from sklearn.datasets import dump_svmlight_file\n",
        "#dump_svmlight_file(X_train_norm, y_train, 'training.svm',zero_based=False)\n",
        "#dump_svmlight_file(X_test_norm,y_test,'test.svm',zero_based=False)"
      ],
      "execution_count": 0,
      "outputs": []
    },
    {
      "cell_type": "code",
      "metadata": {
        "id": "evjavp_N8JQY",
        "colab_type": "code",
        "colab": {}
      },
      "source": [
        ""
      ],
      "execution_count": 0,
      "outputs": []
    }
  ]
}